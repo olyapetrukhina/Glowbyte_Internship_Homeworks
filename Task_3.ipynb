{
  "nbformat": 4,
  "nbformat_minor": 0,
  "metadata": {
    "colab": {
      "provenance": [],
      "gpuType": "T4"
    },
    "kernelspec": {
      "name": "python3",
      "display_name": "Python 3"
    },
    "language_info": {
      "name": "python"
    },
    "widgets": {
      "application/vnd.jupyter.widget-state+json": {
        "578c00433b3b400fb3d1a5cc309d8826": {
          "model_module": "@jupyter-widgets/controls",
          "model_name": "HBoxModel",
          "model_module_version": "1.5.0",
          "state": {
            "_dom_classes": [],
            "_model_module": "@jupyter-widgets/controls",
            "_model_module_version": "1.5.0",
            "_model_name": "HBoxModel",
            "_view_count": null,
            "_view_module": "@jupyter-widgets/controls",
            "_view_module_version": "1.5.0",
            "_view_name": "HBoxView",
            "box_style": "",
            "children": [
              "IPY_MODEL_12e7e4d2c91049fdbaf761560df4039b",
              "IPY_MODEL_b6d8faede1114eb1962beb2560ca743d",
              "IPY_MODEL_417a4cfdf35c4a9e83e5ed8db5edb874"
            ],
            "layout": "IPY_MODEL_1885fe4bee78427eada1a507639f9557"
          }
        },
        "12e7e4d2c91049fdbaf761560df4039b": {
          "model_module": "@jupyter-widgets/controls",
          "model_name": "HTMLModel",
          "model_module_version": "1.5.0",
          "state": {
            "_dom_classes": [],
            "_model_module": "@jupyter-widgets/controls",
            "_model_module_version": "1.5.0",
            "_model_name": "HTMLModel",
            "_view_count": null,
            "_view_module": "@jupyter-widgets/controls",
            "_view_module_version": "1.5.0",
            "_view_name": "HTMLView",
            "description": "",
            "description_tooltip": null,
            "layout": "IPY_MODEL_8186b40476b54dff8a0810d1832631a1",
            "placeholder": "​",
            "style": "IPY_MODEL_3f193eef8c3c4a8088f37dbc87b42b08",
            "value": "modules.json: 100%"
          }
        },
        "b6d8faede1114eb1962beb2560ca743d": {
          "model_module": "@jupyter-widgets/controls",
          "model_name": "FloatProgressModel",
          "model_module_version": "1.5.0",
          "state": {
            "_dom_classes": [],
            "_model_module": "@jupyter-widgets/controls",
            "_model_module_version": "1.5.0",
            "_model_name": "FloatProgressModel",
            "_view_count": null,
            "_view_module": "@jupyter-widgets/controls",
            "_view_module_version": "1.5.0",
            "_view_name": "ProgressView",
            "bar_style": "success",
            "description": "",
            "description_tooltip": null,
            "layout": "IPY_MODEL_547009319d37408daa0fec7020c782af",
            "max": 229,
            "min": 0,
            "orientation": "horizontal",
            "style": "IPY_MODEL_97ef10eb319747098c60236b618fb5ee",
            "value": 229
          }
        },
        "417a4cfdf35c4a9e83e5ed8db5edb874": {
          "model_module": "@jupyter-widgets/controls",
          "model_name": "HTMLModel",
          "model_module_version": "1.5.0",
          "state": {
            "_dom_classes": [],
            "_model_module": "@jupyter-widgets/controls",
            "_model_module_version": "1.5.0",
            "_model_name": "HTMLModel",
            "_view_count": null,
            "_view_module": "@jupyter-widgets/controls",
            "_view_module_version": "1.5.0",
            "_view_name": "HTMLView",
            "description": "",
            "description_tooltip": null,
            "layout": "IPY_MODEL_70277f8e90504b878c0c32fd4e7b9e0d",
            "placeholder": "​",
            "style": "IPY_MODEL_48737eb0393846c1ba4876aa5c83fc5a",
            "value": " 229/229 [00:00&lt;00:00, 610B/s]"
          }
        },
        "1885fe4bee78427eada1a507639f9557": {
          "model_module": "@jupyter-widgets/base",
          "model_name": "LayoutModel",
          "model_module_version": "1.2.0",
          "state": {
            "_model_module": "@jupyter-widgets/base",
            "_model_module_version": "1.2.0",
            "_model_name": "LayoutModel",
            "_view_count": null,
            "_view_module": "@jupyter-widgets/base",
            "_view_module_version": "1.2.0",
            "_view_name": "LayoutView",
            "align_content": null,
            "align_items": null,
            "align_self": null,
            "border": null,
            "bottom": null,
            "display": null,
            "flex": null,
            "flex_flow": null,
            "grid_area": null,
            "grid_auto_columns": null,
            "grid_auto_flow": null,
            "grid_auto_rows": null,
            "grid_column": null,
            "grid_gap": null,
            "grid_row": null,
            "grid_template_areas": null,
            "grid_template_columns": null,
            "grid_template_rows": null,
            "height": null,
            "justify_content": null,
            "justify_items": null,
            "left": null,
            "margin": null,
            "max_height": null,
            "max_width": null,
            "min_height": null,
            "min_width": null,
            "object_fit": null,
            "object_position": null,
            "order": null,
            "overflow": null,
            "overflow_x": null,
            "overflow_y": null,
            "padding": null,
            "right": null,
            "top": null,
            "visibility": null,
            "width": null
          }
        },
        "8186b40476b54dff8a0810d1832631a1": {
          "model_module": "@jupyter-widgets/base",
          "model_name": "LayoutModel",
          "model_module_version": "1.2.0",
          "state": {
            "_model_module": "@jupyter-widgets/base",
            "_model_module_version": "1.2.0",
            "_model_name": "LayoutModel",
            "_view_count": null,
            "_view_module": "@jupyter-widgets/base",
            "_view_module_version": "1.2.0",
            "_view_name": "LayoutView",
            "align_content": null,
            "align_items": null,
            "align_self": null,
            "border": null,
            "bottom": null,
            "display": null,
            "flex": null,
            "flex_flow": null,
            "grid_area": null,
            "grid_auto_columns": null,
            "grid_auto_flow": null,
            "grid_auto_rows": null,
            "grid_column": null,
            "grid_gap": null,
            "grid_row": null,
            "grid_template_areas": null,
            "grid_template_columns": null,
            "grid_template_rows": null,
            "height": null,
            "justify_content": null,
            "justify_items": null,
            "left": null,
            "margin": null,
            "max_height": null,
            "max_width": null,
            "min_height": null,
            "min_width": null,
            "object_fit": null,
            "object_position": null,
            "order": null,
            "overflow": null,
            "overflow_x": null,
            "overflow_y": null,
            "padding": null,
            "right": null,
            "top": null,
            "visibility": null,
            "width": null
          }
        },
        "3f193eef8c3c4a8088f37dbc87b42b08": {
          "model_module": "@jupyter-widgets/controls",
          "model_name": "DescriptionStyleModel",
          "model_module_version": "1.5.0",
          "state": {
            "_model_module": "@jupyter-widgets/controls",
            "_model_module_version": "1.5.0",
            "_model_name": "DescriptionStyleModel",
            "_view_count": null,
            "_view_module": "@jupyter-widgets/base",
            "_view_module_version": "1.2.0",
            "_view_name": "StyleView",
            "description_width": ""
          }
        },
        "547009319d37408daa0fec7020c782af": {
          "model_module": "@jupyter-widgets/base",
          "model_name": "LayoutModel",
          "model_module_version": "1.2.0",
          "state": {
            "_model_module": "@jupyter-widgets/base",
            "_model_module_version": "1.2.0",
            "_model_name": "LayoutModel",
            "_view_count": null,
            "_view_module": "@jupyter-widgets/base",
            "_view_module_version": "1.2.0",
            "_view_name": "LayoutView",
            "align_content": null,
            "align_items": null,
            "align_self": null,
            "border": null,
            "bottom": null,
            "display": null,
            "flex": null,
            "flex_flow": null,
            "grid_area": null,
            "grid_auto_columns": null,
            "grid_auto_flow": null,
            "grid_auto_rows": null,
            "grid_column": null,
            "grid_gap": null,
            "grid_row": null,
            "grid_template_areas": null,
            "grid_template_columns": null,
            "grid_template_rows": null,
            "height": null,
            "justify_content": null,
            "justify_items": null,
            "left": null,
            "margin": null,
            "max_height": null,
            "max_width": null,
            "min_height": null,
            "min_width": null,
            "object_fit": null,
            "object_position": null,
            "order": null,
            "overflow": null,
            "overflow_x": null,
            "overflow_y": null,
            "padding": null,
            "right": null,
            "top": null,
            "visibility": null,
            "width": null
          }
        },
        "97ef10eb319747098c60236b618fb5ee": {
          "model_module": "@jupyter-widgets/controls",
          "model_name": "ProgressStyleModel",
          "model_module_version": "1.5.0",
          "state": {
            "_model_module": "@jupyter-widgets/controls",
            "_model_module_version": "1.5.0",
            "_model_name": "ProgressStyleModel",
            "_view_count": null,
            "_view_module": "@jupyter-widgets/base",
            "_view_module_version": "1.2.0",
            "_view_name": "StyleView",
            "bar_color": null,
            "description_width": ""
          }
        },
        "70277f8e90504b878c0c32fd4e7b9e0d": {
          "model_module": "@jupyter-widgets/base",
          "model_name": "LayoutModel",
          "model_module_version": "1.2.0",
          "state": {
            "_model_module": "@jupyter-widgets/base",
            "_model_module_version": "1.2.0",
            "_model_name": "LayoutModel",
            "_view_count": null,
            "_view_module": "@jupyter-widgets/base",
            "_view_module_version": "1.2.0",
            "_view_name": "LayoutView",
            "align_content": null,
            "align_items": null,
            "align_self": null,
            "border": null,
            "bottom": null,
            "display": null,
            "flex": null,
            "flex_flow": null,
            "grid_area": null,
            "grid_auto_columns": null,
            "grid_auto_flow": null,
            "grid_auto_rows": null,
            "grid_column": null,
            "grid_gap": null,
            "grid_row": null,
            "grid_template_areas": null,
            "grid_template_columns": null,
            "grid_template_rows": null,
            "height": null,
            "justify_content": null,
            "justify_items": null,
            "left": null,
            "margin": null,
            "max_height": null,
            "max_width": null,
            "min_height": null,
            "min_width": null,
            "object_fit": null,
            "object_position": null,
            "order": null,
            "overflow": null,
            "overflow_x": null,
            "overflow_y": null,
            "padding": null,
            "right": null,
            "top": null,
            "visibility": null,
            "width": null
          }
        },
        "48737eb0393846c1ba4876aa5c83fc5a": {
          "model_module": "@jupyter-widgets/controls",
          "model_name": "DescriptionStyleModel",
          "model_module_version": "1.5.0",
          "state": {
            "_model_module": "@jupyter-widgets/controls",
            "_model_module_version": "1.5.0",
            "_model_name": "DescriptionStyleModel",
            "_view_count": null,
            "_view_module": "@jupyter-widgets/base",
            "_view_module_version": "1.2.0",
            "_view_name": "StyleView",
            "description_width": ""
          }
        },
        "337d7e998981437fb2f3b2cc71693665": {
          "model_module": "@jupyter-widgets/controls",
          "model_name": "HBoxModel",
          "model_module_version": "1.5.0",
          "state": {
            "_dom_classes": [],
            "_model_module": "@jupyter-widgets/controls",
            "_model_module_version": "1.5.0",
            "_model_name": "HBoxModel",
            "_view_count": null,
            "_view_module": "@jupyter-widgets/controls",
            "_view_module_version": "1.5.0",
            "_view_name": "HBoxView",
            "box_style": "",
            "children": [
              "IPY_MODEL_1e9823119eaa4669b7ffc98d45740cd9",
              "IPY_MODEL_9ca09599c72e4b6384edfdb343103be6",
              "IPY_MODEL_4726ae9296624c70aa1904b8dafdc67b"
            ],
            "layout": "IPY_MODEL_d53ecbf380f14c698f1a30cd674a5101"
          }
        },
        "1e9823119eaa4669b7ffc98d45740cd9": {
          "model_module": "@jupyter-widgets/controls",
          "model_name": "HTMLModel",
          "model_module_version": "1.5.0",
          "state": {
            "_dom_classes": [],
            "_model_module": "@jupyter-widgets/controls",
            "_model_module_version": "1.5.0",
            "_model_name": "HTMLModel",
            "_view_count": null,
            "_view_module": "@jupyter-widgets/controls",
            "_view_module_version": "1.5.0",
            "_view_name": "HTMLView",
            "description": "",
            "description_tooltip": null,
            "layout": "IPY_MODEL_0e4607762de2468d8c85b3abd7d8154f",
            "placeholder": "​",
            "style": "IPY_MODEL_14b3a070ea9948838d24fc804f5eb1c5",
            "value": "config_sentence_transformers.json: 100%"
          }
        },
        "9ca09599c72e4b6384edfdb343103be6": {
          "model_module": "@jupyter-widgets/controls",
          "model_name": "FloatProgressModel",
          "model_module_version": "1.5.0",
          "state": {
            "_dom_classes": [],
            "_model_module": "@jupyter-widgets/controls",
            "_model_module_version": "1.5.0",
            "_model_name": "FloatProgressModel",
            "_view_count": null,
            "_view_module": "@jupyter-widgets/controls",
            "_view_module_version": "1.5.0",
            "_view_name": "ProgressView",
            "bar_style": "success",
            "description": "",
            "description_tooltip": null,
            "layout": "IPY_MODEL_39e7e2b3c84c4c2f867b19b435506abe",
            "max": 122,
            "min": 0,
            "orientation": "horizontal",
            "style": "IPY_MODEL_4da04997a69f4d79939b01a5f038483c",
            "value": 122
          }
        },
        "4726ae9296624c70aa1904b8dafdc67b": {
          "model_module": "@jupyter-widgets/controls",
          "model_name": "HTMLModel",
          "model_module_version": "1.5.0",
          "state": {
            "_dom_classes": [],
            "_model_module": "@jupyter-widgets/controls",
            "_model_module_version": "1.5.0",
            "_model_name": "HTMLModel",
            "_view_count": null,
            "_view_module": "@jupyter-widgets/controls",
            "_view_module_version": "1.5.0",
            "_view_name": "HTMLView",
            "description": "",
            "description_tooltip": null,
            "layout": "IPY_MODEL_c0bfbafc8ff74bd7b5ffc09012d5de91",
            "placeholder": "​",
            "style": "IPY_MODEL_3d759809654e47a79782210f0ba75195",
            "value": " 122/122 [00:00&lt;00:00, 463B/s]"
          }
        },
        "d53ecbf380f14c698f1a30cd674a5101": {
          "model_module": "@jupyter-widgets/base",
          "model_name": "LayoutModel",
          "model_module_version": "1.2.0",
          "state": {
            "_model_module": "@jupyter-widgets/base",
            "_model_module_version": "1.2.0",
            "_model_name": "LayoutModel",
            "_view_count": null,
            "_view_module": "@jupyter-widgets/base",
            "_view_module_version": "1.2.0",
            "_view_name": "LayoutView",
            "align_content": null,
            "align_items": null,
            "align_self": null,
            "border": null,
            "bottom": null,
            "display": null,
            "flex": null,
            "flex_flow": null,
            "grid_area": null,
            "grid_auto_columns": null,
            "grid_auto_flow": null,
            "grid_auto_rows": null,
            "grid_column": null,
            "grid_gap": null,
            "grid_row": null,
            "grid_template_areas": null,
            "grid_template_columns": null,
            "grid_template_rows": null,
            "height": null,
            "justify_content": null,
            "justify_items": null,
            "left": null,
            "margin": null,
            "max_height": null,
            "max_width": null,
            "min_height": null,
            "min_width": null,
            "object_fit": null,
            "object_position": null,
            "order": null,
            "overflow": null,
            "overflow_x": null,
            "overflow_y": null,
            "padding": null,
            "right": null,
            "top": null,
            "visibility": null,
            "width": null
          }
        },
        "0e4607762de2468d8c85b3abd7d8154f": {
          "model_module": "@jupyter-widgets/base",
          "model_name": "LayoutModel",
          "model_module_version": "1.2.0",
          "state": {
            "_model_module": "@jupyter-widgets/base",
            "_model_module_version": "1.2.0",
            "_model_name": "LayoutModel",
            "_view_count": null,
            "_view_module": "@jupyter-widgets/base",
            "_view_module_version": "1.2.0",
            "_view_name": "LayoutView",
            "align_content": null,
            "align_items": null,
            "align_self": null,
            "border": null,
            "bottom": null,
            "display": null,
            "flex": null,
            "flex_flow": null,
            "grid_area": null,
            "grid_auto_columns": null,
            "grid_auto_flow": null,
            "grid_auto_rows": null,
            "grid_column": null,
            "grid_gap": null,
            "grid_row": null,
            "grid_template_areas": null,
            "grid_template_columns": null,
            "grid_template_rows": null,
            "height": null,
            "justify_content": null,
            "justify_items": null,
            "left": null,
            "margin": null,
            "max_height": null,
            "max_width": null,
            "min_height": null,
            "min_width": null,
            "object_fit": null,
            "object_position": null,
            "order": null,
            "overflow": null,
            "overflow_x": null,
            "overflow_y": null,
            "padding": null,
            "right": null,
            "top": null,
            "visibility": null,
            "width": null
          }
        },
        "14b3a070ea9948838d24fc804f5eb1c5": {
          "model_module": "@jupyter-widgets/controls",
          "model_name": "DescriptionStyleModel",
          "model_module_version": "1.5.0",
          "state": {
            "_model_module": "@jupyter-widgets/controls",
            "_model_module_version": "1.5.0",
            "_model_name": "DescriptionStyleModel",
            "_view_count": null,
            "_view_module": "@jupyter-widgets/base",
            "_view_module_version": "1.2.0",
            "_view_name": "StyleView",
            "description_width": ""
          }
        },
        "39e7e2b3c84c4c2f867b19b435506abe": {
          "model_module": "@jupyter-widgets/base",
          "model_name": "LayoutModel",
          "model_module_version": "1.2.0",
          "state": {
            "_model_module": "@jupyter-widgets/base",
            "_model_module_version": "1.2.0",
            "_model_name": "LayoutModel",
            "_view_count": null,
            "_view_module": "@jupyter-widgets/base",
            "_view_module_version": "1.2.0",
            "_view_name": "LayoutView",
            "align_content": null,
            "align_items": null,
            "align_self": null,
            "border": null,
            "bottom": null,
            "display": null,
            "flex": null,
            "flex_flow": null,
            "grid_area": null,
            "grid_auto_columns": null,
            "grid_auto_flow": null,
            "grid_auto_rows": null,
            "grid_column": null,
            "grid_gap": null,
            "grid_row": null,
            "grid_template_areas": null,
            "grid_template_columns": null,
            "grid_template_rows": null,
            "height": null,
            "justify_content": null,
            "justify_items": null,
            "left": null,
            "margin": null,
            "max_height": null,
            "max_width": null,
            "min_height": null,
            "min_width": null,
            "object_fit": null,
            "object_position": null,
            "order": null,
            "overflow": null,
            "overflow_x": null,
            "overflow_y": null,
            "padding": null,
            "right": null,
            "top": null,
            "visibility": null,
            "width": null
          }
        },
        "4da04997a69f4d79939b01a5f038483c": {
          "model_module": "@jupyter-widgets/controls",
          "model_name": "ProgressStyleModel",
          "model_module_version": "1.5.0",
          "state": {
            "_model_module": "@jupyter-widgets/controls",
            "_model_module_version": "1.5.0",
            "_model_name": "ProgressStyleModel",
            "_view_count": null,
            "_view_module": "@jupyter-widgets/base",
            "_view_module_version": "1.2.0",
            "_view_name": "StyleView",
            "bar_color": null,
            "description_width": ""
          }
        },
        "c0bfbafc8ff74bd7b5ffc09012d5de91": {
          "model_module": "@jupyter-widgets/base",
          "model_name": "LayoutModel",
          "model_module_version": "1.2.0",
          "state": {
            "_model_module": "@jupyter-widgets/base",
            "_model_module_version": "1.2.0",
            "_model_name": "LayoutModel",
            "_view_count": null,
            "_view_module": "@jupyter-widgets/base",
            "_view_module_version": "1.2.0",
            "_view_name": "LayoutView",
            "align_content": null,
            "align_items": null,
            "align_self": null,
            "border": null,
            "bottom": null,
            "display": null,
            "flex": null,
            "flex_flow": null,
            "grid_area": null,
            "grid_auto_columns": null,
            "grid_auto_flow": null,
            "grid_auto_rows": null,
            "grid_column": null,
            "grid_gap": null,
            "grid_row": null,
            "grid_template_areas": null,
            "grid_template_columns": null,
            "grid_template_rows": null,
            "height": null,
            "justify_content": null,
            "justify_items": null,
            "left": null,
            "margin": null,
            "max_height": null,
            "max_width": null,
            "min_height": null,
            "min_width": null,
            "object_fit": null,
            "object_position": null,
            "order": null,
            "overflow": null,
            "overflow_x": null,
            "overflow_y": null,
            "padding": null,
            "right": null,
            "top": null,
            "visibility": null,
            "width": null
          }
        },
        "3d759809654e47a79782210f0ba75195": {
          "model_module": "@jupyter-widgets/controls",
          "model_name": "DescriptionStyleModel",
          "model_module_version": "1.5.0",
          "state": {
            "_model_module": "@jupyter-widgets/controls",
            "_model_module_version": "1.5.0",
            "_model_name": "DescriptionStyleModel",
            "_view_count": null,
            "_view_module": "@jupyter-widgets/base",
            "_view_module_version": "1.2.0",
            "_view_name": "StyleView",
            "description_width": ""
          }
        },
        "b3e1ff3ffa3c425eb6027a7de1adf44f": {
          "model_module": "@jupyter-widgets/controls",
          "model_name": "HBoxModel",
          "model_module_version": "1.5.0",
          "state": {
            "_dom_classes": [],
            "_model_module": "@jupyter-widgets/controls",
            "_model_module_version": "1.5.0",
            "_model_name": "HBoxModel",
            "_view_count": null,
            "_view_module": "@jupyter-widgets/controls",
            "_view_module_version": "1.5.0",
            "_view_name": "HBoxView",
            "box_style": "",
            "children": [
              "IPY_MODEL_57756016df3e4e39a8b995e1b606bbf0",
              "IPY_MODEL_cf533bc3d6df4ed0ac18a1a47b8027bd",
              "IPY_MODEL_3b587e5a92c542abb2ad1ccd0a8cb712"
            ],
            "layout": "IPY_MODEL_d58eca0736e24c8097d94415940b74be"
          }
        },
        "57756016df3e4e39a8b995e1b606bbf0": {
          "model_module": "@jupyter-widgets/controls",
          "model_name": "HTMLModel",
          "model_module_version": "1.5.0",
          "state": {
            "_dom_classes": [],
            "_model_module": "@jupyter-widgets/controls",
            "_model_module_version": "1.5.0",
            "_model_name": "HTMLModel",
            "_view_count": null,
            "_view_module": "@jupyter-widgets/controls",
            "_view_module_version": "1.5.0",
            "_view_name": "HTMLView",
            "description": "",
            "description_tooltip": null,
            "layout": "IPY_MODEL_70cb9336d07c425a8ddc290615820642",
            "placeholder": "​",
            "style": "IPY_MODEL_39c714c955ca401d9be94706fc0c3b41",
            "value": "README.md: 100%"
          }
        },
        "cf533bc3d6df4ed0ac18a1a47b8027bd": {
          "model_module": "@jupyter-widgets/controls",
          "model_name": "FloatProgressModel",
          "model_module_version": "1.5.0",
          "state": {
            "_dom_classes": [],
            "_model_module": "@jupyter-widgets/controls",
            "_model_module_version": "1.5.0",
            "_model_name": "FloatProgressModel",
            "_view_count": null,
            "_view_module": "@jupyter-widgets/controls",
            "_view_module_version": "1.5.0",
            "_view_name": "ProgressView",
            "bar_style": "success",
            "description": "",
            "description_tooltip": null,
            "layout": "IPY_MODEL_39adc6e8964b428fa83bbec9ec772a79",
            "max": 4118,
            "min": 0,
            "orientation": "horizontal",
            "style": "IPY_MODEL_4050477dd0844c3489d5db148e4f98e5",
            "value": 4118
          }
        },
        "3b587e5a92c542abb2ad1ccd0a8cb712": {
          "model_module": "@jupyter-widgets/controls",
          "model_name": "HTMLModel",
          "model_module_version": "1.5.0",
          "state": {
            "_dom_classes": [],
            "_model_module": "@jupyter-widgets/controls",
            "_model_module_version": "1.5.0",
            "_model_name": "HTMLModel",
            "_view_count": null,
            "_view_module": "@jupyter-widgets/controls",
            "_view_module_version": "1.5.0",
            "_view_name": "HTMLView",
            "description": "",
            "description_tooltip": null,
            "layout": "IPY_MODEL_dce2028ae20b45e6899117e7ec7f7132",
            "placeholder": "​",
            "style": "IPY_MODEL_48777096afd4493d835450dbf533d0e9",
            "value": " 4.12k/4.12k [00:00&lt;00:00, 14.0kB/s]"
          }
        },
        "d58eca0736e24c8097d94415940b74be": {
          "model_module": "@jupyter-widgets/base",
          "model_name": "LayoutModel",
          "model_module_version": "1.2.0",
          "state": {
            "_model_module": "@jupyter-widgets/base",
            "_model_module_version": "1.2.0",
            "_model_name": "LayoutModel",
            "_view_count": null,
            "_view_module": "@jupyter-widgets/base",
            "_view_module_version": "1.2.0",
            "_view_name": "LayoutView",
            "align_content": null,
            "align_items": null,
            "align_self": null,
            "border": null,
            "bottom": null,
            "display": null,
            "flex": null,
            "flex_flow": null,
            "grid_area": null,
            "grid_auto_columns": null,
            "grid_auto_flow": null,
            "grid_auto_rows": null,
            "grid_column": null,
            "grid_gap": null,
            "grid_row": null,
            "grid_template_areas": null,
            "grid_template_columns": null,
            "grid_template_rows": null,
            "height": null,
            "justify_content": null,
            "justify_items": null,
            "left": null,
            "margin": null,
            "max_height": null,
            "max_width": null,
            "min_height": null,
            "min_width": null,
            "object_fit": null,
            "object_position": null,
            "order": null,
            "overflow": null,
            "overflow_x": null,
            "overflow_y": null,
            "padding": null,
            "right": null,
            "top": null,
            "visibility": null,
            "width": null
          }
        },
        "70cb9336d07c425a8ddc290615820642": {
          "model_module": "@jupyter-widgets/base",
          "model_name": "LayoutModel",
          "model_module_version": "1.2.0",
          "state": {
            "_model_module": "@jupyter-widgets/base",
            "_model_module_version": "1.2.0",
            "_model_name": "LayoutModel",
            "_view_count": null,
            "_view_module": "@jupyter-widgets/base",
            "_view_module_version": "1.2.0",
            "_view_name": "LayoutView",
            "align_content": null,
            "align_items": null,
            "align_self": null,
            "border": null,
            "bottom": null,
            "display": null,
            "flex": null,
            "flex_flow": null,
            "grid_area": null,
            "grid_auto_columns": null,
            "grid_auto_flow": null,
            "grid_auto_rows": null,
            "grid_column": null,
            "grid_gap": null,
            "grid_row": null,
            "grid_template_areas": null,
            "grid_template_columns": null,
            "grid_template_rows": null,
            "height": null,
            "justify_content": null,
            "justify_items": null,
            "left": null,
            "margin": null,
            "max_height": null,
            "max_width": null,
            "min_height": null,
            "min_width": null,
            "object_fit": null,
            "object_position": null,
            "order": null,
            "overflow": null,
            "overflow_x": null,
            "overflow_y": null,
            "padding": null,
            "right": null,
            "top": null,
            "visibility": null,
            "width": null
          }
        },
        "39c714c955ca401d9be94706fc0c3b41": {
          "model_module": "@jupyter-widgets/controls",
          "model_name": "DescriptionStyleModel",
          "model_module_version": "1.5.0",
          "state": {
            "_model_module": "@jupyter-widgets/controls",
            "_model_module_version": "1.5.0",
            "_model_name": "DescriptionStyleModel",
            "_view_count": null,
            "_view_module": "@jupyter-widgets/base",
            "_view_module_version": "1.2.0",
            "_view_name": "StyleView",
            "description_width": ""
          }
        },
        "39adc6e8964b428fa83bbec9ec772a79": {
          "model_module": "@jupyter-widgets/base",
          "model_name": "LayoutModel",
          "model_module_version": "1.2.0",
          "state": {
            "_model_module": "@jupyter-widgets/base",
            "_model_module_version": "1.2.0",
            "_model_name": "LayoutModel",
            "_view_count": null,
            "_view_module": "@jupyter-widgets/base",
            "_view_module_version": "1.2.0",
            "_view_name": "LayoutView",
            "align_content": null,
            "align_items": null,
            "align_self": null,
            "border": null,
            "bottom": null,
            "display": null,
            "flex": null,
            "flex_flow": null,
            "grid_area": null,
            "grid_auto_columns": null,
            "grid_auto_flow": null,
            "grid_auto_rows": null,
            "grid_column": null,
            "grid_gap": null,
            "grid_row": null,
            "grid_template_areas": null,
            "grid_template_columns": null,
            "grid_template_rows": null,
            "height": null,
            "justify_content": null,
            "justify_items": null,
            "left": null,
            "margin": null,
            "max_height": null,
            "max_width": null,
            "min_height": null,
            "min_width": null,
            "object_fit": null,
            "object_position": null,
            "order": null,
            "overflow": null,
            "overflow_x": null,
            "overflow_y": null,
            "padding": null,
            "right": null,
            "top": null,
            "visibility": null,
            "width": null
          }
        },
        "4050477dd0844c3489d5db148e4f98e5": {
          "model_module": "@jupyter-widgets/controls",
          "model_name": "ProgressStyleModel",
          "model_module_version": "1.5.0",
          "state": {
            "_model_module": "@jupyter-widgets/controls",
            "_model_module_version": "1.5.0",
            "_model_name": "ProgressStyleModel",
            "_view_count": null,
            "_view_module": "@jupyter-widgets/base",
            "_view_module_version": "1.2.0",
            "_view_name": "StyleView",
            "bar_color": null,
            "description_width": ""
          }
        },
        "dce2028ae20b45e6899117e7ec7f7132": {
          "model_module": "@jupyter-widgets/base",
          "model_name": "LayoutModel",
          "model_module_version": "1.2.0",
          "state": {
            "_model_module": "@jupyter-widgets/base",
            "_model_module_version": "1.2.0",
            "_model_name": "LayoutModel",
            "_view_count": null,
            "_view_module": "@jupyter-widgets/base",
            "_view_module_version": "1.2.0",
            "_view_name": "LayoutView",
            "align_content": null,
            "align_items": null,
            "align_self": null,
            "border": null,
            "bottom": null,
            "display": null,
            "flex": null,
            "flex_flow": null,
            "grid_area": null,
            "grid_auto_columns": null,
            "grid_auto_flow": null,
            "grid_auto_rows": null,
            "grid_column": null,
            "grid_gap": null,
            "grid_row": null,
            "grid_template_areas": null,
            "grid_template_columns": null,
            "grid_template_rows": null,
            "height": null,
            "justify_content": null,
            "justify_items": null,
            "left": null,
            "margin": null,
            "max_height": null,
            "max_width": null,
            "min_height": null,
            "min_width": null,
            "object_fit": null,
            "object_position": null,
            "order": null,
            "overflow": null,
            "overflow_x": null,
            "overflow_y": null,
            "padding": null,
            "right": null,
            "top": null,
            "visibility": null,
            "width": null
          }
        },
        "48777096afd4493d835450dbf533d0e9": {
          "model_module": "@jupyter-widgets/controls",
          "model_name": "DescriptionStyleModel",
          "model_module_version": "1.5.0",
          "state": {
            "_model_module": "@jupyter-widgets/controls",
            "_model_module_version": "1.5.0",
            "_model_name": "DescriptionStyleModel",
            "_view_count": null,
            "_view_module": "@jupyter-widgets/base",
            "_view_module_version": "1.2.0",
            "_view_name": "StyleView",
            "description_width": ""
          }
        },
        "e33bc253734c456f9a2f7b2f1856f5f1": {
          "model_module": "@jupyter-widgets/controls",
          "model_name": "HBoxModel",
          "model_module_version": "1.5.0",
          "state": {
            "_dom_classes": [],
            "_model_module": "@jupyter-widgets/controls",
            "_model_module_version": "1.5.0",
            "_model_name": "HBoxModel",
            "_view_count": null,
            "_view_module": "@jupyter-widgets/controls",
            "_view_module_version": "1.5.0",
            "_view_name": "HBoxView",
            "box_style": "",
            "children": [
              "IPY_MODEL_fa1b50ca41ef4419972f88d944ed60dc",
              "IPY_MODEL_8f828be39df14d57954cced01b3fa5c7",
              "IPY_MODEL_77d3d4f047e043b7af46bca3e80f7ee0"
            ],
            "layout": "IPY_MODEL_1199f94d4c4f4c46a6849c98ce8c027f"
          }
        },
        "fa1b50ca41ef4419972f88d944ed60dc": {
          "model_module": "@jupyter-widgets/controls",
          "model_name": "HTMLModel",
          "model_module_version": "1.5.0",
          "state": {
            "_dom_classes": [],
            "_model_module": "@jupyter-widgets/controls",
            "_model_module_version": "1.5.0",
            "_model_name": "HTMLModel",
            "_view_count": null,
            "_view_module": "@jupyter-widgets/controls",
            "_view_module_version": "1.5.0",
            "_view_name": "HTMLView",
            "description": "",
            "description_tooltip": null,
            "layout": "IPY_MODEL_ace530c788824b309a18e17e721710ef",
            "placeholder": "​",
            "style": "IPY_MODEL_17852ba401a84ac29d600000512c192f",
            "value": "sentence_bert_config.json: 100%"
          }
        },
        "8f828be39df14d57954cced01b3fa5c7": {
          "model_module": "@jupyter-widgets/controls",
          "model_name": "FloatProgressModel",
          "model_module_version": "1.5.0",
          "state": {
            "_dom_classes": [],
            "_model_module": "@jupyter-widgets/controls",
            "_model_module_version": "1.5.0",
            "_model_name": "FloatProgressModel",
            "_view_count": null,
            "_view_module": "@jupyter-widgets/controls",
            "_view_module_version": "1.5.0",
            "_view_name": "ProgressView",
            "bar_style": "success",
            "description": "",
            "description_tooltip": null,
            "layout": "IPY_MODEL_d21a95d22b964e5db7a29a9f7b9b733d",
            "max": 53,
            "min": 0,
            "orientation": "horizontal",
            "style": "IPY_MODEL_a7a8d264e4804921bf0962941480d6b4",
            "value": 53
          }
        },
        "77d3d4f047e043b7af46bca3e80f7ee0": {
          "model_module": "@jupyter-widgets/controls",
          "model_name": "HTMLModel",
          "model_module_version": "1.5.0",
          "state": {
            "_dom_classes": [],
            "_model_module": "@jupyter-widgets/controls",
            "_model_module_version": "1.5.0",
            "_model_name": "HTMLModel",
            "_view_count": null,
            "_view_module": "@jupyter-widgets/controls",
            "_view_module_version": "1.5.0",
            "_view_name": "HTMLView",
            "description": "",
            "description_tooltip": null,
            "layout": "IPY_MODEL_f99d2926e8d34b1caa3fc93180b1594a",
            "placeholder": "​",
            "style": "IPY_MODEL_36c3ce8c491a4ac18fef94f598407498",
            "value": " 53.0/53.0 [00:00&lt;00:00, 430B/s]"
          }
        },
        "1199f94d4c4f4c46a6849c98ce8c027f": {
          "model_module": "@jupyter-widgets/base",
          "model_name": "LayoutModel",
          "model_module_version": "1.2.0",
          "state": {
            "_model_module": "@jupyter-widgets/base",
            "_model_module_version": "1.2.0",
            "_model_name": "LayoutModel",
            "_view_count": null,
            "_view_module": "@jupyter-widgets/base",
            "_view_module_version": "1.2.0",
            "_view_name": "LayoutView",
            "align_content": null,
            "align_items": null,
            "align_self": null,
            "border": null,
            "bottom": null,
            "display": null,
            "flex": null,
            "flex_flow": null,
            "grid_area": null,
            "grid_auto_columns": null,
            "grid_auto_flow": null,
            "grid_auto_rows": null,
            "grid_column": null,
            "grid_gap": null,
            "grid_row": null,
            "grid_template_areas": null,
            "grid_template_columns": null,
            "grid_template_rows": null,
            "height": null,
            "justify_content": null,
            "justify_items": null,
            "left": null,
            "margin": null,
            "max_height": null,
            "max_width": null,
            "min_height": null,
            "min_width": null,
            "object_fit": null,
            "object_position": null,
            "order": null,
            "overflow": null,
            "overflow_x": null,
            "overflow_y": null,
            "padding": null,
            "right": null,
            "top": null,
            "visibility": null,
            "width": null
          }
        },
        "ace530c788824b309a18e17e721710ef": {
          "model_module": "@jupyter-widgets/base",
          "model_name": "LayoutModel",
          "model_module_version": "1.2.0",
          "state": {
            "_model_module": "@jupyter-widgets/base",
            "_model_module_version": "1.2.0",
            "_model_name": "LayoutModel",
            "_view_count": null,
            "_view_module": "@jupyter-widgets/base",
            "_view_module_version": "1.2.0",
            "_view_name": "LayoutView",
            "align_content": null,
            "align_items": null,
            "align_self": null,
            "border": null,
            "bottom": null,
            "display": null,
            "flex": null,
            "flex_flow": null,
            "grid_area": null,
            "grid_auto_columns": null,
            "grid_auto_flow": null,
            "grid_auto_rows": null,
            "grid_column": null,
            "grid_gap": null,
            "grid_row": null,
            "grid_template_areas": null,
            "grid_template_columns": null,
            "grid_template_rows": null,
            "height": null,
            "justify_content": null,
            "justify_items": null,
            "left": null,
            "margin": null,
            "max_height": null,
            "max_width": null,
            "min_height": null,
            "min_width": null,
            "object_fit": null,
            "object_position": null,
            "order": null,
            "overflow": null,
            "overflow_x": null,
            "overflow_y": null,
            "padding": null,
            "right": null,
            "top": null,
            "visibility": null,
            "width": null
          }
        },
        "17852ba401a84ac29d600000512c192f": {
          "model_module": "@jupyter-widgets/controls",
          "model_name": "DescriptionStyleModel",
          "model_module_version": "1.5.0",
          "state": {
            "_model_module": "@jupyter-widgets/controls",
            "_model_module_version": "1.5.0",
            "_model_name": "DescriptionStyleModel",
            "_view_count": null,
            "_view_module": "@jupyter-widgets/base",
            "_view_module_version": "1.2.0",
            "_view_name": "StyleView",
            "description_width": ""
          }
        },
        "d21a95d22b964e5db7a29a9f7b9b733d": {
          "model_module": "@jupyter-widgets/base",
          "model_name": "LayoutModel",
          "model_module_version": "1.2.0",
          "state": {
            "_model_module": "@jupyter-widgets/base",
            "_model_module_version": "1.2.0",
            "_model_name": "LayoutModel",
            "_view_count": null,
            "_view_module": "@jupyter-widgets/base",
            "_view_module_version": "1.2.0",
            "_view_name": "LayoutView",
            "align_content": null,
            "align_items": null,
            "align_self": null,
            "border": null,
            "bottom": null,
            "display": null,
            "flex": null,
            "flex_flow": null,
            "grid_area": null,
            "grid_auto_columns": null,
            "grid_auto_flow": null,
            "grid_auto_rows": null,
            "grid_column": null,
            "grid_gap": null,
            "grid_row": null,
            "grid_template_areas": null,
            "grid_template_columns": null,
            "grid_template_rows": null,
            "height": null,
            "justify_content": null,
            "justify_items": null,
            "left": null,
            "margin": null,
            "max_height": null,
            "max_width": null,
            "min_height": null,
            "min_width": null,
            "object_fit": null,
            "object_position": null,
            "order": null,
            "overflow": null,
            "overflow_x": null,
            "overflow_y": null,
            "padding": null,
            "right": null,
            "top": null,
            "visibility": null,
            "width": null
          }
        },
        "a7a8d264e4804921bf0962941480d6b4": {
          "model_module": "@jupyter-widgets/controls",
          "model_name": "ProgressStyleModel",
          "model_module_version": "1.5.0",
          "state": {
            "_model_module": "@jupyter-widgets/controls",
            "_model_module_version": "1.5.0",
            "_model_name": "ProgressStyleModel",
            "_view_count": null,
            "_view_module": "@jupyter-widgets/base",
            "_view_module_version": "1.2.0",
            "_view_name": "StyleView",
            "bar_color": null,
            "description_width": ""
          }
        },
        "f99d2926e8d34b1caa3fc93180b1594a": {
          "model_module": "@jupyter-widgets/base",
          "model_name": "LayoutModel",
          "model_module_version": "1.2.0",
          "state": {
            "_model_module": "@jupyter-widgets/base",
            "_model_module_version": "1.2.0",
            "_model_name": "LayoutModel",
            "_view_count": null,
            "_view_module": "@jupyter-widgets/base",
            "_view_module_version": "1.2.0",
            "_view_name": "LayoutView",
            "align_content": null,
            "align_items": null,
            "align_self": null,
            "border": null,
            "bottom": null,
            "display": null,
            "flex": null,
            "flex_flow": null,
            "grid_area": null,
            "grid_auto_columns": null,
            "grid_auto_flow": null,
            "grid_auto_rows": null,
            "grid_column": null,
            "grid_gap": null,
            "grid_row": null,
            "grid_template_areas": null,
            "grid_template_columns": null,
            "grid_template_rows": null,
            "height": null,
            "justify_content": null,
            "justify_items": null,
            "left": null,
            "margin": null,
            "max_height": null,
            "max_width": null,
            "min_height": null,
            "min_width": null,
            "object_fit": null,
            "object_position": null,
            "order": null,
            "overflow": null,
            "overflow_x": null,
            "overflow_y": null,
            "padding": null,
            "right": null,
            "top": null,
            "visibility": null,
            "width": null
          }
        },
        "36c3ce8c491a4ac18fef94f598407498": {
          "model_module": "@jupyter-widgets/controls",
          "model_name": "DescriptionStyleModel",
          "model_module_version": "1.5.0",
          "state": {
            "_model_module": "@jupyter-widgets/controls",
            "_model_module_version": "1.5.0",
            "_model_name": "DescriptionStyleModel",
            "_view_count": null,
            "_view_module": "@jupyter-widgets/base",
            "_view_module_version": "1.2.0",
            "_view_name": "StyleView",
            "description_width": ""
          }
        },
        "80c37cd23ae64b9ea51de8a497a514b6": {
          "model_module": "@jupyter-widgets/controls",
          "model_name": "HBoxModel",
          "model_module_version": "1.5.0",
          "state": {
            "_dom_classes": [],
            "_model_module": "@jupyter-widgets/controls",
            "_model_module_version": "1.5.0",
            "_model_name": "HBoxModel",
            "_view_count": null,
            "_view_module": "@jupyter-widgets/controls",
            "_view_module_version": "1.5.0",
            "_view_name": "HBoxView",
            "box_style": "",
            "children": [
              "IPY_MODEL_1b0130ef59554d6984dbe6fd215d9e08",
              "IPY_MODEL_ba0901f7a4584d618b0f0a0769387a90",
              "IPY_MODEL_383718a24ace45e0b31b6c10d5574b95"
            ],
            "layout": "IPY_MODEL_365de5a03e504a509212905230c3a584"
          }
        },
        "1b0130ef59554d6984dbe6fd215d9e08": {
          "model_module": "@jupyter-widgets/controls",
          "model_name": "HTMLModel",
          "model_module_version": "1.5.0",
          "state": {
            "_dom_classes": [],
            "_model_module": "@jupyter-widgets/controls",
            "_model_module_version": "1.5.0",
            "_model_name": "HTMLModel",
            "_view_count": null,
            "_view_module": "@jupyter-widgets/controls",
            "_view_module_version": "1.5.0",
            "_view_name": "HTMLView",
            "description": "",
            "description_tooltip": null,
            "layout": "IPY_MODEL_eb038bfddcf04d6e8e05a5befa221a81",
            "placeholder": "​",
            "style": "IPY_MODEL_78d75fa06f544d3893f40d838bbadc33",
            "value": "config.json: 100%"
          }
        },
        "ba0901f7a4584d618b0f0a0769387a90": {
          "model_module": "@jupyter-widgets/controls",
          "model_name": "FloatProgressModel",
          "model_module_version": "1.5.0",
          "state": {
            "_dom_classes": [],
            "_model_module": "@jupyter-widgets/controls",
            "_model_module_version": "1.5.0",
            "_model_name": "FloatProgressModel",
            "_view_count": null,
            "_view_module": "@jupyter-widgets/controls",
            "_view_module_version": "1.5.0",
            "_view_name": "ProgressView",
            "bar_style": "success",
            "description": "",
            "description_tooltip": null,
            "layout": "IPY_MODEL_fb71f4e713e941aaa9dcab95e7cc039c",
            "max": 645,
            "min": 0,
            "orientation": "horizontal",
            "style": "IPY_MODEL_11307da3b7734cd48724267d9c97643c",
            "value": 645
          }
        },
        "383718a24ace45e0b31b6c10d5574b95": {
          "model_module": "@jupyter-widgets/controls",
          "model_name": "HTMLModel",
          "model_module_version": "1.5.0",
          "state": {
            "_dom_classes": [],
            "_model_module": "@jupyter-widgets/controls",
            "_model_module_version": "1.5.0",
            "_model_name": "HTMLModel",
            "_view_count": null,
            "_view_module": "@jupyter-widgets/controls",
            "_view_module_version": "1.5.0",
            "_view_name": "HTMLView",
            "description": "",
            "description_tooltip": null,
            "layout": "IPY_MODEL_8738b010bb0a46bca256888cd0e08b53",
            "placeholder": "​",
            "style": "IPY_MODEL_cba3d11ed14f4e62a27dbbd6838894d5",
            "value": " 645/645 [00:00&lt;00:00, 5.32kB/s]"
          }
        },
        "365de5a03e504a509212905230c3a584": {
          "model_module": "@jupyter-widgets/base",
          "model_name": "LayoutModel",
          "model_module_version": "1.2.0",
          "state": {
            "_model_module": "@jupyter-widgets/base",
            "_model_module_version": "1.2.0",
            "_model_name": "LayoutModel",
            "_view_count": null,
            "_view_module": "@jupyter-widgets/base",
            "_view_module_version": "1.2.0",
            "_view_name": "LayoutView",
            "align_content": null,
            "align_items": null,
            "align_self": null,
            "border": null,
            "bottom": null,
            "display": null,
            "flex": null,
            "flex_flow": null,
            "grid_area": null,
            "grid_auto_columns": null,
            "grid_auto_flow": null,
            "grid_auto_rows": null,
            "grid_column": null,
            "grid_gap": null,
            "grid_row": null,
            "grid_template_areas": null,
            "grid_template_columns": null,
            "grid_template_rows": null,
            "height": null,
            "justify_content": null,
            "justify_items": null,
            "left": null,
            "margin": null,
            "max_height": null,
            "max_width": null,
            "min_height": null,
            "min_width": null,
            "object_fit": null,
            "object_position": null,
            "order": null,
            "overflow": null,
            "overflow_x": null,
            "overflow_y": null,
            "padding": null,
            "right": null,
            "top": null,
            "visibility": null,
            "width": null
          }
        },
        "eb038bfddcf04d6e8e05a5befa221a81": {
          "model_module": "@jupyter-widgets/base",
          "model_name": "LayoutModel",
          "model_module_version": "1.2.0",
          "state": {
            "_model_module": "@jupyter-widgets/base",
            "_model_module_version": "1.2.0",
            "_model_name": "LayoutModel",
            "_view_count": null,
            "_view_module": "@jupyter-widgets/base",
            "_view_module_version": "1.2.0",
            "_view_name": "LayoutView",
            "align_content": null,
            "align_items": null,
            "align_self": null,
            "border": null,
            "bottom": null,
            "display": null,
            "flex": null,
            "flex_flow": null,
            "grid_area": null,
            "grid_auto_columns": null,
            "grid_auto_flow": null,
            "grid_auto_rows": null,
            "grid_column": null,
            "grid_gap": null,
            "grid_row": null,
            "grid_template_areas": null,
            "grid_template_columns": null,
            "grid_template_rows": null,
            "height": null,
            "justify_content": null,
            "justify_items": null,
            "left": null,
            "margin": null,
            "max_height": null,
            "max_width": null,
            "min_height": null,
            "min_width": null,
            "object_fit": null,
            "object_position": null,
            "order": null,
            "overflow": null,
            "overflow_x": null,
            "overflow_y": null,
            "padding": null,
            "right": null,
            "top": null,
            "visibility": null,
            "width": null
          }
        },
        "78d75fa06f544d3893f40d838bbadc33": {
          "model_module": "@jupyter-widgets/controls",
          "model_name": "DescriptionStyleModel",
          "model_module_version": "1.5.0",
          "state": {
            "_model_module": "@jupyter-widgets/controls",
            "_model_module_version": "1.5.0",
            "_model_name": "DescriptionStyleModel",
            "_view_count": null,
            "_view_module": "@jupyter-widgets/base",
            "_view_module_version": "1.2.0",
            "_view_name": "StyleView",
            "description_width": ""
          }
        },
        "fb71f4e713e941aaa9dcab95e7cc039c": {
          "model_module": "@jupyter-widgets/base",
          "model_name": "LayoutModel",
          "model_module_version": "1.2.0",
          "state": {
            "_model_module": "@jupyter-widgets/base",
            "_model_module_version": "1.2.0",
            "_model_name": "LayoutModel",
            "_view_count": null,
            "_view_module": "@jupyter-widgets/base",
            "_view_module_version": "1.2.0",
            "_view_name": "LayoutView",
            "align_content": null,
            "align_items": null,
            "align_self": null,
            "border": null,
            "bottom": null,
            "display": null,
            "flex": null,
            "flex_flow": null,
            "grid_area": null,
            "grid_auto_columns": null,
            "grid_auto_flow": null,
            "grid_auto_rows": null,
            "grid_column": null,
            "grid_gap": null,
            "grid_row": null,
            "grid_template_areas": null,
            "grid_template_columns": null,
            "grid_template_rows": null,
            "height": null,
            "justify_content": null,
            "justify_items": null,
            "left": null,
            "margin": null,
            "max_height": null,
            "max_width": null,
            "min_height": null,
            "min_width": null,
            "object_fit": null,
            "object_position": null,
            "order": null,
            "overflow": null,
            "overflow_x": null,
            "overflow_y": null,
            "padding": null,
            "right": null,
            "top": null,
            "visibility": null,
            "width": null
          }
        },
        "11307da3b7734cd48724267d9c97643c": {
          "model_module": "@jupyter-widgets/controls",
          "model_name": "ProgressStyleModel",
          "model_module_version": "1.5.0",
          "state": {
            "_model_module": "@jupyter-widgets/controls",
            "_model_module_version": "1.5.0",
            "_model_name": "ProgressStyleModel",
            "_view_count": null,
            "_view_module": "@jupyter-widgets/base",
            "_view_module_version": "1.2.0",
            "_view_name": "StyleView",
            "bar_color": null,
            "description_width": ""
          }
        },
        "8738b010bb0a46bca256888cd0e08b53": {
          "model_module": "@jupyter-widgets/base",
          "model_name": "LayoutModel",
          "model_module_version": "1.2.0",
          "state": {
            "_model_module": "@jupyter-widgets/base",
            "_model_module_version": "1.2.0",
            "_model_name": "LayoutModel",
            "_view_count": null,
            "_view_module": "@jupyter-widgets/base",
            "_view_module_version": "1.2.0",
            "_view_name": "LayoutView",
            "align_content": null,
            "align_items": null,
            "align_self": null,
            "border": null,
            "bottom": null,
            "display": null,
            "flex": null,
            "flex_flow": null,
            "grid_area": null,
            "grid_auto_columns": null,
            "grid_auto_flow": null,
            "grid_auto_rows": null,
            "grid_column": null,
            "grid_gap": null,
            "grid_row": null,
            "grid_template_areas": null,
            "grid_template_columns": null,
            "grid_template_rows": null,
            "height": null,
            "justify_content": null,
            "justify_items": null,
            "left": null,
            "margin": null,
            "max_height": null,
            "max_width": null,
            "min_height": null,
            "min_width": null,
            "object_fit": null,
            "object_position": null,
            "order": null,
            "overflow": null,
            "overflow_x": null,
            "overflow_y": null,
            "padding": null,
            "right": null,
            "top": null,
            "visibility": null,
            "width": null
          }
        },
        "cba3d11ed14f4e62a27dbbd6838894d5": {
          "model_module": "@jupyter-widgets/controls",
          "model_name": "DescriptionStyleModel",
          "model_module_version": "1.5.0",
          "state": {
            "_model_module": "@jupyter-widgets/controls",
            "_model_module_version": "1.5.0",
            "_model_name": "DescriptionStyleModel",
            "_view_count": null,
            "_view_module": "@jupyter-widgets/base",
            "_view_module_version": "1.2.0",
            "_view_name": "StyleView",
            "description_width": ""
          }
        },
        "b086767339ac46a9bc4afb1952904b1e": {
          "model_module": "@jupyter-widgets/controls",
          "model_name": "HBoxModel",
          "model_module_version": "1.5.0",
          "state": {
            "_dom_classes": [],
            "_model_module": "@jupyter-widgets/controls",
            "_model_module_version": "1.5.0",
            "_model_name": "HBoxModel",
            "_view_count": null,
            "_view_module": "@jupyter-widgets/controls",
            "_view_module_version": "1.5.0",
            "_view_name": "HBoxView",
            "box_style": "",
            "children": [
              "IPY_MODEL_ca647e08bb064f50b29f7e18abaecdc6",
              "IPY_MODEL_8032bb7e397e428a883a985f40db544d",
              "IPY_MODEL_dfc33f28e1834222b1a230046105c938"
            ],
            "layout": "IPY_MODEL_8382ad10a27e4a3e96dfda25529a02eb"
          }
        },
        "ca647e08bb064f50b29f7e18abaecdc6": {
          "model_module": "@jupyter-widgets/controls",
          "model_name": "HTMLModel",
          "model_module_version": "1.5.0",
          "state": {
            "_dom_classes": [],
            "_model_module": "@jupyter-widgets/controls",
            "_model_module_version": "1.5.0",
            "_model_name": "HTMLModel",
            "_view_count": null,
            "_view_module": "@jupyter-widgets/controls",
            "_view_module_version": "1.5.0",
            "_view_name": "HTMLView",
            "description": "",
            "description_tooltip": null,
            "layout": "IPY_MODEL_ea3b0ae340924e9284b68bde62d98cf8",
            "placeholder": "​",
            "style": "IPY_MODEL_c39fa15c37214db889e7ce82fcc0b8a3",
            "value": "model.safetensors: 100%"
          }
        },
        "8032bb7e397e428a883a985f40db544d": {
          "model_module": "@jupyter-widgets/controls",
          "model_name": "FloatProgressModel",
          "model_module_version": "1.5.0",
          "state": {
            "_dom_classes": [],
            "_model_module": "@jupyter-widgets/controls",
            "_model_module_version": "1.5.0",
            "_model_name": "FloatProgressModel",
            "_view_count": null,
            "_view_module": "@jupyter-widgets/controls",
            "_view_module_version": "1.5.0",
            "_view_name": "ProgressView",
            "bar_style": "success",
            "description": "",
            "description_tooltip": null,
            "layout": "IPY_MODEL_7963566770a74fbeb2c985fff7281376",
            "max": 470641600,
            "min": 0,
            "orientation": "horizontal",
            "style": "IPY_MODEL_4e288950b6d8490da788e028b4f1d6e7",
            "value": 470641600
          }
        },
        "dfc33f28e1834222b1a230046105c938": {
          "model_module": "@jupyter-widgets/controls",
          "model_name": "HTMLModel",
          "model_module_version": "1.5.0",
          "state": {
            "_dom_classes": [],
            "_model_module": "@jupyter-widgets/controls",
            "_model_module_version": "1.5.0",
            "_model_name": "HTMLModel",
            "_view_count": null,
            "_view_module": "@jupyter-widgets/controls",
            "_view_module_version": "1.5.0",
            "_view_name": "HTMLView",
            "description": "",
            "description_tooltip": null,
            "layout": "IPY_MODEL_8850e8ce712446b2bbd5e4e40ca5afef",
            "placeholder": "​",
            "style": "IPY_MODEL_68c7a3c586c2455b8632042785637d4d",
            "value": " 471M/471M [00:06&lt;00:00, 82.4MB/s]"
          }
        },
        "8382ad10a27e4a3e96dfda25529a02eb": {
          "model_module": "@jupyter-widgets/base",
          "model_name": "LayoutModel",
          "model_module_version": "1.2.0",
          "state": {
            "_model_module": "@jupyter-widgets/base",
            "_model_module_version": "1.2.0",
            "_model_name": "LayoutModel",
            "_view_count": null,
            "_view_module": "@jupyter-widgets/base",
            "_view_module_version": "1.2.0",
            "_view_name": "LayoutView",
            "align_content": null,
            "align_items": null,
            "align_self": null,
            "border": null,
            "bottom": null,
            "display": null,
            "flex": null,
            "flex_flow": null,
            "grid_area": null,
            "grid_auto_columns": null,
            "grid_auto_flow": null,
            "grid_auto_rows": null,
            "grid_column": null,
            "grid_gap": null,
            "grid_row": null,
            "grid_template_areas": null,
            "grid_template_columns": null,
            "grid_template_rows": null,
            "height": null,
            "justify_content": null,
            "justify_items": null,
            "left": null,
            "margin": null,
            "max_height": null,
            "max_width": null,
            "min_height": null,
            "min_width": null,
            "object_fit": null,
            "object_position": null,
            "order": null,
            "overflow": null,
            "overflow_x": null,
            "overflow_y": null,
            "padding": null,
            "right": null,
            "top": null,
            "visibility": null,
            "width": null
          }
        },
        "ea3b0ae340924e9284b68bde62d98cf8": {
          "model_module": "@jupyter-widgets/base",
          "model_name": "LayoutModel",
          "model_module_version": "1.2.0",
          "state": {
            "_model_module": "@jupyter-widgets/base",
            "_model_module_version": "1.2.0",
            "_model_name": "LayoutModel",
            "_view_count": null,
            "_view_module": "@jupyter-widgets/base",
            "_view_module_version": "1.2.0",
            "_view_name": "LayoutView",
            "align_content": null,
            "align_items": null,
            "align_self": null,
            "border": null,
            "bottom": null,
            "display": null,
            "flex": null,
            "flex_flow": null,
            "grid_area": null,
            "grid_auto_columns": null,
            "grid_auto_flow": null,
            "grid_auto_rows": null,
            "grid_column": null,
            "grid_gap": null,
            "grid_row": null,
            "grid_template_areas": null,
            "grid_template_columns": null,
            "grid_template_rows": null,
            "height": null,
            "justify_content": null,
            "justify_items": null,
            "left": null,
            "margin": null,
            "max_height": null,
            "max_width": null,
            "min_height": null,
            "min_width": null,
            "object_fit": null,
            "object_position": null,
            "order": null,
            "overflow": null,
            "overflow_x": null,
            "overflow_y": null,
            "padding": null,
            "right": null,
            "top": null,
            "visibility": null,
            "width": null
          }
        },
        "c39fa15c37214db889e7ce82fcc0b8a3": {
          "model_module": "@jupyter-widgets/controls",
          "model_name": "DescriptionStyleModel",
          "model_module_version": "1.5.0",
          "state": {
            "_model_module": "@jupyter-widgets/controls",
            "_model_module_version": "1.5.0",
            "_model_name": "DescriptionStyleModel",
            "_view_count": null,
            "_view_module": "@jupyter-widgets/base",
            "_view_module_version": "1.2.0",
            "_view_name": "StyleView",
            "description_width": ""
          }
        },
        "7963566770a74fbeb2c985fff7281376": {
          "model_module": "@jupyter-widgets/base",
          "model_name": "LayoutModel",
          "model_module_version": "1.2.0",
          "state": {
            "_model_module": "@jupyter-widgets/base",
            "_model_module_version": "1.2.0",
            "_model_name": "LayoutModel",
            "_view_count": null,
            "_view_module": "@jupyter-widgets/base",
            "_view_module_version": "1.2.0",
            "_view_name": "LayoutView",
            "align_content": null,
            "align_items": null,
            "align_self": null,
            "border": null,
            "bottom": null,
            "display": null,
            "flex": null,
            "flex_flow": null,
            "grid_area": null,
            "grid_auto_columns": null,
            "grid_auto_flow": null,
            "grid_auto_rows": null,
            "grid_column": null,
            "grid_gap": null,
            "grid_row": null,
            "grid_template_areas": null,
            "grid_template_columns": null,
            "grid_template_rows": null,
            "height": null,
            "justify_content": null,
            "justify_items": null,
            "left": null,
            "margin": null,
            "max_height": null,
            "max_width": null,
            "min_height": null,
            "min_width": null,
            "object_fit": null,
            "object_position": null,
            "order": null,
            "overflow": null,
            "overflow_x": null,
            "overflow_y": null,
            "padding": null,
            "right": null,
            "top": null,
            "visibility": null,
            "width": null
          }
        },
        "4e288950b6d8490da788e028b4f1d6e7": {
          "model_module": "@jupyter-widgets/controls",
          "model_name": "ProgressStyleModel",
          "model_module_version": "1.5.0",
          "state": {
            "_model_module": "@jupyter-widgets/controls",
            "_model_module_version": "1.5.0",
            "_model_name": "ProgressStyleModel",
            "_view_count": null,
            "_view_module": "@jupyter-widgets/base",
            "_view_module_version": "1.2.0",
            "_view_name": "StyleView",
            "bar_color": null,
            "description_width": ""
          }
        },
        "8850e8ce712446b2bbd5e4e40ca5afef": {
          "model_module": "@jupyter-widgets/base",
          "model_name": "LayoutModel",
          "model_module_version": "1.2.0",
          "state": {
            "_model_module": "@jupyter-widgets/base",
            "_model_module_version": "1.2.0",
            "_model_name": "LayoutModel",
            "_view_count": null,
            "_view_module": "@jupyter-widgets/base",
            "_view_module_version": "1.2.0",
            "_view_name": "LayoutView",
            "align_content": null,
            "align_items": null,
            "align_self": null,
            "border": null,
            "bottom": null,
            "display": null,
            "flex": null,
            "flex_flow": null,
            "grid_area": null,
            "grid_auto_columns": null,
            "grid_auto_flow": null,
            "grid_auto_rows": null,
            "grid_column": null,
            "grid_gap": null,
            "grid_row": null,
            "grid_template_areas": null,
            "grid_template_columns": null,
            "grid_template_rows": null,
            "height": null,
            "justify_content": null,
            "justify_items": null,
            "left": null,
            "margin": null,
            "max_height": null,
            "max_width": null,
            "min_height": null,
            "min_width": null,
            "object_fit": null,
            "object_position": null,
            "order": null,
            "overflow": null,
            "overflow_x": null,
            "overflow_y": null,
            "padding": null,
            "right": null,
            "top": null,
            "visibility": null,
            "width": null
          }
        },
        "68c7a3c586c2455b8632042785637d4d": {
          "model_module": "@jupyter-widgets/controls",
          "model_name": "DescriptionStyleModel",
          "model_module_version": "1.5.0",
          "state": {
            "_model_module": "@jupyter-widgets/controls",
            "_model_module_version": "1.5.0",
            "_model_name": "DescriptionStyleModel",
            "_view_count": null,
            "_view_module": "@jupyter-widgets/base",
            "_view_module_version": "1.2.0",
            "_view_name": "StyleView",
            "description_width": ""
          }
        },
        "53137cf0cf8b4228a7144cf11909dcfc": {
          "model_module": "@jupyter-widgets/controls",
          "model_name": "HBoxModel",
          "model_module_version": "1.5.0",
          "state": {
            "_dom_classes": [],
            "_model_module": "@jupyter-widgets/controls",
            "_model_module_version": "1.5.0",
            "_model_name": "HBoxModel",
            "_view_count": null,
            "_view_module": "@jupyter-widgets/controls",
            "_view_module_version": "1.5.0",
            "_view_name": "HBoxView",
            "box_style": "",
            "children": [
              "IPY_MODEL_5f0dfc9a6fbb4848a7798ec2ca95ead1",
              "IPY_MODEL_671427518ab04fc482e650c7c7fdca40",
              "IPY_MODEL_8cf86c1835394244a62b4eb5a3648efd"
            ],
            "layout": "IPY_MODEL_752e0253e60242ac971783cb23ec7197"
          }
        },
        "5f0dfc9a6fbb4848a7798ec2ca95ead1": {
          "model_module": "@jupyter-widgets/controls",
          "model_name": "HTMLModel",
          "model_module_version": "1.5.0",
          "state": {
            "_dom_classes": [],
            "_model_module": "@jupyter-widgets/controls",
            "_model_module_version": "1.5.0",
            "_model_name": "HTMLModel",
            "_view_count": null,
            "_view_module": "@jupyter-widgets/controls",
            "_view_module_version": "1.5.0",
            "_view_name": "HTMLView",
            "description": "",
            "description_tooltip": null,
            "layout": "IPY_MODEL_8dfec566f5e44eb7afa95a5c996c63cf",
            "placeholder": "​",
            "style": "IPY_MODEL_88a1ef2a0c2544ff9b006784702ae079",
            "value": "tokenizer_config.json: 100%"
          }
        },
        "671427518ab04fc482e650c7c7fdca40": {
          "model_module": "@jupyter-widgets/controls",
          "model_name": "FloatProgressModel",
          "model_module_version": "1.5.0",
          "state": {
            "_dom_classes": [],
            "_model_module": "@jupyter-widgets/controls",
            "_model_module_version": "1.5.0",
            "_model_name": "FloatProgressModel",
            "_view_count": null,
            "_view_module": "@jupyter-widgets/controls",
            "_view_module_version": "1.5.0",
            "_view_name": "ProgressView",
            "bar_style": "success",
            "description": "",
            "description_tooltip": null,
            "layout": "IPY_MODEL_c3f7c393e9a74dd3851d4611faf18f5f",
            "max": 480,
            "min": 0,
            "orientation": "horizontal",
            "style": "IPY_MODEL_641ebfac8e2b4f8389b342c26d4a35b7",
            "value": 480
          }
        },
        "8cf86c1835394244a62b4eb5a3648efd": {
          "model_module": "@jupyter-widgets/controls",
          "model_name": "HTMLModel",
          "model_module_version": "1.5.0",
          "state": {
            "_dom_classes": [],
            "_model_module": "@jupyter-widgets/controls",
            "_model_module_version": "1.5.0",
            "_model_name": "HTMLModel",
            "_view_count": null,
            "_view_module": "@jupyter-widgets/controls",
            "_view_module_version": "1.5.0",
            "_view_name": "HTMLView",
            "description": "",
            "description_tooltip": null,
            "layout": "IPY_MODEL_ac672d1f370646c6a2320287452e0a8a",
            "placeholder": "​",
            "style": "IPY_MODEL_cbfe9f23615243d6bc3006b0743a6c8d",
            "value": " 480/480 [00:00&lt;00:00, 7.92kB/s]"
          }
        },
        "752e0253e60242ac971783cb23ec7197": {
          "model_module": "@jupyter-widgets/base",
          "model_name": "LayoutModel",
          "model_module_version": "1.2.0",
          "state": {
            "_model_module": "@jupyter-widgets/base",
            "_model_module_version": "1.2.0",
            "_model_name": "LayoutModel",
            "_view_count": null,
            "_view_module": "@jupyter-widgets/base",
            "_view_module_version": "1.2.0",
            "_view_name": "LayoutView",
            "align_content": null,
            "align_items": null,
            "align_self": null,
            "border": null,
            "bottom": null,
            "display": null,
            "flex": null,
            "flex_flow": null,
            "grid_area": null,
            "grid_auto_columns": null,
            "grid_auto_flow": null,
            "grid_auto_rows": null,
            "grid_column": null,
            "grid_gap": null,
            "grid_row": null,
            "grid_template_areas": null,
            "grid_template_columns": null,
            "grid_template_rows": null,
            "height": null,
            "justify_content": null,
            "justify_items": null,
            "left": null,
            "margin": null,
            "max_height": null,
            "max_width": null,
            "min_height": null,
            "min_width": null,
            "object_fit": null,
            "object_position": null,
            "order": null,
            "overflow": null,
            "overflow_x": null,
            "overflow_y": null,
            "padding": null,
            "right": null,
            "top": null,
            "visibility": null,
            "width": null
          }
        },
        "8dfec566f5e44eb7afa95a5c996c63cf": {
          "model_module": "@jupyter-widgets/base",
          "model_name": "LayoutModel",
          "model_module_version": "1.2.0",
          "state": {
            "_model_module": "@jupyter-widgets/base",
            "_model_module_version": "1.2.0",
            "_model_name": "LayoutModel",
            "_view_count": null,
            "_view_module": "@jupyter-widgets/base",
            "_view_module_version": "1.2.0",
            "_view_name": "LayoutView",
            "align_content": null,
            "align_items": null,
            "align_self": null,
            "border": null,
            "bottom": null,
            "display": null,
            "flex": null,
            "flex_flow": null,
            "grid_area": null,
            "grid_auto_columns": null,
            "grid_auto_flow": null,
            "grid_auto_rows": null,
            "grid_column": null,
            "grid_gap": null,
            "grid_row": null,
            "grid_template_areas": null,
            "grid_template_columns": null,
            "grid_template_rows": null,
            "height": null,
            "justify_content": null,
            "justify_items": null,
            "left": null,
            "margin": null,
            "max_height": null,
            "max_width": null,
            "min_height": null,
            "min_width": null,
            "object_fit": null,
            "object_position": null,
            "order": null,
            "overflow": null,
            "overflow_x": null,
            "overflow_y": null,
            "padding": null,
            "right": null,
            "top": null,
            "visibility": null,
            "width": null
          }
        },
        "88a1ef2a0c2544ff9b006784702ae079": {
          "model_module": "@jupyter-widgets/controls",
          "model_name": "DescriptionStyleModel",
          "model_module_version": "1.5.0",
          "state": {
            "_model_module": "@jupyter-widgets/controls",
            "_model_module_version": "1.5.0",
            "_model_name": "DescriptionStyleModel",
            "_view_count": null,
            "_view_module": "@jupyter-widgets/base",
            "_view_module_version": "1.2.0",
            "_view_name": "StyleView",
            "description_width": ""
          }
        },
        "c3f7c393e9a74dd3851d4611faf18f5f": {
          "model_module": "@jupyter-widgets/base",
          "model_name": "LayoutModel",
          "model_module_version": "1.2.0",
          "state": {
            "_model_module": "@jupyter-widgets/base",
            "_model_module_version": "1.2.0",
            "_model_name": "LayoutModel",
            "_view_count": null,
            "_view_module": "@jupyter-widgets/base",
            "_view_module_version": "1.2.0",
            "_view_name": "LayoutView",
            "align_content": null,
            "align_items": null,
            "align_self": null,
            "border": null,
            "bottom": null,
            "display": null,
            "flex": null,
            "flex_flow": null,
            "grid_area": null,
            "grid_auto_columns": null,
            "grid_auto_flow": null,
            "grid_auto_rows": null,
            "grid_column": null,
            "grid_gap": null,
            "grid_row": null,
            "grid_template_areas": null,
            "grid_template_columns": null,
            "grid_template_rows": null,
            "height": null,
            "justify_content": null,
            "justify_items": null,
            "left": null,
            "margin": null,
            "max_height": null,
            "max_width": null,
            "min_height": null,
            "min_width": null,
            "object_fit": null,
            "object_position": null,
            "order": null,
            "overflow": null,
            "overflow_x": null,
            "overflow_y": null,
            "padding": null,
            "right": null,
            "top": null,
            "visibility": null,
            "width": null
          }
        },
        "641ebfac8e2b4f8389b342c26d4a35b7": {
          "model_module": "@jupyter-widgets/controls",
          "model_name": "ProgressStyleModel",
          "model_module_version": "1.5.0",
          "state": {
            "_model_module": "@jupyter-widgets/controls",
            "_model_module_version": "1.5.0",
            "_model_name": "ProgressStyleModel",
            "_view_count": null,
            "_view_module": "@jupyter-widgets/base",
            "_view_module_version": "1.2.0",
            "_view_name": "StyleView",
            "bar_color": null,
            "description_width": ""
          }
        },
        "ac672d1f370646c6a2320287452e0a8a": {
          "model_module": "@jupyter-widgets/base",
          "model_name": "LayoutModel",
          "model_module_version": "1.2.0",
          "state": {
            "_model_module": "@jupyter-widgets/base",
            "_model_module_version": "1.2.0",
            "_model_name": "LayoutModel",
            "_view_count": null,
            "_view_module": "@jupyter-widgets/base",
            "_view_module_version": "1.2.0",
            "_view_name": "LayoutView",
            "align_content": null,
            "align_items": null,
            "align_self": null,
            "border": null,
            "bottom": null,
            "display": null,
            "flex": null,
            "flex_flow": null,
            "grid_area": null,
            "grid_auto_columns": null,
            "grid_auto_flow": null,
            "grid_auto_rows": null,
            "grid_column": null,
            "grid_gap": null,
            "grid_row": null,
            "grid_template_areas": null,
            "grid_template_columns": null,
            "grid_template_rows": null,
            "height": null,
            "justify_content": null,
            "justify_items": null,
            "left": null,
            "margin": null,
            "max_height": null,
            "max_width": null,
            "min_height": null,
            "min_width": null,
            "object_fit": null,
            "object_position": null,
            "order": null,
            "overflow": null,
            "overflow_x": null,
            "overflow_y": null,
            "padding": null,
            "right": null,
            "top": null,
            "visibility": null,
            "width": null
          }
        },
        "cbfe9f23615243d6bc3006b0743a6c8d": {
          "model_module": "@jupyter-widgets/controls",
          "model_name": "DescriptionStyleModel",
          "model_module_version": "1.5.0",
          "state": {
            "_model_module": "@jupyter-widgets/controls",
            "_model_module_version": "1.5.0",
            "_model_name": "DescriptionStyleModel",
            "_view_count": null,
            "_view_module": "@jupyter-widgets/base",
            "_view_module_version": "1.2.0",
            "_view_name": "StyleView",
            "description_width": ""
          }
        },
        "fc2e618938204b59bdeccab83673515c": {
          "model_module": "@jupyter-widgets/controls",
          "model_name": "HBoxModel",
          "model_module_version": "1.5.0",
          "state": {
            "_dom_classes": [],
            "_model_module": "@jupyter-widgets/controls",
            "_model_module_version": "1.5.0",
            "_model_name": "HBoxModel",
            "_view_count": null,
            "_view_module": "@jupyter-widgets/controls",
            "_view_module_version": "1.5.0",
            "_view_name": "HBoxView",
            "box_style": "",
            "children": [
              "IPY_MODEL_2d0a557996234373a723a943a7b6d216",
              "IPY_MODEL_8196eb08d4db42e8b9921ee10d0fc38c",
              "IPY_MODEL_57ec403b77184a97a271468935c4eb50"
            ],
            "layout": "IPY_MODEL_f6b75422181c4e93bfbd8ddeeea76d74"
          }
        },
        "2d0a557996234373a723a943a7b6d216": {
          "model_module": "@jupyter-widgets/controls",
          "model_name": "HTMLModel",
          "model_module_version": "1.5.0",
          "state": {
            "_dom_classes": [],
            "_model_module": "@jupyter-widgets/controls",
            "_model_module_version": "1.5.0",
            "_model_name": "HTMLModel",
            "_view_count": null,
            "_view_module": "@jupyter-widgets/controls",
            "_view_module_version": "1.5.0",
            "_view_name": "HTMLView",
            "description": "",
            "description_tooltip": null,
            "layout": "IPY_MODEL_9fcda6c95455496da7bd51513e9d414c",
            "placeholder": "​",
            "style": "IPY_MODEL_2a9f8934142e4c80b5f59d0b9905f539",
            "value": "tokenizer.json: 100%"
          }
        },
        "8196eb08d4db42e8b9921ee10d0fc38c": {
          "model_module": "@jupyter-widgets/controls",
          "model_name": "FloatProgressModel",
          "model_module_version": "1.5.0",
          "state": {
            "_dom_classes": [],
            "_model_module": "@jupyter-widgets/controls",
            "_model_module_version": "1.5.0",
            "_model_name": "FloatProgressModel",
            "_view_count": null,
            "_view_module": "@jupyter-widgets/controls",
            "_view_module_version": "1.5.0",
            "_view_name": "ProgressView",
            "bar_style": "success",
            "description": "",
            "description_tooltip": null,
            "layout": "IPY_MODEL_cc8b8810809340cc86ff072cbf75ea2d",
            "max": 9081518,
            "min": 0,
            "orientation": "horizontal",
            "style": "IPY_MODEL_720a0f0b2d504ed9a8138d28edbf3902",
            "value": 9081518
          }
        },
        "57ec403b77184a97a271468935c4eb50": {
          "model_module": "@jupyter-widgets/controls",
          "model_name": "HTMLModel",
          "model_module_version": "1.5.0",
          "state": {
            "_dom_classes": [],
            "_model_module": "@jupyter-widgets/controls",
            "_model_module_version": "1.5.0",
            "_model_name": "HTMLModel",
            "_view_count": null,
            "_view_module": "@jupyter-widgets/controls",
            "_view_module_version": "1.5.0",
            "_view_name": "HTMLView",
            "description": "",
            "description_tooltip": null,
            "layout": "IPY_MODEL_e1bd316ac4924f4a8372cc21231af9d6",
            "placeholder": "​",
            "style": "IPY_MODEL_1079af971e3446fdac87a3d3eca0de5d",
            "value": " 9.08M/9.08M [00:00&lt;00:00, 78.7MB/s]"
          }
        },
        "f6b75422181c4e93bfbd8ddeeea76d74": {
          "model_module": "@jupyter-widgets/base",
          "model_name": "LayoutModel",
          "model_module_version": "1.2.0",
          "state": {
            "_model_module": "@jupyter-widgets/base",
            "_model_module_version": "1.2.0",
            "_model_name": "LayoutModel",
            "_view_count": null,
            "_view_module": "@jupyter-widgets/base",
            "_view_module_version": "1.2.0",
            "_view_name": "LayoutView",
            "align_content": null,
            "align_items": null,
            "align_self": null,
            "border": null,
            "bottom": null,
            "display": null,
            "flex": null,
            "flex_flow": null,
            "grid_area": null,
            "grid_auto_columns": null,
            "grid_auto_flow": null,
            "grid_auto_rows": null,
            "grid_column": null,
            "grid_gap": null,
            "grid_row": null,
            "grid_template_areas": null,
            "grid_template_columns": null,
            "grid_template_rows": null,
            "height": null,
            "justify_content": null,
            "justify_items": null,
            "left": null,
            "margin": null,
            "max_height": null,
            "max_width": null,
            "min_height": null,
            "min_width": null,
            "object_fit": null,
            "object_position": null,
            "order": null,
            "overflow": null,
            "overflow_x": null,
            "overflow_y": null,
            "padding": null,
            "right": null,
            "top": null,
            "visibility": null,
            "width": null
          }
        },
        "9fcda6c95455496da7bd51513e9d414c": {
          "model_module": "@jupyter-widgets/base",
          "model_name": "LayoutModel",
          "model_module_version": "1.2.0",
          "state": {
            "_model_module": "@jupyter-widgets/base",
            "_model_module_version": "1.2.0",
            "_model_name": "LayoutModel",
            "_view_count": null,
            "_view_module": "@jupyter-widgets/base",
            "_view_module_version": "1.2.0",
            "_view_name": "LayoutView",
            "align_content": null,
            "align_items": null,
            "align_self": null,
            "border": null,
            "bottom": null,
            "display": null,
            "flex": null,
            "flex_flow": null,
            "grid_area": null,
            "grid_auto_columns": null,
            "grid_auto_flow": null,
            "grid_auto_rows": null,
            "grid_column": null,
            "grid_gap": null,
            "grid_row": null,
            "grid_template_areas": null,
            "grid_template_columns": null,
            "grid_template_rows": null,
            "height": null,
            "justify_content": null,
            "justify_items": null,
            "left": null,
            "margin": null,
            "max_height": null,
            "max_width": null,
            "min_height": null,
            "min_width": null,
            "object_fit": null,
            "object_position": null,
            "order": null,
            "overflow": null,
            "overflow_x": null,
            "overflow_y": null,
            "padding": null,
            "right": null,
            "top": null,
            "visibility": null,
            "width": null
          }
        },
        "2a9f8934142e4c80b5f59d0b9905f539": {
          "model_module": "@jupyter-widgets/controls",
          "model_name": "DescriptionStyleModel",
          "model_module_version": "1.5.0",
          "state": {
            "_model_module": "@jupyter-widgets/controls",
            "_model_module_version": "1.5.0",
            "_model_name": "DescriptionStyleModel",
            "_view_count": null,
            "_view_module": "@jupyter-widgets/base",
            "_view_module_version": "1.2.0",
            "_view_name": "StyleView",
            "description_width": ""
          }
        },
        "cc8b8810809340cc86ff072cbf75ea2d": {
          "model_module": "@jupyter-widgets/base",
          "model_name": "LayoutModel",
          "model_module_version": "1.2.0",
          "state": {
            "_model_module": "@jupyter-widgets/base",
            "_model_module_version": "1.2.0",
            "_model_name": "LayoutModel",
            "_view_count": null,
            "_view_module": "@jupyter-widgets/base",
            "_view_module_version": "1.2.0",
            "_view_name": "LayoutView",
            "align_content": null,
            "align_items": null,
            "align_self": null,
            "border": null,
            "bottom": null,
            "display": null,
            "flex": null,
            "flex_flow": null,
            "grid_area": null,
            "grid_auto_columns": null,
            "grid_auto_flow": null,
            "grid_auto_rows": null,
            "grid_column": null,
            "grid_gap": null,
            "grid_row": null,
            "grid_template_areas": null,
            "grid_template_columns": null,
            "grid_template_rows": null,
            "height": null,
            "justify_content": null,
            "justify_items": null,
            "left": null,
            "margin": null,
            "max_height": null,
            "max_width": null,
            "min_height": null,
            "min_width": null,
            "object_fit": null,
            "object_position": null,
            "order": null,
            "overflow": null,
            "overflow_x": null,
            "overflow_y": null,
            "padding": null,
            "right": null,
            "top": null,
            "visibility": null,
            "width": null
          }
        },
        "720a0f0b2d504ed9a8138d28edbf3902": {
          "model_module": "@jupyter-widgets/controls",
          "model_name": "ProgressStyleModel",
          "model_module_version": "1.5.0",
          "state": {
            "_model_module": "@jupyter-widgets/controls",
            "_model_module_version": "1.5.0",
            "_model_name": "ProgressStyleModel",
            "_view_count": null,
            "_view_module": "@jupyter-widgets/base",
            "_view_module_version": "1.2.0",
            "_view_name": "StyleView",
            "bar_color": null,
            "description_width": ""
          }
        },
        "e1bd316ac4924f4a8372cc21231af9d6": {
          "model_module": "@jupyter-widgets/base",
          "model_name": "LayoutModel",
          "model_module_version": "1.2.0",
          "state": {
            "_model_module": "@jupyter-widgets/base",
            "_model_module_version": "1.2.0",
            "_model_name": "LayoutModel",
            "_view_count": null,
            "_view_module": "@jupyter-widgets/base",
            "_view_module_version": "1.2.0",
            "_view_name": "LayoutView",
            "align_content": null,
            "align_items": null,
            "align_self": null,
            "border": null,
            "bottom": null,
            "display": null,
            "flex": null,
            "flex_flow": null,
            "grid_area": null,
            "grid_auto_columns": null,
            "grid_auto_flow": null,
            "grid_auto_rows": null,
            "grid_column": null,
            "grid_gap": null,
            "grid_row": null,
            "grid_template_areas": null,
            "grid_template_columns": null,
            "grid_template_rows": null,
            "height": null,
            "justify_content": null,
            "justify_items": null,
            "left": null,
            "margin": null,
            "max_height": null,
            "max_width": null,
            "min_height": null,
            "min_width": null,
            "object_fit": null,
            "object_position": null,
            "order": null,
            "overflow": null,
            "overflow_x": null,
            "overflow_y": null,
            "padding": null,
            "right": null,
            "top": null,
            "visibility": null,
            "width": null
          }
        },
        "1079af971e3446fdac87a3d3eca0de5d": {
          "model_module": "@jupyter-widgets/controls",
          "model_name": "DescriptionStyleModel",
          "model_module_version": "1.5.0",
          "state": {
            "_model_module": "@jupyter-widgets/controls",
            "_model_module_version": "1.5.0",
            "_model_name": "DescriptionStyleModel",
            "_view_count": null,
            "_view_module": "@jupyter-widgets/base",
            "_view_module_version": "1.2.0",
            "_view_name": "StyleView",
            "description_width": ""
          }
        },
        "80461f442d994643a1a657a63afb807b": {
          "model_module": "@jupyter-widgets/controls",
          "model_name": "HBoxModel",
          "model_module_version": "1.5.0",
          "state": {
            "_dom_classes": [],
            "_model_module": "@jupyter-widgets/controls",
            "_model_module_version": "1.5.0",
            "_model_name": "HBoxModel",
            "_view_count": null,
            "_view_module": "@jupyter-widgets/controls",
            "_view_module_version": "1.5.0",
            "_view_name": "HBoxView",
            "box_style": "",
            "children": [
              "IPY_MODEL_ea6ef2fcd5544b45a850b0e69e843c9e",
              "IPY_MODEL_e6654c59ade4419a853f270c50c113b1",
              "IPY_MODEL_f7a7ef21bb4e47f3bc1629576eda7798"
            ],
            "layout": "IPY_MODEL_32a1d3537ce940dfa086ad44e6ada041"
          }
        },
        "ea6ef2fcd5544b45a850b0e69e843c9e": {
          "model_module": "@jupyter-widgets/controls",
          "model_name": "HTMLModel",
          "model_module_version": "1.5.0",
          "state": {
            "_dom_classes": [],
            "_model_module": "@jupyter-widgets/controls",
            "_model_module_version": "1.5.0",
            "_model_name": "HTMLModel",
            "_view_count": null,
            "_view_module": "@jupyter-widgets/controls",
            "_view_module_version": "1.5.0",
            "_view_name": "HTMLView",
            "description": "",
            "description_tooltip": null,
            "layout": "IPY_MODEL_48f9ba939f504a1cb26fb49cab7d3575",
            "placeholder": "​",
            "style": "IPY_MODEL_a64a1a0cfc4645acb62a03a898dd756f",
            "value": "special_tokens_map.json: 100%"
          }
        },
        "e6654c59ade4419a853f270c50c113b1": {
          "model_module": "@jupyter-widgets/controls",
          "model_name": "FloatProgressModel",
          "model_module_version": "1.5.0",
          "state": {
            "_dom_classes": [],
            "_model_module": "@jupyter-widgets/controls",
            "_model_module_version": "1.5.0",
            "_model_name": "FloatProgressModel",
            "_view_count": null,
            "_view_module": "@jupyter-widgets/controls",
            "_view_module_version": "1.5.0",
            "_view_name": "ProgressView",
            "bar_style": "success",
            "description": "",
            "description_tooltip": null,
            "layout": "IPY_MODEL_2e3ccd77b1c24f6aa700b823680a31e6",
            "max": 239,
            "min": 0,
            "orientation": "horizontal",
            "style": "IPY_MODEL_d41512227f3044fba92b3c0133774c26",
            "value": 239
          }
        },
        "f7a7ef21bb4e47f3bc1629576eda7798": {
          "model_module": "@jupyter-widgets/controls",
          "model_name": "HTMLModel",
          "model_module_version": "1.5.0",
          "state": {
            "_dom_classes": [],
            "_model_module": "@jupyter-widgets/controls",
            "_model_module_version": "1.5.0",
            "_model_name": "HTMLModel",
            "_view_count": null,
            "_view_module": "@jupyter-widgets/controls",
            "_view_module_version": "1.5.0",
            "_view_name": "HTMLView",
            "description": "",
            "description_tooltip": null,
            "layout": "IPY_MODEL_09c37ab7c36b4f07a26fd428f689d68a",
            "placeholder": "​",
            "style": "IPY_MODEL_0666bc12c20a4d3782af14906f9058cc",
            "value": " 239/239 [00:00&lt;00:00, 11.6kB/s]"
          }
        },
        "32a1d3537ce940dfa086ad44e6ada041": {
          "model_module": "@jupyter-widgets/base",
          "model_name": "LayoutModel",
          "model_module_version": "1.2.0",
          "state": {
            "_model_module": "@jupyter-widgets/base",
            "_model_module_version": "1.2.0",
            "_model_name": "LayoutModel",
            "_view_count": null,
            "_view_module": "@jupyter-widgets/base",
            "_view_module_version": "1.2.0",
            "_view_name": "LayoutView",
            "align_content": null,
            "align_items": null,
            "align_self": null,
            "border": null,
            "bottom": null,
            "display": null,
            "flex": null,
            "flex_flow": null,
            "grid_area": null,
            "grid_auto_columns": null,
            "grid_auto_flow": null,
            "grid_auto_rows": null,
            "grid_column": null,
            "grid_gap": null,
            "grid_row": null,
            "grid_template_areas": null,
            "grid_template_columns": null,
            "grid_template_rows": null,
            "height": null,
            "justify_content": null,
            "justify_items": null,
            "left": null,
            "margin": null,
            "max_height": null,
            "max_width": null,
            "min_height": null,
            "min_width": null,
            "object_fit": null,
            "object_position": null,
            "order": null,
            "overflow": null,
            "overflow_x": null,
            "overflow_y": null,
            "padding": null,
            "right": null,
            "top": null,
            "visibility": null,
            "width": null
          }
        },
        "48f9ba939f504a1cb26fb49cab7d3575": {
          "model_module": "@jupyter-widgets/base",
          "model_name": "LayoutModel",
          "model_module_version": "1.2.0",
          "state": {
            "_model_module": "@jupyter-widgets/base",
            "_model_module_version": "1.2.0",
            "_model_name": "LayoutModel",
            "_view_count": null,
            "_view_module": "@jupyter-widgets/base",
            "_view_module_version": "1.2.0",
            "_view_name": "LayoutView",
            "align_content": null,
            "align_items": null,
            "align_self": null,
            "border": null,
            "bottom": null,
            "display": null,
            "flex": null,
            "flex_flow": null,
            "grid_area": null,
            "grid_auto_columns": null,
            "grid_auto_flow": null,
            "grid_auto_rows": null,
            "grid_column": null,
            "grid_gap": null,
            "grid_row": null,
            "grid_template_areas": null,
            "grid_template_columns": null,
            "grid_template_rows": null,
            "height": null,
            "justify_content": null,
            "justify_items": null,
            "left": null,
            "margin": null,
            "max_height": null,
            "max_width": null,
            "min_height": null,
            "min_width": null,
            "object_fit": null,
            "object_position": null,
            "order": null,
            "overflow": null,
            "overflow_x": null,
            "overflow_y": null,
            "padding": null,
            "right": null,
            "top": null,
            "visibility": null,
            "width": null
          }
        },
        "a64a1a0cfc4645acb62a03a898dd756f": {
          "model_module": "@jupyter-widgets/controls",
          "model_name": "DescriptionStyleModel",
          "model_module_version": "1.5.0",
          "state": {
            "_model_module": "@jupyter-widgets/controls",
            "_model_module_version": "1.5.0",
            "_model_name": "DescriptionStyleModel",
            "_view_count": null,
            "_view_module": "@jupyter-widgets/base",
            "_view_module_version": "1.2.0",
            "_view_name": "StyleView",
            "description_width": ""
          }
        },
        "2e3ccd77b1c24f6aa700b823680a31e6": {
          "model_module": "@jupyter-widgets/base",
          "model_name": "LayoutModel",
          "model_module_version": "1.2.0",
          "state": {
            "_model_module": "@jupyter-widgets/base",
            "_model_module_version": "1.2.0",
            "_model_name": "LayoutModel",
            "_view_count": null,
            "_view_module": "@jupyter-widgets/base",
            "_view_module_version": "1.2.0",
            "_view_name": "LayoutView",
            "align_content": null,
            "align_items": null,
            "align_self": null,
            "border": null,
            "bottom": null,
            "display": null,
            "flex": null,
            "flex_flow": null,
            "grid_area": null,
            "grid_auto_columns": null,
            "grid_auto_flow": null,
            "grid_auto_rows": null,
            "grid_column": null,
            "grid_gap": null,
            "grid_row": null,
            "grid_template_areas": null,
            "grid_template_columns": null,
            "grid_template_rows": null,
            "height": null,
            "justify_content": null,
            "justify_items": null,
            "left": null,
            "margin": null,
            "max_height": null,
            "max_width": null,
            "min_height": null,
            "min_width": null,
            "object_fit": null,
            "object_position": null,
            "order": null,
            "overflow": null,
            "overflow_x": null,
            "overflow_y": null,
            "padding": null,
            "right": null,
            "top": null,
            "visibility": null,
            "width": null
          }
        },
        "d41512227f3044fba92b3c0133774c26": {
          "model_module": "@jupyter-widgets/controls",
          "model_name": "ProgressStyleModel",
          "model_module_version": "1.5.0",
          "state": {
            "_model_module": "@jupyter-widgets/controls",
            "_model_module_version": "1.5.0",
            "_model_name": "ProgressStyleModel",
            "_view_count": null,
            "_view_module": "@jupyter-widgets/base",
            "_view_module_version": "1.2.0",
            "_view_name": "StyleView",
            "bar_color": null,
            "description_width": ""
          }
        },
        "09c37ab7c36b4f07a26fd428f689d68a": {
          "model_module": "@jupyter-widgets/base",
          "model_name": "LayoutModel",
          "model_module_version": "1.2.0",
          "state": {
            "_model_module": "@jupyter-widgets/base",
            "_model_module_version": "1.2.0",
            "_model_name": "LayoutModel",
            "_view_count": null,
            "_view_module": "@jupyter-widgets/base",
            "_view_module_version": "1.2.0",
            "_view_name": "LayoutView",
            "align_content": null,
            "align_items": null,
            "align_self": null,
            "border": null,
            "bottom": null,
            "display": null,
            "flex": null,
            "flex_flow": null,
            "grid_area": null,
            "grid_auto_columns": null,
            "grid_auto_flow": null,
            "grid_auto_rows": null,
            "grid_column": null,
            "grid_gap": null,
            "grid_row": null,
            "grid_template_areas": null,
            "grid_template_columns": null,
            "grid_template_rows": null,
            "height": null,
            "justify_content": null,
            "justify_items": null,
            "left": null,
            "margin": null,
            "max_height": null,
            "max_width": null,
            "min_height": null,
            "min_width": null,
            "object_fit": null,
            "object_position": null,
            "order": null,
            "overflow": null,
            "overflow_x": null,
            "overflow_y": null,
            "padding": null,
            "right": null,
            "top": null,
            "visibility": null,
            "width": null
          }
        },
        "0666bc12c20a4d3782af14906f9058cc": {
          "model_module": "@jupyter-widgets/controls",
          "model_name": "DescriptionStyleModel",
          "model_module_version": "1.5.0",
          "state": {
            "_model_module": "@jupyter-widgets/controls",
            "_model_module_version": "1.5.0",
            "_model_name": "DescriptionStyleModel",
            "_view_count": null,
            "_view_module": "@jupyter-widgets/base",
            "_view_module_version": "1.2.0",
            "_view_name": "StyleView",
            "description_width": ""
          }
        },
        "f51a921dbef842c694c4fcdf7eee5a95": {
          "model_module": "@jupyter-widgets/controls",
          "model_name": "HBoxModel",
          "model_module_version": "1.5.0",
          "state": {
            "_dom_classes": [],
            "_model_module": "@jupyter-widgets/controls",
            "_model_module_version": "1.5.0",
            "_model_name": "HBoxModel",
            "_view_count": null,
            "_view_module": "@jupyter-widgets/controls",
            "_view_module_version": "1.5.0",
            "_view_name": "HBoxView",
            "box_style": "",
            "children": [
              "IPY_MODEL_8be70691abe145f6b1218ec703ba6e08",
              "IPY_MODEL_32d32f79661243a0ba2144d4eac9a6a0",
              "IPY_MODEL_c11b8574105c4d8695c80cc2c2dcd94f"
            ],
            "layout": "IPY_MODEL_b2848927e64f4897a0ef1df626be4b7b"
          }
        },
        "8be70691abe145f6b1218ec703ba6e08": {
          "model_module": "@jupyter-widgets/controls",
          "model_name": "HTMLModel",
          "model_module_version": "1.5.0",
          "state": {
            "_dom_classes": [],
            "_model_module": "@jupyter-widgets/controls",
            "_model_module_version": "1.5.0",
            "_model_name": "HTMLModel",
            "_view_count": null,
            "_view_module": "@jupyter-widgets/controls",
            "_view_module_version": "1.5.0",
            "_view_name": "HTMLView",
            "description": "",
            "description_tooltip": null,
            "layout": "IPY_MODEL_016ceb961a52474598ce524efd4226d1",
            "placeholder": "​",
            "style": "IPY_MODEL_0013ada2d91d4e86b7b6d3c4f314fdfb",
            "value": "1_Pooling/config.json: 100%"
          }
        },
        "32d32f79661243a0ba2144d4eac9a6a0": {
          "model_module": "@jupyter-widgets/controls",
          "model_name": "FloatProgressModel",
          "model_module_version": "1.5.0",
          "state": {
            "_dom_classes": [],
            "_model_module": "@jupyter-widgets/controls",
            "_model_module_version": "1.5.0",
            "_model_name": "FloatProgressModel",
            "_view_count": null,
            "_view_module": "@jupyter-widgets/controls",
            "_view_module_version": "1.5.0",
            "_view_name": "ProgressView",
            "bar_style": "success",
            "description": "",
            "description_tooltip": null,
            "layout": "IPY_MODEL_00304402651e4466bb9646845a14392b",
            "max": 190,
            "min": 0,
            "orientation": "horizontal",
            "style": "IPY_MODEL_01c3341d2d6a4a3380d459a493cf4791",
            "value": 190
          }
        },
        "c11b8574105c4d8695c80cc2c2dcd94f": {
          "model_module": "@jupyter-widgets/controls",
          "model_name": "HTMLModel",
          "model_module_version": "1.5.0",
          "state": {
            "_dom_classes": [],
            "_model_module": "@jupyter-widgets/controls",
            "_model_module_version": "1.5.0",
            "_model_name": "HTMLModel",
            "_view_count": null,
            "_view_module": "@jupyter-widgets/controls",
            "_view_module_version": "1.5.0",
            "_view_name": "HTMLView",
            "description": "",
            "description_tooltip": null,
            "layout": "IPY_MODEL_a07ada3e7fa2414fb1dedc0a4d50015b",
            "placeholder": "​",
            "style": "IPY_MODEL_34af00fca2954f9dafbf8c150e3b7446",
            "value": " 190/190 [00:00&lt;00:00, 8.32kB/s]"
          }
        },
        "b2848927e64f4897a0ef1df626be4b7b": {
          "model_module": "@jupyter-widgets/base",
          "model_name": "LayoutModel",
          "model_module_version": "1.2.0",
          "state": {
            "_model_module": "@jupyter-widgets/base",
            "_model_module_version": "1.2.0",
            "_model_name": "LayoutModel",
            "_view_count": null,
            "_view_module": "@jupyter-widgets/base",
            "_view_module_version": "1.2.0",
            "_view_name": "LayoutView",
            "align_content": null,
            "align_items": null,
            "align_self": null,
            "border": null,
            "bottom": null,
            "display": null,
            "flex": null,
            "flex_flow": null,
            "grid_area": null,
            "grid_auto_columns": null,
            "grid_auto_flow": null,
            "grid_auto_rows": null,
            "grid_column": null,
            "grid_gap": null,
            "grid_row": null,
            "grid_template_areas": null,
            "grid_template_columns": null,
            "grid_template_rows": null,
            "height": null,
            "justify_content": null,
            "justify_items": null,
            "left": null,
            "margin": null,
            "max_height": null,
            "max_width": null,
            "min_height": null,
            "min_width": null,
            "object_fit": null,
            "object_position": null,
            "order": null,
            "overflow": null,
            "overflow_x": null,
            "overflow_y": null,
            "padding": null,
            "right": null,
            "top": null,
            "visibility": null,
            "width": null
          }
        },
        "016ceb961a52474598ce524efd4226d1": {
          "model_module": "@jupyter-widgets/base",
          "model_name": "LayoutModel",
          "model_module_version": "1.2.0",
          "state": {
            "_model_module": "@jupyter-widgets/base",
            "_model_module_version": "1.2.0",
            "_model_name": "LayoutModel",
            "_view_count": null,
            "_view_module": "@jupyter-widgets/base",
            "_view_module_version": "1.2.0",
            "_view_name": "LayoutView",
            "align_content": null,
            "align_items": null,
            "align_self": null,
            "border": null,
            "bottom": null,
            "display": null,
            "flex": null,
            "flex_flow": null,
            "grid_area": null,
            "grid_auto_columns": null,
            "grid_auto_flow": null,
            "grid_auto_rows": null,
            "grid_column": null,
            "grid_gap": null,
            "grid_row": null,
            "grid_template_areas": null,
            "grid_template_columns": null,
            "grid_template_rows": null,
            "height": null,
            "justify_content": null,
            "justify_items": null,
            "left": null,
            "margin": null,
            "max_height": null,
            "max_width": null,
            "min_height": null,
            "min_width": null,
            "object_fit": null,
            "object_position": null,
            "order": null,
            "overflow": null,
            "overflow_x": null,
            "overflow_y": null,
            "padding": null,
            "right": null,
            "top": null,
            "visibility": null,
            "width": null
          }
        },
        "0013ada2d91d4e86b7b6d3c4f314fdfb": {
          "model_module": "@jupyter-widgets/controls",
          "model_name": "DescriptionStyleModel",
          "model_module_version": "1.5.0",
          "state": {
            "_model_module": "@jupyter-widgets/controls",
            "_model_module_version": "1.5.0",
            "_model_name": "DescriptionStyleModel",
            "_view_count": null,
            "_view_module": "@jupyter-widgets/base",
            "_view_module_version": "1.2.0",
            "_view_name": "StyleView",
            "description_width": ""
          }
        },
        "00304402651e4466bb9646845a14392b": {
          "model_module": "@jupyter-widgets/base",
          "model_name": "LayoutModel",
          "model_module_version": "1.2.0",
          "state": {
            "_model_module": "@jupyter-widgets/base",
            "_model_module_version": "1.2.0",
            "_model_name": "LayoutModel",
            "_view_count": null,
            "_view_module": "@jupyter-widgets/base",
            "_view_module_version": "1.2.0",
            "_view_name": "LayoutView",
            "align_content": null,
            "align_items": null,
            "align_self": null,
            "border": null,
            "bottom": null,
            "display": null,
            "flex": null,
            "flex_flow": null,
            "grid_area": null,
            "grid_auto_columns": null,
            "grid_auto_flow": null,
            "grid_auto_rows": null,
            "grid_column": null,
            "grid_gap": null,
            "grid_row": null,
            "grid_template_areas": null,
            "grid_template_columns": null,
            "grid_template_rows": null,
            "height": null,
            "justify_content": null,
            "justify_items": null,
            "left": null,
            "margin": null,
            "max_height": null,
            "max_width": null,
            "min_height": null,
            "min_width": null,
            "object_fit": null,
            "object_position": null,
            "order": null,
            "overflow": null,
            "overflow_x": null,
            "overflow_y": null,
            "padding": null,
            "right": null,
            "top": null,
            "visibility": null,
            "width": null
          }
        },
        "01c3341d2d6a4a3380d459a493cf4791": {
          "model_module": "@jupyter-widgets/controls",
          "model_name": "ProgressStyleModel",
          "model_module_version": "1.5.0",
          "state": {
            "_model_module": "@jupyter-widgets/controls",
            "_model_module_version": "1.5.0",
            "_model_name": "ProgressStyleModel",
            "_view_count": null,
            "_view_module": "@jupyter-widgets/base",
            "_view_module_version": "1.2.0",
            "_view_name": "StyleView",
            "bar_color": null,
            "description_width": ""
          }
        },
        "a07ada3e7fa2414fb1dedc0a4d50015b": {
          "model_module": "@jupyter-widgets/base",
          "model_name": "LayoutModel",
          "model_module_version": "1.2.0",
          "state": {
            "_model_module": "@jupyter-widgets/base",
            "_model_module_version": "1.2.0",
            "_model_name": "LayoutModel",
            "_view_count": null,
            "_view_module": "@jupyter-widgets/base",
            "_view_module_version": "1.2.0",
            "_view_name": "LayoutView",
            "align_content": null,
            "align_items": null,
            "align_self": null,
            "border": null,
            "bottom": null,
            "display": null,
            "flex": null,
            "flex_flow": null,
            "grid_area": null,
            "grid_auto_columns": null,
            "grid_auto_flow": null,
            "grid_auto_rows": null,
            "grid_column": null,
            "grid_gap": null,
            "grid_row": null,
            "grid_template_areas": null,
            "grid_template_columns": null,
            "grid_template_rows": null,
            "height": null,
            "justify_content": null,
            "justify_items": null,
            "left": null,
            "margin": null,
            "max_height": null,
            "max_width": null,
            "min_height": null,
            "min_width": null,
            "object_fit": null,
            "object_position": null,
            "order": null,
            "overflow": null,
            "overflow_x": null,
            "overflow_y": null,
            "padding": null,
            "right": null,
            "top": null,
            "visibility": null,
            "width": null
          }
        },
        "34af00fca2954f9dafbf8c150e3b7446": {
          "model_module": "@jupyter-widgets/controls",
          "model_name": "DescriptionStyleModel",
          "model_module_version": "1.5.0",
          "state": {
            "_model_module": "@jupyter-widgets/controls",
            "_model_module_version": "1.5.0",
            "_model_name": "DescriptionStyleModel",
            "_view_count": null,
            "_view_module": "@jupyter-widgets/base",
            "_view_module_version": "1.2.0",
            "_view_name": "StyleView",
            "description_width": ""
          }
        },
        "6f8cb70727734687953cef4e181a109f": {
          "model_module": "@jupyter-widgets/controls",
          "model_name": "HBoxModel",
          "model_module_version": "1.5.0",
          "state": {
            "_dom_classes": [],
            "_model_module": "@jupyter-widgets/controls",
            "_model_module_version": "1.5.0",
            "_model_name": "HBoxModel",
            "_view_count": null,
            "_view_module": "@jupyter-widgets/controls",
            "_view_module_version": "1.5.0",
            "_view_name": "HBoxView",
            "box_style": "",
            "children": [
              "IPY_MODEL_f57111f01208487ca4baab2985a92b72",
              "IPY_MODEL_a8458abce56744e9983a6c0035a46bb3",
              "IPY_MODEL_84f61752b4be4748a7450765a3f11a6c"
            ],
            "layout": "IPY_MODEL_52fb6a63da6045c698b0656da5f9e92c"
          }
        },
        "f57111f01208487ca4baab2985a92b72": {
          "model_module": "@jupyter-widgets/controls",
          "model_name": "HTMLModel",
          "model_module_version": "1.5.0",
          "state": {
            "_dom_classes": [],
            "_model_module": "@jupyter-widgets/controls",
            "_model_module_version": "1.5.0",
            "_model_name": "HTMLModel",
            "_view_count": null,
            "_view_module": "@jupyter-widgets/controls",
            "_view_module_version": "1.5.0",
            "_view_name": "HTMLView",
            "description": "",
            "description_tooltip": null,
            "layout": "IPY_MODEL_0d42e1fdea9d472a86565da14470c94a",
            "placeholder": "​",
            "style": "IPY_MODEL_1f842d7eded24ff89b5d9aa21c965024",
            "value": "Batches: 100%"
          }
        },
        "a8458abce56744e9983a6c0035a46bb3": {
          "model_module": "@jupyter-widgets/controls",
          "model_name": "FloatProgressModel",
          "model_module_version": "1.5.0",
          "state": {
            "_dom_classes": [],
            "_model_module": "@jupyter-widgets/controls",
            "_model_module_version": "1.5.0",
            "_model_name": "FloatProgressModel",
            "_view_count": null,
            "_view_module": "@jupyter-widgets/controls",
            "_view_module_version": "1.5.0",
            "_view_name": "ProgressView",
            "bar_style": "success",
            "description": "",
            "description_tooltip": null,
            "layout": "IPY_MODEL_613d443ed5204bbc8e830d330a4db4c2",
            "max": 73,
            "min": 0,
            "orientation": "horizontal",
            "style": "IPY_MODEL_ff894b8cb1b2496e9aef6ea7e28f5886",
            "value": 73
          }
        },
        "84f61752b4be4748a7450765a3f11a6c": {
          "model_module": "@jupyter-widgets/controls",
          "model_name": "HTMLModel",
          "model_module_version": "1.5.0",
          "state": {
            "_dom_classes": [],
            "_model_module": "@jupyter-widgets/controls",
            "_model_module_version": "1.5.0",
            "_model_name": "HTMLModel",
            "_view_count": null,
            "_view_module": "@jupyter-widgets/controls",
            "_view_module_version": "1.5.0",
            "_view_name": "HTMLView",
            "description": "",
            "description_tooltip": null,
            "layout": "IPY_MODEL_6d96a1cdd07d46ac8b5fa4a99f3143e0",
            "placeholder": "​",
            "style": "IPY_MODEL_5012a3a6e325447b85b817cb941d342e",
            "value": " 73/73 [02:25&lt;00:00,  2.18it/s]"
          }
        },
        "52fb6a63da6045c698b0656da5f9e92c": {
          "model_module": "@jupyter-widgets/base",
          "model_name": "LayoutModel",
          "model_module_version": "1.2.0",
          "state": {
            "_model_module": "@jupyter-widgets/base",
            "_model_module_version": "1.2.0",
            "_model_name": "LayoutModel",
            "_view_count": null,
            "_view_module": "@jupyter-widgets/base",
            "_view_module_version": "1.2.0",
            "_view_name": "LayoutView",
            "align_content": null,
            "align_items": null,
            "align_self": null,
            "border": null,
            "bottom": null,
            "display": null,
            "flex": null,
            "flex_flow": null,
            "grid_area": null,
            "grid_auto_columns": null,
            "grid_auto_flow": null,
            "grid_auto_rows": null,
            "grid_column": null,
            "grid_gap": null,
            "grid_row": null,
            "grid_template_areas": null,
            "grid_template_columns": null,
            "grid_template_rows": null,
            "height": null,
            "justify_content": null,
            "justify_items": null,
            "left": null,
            "margin": null,
            "max_height": null,
            "max_width": null,
            "min_height": null,
            "min_width": null,
            "object_fit": null,
            "object_position": null,
            "order": null,
            "overflow": null,
            "overflow_x": null,
            "overflow_y": null,
            "padding": null,
            "right": null,
            "top": null,
            "visibility": null,
            "width": null
          }
        },
        "0d42e1fdea9d472a86565da14470c94a": {
          "model_module": "@jupyter-widgets/base",
          "model_name": "LayoutModel",
          "model_module_version": "1.2.0",
          "state": {
            "_model_module": "@jupyter-widgets/base",
            "_model_module_version": "1.2.0",
            "_model_name": "LayoutModel",
            "_view_count": null,
            "_view_module": "@jupyter-widgets/base",
            "_view_module_version": "1.2.0",
            "_view_name": "LayoutView",
            "align_content": null,
            "align_items": null,
            "align_self": null,
            "border": null,
            "bottom": null,
            "display": null,
            "flex": null,
            "flex_flow": null,
            "grid_area": null,
            "grid_auto_columns": null,
            "grid_auto_flow": null,
            "grid_auto_rows": null,
            "grid_column": null,
            "grid_gap": null,
            "grid_row": null,
            "grid_template_areas": null,
            "grid_template_columns": null,
            "grid_template_rows": null,
            "height": null,
            "justify_content": null,
            "justify_items": null,
            "left": null,
            "margin": null,
            "max_height": null,
            "max_width": null,
            "min_height": null,
            "min_width": null,
            "object_fit": null,
            "object_position": null,
            "order": null,
            "overflow": null,
            "overflow_x": null,
            "overflow_y": null,
            "padding": null,
            "right": null,
            "top": null,
            "visibility": null,
            "width": null
          }
        },
        "1f842d7eded24ff89b5d9aa21c965024": {
          "model_module": "@jupyter-widgets/controls",
          "model_name": "DescriptionStyleModel",
          "model_module_version": "1.5.0",
          "state": {
            "_model_module": "@jupyter-widgets/controls",
            "_model_module_version": "1.5.0",
            "_model_name": "DescriptionStyleModel",
            "_view_count": null,
            "_view_module": "@jupyter-widgets/base",
            "_view_module_version": "1.2.0",
            "_view_name": "StyleView",
            "description_width": ""
          }
        },
        "613d443ed5204bbc8e830d330a4db4c2": {
          "model_module": "@jupyter-widgets/base",
          "model_name": "LayoutModel",
          "model_module_version": "1.2.0",
          "state": {
            "_model_module": "@jupyter-widgets/base",
            "_model_module_version": "1.2.0",
            "_model_name": "LayoutModel",
            "_view_count": null,
            "_view_module": "@jupyter-widgets/base",
            "_view_module_version": "1.2.0",
            "_view_name": "LayoutView",
            "align_content": null,
            "align_items": null,
            "align_self": null,
            "border": null,
            "bottom": null,
            "display": null,
            "flex": null,
            "flex_flow": null,
            "grid_area": null,
            "grid_auto_columns": null,
            "grid_auto_flow": null,
            "grid_auto_rows": null,
            "grid_column": null,
            "grid_gap": null,
            "grid_row": null,
            "grid_template_areas": null,
            "grid_template_columns": null,
            "grid_template_rows": null,
            "height": null,
            "justify_content": null,
            "justify_items": null,
            "left": null,
            "margin": null,
            "max_height": null,
            "max_width": null,
            "min_height": null,
            "min_width": null,
            "object_fit": null,
            "object_position": null,
            "order": null,
            "overflow": null,
            "overflow_x": null,
            "overflow_y": null,
            "padding": null,
            "right": null,
            "top": null,
            "visibility": null,
            "width": null
          }
        },
        "ff894b8cb1b2496e9aef6ea7e28f5886": {
          "model_module": "@jupyter-widgets/controls",
          "model_name": "ProgressStyleModel",
          "model_module_version": "1.5.0",
          "state": {
            "_model_module": "@jupyter-widgets/controls",
            "_model_module_version": "1.5.0",
            "_model_name": "ProgressStyleModel",
            "_view_count": null,
            "_view_module": "@jupyter-widgets/base",
            "_view_module_version": "1.2.0",
            "_view_name": "StyleView",
            "bar_color": null,
            "description_width": ""
          }
        },
        "6d96a1cdd07d46ac8b5fa4a99f3143e0": {
          "model_module": "@jupyter-widgets/base",
          "model_name": "LayoutModel",
          "model_module_version": "1.2.0",
          "state": {
            "_model_module": "@jupyter-widgets/base",
            "_model_module_version": "1.2.0",
            "_model_name": "LayoutModel",
            "_view_count": null,
            "_view_module": "@jupyter-widgets/base",
            "_view_module_version": "1.2.0",
            "_view_name": "LayoutView",
            "align_content": null,
            "align_items": null,
            "align_self": null,
            "border": null,
            "bottom": null,
            "display": null,
            "flex": null,
            "flex_flow": null,
            "grid_area": null,
            "grid_auto_columns": null,
            "grid_auto_flow": null,
            "grid_auto_rows": null,
            "grid_column": null,
            "grid_gap": null,
            "grid_row": null,
            "grid_template_areas": null,
            "grid_template_columns": null,
            "grid_template_rows": null,
            "height": null,
            "justify_content": null,
            "justify_items": null,
            "left": null,
            "margin": null,
            "max_height": null,
            "max_width": null,
            "min_height": null,
            "min_width": null,
            "object_fit": null,
            "object_position": null,
            "order": null,
            "overflow": null,
            "overflow_x": null,
            "overflow_y": null,
            "padding": null,
            "right": null,
            "top": null,
            "visibility": null,
            "width": null
          }
        },
        "5012a3a6e325447b85b817cb941d342e": {
          "model_module": "@jupyter-widgets/controls",
          "model_name": "DescriptionStyleModel",
          "model_module_version": "1.5.0",
          "state": {
            "_model_module": "@jupyter-widgets/controls",
            "_model_module_version": "1.5.0",
            "_model_name": "DescriptionStyleModel",
            "_view_count": null,
            "_view_module": "@jupyter-widgets/base",
            "_view_module_version": "1.2.0",
            "_view_name": "StyleView",
            "description_width": ""
          }
        }
      }
    }
  },
  "cells": [
    {
      "cell_type": "markdown",
      "source": [
        "# Task 3. Clustering\n",
        "\n",
        "**Изучите на скрытые темы “Преступление и наказание”**\n",
        "\n",
        "1. Реализуйте тематическое моделирование через кластеризацию и BERTopic\n",
        "2. Сравните эффективность использования евклидова расстояния и 2 других типов расстояния в кластеризации\n",
        "3. Визуализируйте кластера по выделенным топикам\n",
        "4. Выложите на github"
      ],
      "metadata": {
        "id": "aaYiHjJLnDQU"
      }
    },
    {
      "cell_type": "markdown",
      "source": [
        "## Imports"
      ],
      "metadata": {
        "id": "uOmjgerRnXX_"
      }
    },
    {
      "cell_type": "code",
      "source": [
        "!pip install pymorphy2"
      ],
      "metadata": {
        "id": "IIo81AAWp7nU"
      },
      "execution_count": null,
      "outputs": []
    },
    {
      "cell_type": "code",
      "source": [
        "!pip install bertopic\n",
        "!pip install sentence_transformers"
      ],
      "metadata": {
        "id": "eCplQCHJsiCK"
      },
      "execution_count": null,
      "outputs": []
    },
    {
      "cell_type": "code",
      "source": [
        "import pandas as pd\n",
        "import numpy as np\n",
        "import re\n",
        "import nltk\n",
        "from nltk import word_tokenize, sent_tokenize, download\n",
        "from nltk.corpus import stopwords\n",
        "from tqdm import tqdm\n",
        "import pymorphy2\n",
        "from wordcloud import WordCloud\n",
        "import matplotlib.pyplot as plt\n",
        "import seaborn as sns\n",
        "\n",
        "download('punkt')\n",
        "download('stopwords')\n",
        "stop_words = stopwords.words('russian') + ['это', 'сам', 'ты', 'ваш', 'мой', 'этот', 'всё', 'весь', 'очень', 'который', 'самый', 'ещё', 'свой']\n",
        "\n",
        "from pymorphy2 import MorphAnalyzer\n",
        "morph = pymorphy2.MorphAnalyzer()\n",
        "from collections import Counter\n",
        "from sklearn.feature_extraction.text import TfidfVectorizer\n",
        "from bertopic import BERTopic\n",
        "from sklearn.feature_extraction.text import CountVectorizer\n"
      ],
      "metadata": {
        "colab": {
          "base_uri": "https://localhost:8080/"
        },
        "id": "upaUftSdnSxu",
        "outputId": "97650704-2c08-4277-96ec-90bd328569b2"
      },
      "execution_count": 4,
      "outputs": [
        {
          "output_type": "stream",
          "name": "stderr",
          "text": [
            "[nltk_data] Downloading package punkt to /root/nltk_data...\n",
            "[nltk_data]   Package punkt is already up-to-date!\n",
            "[nltk_data] Downloading package stopwords to /root/nltk_data...\n",
            "[nltk_data]   Package stopwords is already up-to-date!\n"
          ]
        }
      ]
    },
    {
      "cell_type": "markdown",
      "source": [
        "## Breaking the book text into parts"
      ],
      "metadata": {
        "id": "2tmMGN5ao-t7"
      }
    },
    {
      "cell_type": "code",
      "source": [
        "with open('Crime And Punishment.txt', encoding='utf-8') as file:\n",
        "    text = file.readlines()\n",
        "\n",
        "# text = [line.strip() for line in text]\n",
        "# text = ' '.join(text)"
      ],
      "metadata": {
        "id": "VtuWg5HSnbb3"
      },
      "execution_count": 4,
      "outputs": []
    },
    {
      "cell_type": "code",
      "source": [
        "text[:25]"
      ],
      "metadata": {
        "colab": {
          "base_uri": "https://localhost:8080/"
        },
        "id": "YAuNT1xeogyy",
        "outputId": "78c709d9-4f1d-4239-e3f0-23032f405eaf",
        "collapsed": true
      },
      "execution_count": 5,
      "outputs": [
        {
          "output_type": "execute_result",
          "data": {
            "text/plain": [
              "['Annotation\\n',\n",
              " '\\n',\n",
              " '\\n',\n",
              " '«Преступление и наказание» – гениальный роман, главные темы которого: преступление и наказание, жертвенность и любовь, свобода и гордость человека – обрамлены почти детективным сюжетом.\\n',\n",
              " '\\n',\n",
              " 'Многократно экранизированный и не раз поставленный на сцене, он и по сей день читается на одном дыхании.\\n',\n",
              " '\\n',\n",
              " '\\n',\n",
              " '\\n',\n",
              " '\\n',\n",
              " '\\n',\n",
              " '* * *\\n',\n",
              " '\\n',\n",
              " '\\n',\n",
              " '\\n',\n",
              " 'Часть первая\\n',\n",
              " 'I\\n',\n",
              " '\\n',\n",
              " 'II\\n',\n",
              " '\\n',\n",
              " 'III\\n',\n",
              " '\\n',\n",
              " 'IV\\n',\n",
              " '\\n',\n",
              " 'V\\n']"
            ]
          },
          "metadata": {},
          "execution_count": 5
        }
      ]
    },
    {
      "cell_type": "markdown",
      "source": [
        "Для начала я решаю разделить текст на части - всего их в книге 6"
      ],
      "metadata": {
        "id": "H6GQ95F-psOh"
      }
    },
    {
      "cell_type": "code",
      "source": [
        "parts = parts = ' '.join([line.strip() for line in text])\n",
        "parts = re.split(r'Часть\\s+\\w+', parts)"
      ],
      "metadata": {
        "id": "VIVTTzLMxft0"
      },
      "execution_count": 6,
      "outputs": []
    },
    {
      "cell_type": "code",
      "source": [
        "for part in parts:\n",
        "    print(len(part))"
      ],
      "metadata": {
        "colab": {
          "base_uri": "https://localhost:8080/"
        },
        "id": "Z3Kvn1llxs5q",
        "outputId": "d49612d4-974a-4d45-fbfd-ca83f24c577f"
      },
      "execution_count": 7,
      "outputs": [
        {
          "output_type": "stream",
          "name": "stdout",
          "text": [
            "319\n",
            "33\n",
            "33\n",
            "28\n",
            "28\n",
            "25\n",
            "445\n",
            "173560\n",
            "202796\n",
            "162369\n",
            "155077\n",
            "155889\n",
            "225388\n"
          ]
        }
      ]
    },
    {
      "cell_type": "code",
      "source": [
        "parts = parts[7:]\n",
        "# отсеиваю первые элементы списка, поскольку они состоят из оглавления и аннтоации и нерелевантны"
      ],
      "metadata": {
        "collapsed": true,
        "id": "SM89Can0xl9Y"
      },
      "execution_count": 8,
      "outputs": []
    },
    {
      "cell_type": "markdown",
      "source": [
        "Далее каждую часть разделяю на отдельные главы"
      ],
      "metadata": {
        "id": "uWxD22LYpyjS"
      }
    },
    {
      "cell_type": "code",
      "source": [
        "chapters = []\n",
        "\n",
        "for part in parts:\n",
        "    part_chapters = re.split(r'\\b[IV]+\\b', part)\n",
        "    chapters.extend([chapter.strip() for chapter in part_chapters if chapter.strip()])"
      ],
      "metadata": {
        "id": "oicAAXMFExs1"
      },
      "execution_count": 9,
      "outputs": []
    },
    {
      "cell_type": "code",
      "source": [
        "len(chapters)"
      ],
      "metadata": {
        "colab": {
          "base_uri": "https://localhost:8080/"
        },
        "id": "dOEr-q4fAjvW",
        "outputId": "d87e3292-8d78-4587-9406-46349b2d448b"
      },
      "execution_count": 10,
      "outputs": [
        {
          "output_type": "execute_result",
          "data": {
            "text/plain": [
              "41"
            ]
          },
          "metadata": {},
          "execution_count": 10
        }
      ]
    },
    {
      "cell_type": "code",
      "source": [
        "for i in chapters:\n",
        "    print(len(i))"
      ],
      "metadata": {
        "colab": {
          "base_uri": "https://localhost:8080/"
        },
        "collapsed": true,
        "id": "SF5AT5a6AyO8",
        "outputId": "181c2294-0b3e-4e84-fc7d-47dcbfaf5d55"
      },
      "execution_count": 11,
      "outputs": [
        {
          "output_type": "stream",
          "name": "stdout",
          "text": [
            "16487\n",
            "35024\n",
            "27284\n",
            "25241\n",
            "20847\n",
            "25478\n",
            "23103\n",
            "34455\n",
            "21781\n",
            "27265\n",
            "21178\n",
            "22703\n",
            "38831\n",
            "36487\n",
            "26917\n",
            "24001\n",
            "26941\n",
            "22792\n",
            "39402\n",
            "22234\n",
            "26047\n",
            "24747\n",
            "16057\n",
            "31773\n",
            "41372\n",
            "14999\n",
            "36517\n",
            "29014\n",
            "30392\n",
            "33087\n",
            "26810\n",
            "19960\n",
            "28931\n",
            "20013\n",
            "23940\n",
            "29030\n",
            "29090\n",
            "18170\n",
            "20500\n",
            "18168\n",
            "17457\n"
          ]
        }
      ]
    },
    {
      "cell_type": "markdown",
      "source": [
        "Поскольку главы получатся довольно объемными, я решаю еще сильнее фрагментировать текст и делю его на абзацы"
      ],
      "metadata": {
        "id": "YRMcqAU-qEu1"
      }
    },
    {
      "cell_type": "code",
      "source": [
        "with open('Crime And Punishment.txt', encoding='utf-8') as file:\n",
        "    text2 = file.read()\n",
        "\n",
        "paragraphs = text2.split('\\n\\n')\n",
        "paragraphs = [p.strip() for p in paragraphs if p.strip()]\n",
        "len(paragraphs)"
      ],
      "metadata": {
        "colab": {
          "base_uri": "https://localhost:8080/"
        },
        "id": "9X8E_TjsEElK",
        "outputId": "4b1584a6-d3c8-422c-9cd3-6a9da8a409d8"
      },
      "execution_count": 5,
      "outputs": [
        {
          "output_type": "execute_result",
          "data": {
            "text/plain": [
              "3969"
            ]
          },
          "metadata": {},
          "execution_count": 5
        }
      ]
    },
    {
      "cell_type": "code",
      "source": [
        "print(sum(1 for i in paragraphs if len(i) <= 25))"
      ],
      "metadata": {
        "colab": {
          "base_uri": "https://localhost:8080/"
        },
        "collapsed": true,
        "id": "F8mcL0ReEbLT",
        "outputId": "64d9c9bf-8e60-4ec8-e00f-790a7a32f125"
      },
      "execution_count": 13,
      "outputs": [
        {
          "output_type": "stream",
          "name": "stdout",
          "text": [
            "555\n"
          ]
        }
      ]
    },
    {
      "cell_type": "markdown",
      "source": [
        "## Предобработка"
      ],
      "metadata": {
        "id": "CIHm9wcMEEFz"
      }
    },
    {
      "cell_type": "code",
      "source": [
        "## главы\n",
        "\n",
        "def clean_text(text):\n",
        "    text = re.sub(r'[^а-яё]', ' ', text, flags=re.IGNORECASE).lower()\n",
        "    text = word_tokenize(text)\n",
        "\n",
        "    lemmatized_text = list()\n",
        "\n",
        "    for word in text:\n",
        "        result = morph.parse(word)\n",
        "        most_probable_res = result[0]\n",
        "        lemmatized_text.append(most_probable_res.normal_form)\n",
        "\n",
        "    text = [word for word in lemmatized_text if word not in stop_words and len(word) > 2]\n",
        "\n",
        "    return ' '.join(text)"
      ],
      "metadata": {
        "id": "NCiunRl9so3Y"
      },
      "execution_count": 6,
      "outputs": []
    },
    {
      "cell_type": "code",
      "source": [
        "cleaned_chapters = [clean_text(chapter) for chapter in tqdm(chapters)]"
      ],
      "metadata": {
        "colab": {
          "base_uri": "https://localhost:8080/"
        },
        "collapsed": true,
        "id": "qk78sGAy_5LF",
        "outputId": "1be9f7b8-e09b-4d44-de17-b873ef04e806"
      },
      "execution_count": 15,
      "outputs": [
        {
          "output_type": "stream",
          "name": "stderr",
          "text": [
            "100%|██████████| 41/41 [02:10<00:00,  3.19s/it]\n"
          ]
        }
      ]
    },
    {
      "cell_type": "code",
      "source": [
        "## параграфы\n",
        "\n",
        "cleaned_paragraphs = [clean_text(paragraph) for paragraph in tqdm(paragraphs) if paragraph.strip()]"
      ],
      "metadata": {
        "colab": {
          "base_uri": "https://localhost:8080/"
        },
        "id": "NVoJkJ2vG9oZ",
        "outputId": "0783a4f1-a9f6-4f22-a5ab-c3898bf49701"
      },
      "execution_count": 7,
      "outputs": [
        {
          "output_type": "stream",
          "name": "stderr",
          "text": [
            "100%|██████████| 3969/3969 [01:24<00:00, 47.18it/s]\n"
          ]
        }
      ]
    },
    {
      "cell_type": "code",
      "source": [
        "words = ' '.join(cleaned_paragraphs)\n",
        "words = words.split()\n",
        "\n",
        "word_counts = Counter(words)\n",
        "most_common_words = word_counts.most_common(30)\n",
        "print(*most_common_words, sep='\\n')"
      ],
      "metadata": {
        "colab": {
          "base_uri": "https://localhost:8080/"
        },
        "id": "PxrrIBDjseVZ",
        "outputId": "f756c04a-0685-47ed-844a-5333e0d66b4f",
        "collapsed": true
      },
      "execution_count": 17,
      "outputs": [
        {
          "output_type": "stream",
          "name": "stdout",
          "text": [
            "('мочь', 796)\n",
            "('знать', 630)\n",
            "('раскольник', 567)\n",
            "('сказать', 544)\n",
            "('говорить', 535)\n",
            "('человек', 501)\n",
            "('стать', 438)\n",
            "('соня', 379)\n",
            "('рука', 369)\n",
            "('петрович', 369)\n",
            "('нибыть', 364)\n",
            "('дело', 363)\n",
            "('разумихин', 353)\n",
            "('хотеть', 338)\n",
            "('иванович', 338)\n",
            "('минута', 278)\n",
            "('видеть', 276)\n",
            "('смотреть', 264)\n",
            "('время', 261)\n",
            "('пойти', 261)\n",
            "('слово', 237)\n",
            "('думать', 233)\n",
            "('лицо', 231)\n",
            "('глаз', 230)\n",
            "('дверь', 224)\n",
            "('казаться', 224)\n",
            "('катерина', 223)\n",
            "('комната', 211)\n",
            "('голова', 211)\n",
            "('прийти', 208)\n"
          ]
        }
      ]
    },
    {
      "cell_type": "code",
      "source": [
        "import nltk\n",
        "nltk.download('punkt')\n",
        "from nltk.tokenize import word_tokenize\n",
        "from nltk.util import bigrams\n",
        "\n",
        "\n",
        "words = ' '.join(cleaned_paragraphs)\n",
        "# words = words.split()\n",
        "\n",
        "tokens = word_tokenize(words)\n",
        "bigram_freq = Counter(list(bigrams(tokens)))\n",
        "\n",
        "for bigram, freq in bigram_freq.most_common(10):\n",
        "    print(f'Bigram: {bigram}, Frequency: {freq}')"
      ],
      "metadata": {
        "colab": {
          "base_uri": "https://localhost:8080/"
        },
        "collapsed": true,
        "id": "_7Sjl1MyHef6",
        "outputId": "d11587f7-8591-4d6d-8d05-cb1e8efad9f7"
      },
      "execution_count": 18,
      "outputs": [
        {
          "output_type": "stream",
          "name": "stderr",
          "text": [
            "[nltk_data] Downloading package punkt to /root/nltk_data...\n",
            "[nltk_data]   Package punkt is already up-to-date!\n"
          ]
        },
        {
          "output_type": "stream",
          "name": "stdout",
          "text": [
            "Bigram: ('катерина', 'иванович'), Frequency: 223\n",
            "Bigram: ('пётр', 'петрович'), Frequency: 179\n",
            "Bigram: ('пульхерия', 'александрович'), Frequency: 127\n",
            "Bigram: ('авдотья', 'романович'), Frequency: 118\n",
            "Bigram: ('порфирий', 'петрович'), Frequency: 79\n",
            "Bigram: ('марфа', 'петрович'), Frequency: 78\n",
            "Bigram: ('софья', 'семёнович'), Frequency: 75\n",
            "Bigram: ('крайний', 'мера'), Frequency: 61\n",
            "Bigram: ('амалия', 'иванович'), Frequency: 56\n",
            "Bigram: ('сей', 'пора'), Frequency: 51\n"
          ]
        }
      ]
    },
    {
      "cell_type": "code",
      "source": [
        "wordcloud = WordCloud(width=1200,\n",
        "                      height=800,\n",
        "                      background_color='purple',\n",
        "                      colormap='Pastel2').generate(' '.join(cleaned_paragraphs))\n",
        "plt.figure(figsize=(12, 6))\n",
        "plt.imshow(wordcloud)\n",
        "plt.axis(\"off\")\n",
        "plt.show()"
      ],
      "metadata": {
        "colab": {
          "base_uri": "https://localhost:8080/",
          "height": 499
        },
        "id": "OE1h_WR9IsNv",
        "outputId": "ee90d2cb-ce39-40df-c2d0-166adb98d9d7"
      },
      "execution_count": 19,
      "outputs": [
        {
          "output_type": "display_data",
          "data": {
            "text/plain": [
              "<Figure size 1200x600 with 1 Axes>"
            ],
            "image/png": "[encoded data removed]"
          },
          "metadata": {}
        }
      ]
    },
    {
      "cell_type": "markdown",
      "source": [
        "## Topic modeling"
      ],
      "metadata": {
        "id": "rgJvBpbwJZ1K"
      }
    },
    {
      "cell_type": "code",
      "source": [
        "len(cleaned_paragraphs)"
      ],
      "metadata": {
        "colab": {
          "base_uri": "https://localhost:8080/"
        },
        "id": "V0sVlciOQE5P",
        "outputId": "e8c4362b-8b69-42b1-f9a2-125f3ec14f78"
      },
      "execution_count": 20,
      "outputs": [
        {
          "output_type": "execute_result",
          "data": {
            "text/plain": [
              "3969"
            ]
          },
          "metadata": {},
          "execution_count": 20
        }
      ]
    },
    {
      "cell_type": "code",
      "source": [
        "print(sum(1 for i in cleaned_paragraphs if len(i)==0))"
      ],
      "metadata": {
        "colab": {
          "base_uri": "https://localhost:8080/"
        },
        "id": "XaRvlTa0QIF2",
        "outputId": "c0e6e282-d917-4487-f1b4-17ad65c2dbc5"
      },
      "execution_count": 21,
      "outputs": [
        {
          "output_type": "stream",
          "name": "stdout",
          "text": [
            "246\n"
          ]
        }
      ]
    },
    {
      "cell_type": "markdown",
      "source": [
        "Чищу список сначала от пустых абзацев, а затем от слишком коротких (меньше 7 токенов), в результате чего количество абзацев значительно сокращается"
      ],
      "metadata": {
        "id": "3ln391S6qbZH"
      }
    },
    {
      "cell_type": "code",
      "source": [
        "cleaned_paragraphs = [paragraph for paragraph in cleaned_paragraphs if len(paragraph) > 0]"
      ],
      "metadata": {
        "collapsed": true,
        "id": "f1lNGIRMQQzD"
      },
      "execution_count": 8,
      "outputs": []
    },
    {
      "cell_type": "code",
      "source": [
        "len(cleaned_paragraphs)"
      ],
      "metadata": {
        "colab": {
          "base_uri": "https://localhost:8080/"
        },
        "id": "ztuiyCPxQggt",
        "outputId": "085bdb2c-908d-46aa-fd39-88f4fb6b822e"
      },
      "execution_count": 9,
      "outputs": [
        {
          "output_type": "execute_result",
          "data": {
            "text/plain": [
              "3723"
            ]
          },
          "metadata": {},
          "execution_count": 9
        }
      ]
    },
    {
      "cell_type": "code",
      "source": [
        "for paragraph in cleaned_paragraphs[:5]:\n",
        "    print(paragraph)"
      ],
      "metadata": {
        "colab": {
          "base_uri": "https://localhost:8080/"
        },
        "id": "Z_iaZJrbR70x",
        "outputId": "e3a979eb-578c-4f33-e086-3592a1382402"
      },
      "execution_count": 10,
      "outputs": [
        {
          "output_type": "stream",
          "name": "stdout",
          "text": [
            "преступление наказание гениальный роман главный тема преступление наказание жертвенность любовь свобода гордость человек обрамить детективный сюжет\n",
            "многократно экранизировать поставить сцена сей день читаться дыхание\n",
            "часть первый\n",
            "часть второй\n",
            "часть третий\n"
          ]
        }
      ]
    },
    {
      "cell_type": "code",
      "source": [
        "cleaned_paragraphs = [paragraph for paragraph in cleaned_paragraphs if len(paragraph.split()) >= 7]"
      ],
      "metadata": {
        "id": "rJKdrbtbS5j2"
      },
      "execution_count": 11,
      "outputs": []
    },
    {
      "cell_type": "code",
      "source": [
        "len(cleaned_paragraphs)"
      ],
      "metadata": {
        "colab": {
          "base_uri": "https://localhost:8080/"
        },
        "id": "Rr_ztLLfTAXq",
        "outputId": "1c1b6e9b-32af-42ce-8c20-9762071389e9"
      },
      "execution_count": 12,
      "outputs": [
        {
          "output_type": "execute_result",
          "data": {
            "text/plain": [
              "2309"
            ]
          },
          "metadata": {},
          "execution_count": 12
        }
      ]
    },
    {
      "cell_type": "code",
      "source": [
        "for paragraph in cleaned_paragraphs[:5]:\n",
        "    print(paragraph)\n",
        "\n",
        "print(f\"Type of cleaned_paragraphs: {type(cleaned_paragraphs)}\")\n",
        "print(f\"Type of first element: {type(cleaned_paragraphs[0])}\")"
      ],
      "metadata": {
        "colab": {
          "base_uri": "https://localhost:8080/"
        },
        "id": "jSsfrog6UODo",
        "outputId": "f3282a4c-e097-4704-f16e-c0ac3f95d693"
      },
      "execution_count": 27,
      "outputs": [
        {
          "output_type": "stream",
          "name": "stdout",
          "text": [
            "преступление наказание гениальный роман главный тема преступление наказание жертвенность любовь свобода гордость человек обрамить детективный сюжет\n",
            "многократно экранизировать поставить сцена сей день читаться дыхание\n",
            "начало июль чрезвычайно жаркое время вечер молодой человек выйти каморка нанимать жилец переулок улица медленно нерешимость отправиться мост\n",
            "благополучно избегнуть встреча хозяйка лестница каморка приходиться кровля высокий пятиэтажный дом походить шкаф квартира квартирный хозяйка нанимать каморка обед прислуга помещаться лестница ниже отдельный квартира каждый выход улица непременно проходить мимо хозяйкин кухня настежь отворить лестница каждый молодой человек проходить мимо чувствовать болезненный трусливый ощущение стыдиться морщиться должный кругом хозяйка бояться встретиться\n",
            "трусливый забитый напротив некоторый время раздражительный напрячь состояние похожий ипохондрия углубиться уединиться бояться всякий встреча встреча хозяйка задавить бедность стеснённый положение перестать последний время тяготить насущный дело перестать хотеть заниматься никакой хозяйка сущность бояться замышлять против останавливаться лестница слушать всякий вздор обыденный дребедень никакой дело приставание платёж угроза жалоба изворачиваться извиняться лгать хороший проскользнуть нибыть кошка лестница улизнуть никто видать\n",
            "Type of cleaned_paragraphs: <class 'list'>\n",
            "Type of first element: <class 'str'>\n"
          ]
        }
      ]
    },
    {
      "cell_type": "markdown",
      "source": [
        "Векторизация, обучение модели (я выделяю не только отдельные слова, но и биграмы)"
      ],
      "metadata": {
        "id": "2YN_ItY1r0b8"
      }
    },
    {
      "cell_type": "code",
      "source": [
        "vectorizer_model = TfidfVectorizer(ngram_range=(1, 2), min_df=2, stop_words=None)\n",
        "X = vectorizer_model.fit_transform(cleaned_paragraphs)\n",
        "\n",
        "vocab = vectorizer_model.get_feature_names_out()\n",
        "print(f\"Vocabulary size: {len(vocab)}\")\n",
        "\n",
        "print(f\"Sample vocabulary: {vocab[:10]}\")"
      ],
      "metadata": {
        "colab": {
          "base_uri": "https://localhost:8080/"
        },
        "id": "TdfALjp3Usfo",
        "outputId": "a741d03b-86cc-4a08-fdda-14214875a6ab"
      },
      "execution_count": 13,
      "outputs": [
        {
          "output_type": "stream",
          "name": "stdout",
          "text": [
            "Vocabulary size: 10706\n",
            "Sample vocabulary: ['авдотья' 'авдотья романович' 'авось' 'автор' 'авторитет' 'адвокат'\n",
            " 'адвокатский' 'административный' 'административный центр' 'адрес']\n"
          ]
        }
      ]
    },
    {
      "cell_type": "code",
      "source": [
        "vectorizer_model = TfidfVectorizer(ngram_range=(1, 2), min_df=2, stop_words=None)\n",
        "\n",
        "model = BERTopic(\n",
        "    vectorizer_model=vectorizer_model,\n",
        "    language='russian',\n",
        "    calculate_probabilities=True,\n",
        "    verbose=True\n",
        ")\n",
        "topics, probs = model.fit_transform(cleaned_paragraphs)"
      ],
      "metadata": {
        "colab": {
          "base_uri": "https://localhost:8080/",
          "height": 512,
          "referenced_widgets": [
            "578c00433b3b400fb3d1a5cc309d8826",
            "12e7e4d2c91049fdbaf761560df4039b",
            "b6d8faede1114eb1962beb2560ca743d",
            "417a4cfdf35c4a9e83e5ed8db5edb874",
            "1885fe4bee78427eada1a507639f9557",
            "8186b40476b54dff8a0810d1832631a1",
            "3f193eef8c3c4a8088f37dbc87b42b08",
            "547009319d37408daa0fec7020c782af",
            "97ef10eb319747098c60236b618fb5ee",
            "70277f8e90504b878c0c32fd4e7b9e0d",
            "48737eb0393846c1ba4876aa5c83fc5a",
            "337d7e998981437fb2f3b2cc71693665",
            "1e9823119eaa4669b7ffc98d45740cd9",
            "9ca09599c72e4b6384edfdb343103be6",
            "4726ae9296624c70aa1904b8dafdc67b",
            "d53ecbf380f14c698f1a30cd674a5101",
            "0e4607762de2468d8c85b3abd7d8154f",
            "14b3a070ea9948838d24fc804f5eb1c5",
            "39e7e2b3c84c4c2f867b19b435506abe",
            "4da04997a69f4d79939b01a5f038483c",
            "c0bfbafc8ff74bd7b5ffc09012d5de91",
            "3d759809654e47a79782210f0ba75195",
            "b3e1ff3ffa3c425eb6027a7de1adf44f",
            "57756016df3e4e39a8b995e1b606bbf0",
            "cf533bc3d6df4ed0ac18a1a47b8027bd",
            "3b587e5a92c542abb2ad1ccd0a8cb712",
            "d58eca0736e24c8097d94415940b74be",
            "70cb9336d07c425a8ddc290615820642",
            "39c714c955ca401d9be94706fc0c3b41",
            "39adc6e8964b428fa83bbec9ec772a79",
            "4050477dd0844c3489d5db148e4f98e5",
            "dce2028ae20b45e6899117e7ec7f7132",
            "48777096afd4493d835450dbf533d0e9",
            "e33bc253734c456f9a2f7b2f1856f5f1",
            "fa1b50ca41ef4419972f88d944ed60dc",
            "8f828be39df14d57954cced01b3fa5c7",
            "77d3d4f047e043b7af46bca3e80f7ee0",
            "1199f94d4c4f4c46a6849c98ce8c027f",
            "ace530c788824b309a18e17e721710ef",
            "17852ba401a84ac29d600000512c192f",
            "d21a95d22b964e5db7a29a9f7b9b733d",
            "a7a8d264e4804921bf0962941480d6b4",
            "f99d2926e8d34b1caa3fc93180b1594a",
            "36c3ce8c491a4ac18fef94f598407498",
            "80c37cd23ae64b9ea51de8a497a514b6",
            "1b0130ef59554d6984dbe6fd215d9e08",
            "ba0901f7a4584d618b0f0a0769387a90",
            "383718a24ace45e0b31b6c10d5574b95",
            "365de5a03e504a509212905230c3a584",
            "eb038bfddcf04d6e8e05a5befa221a81",
            "78d75fa06f544d3893f40d838bbadc33",
            "fb71f4e713e941aaa9dcab95e7cc039c",
            "11307da3b7734cd48724267d9c97643c",
            "8738b010bb0a46bca256888cd0e08b53",
            "cba3d11ed14f4e62a27dbbd6838894d5",
            "b086767339ac46a9bc4afb1952904b1e",
            "ca647e08bb064f50b29f7e18abaecdc6",
            "8032bb7e397e428a883a985f40db544d",
            "dfc33f28e1834222b1a230046105c938",
            "8382ad10a27e4a3e96dfda25529a02eb",
            "ea3b0ae340924e9284b68bde62d98cf8",
            "c39fa15c37214db889e7ce82fcc0b8a3",
            "7963566770a74fbeb2c985fff7281376",
            "4e288950b6d8490da788e028b4f1d6e7",
            "8850e8ce712446b2bbd5e4e40ca5afef",
            "68c7a3c586c2455b8632042785637d4d",
            "53137cf0cf8b4228a7144cf11909dcfc",
            "5f0dfc9a6fbb4848a7798ec2ca95ead1",
            "671427518ab04fc482e650c7c7fdca40",
            "8cf86c1835394244a62b4eb5a3648efd",
            "752e0253e60242ac971783cb23ec7197",
            "8dfec566f5e44eb7afa95a5c996c63cf",
            "88a1ef2a0c2544ff9b006784702ae079",
            "c3f7c393e9a74dd3851d4611faf18f5f",
            "641ebfac8e2b4f8389b342c26d4a35b7",
            "ac672d1f370646c6a2320287452e0a8a",
            "cbfe9f23615243d6bc3006b0743a6c8d",
            "fc2e618938204b59bdeccab83673515c",
            "2d0a557996234373a723a943a7b6d216",
            "8196eb08d4db42e8b9921ee10d0fc38c",
            "57ec403b77184a97a271468935c4eb50",
            "f6b75422181c4e93bfbd8ddeeea76d74",
            "9fcda6c95455496da7bd51513e9d414c",
            "2a9f8934142e4c80b5f59d0b9905f539",
            "cc8b8810809340cc86ff072cbf75ea2d",
            "720a0f0b2d504ed9a8138d28edbf3902",
            "e1bd316ac4924f4a8372cc21231af9d6",
            "1079af971e3446fdac87a3d3eca0de5d",
            "80461f442d994643a1a657a63afb807b",
            "ea6ef2fcd5544b45a850b0e69e843c9e",
            "e6654c59ade4419a853f270c50c113b1",
            "f7a7ef21bb4e47f3bc1629576eda7798",
            "32a1d3537ce940dfa086ad44e6ada041",
            "48f9ba939f504a1cb26fb49cab7d3575",
            "a64a1a0cfc4645acb62a03a898dd756f",
            "2e3ccd77b1c24f6aa700b823680a31e6",
            "d41512227f3044fba92b3c0133774c26",
            "09c37ab7c36b4f07a26fd428f689d68a",
            "0666bc12c20a4d3782af14906f9058cc",
            "f51a921dbef842c694c4fcdf7eee5a95",
            "8be70691abe145f6b1218ec703ba6e08",
            "32d32f79661243a0ba2144d4eac9a6a0",
            "c11b8574105c4d8695c80cc2c2dcd94f",
            "b2848927e64f4897a0ef1df626be4b7b",
            "016ceb961a52474598ce524efd4226d1",
            "0013ada2d91d4e86b7b6d3c4f314fdfb",
            "00304402651e4466bb9646845a14392b",
            "01c3341d2d6a4a3380d459a493cf4791",
            "a07ada3e7fa2414fb1dedc0a4d50015b",
            "34af00fca2954f9dafbf8c150e3b7446",
            "6f8cb70727734687953cef4e181a109f",
            "f57111f01208487ca4baab2985a92b72",
            "a8458abce56744e9983a6c0035a46bb3",
            "84f61752b4be4748a7450765a3f11a6c",
            "52fb6a63da6045c698b0656da5f9e92c",
            "0d42e1fdea9d472a86565da14470c94a",
            "1f842d7eded24ff89b5d9aa21c965024",
            "613d443ed5204bbc8e830d330a4db4c2",
            "ff894b8cb1b2496e9aef6ea7e28f5886",
            "6d96a1cdd07d46ac8b5fa4a99f3143e0",
            "5012a3a6e325447b85b817cb941d342e"
          ]
        },
        "id": "DlUty0NjWV2g",
        "outputId": "2dd9cc8c-9d4c-43cc-e5dd-76e8c0eb6d6b"
      },
      "execution_count": 14,
      "outputs": [
        {
          "output_type": "stream",
          "name": "stderr",
          "text": [
            "2024-07-31 21:32:52,668 - BERTopic - Embedding - Transforming documents to embeddings.\n"
          ]
        },
        {
          "output_type": "display_data",
          "data": {
            "text/plain": [
              "modules.json:   0%|          | 0.00/229 [00:00<?, ?B/s]"
            ],
            "application/vnd.jupyter.widget-view+json": {
              "version_major": 2,
              "version_minor": 0,
              "model_id": "578c00433b3b400fb3d1a5cc309d8826"
            }
          },
          "metadata": {}
        },
        {
          "output_type": "display_data",
          "data": {
            "text/plain": [
              "config_sentence_transformers.json:   0%|          | 0.00/122 [00:00<?, ?B/s]"
            ],
            "application/vnd.jupyter.widget-view+json": {
              "version_major": 2,
              "version_minor": 0,
              "model_id": "337d7e998981437fb2f3b2cc71693665"
            }
          },
          "metadata": {}
        },
        {
          "output_type": "display_data",
          "data": {
            "text/plain": [
              "README.md:   0%|          | 0.00/4.12k [00:00<?, ?B/s]"
            ],
            "application/vnd.jupyter.widget-view+json": {
              "version_major": 2,
              "version_minor": 0,
              "model_id": "b3e1ff3ffa3c425eb6027a7de1adf44f"
            }
          },
          "metadata": {}
        },
        {
          "output_type": "display_data",
          "data": {
            "text/plain": [
              "sentence_bert_config.json:   0%|          | 0.00/53.0 [00:00<?, ?B/s]"
            ],
            "application/vnd.jupyter.widget-view+json": {
              "version_major": 2,
              "version_minor": 0,
              "model_id": "e33bc253734c456f9a2f7b2f1856f5f1"
            }
          },
          "metadata": {}
        },
        {
          "output_type": "display_data",
          "data": {
            "text/plain": [
              "config.json:   0%|          | 0.00/645 [00:00<?, ?B/s]"
            ],
            "application/vnd.jupyter.widget-view+json": {
              "version_major": 2,
              "version_minor": 0,
              "model_id": "80c37cd23ae64b9ea51de8a497a514b6"
            }
          },
          "metadata": {}
        },
        {
          "output_type": "display_data",
          "data": {
            "text/plain": [
              "model.safetensors:   0%|          | 0.00/471M [00:00<?, ?B/s]"
            ],
            "application/vnd.jupyter.widget-view+json": {
              "version_major": 2,
              "version_minor": 0,
              "model_id": "b086767339ac46a9bc4afb1952904b1e"
            }
          },
          "metadata": {}
        },
        {
          "output_type": "display_data",
          "data": {
            "text/plain": [
              "tokenizer_config.json:   0%|          | 0.00/480 [00:00<?, ?B/s]"
            ],
            "application/vnd.jupyter.widget-view+json": {
              "version_major": 2,
              "version_minor": 0,
              "model_id": "53137cf0cf8b4228a7144cf11909dcfc"
            }
          },
          "metadata": {}
        },
        {
          "output_type": "display_data",
          "data": {
            "text/plain": [
              "tokenizer.json:   0%|          | 0.00/9.08M [00:00<?, ?B/s]"
            ],
            "application/vnd.jupyter.widget-view+json": {
              "version_major": 2,
              "version_minor": 0,
              "model_id": "fc2e618938204b59bdeccab83673515c"
            }
          },
          "metadata": {}
        },
        {
          "output_type": "display_data",
          "data": {
            "text/plain": [
              "special_tokens_map.json:   0%|          | 0.00/239 [00:00<?, ?B/s]"
            ],
            "application/vnd.jupyter.widget-view+json": {
              "version_major": 2,
              "version_minor": 0,
              "model_id": "80461f442d994643a1a657a63afb807b"
            }
          },
          "metadata": {}
        },
        {
          "output_type": "display_data",
          "data": {
            "text/plain": [
              "1_Pooling/config.json:   0%|          | 0.00/190 [00:00<?, ?B/s]"
            ],
            "application/vnd.jupyter.widget-view+json": {
              "version_major": 2,
              "version_minor": 0,
              "model_id": "f51a921dbef842c694c4fcdf7eee5a95"
            }
          },
          "metadata": {}
        },
        {
          "output_type": "display_data",
          "data": {
            "text/plain": [
              "Batches:   0%|          | 0/73 [00:00<?, ?it/s]"
            ],
            "application/vnd.jupyter.widget-view+json": {
              "version_major": 2,
              "version_minor": 0,
              "model_id": "6f8cb70727734687953cef4e181a109f"
            }
          },
          "metadata": {}
        },
        {
          "output_type": "stream",
          "name": "stderr",
          "text": [
            "2024-07-31 21:35:39,671 - BERTopic - Embedding - Completed ✓\n",
            "2024-07-31 21:35:39,674 - BERTopic - Dimensionality - Fitting the dimensionality reduction algorithm\n",
            "2024-07-31 21:36:01,089 - BERTopic - Dimensionality - Completed ✓\n",
            "2024-07-31 21:36:01,091 - BERTopic - Cluster - Start clustering the reduced embeddings\n",
            "2024-07-31 21:36:01,445 - BERTopic - Cluster - Completed ✓\n",
            "2024-07-31 21:36:01,457 - BERTopic - Representation - Extracting topics from clusters using representation models.\n",
            "2024-07-31 21:36:01,767 - BERTopic - Representation - Completed ✓\n"
          ]
        }
      ]
    },
    {
      "cell_type": "code",
      "source": [
        "print(model.get_topic_info())"
      ],
      "metadata": {
        "colab": {
          "base_uri": "https://localhost:8080/"
        },
        "collapsed": true,
        "id": "6-cWrgAlmKqq",
        "outputId": "4182dff6-9b7c-457d-8dc0-e15758530689"
      },
      "execution_count": 15,
      "outputs": [
        {
          "output_type": "stream",
          "name": "stdout",
          "text": [
            "    Topic  Count                                               Name  \\\n",
            "0      -1    856                   -1_мочь_семёнович_знать_петрович   \n",
            "1       0    246          0_иванович_год_катерина_катерина иванович   \n",
            "2       1    178                       1_бог_господь_лизавета_иисус   \n",
            "3       2    152  2_пётр_пётр петрович_петрович_пульхерия алекса...   \n",
            "4       3     97                     3_дверь_лестница_этаж_квартира   \n",
            "5       4     91                           4_лицо_бледный_глаз_губа   \n",
            "6       5     85                 5_сестра_мать_маменька_мать сестра   \n",
            "7       6     63                    6_факт_верить_весьма_привидение   \n",
            "8       7     42                   7_диван_сесть диван_порог_встать   \n",
            "9       8     41         8_преступление_преступник_убийство_убежать   \n",
            "10      9     41                9_проговорить_разговор_шиллер_тихий   \n",
            "11     10     32  10_разумихин_нахмуриться_неужели видеть_закладчик   \n",
            "12     11     30        11_брат_романович_авдотья_авдотья романович   \n",
            "13     12     29                             12_чай_суп_водка_ложка   \n",
            "14     13     29                 13_револьвер_миколка_телега_вскачь   \n",
            "15     14     26             14_чиновник_полицейский_офицер_полиция   \n",
            "16     15     24                     15_выдержать_урок_дичь_некогда   \n",
            "17     16     24      16_завтра_вчера_говорить вчера_вчера говорить   \n",
            "18     17     23                17_деньга_кошелёк_рубль_деньга вещь   \n",
            "19     18     23               18_мысль_вечность_пронестись_миколка   \n",
            "20     19     23                      19_невеста_брак_жениться_вояж   \n",
            "21     20     19                  20_острог_жизнь_семь год_посадить   \n",
            "22     21     17                 21_стыд_хлопотать_ненавидеть_форма   \n",
            "23     22     17                      22_рука_земля_оба рука_камень   \n",
            "24     23     16                23_улица_поворот_поворотить_тротуар   \n",
            "25     24     15  24_квартира_комната_порфирий петрович_немой мысль   \n",
            "26     25     13         25_старуха_старший работник_работник_гость   \n",
            "27     26     12                      26_сход_нева_вода_утопленница   \n",
            "28     27     12  27_порфирий петрович_петрович_письмоводитель_н...   \n",
            "29     28     12                     28_лошадь_кучер_папочка_бежать   \n",
            "30     29     11            29_стул_сидеть стул_пространство_точить   \n",
            "31     30     10                30_глупый_мелочь_оборваться_болтать   \n",
            "\n",
            "                                       Representation  \\\n",
            "0   [мочь, семёнович, знать, петрович, соня, софья...   \n",
            "1   [иванович, год, катерина, катерина иванович, м...   \n",
            "2   [бог, господь, лизавета, иисус, любить, прощат...   \n",
            "3   [пётр, пётр петрович, петрович, пульхерия алек...   \n",
            "4   [дверь, лестница, этаж, квартира, отворить, за...   \n",
            "5   [лицо, бледный, глаз, губа, взгляд, соня, быст...   \n",
            "6   [сестра, мать, маменька, мать сестра, ребёнок,...   \n",
            "7   [факт, верить, весьма, привидение, свидригайло...   \n",
            "8   [диван, сесть диван, порог, встать, подушка, с...   \n",
            "9   [преступление, преступник, убийство, убежать, ...   \n",
            "10  [проговорить, разговор, шиллер, тихий, голос, ...   \n",
            "11  [разумихин, нахмуриться, неужели видеть, закла...   \n",
            "12  [брат, романович, авдотья, авдотья романович, ...   \n",
            "13  [чай, суп, водка, ложка, пожар, пить, вино, го...   \n",
            "14  [револьвер, миколка, телега, вскачь, размах, к...   \n",
            "15  [чиновник, полицейский, офицер, полиция, докто...   \n",
            "16  [выдержать, урок, дичь, некогда, сделать одолж...   \n",
            "17  [завтра, вчера, говорить вчера, вчера говорить...   \n",
            "18  [деньга, кошелёк, рубль, деньга вещь, человек ...   \n",
            "19  [мысль, вечность, пронестись, миколка, кончить...   \n",
            "20  [невеста, брак, жениться, вояж, ценить, убедит...   \n",
            "21  [острог, жизнь, семь год, посадить, жить, преж...   \n",
            "22  [стыд, хлопотать, ненавидеть, форма, перешагну...   \n",
            "23  [рука, земля, оба рука, камень, углубление, кр...   \n",
            "24  [улица, поворот, поворотить, тротуар, толпа, с...   \n",
            "25  [квартира, комната, порфирий петрович, немой м...   \n",
            "26  [старуха, старший работник, работник, гость, с...   \n",
            "27  [сход, нева, вода, утопленница, набережная, ос...   \n",
            "28  [порфирий петрович, петрович, письмоводитель, ...   \n",
            "29  [лошадь, кучер, папочка, бежать, вырываться, к...   \n",
            "30  [стул, сидеть стул, пространство, точить, указ...   \n",
            "31  [глупый, мелочь, оборваться, болтать, думать, ...   \n",
            "\n",
            "                                  Representative_Docs  \n",
            "0   [час раздаться шаг коридор стук дверь оба женщ...  \n",
            "1   [молодой человек продолжать восклоняться лицо ...  \n",
            "2   [иисус говорить воскреснуть брат твой марфа ск...  \n",
            "3   [мнение пётр петрович утерпеть спросить пульхе...  \n",
            "4   [больший комната чрезвычайно низкий единственн...  \n",
            "5   [мочь выговорить предполагать объявить понимат...  \n",
            "6   [маменька говорить сметь продолжать заученный ...  \n",
            "7   [факт настоящий факт сколько нибыть основатель...  \n",
            "8   [схватить бутылка оставаться пиво целый стакан...  \n",
            "9   [сначала давно прежде занимать вопрос почему л...  \n",
            "10  [тихий тихий услышать серьёзно предупреждать п...  \n",
            "11  [раскольник молча взять немецкий листок статья...  \n",
            "12  [неужели плохо брат наш брат перещеголять приб...  \n",
            "13  [дико напряжение продолжать приглядываться рас...  \n",
            "14  [комар расступиться неистовый вскрикивать мико...  \n",
            "15  [луиза иванович уторопить любезность пуститься...  \n",
            "16  [сделать одолжение раздражительный продолжать ...  \n",
            "17  [вчера задумчиво проговорить разумихин знать н...  \n",
            "18  [небось выдержать выдержать сто рубль награжде...  \n",
            "19  [мысль сон мучить первый явиться сознательно я...  \n",
            "20  [признаться понимать предлагать десять тысяча ...  \n",
            "21  [слабый минута казаться болезнь пройти знать п...  \n",
            "22  [однако мочь общий злодейство мочь одинаково ч...  \n",
            "23  [стать колено среди площадь поклониться земля ...  \n",
            "24  [идти думать раскольник остановиться посреди м...  \n",
            "25  [уйти вслед дворник тотчас броситься свет осма...  \n",
            "26  [молодой человек спорить стать взять деньга см...  \n",
            "27  [полный память пройти ворота дом крайний мера ...  \n",
            "28  [порфирий петрович несколько мгновение стоять ...  \n",
            "29  [бежать подле лошадка забегать вперёд видеть с...  \n",
            "30  [очнуться увидать сидеть стул поддерживать спр...  \n",
            "31  [дело хотеть покуситься время пустяк бояться п...  \n"
          ]
        }
      ]
    },
    {
      "cell_type": "code",
      "source": [
        "print(model.get_topic(0))"
      ],
      "metadata": {
        "colab": {
          "base_uri": "https://localhost:8080/"
        },
        "id": "y-dQm50Nmlow",
        "outputId": "4f920670-4b1c-4b1a-9b32-bd7a4daaaa10"
      },
      "execution_count": 16,
      "outputs": [
        {
          "output_type": "stream",
          "name": "stdout",
          "text": [
            "[('иванович', 0.011695379669686168), ('год', 0.009711539065700745), ('катерина', 0.008902438459806906), ('катерина иванович', 0.008902438459806906), ('мочь', 0.008682207237490623), ('человек', 0.007940560850833507), ('амалия', 0.007895656724736131), ('петрович', 0.007570304290908019), ('жизнь', 0.007413867571395679), ('марфа петрович', 0.007404727314382975)]\n"
          ]
        }
      ]
    },
    {
      "cell_type": "code",
      "source": [
        "for topic_id in model.get_topic_info().Topic:\n",
        "    if topic_id == -1:\n",
        "        continue\n",
        "    print(f\"Topic {topic_id}:\")\n",
        "    print(model.get_topic(topic_id))"
      ],
      "metadata": {
        "colab": {
          "base_uri": "https://localhost:8080/"
        },
        "id": "yaYUT_A6tmTN",
        "outputId": "72bef0fd-70c2-476e-c9ed-b97be635bdae"
      },
      "execution_count": 17,
      "outputs": [
        {
          "output_type": "stream",
          "name": "stdout",
          "text": [
            "Topic 0:\n",
            "[('иванович', 0.011695379669686168), ('год', 0.009711539065700745), ('катерина', 0.008902438459806906), ('катерина иванович', 0.008902438459806906), ('мочь', 0.008682207237490623), ('человек', 0.007940560850833507), ('амалия', 0.007895656724736131), ('петрович', 0.007570304290908019), ('жизнь', 0.007413867571395679), ('марфа петрович', 0.007404727314382975)]\n",
            "Topic 1:\n",
            "[('бог', 0.03401760052751148), ('господь', 0.024603030079706743), ('лизавета', 0.01900965953984257), ('иисус', 0.01867865792899252), ('любить', 0.014810498494346427), ('прощать', 0.014645076070552522), ('жизнь', 0.014643568160263225), ('сказать', 0.013301817978153512), ('убить', 0.013041906988379922), ('умереть', 0.012839131452031657)]\n",
            "Topic 2:\n",
            "[('пётр', 0.06730119091286126), ('пётр петрович', 0.06730119091286126), ('петрович', 0.06501198989516208), ('пульхерия александрович', 0.03697312362819356), ('пульхерия', 0.03697312362819356), ('александрович', 0.03697312362819356), ('семёнович', 0.01989594993774754), ('порфирий петрович', 0.019156767068679973), ('иванович', 0.0186859842779499), ('андрей', 0.017265114514678735)]\n",
            "Topic 3:\n",
            "[('дверь', 0.052490209729092324), ('лестница', 0.04271283393123933), ('этаж', 0.038832200551545064), ('квартира', 0.0316905176198671), ('отворить', 0.02676463906465599), ('запереть', 0.02589599035244396), ('комната', 0.023608303506740924), ('запор', 0.023425451105469033), ('четвёртый этаж', 0.02284333635113499), ('четвёртый', 0.019213869206789625)]\n",
            "Topic 4:\n",
            "[('лицо', 0.03545924079603557), ('бледный', 0.03109499890778236), ('глаз', 0.027552377143125632), ('губа', 0.02670715777855296), ('взгляд', 0.02265443504674021), ('соня', 0.019863376651077073), ('быстро', 0.016137480328206426), ('вздрагивать', 0.015509532188515366), ('краска', 0.015400674436519818), ('улыбка', 0.015329992303220737)]\n",
            "Topic 5:\n",
            "[('сестра', 0.051562212097077266), ('мать', 0.040768622510121366), ('маменька', 0.03171923746439199), ('мать сестра', 0.02565214277556869), ('ребёнок', 0.019210153049293216), ('мамаша', 0.01536854324866494), ('рука', 0.01399567493755456), ('девочка', 0.013730173489860649), ('отец', 0.013193123312934239), ('плач', 0.013155616229050995)]\n",
            "Topic 6:\n",
            "[('факт', 0.02352341877409046), ('верить', 0.020786570473381415), ('весьма', 0.020522382633977675), ('привидение', 0.02026114140906164), ('свидригайлов', 0.02007689069841497), ('иметь', 0.018283697846261302), ('мочь', 0.01668810523256393), ('мнение', 0.016663287226232247), ('собственный мнение', 0.01587296838480252), ('сказать', 0.0149101012471175)]\n",
            "Topic 7:\n",
            "[('диван', 0.091726451309222), ('сесть диван', 0.033643170311305426), ('порог', 0.027527794215689017), ('встать', 0.023902248383589914), ('подушка', 0.023620075597385347), ('сесть', 0.022624343123282122), ('озноб', 0.022302064865805202), ('третий час', 0.02192913376572119), ('сон', 0.021830281469332854), ('выбросить', 0.021676861678227723)]\n",
            "Topic 8:\n",
            "[('преступление', 0.06105222748675751), ('преступник', 0.030251618769463764), ('убийство', 0.024542597042532508), ('убежать', 0.02057852318180669), ('совесть', 0.019142617683891614), ('напирать', 0.0181925002164784), ('убийца', 0.017900713633204435), ('случай', 0.01750259644689069), ('юридический', 0.016631751590028904), ('вопрос', 0.016229235670728447)]\n",
            "Topic 9:\n",
            "[('проговорить', 0.035326016518513775), ('разговор', 0.03246656977254559), ('шиллер', 0.028809139204391748), ('тихий', 0.024592996060670454), ('голос', 0.024305676979424887), ('раскольников ужасно', 0.022722110804957226), ('раскольников', 0.022309033615594616), ('губа', 0.02126016354788), ('ругательство', 0.020757601299249907), ('ужасно захотеться', 0.020359796352219243)]\n",
            "Topic 10:\n",
            "[('разумихин', 0.0848188719385101), ('нахмуриться', 0.038759647548540416), ('неужели видеть', 0.03813110030986292), ('закладчик', 0.03695770773891747), ('разумихин почему', 0.028116678310930635), ('прицепиться', 0.02785534022388895), ('попасть', 0.024917450788575816), ('немецкий', 0.023534406820360135), ('неужели', 0.023189443396631933), ('бесчувственный', 0.02295002691551313)]\n",
            "Topic 11:\n",
            "[('брат', 0.1318429942482219), ('романович', 0.03927160493338805), ('авдотья', 0.038120345967918016), ('авдотья романович', 0.038120345967918016), ('пациент', 0.03753344310251375), ('журнал', 0.030223687457516784), ('наш брат', 0.029750028917492254), ('брат брат', 0.028733625301754148), ('разодетый', 0.027983539474140964), ('час шесть', 0.02715915042106987)]\n",
            "Topic 12:\n",
            "[('чай', 0.11805499858116258), ('суп', 0.09612688333449486), ('водка', 0.05602868499752998), ('ложка', 0.056006575604633284), ('пожар', 0.045587837354863714), ('пить', 0.04453945986191256), ('вино', 0.04336330768665923), ('говядина', 0.04106869739636993), ('петербургский', 0.04027930630076346), ('газета', 0.03962558814614723)]\n",
            "Topic 13:\n",
            "[('револьвер', 0.06858172809913358), ('миколка', 0.06474128567466839), ('телега', 0.06179812071226109), ('вскачь', 0.04434379590662537), ('размах', 0.04319547415070032), ('кнут', 0.041209511507737315), ('кобыленка', 0.038836025984619105), ('кричать', 0.03482160293040144), ('удар', 0.034018333718385585), ('лебезятников', 0.029519686384274293)]\n",
            "Topic 14:\n",
            "[('чиновник', 0.05982344829689822), ('полицейский', 0.04449127097435606), ('офицер', 0.038646858173282166), ('полиция', 0.03781451774898654), ('доктор', 0.0312496389795732), ('толпа', 0.02639592721980929), ('приседать', 0.02598885919154778), ('контора', 0.025240537294922576), ('луиза иванович', 0.023431544978932146), ('луиза', 0.023431544978932146)]\n",
            "Topic 15:\n",
            "[('выдержать', 0.04240128570232916), ('урок', 0.03780598233666318), ('дичь', 0.037164460324609315), ('некогда', 0.0349861605329345), ('сделать одолжение', 0.03183413744715109), ('одолжение', 0.03183413744715109), ('след', 0.03102507901307151), ('посещение', 0.03081764567121121), ('положим', 0.029271279681524938), ('митька', 0.02802310345910282)]\n",
            "Topic 16:\n",
            "[('завтра', 0.07350679547782375), ('вчера', 0.060029187450092), ('говорить вчера', 0.03892314559335566), ('вчера говорить', 0.03508982390938333), ('знать вчера', 0.03474653118460945), ('клад', 0.03474653118460945), ('написать', 0.034045739550074026), ('сегодня', 0.03194500062279957), ('пенсион', 0.030519921113303317), ('сказать мочь', 0.029932596454446597)]\n",
            "Topic 17:\n",
            "[('деньга', 0.11820366548565003), ('кошелёк', 0.06462068213225583), ('рубль', 0.04741621844439002), ('деньга вещь', 0.04187256847534574), ('человек деньга', 0.04184627452288502), ('билет', 0.040672943670446125), ('вещь', 0.04038435448789551), ('думать деньга', 0.04034462767545293), ('сто рубль', 0.038392873801016116), ('тратить', 0.034053503228976725)]\n",
            "Topic 18:\n",
            "[('мысль', 0.04222573178450726), ('вечность', 0.03130096592652213), ('пронестись', 0.029158496200466098), ('миколка', 0.028508645896110057), ('кончить', 0.02469508552066017), ('мечта', 0.0245371601646314), ('солнце', 0.023741958810095682), ('огромный', 0.023341644913210457), ('сон', 0.02288867227283513), ('неосуществимый', 0.022742933593768548)]\n",
            "Topic 19:\n",
            "[('невеста', 0.0752929760399209), ('брак', 0.04897864680855924), ('жениться', 0.04382965427529129), ('вояж', 0.029691680191640705), ('ценить', 0.0274692252563289), ('убедить', 0.0252194106281792), ('жених', 0.02347022530705886), ('дурной', 0.020678943696501882), ('твёрдо', 0.020312928023908088), ('жена', 0.02022608965556336)]\n",
            "Topic 20:\n",
            "[('острог', 0.0513088210844077), ('жизнь', 0.047039311720067783), ('семь год', 0.028074346827830294), ('посадить', 0.027902140326966945), ('жить', 0.025156206097159746), ('прежде', 0.024910580699837502), ('многое', 0.02450245011403083), ('существование', 0.02391651768671154), ('удивлять', 0.02391651768671154), ('год', 0.023860044065933495)]\n",
            "Topic 21:\n",
            "[('стыд', 0.0380047025568562), ('хлопотать', 0.03643795518742826), ('ненавидеть', 0.03557143369046372), ('форма', 0.035237815245876686), ('перешагнуть', 0.02910810808405465), ('покончить', 0.027935085216788322), ('сознавать', 0.02786240966366184), ('мочь', 0.02708041009725122), ('любовь', 0.025815291523290377), ('заранее знать', 0.025452957636655196)]\n",
            "Topic 22:\n",
            "[('рука', 0.08210881177882423), ('земля', 0.06729465922132588), ('оба рука', 0.06386743065550188), ('камень', 0.058075886656511394), ('углубление', 0.05631884082411701), ('крепко', 0.054735951530235194), ('поклониться', 0.05374198875830122), ('колено', 0.04723735562920889), ('перевернуть', 0.04561072114141934), ('плечо', 0.04475594734932444)]\n",
            "Topic 23:\n",
            "[('улица', 0.067700690766156), ('поворот', 0.05652383322343779), ('поворотить', 0.04947445217594239), ('тротуар', 0.04476298998197425), ('толпа', 0.0346218879024913), ('сенной', 0.03378389194948014), ('идти', 0.03272069328977627), ('время идти', 0.030304848049135722), ('пойти далее', 0.030304848049135722), ('раскольник остановиться', 0.030170632047272068)]\n",
            "Topic 24:\n",
            "[('квартира', 0.031943785329444065), ('комната', 0.028020685114721635), ('порфирий петрович', 0.02628026634164632), ('немой мысль', 0.025624574901953658), ('служанка', 0.025407633760485375), ('следующий комната', 0.025166884094910205), ('одиннадцать час', 0.025166884094910205), ('садиться', 0.025013420391175937), ('повестка', 0.023728558053514474), ('призрак', 0.022736685759927863)]\n",
            "Topic 25:\n",
            "[('старуха', 0.15432639535682588), ('старший работник', 0.07127246674283745), ('работник', 0.055085282006401844), ('гость', 0.05248001348636089), ('страшно', 0.05138853882611081), ('старший', 0.04783267283584959), ('молодой человек', 0.045857031583197955), ('старуха старуха', 0.04119263149758492), ('казаться смотреть', 0.04119263149758492), ('стать контора', 0.04119263149758492)]\n",
            "Topic 26:\n",
            "[('сход', 0.09486086423437458), ('нева', 0.053965486210138275), ('вода', 0.04655364599560153), ('утопленница', 0.04073689823126663), ('набережная', 0.03836929918850875), ('остров', 0.0374982264367947), ('встречаться', 0.034910454174660877), ('канава', 0.032686694683031925), ('городов', 0.032347310382915904), ('мочь', 0.03170465235010583)]\n",
            "Topic 27:\n",
            "[('порфирий петрович', 0.04540687216370963), ('петрович', 0.044944817945756534), ('письмоводитель', 0.044839714066898254), ('николай', 0.0418528007506956), ('следовать', 0.03741751914425758), ('поручик', 0.03692144868408434), ('изложение', 0.035695693840711404), ('поступить', 0.035312550408597446), ('илья петрович', 0.033509878772394794), ('илья', 0.033509878772394794)]\n",
            "Topic 28:\n",
            "[('лошадь', 0.10390055840287787), ('кучер', 0.09125773285238276), ('папочка', 0.08656635440220746), ('бежать', 0.0630707333720241), ('вырываться', 0.053447961835395075), ('кричать', 0.04916619069919343), ('кнут', 0.04654845339451261), ('кровь лицо', 0.04564365736817575), ('лошадёнка', 0.043482751877688984), ('така', 0.043482751877688984)]\n",
            "Topic 29:\n",
            "[('стул', 0.20960489192033277), ('сидеть стул', 0.060982401087139156), ('пространство', 0.04878574739619585), ('точить', 0.044967727646951866), ('указать', 0.043317412406583225), ('жёлтый', 0.04037161161306076), ('стол', 0.037511832211776557), ('служить постель', 0.037313781579660546), ('продавить стул', 0.037313781579660546), ('знать начать', 0.037313781579660546)]\n",
            "Topic 30:\n",
            "[('глупый', 0.04053861777006618), ('мелочь', 0.033703055398484394), ('оборваться', 0.032509573121933644), ('болтать', 0.031574558199953), ('думать', 0.024424038984596733), ('большой бояться', 0.0233965266475493), ('подсказывать', 0.023378519352603315), ('придача', 0.023378519352603315), ('заработать', 0.023287617344147887), ('знать соня', 0.02325257389323064)]\n"
          ]
        }
      ]
    },
    {
      "cell_type": "markdown",
      "source": [
        "## Visualization\n"
      ],
      "metadata": {
        "id": "g2pDTgwAvXZo"
      }
    },
    {
      "cell_type": "code",
      "source": [
        "fig = model.visualize_topics()\n",
        "fig.show()"
      ],
      "metadata": {
        "colab": {
          "base_uri": "https://localhost:8080/",
          "height": 667
        },
        "id": "JaTiigDtnPWW",
        "outputId": "e8ad94b8-6fac-4879-bf11-bb608cc308ce"
      },
      "execution_count": 18,
      "outputs": [
        {
          "output_type": "display_data",
          "data": {
            "text/html": [
              "<html>\n",
              "<head><meta charset=\"utf-8\" /></head>\n",
              "<body>\n",
              "    <div>            <script src=\"https://cdnjs.cloudflare.com/ajax/libs/mathjax/2.7.5/MathJax.js?config=TeX-AMS-MML_SVG\"></script><script type=\"text/javascript\">if (window.MathJax && window.MathJax.Hub && window.MathJax.Hub.Config) {window.MathJax.Hub.Config({SVG: {font: \"STIX-Web\"}});}</script>                <script type=\"text/javascript\">window.PlotlyConfig = {MathJaxConfig: 'local'};</script>\n",
              "        <script charset=\"utf-8\" src=\"https://cdn.plot.ly/plotly-2.24.1.min.js\"></script>                <div id=\"b71f2509-5019-4096-b234-debd37c13208\" class=\"plotly-graph-div\" style=\"height:650px; width:650px;\"></div>            <script type=\"text/javascript\">                                    window.PLOTLYENV=window.PLOTLYENV || {};                                    if (document.getElementById(\"b71f2509-5019-4096-b234-debd37c13208\")) {                    Plotly.newPlot(                        \"b71f2509-5019-4096-b234-debd37c13208\",                        [{\"customdata\":[[0,\"\\u0438\\u0432\\u0430\\u043d\\u043e\\u0432\\u0438\\u0447 | \\u0433\\u043e\\u0434 | \\u043a\\u0430\\u0442\\u0435\\u0440\\u0438\\u043d\\u0430 | \\u043a\\u0430\\u0442\\u0435\\u0440\\u0438\\u043d\\u0430 \\u0438\\u0432\\u0430\\u043d\\u043e\\u0432\\u0438\\u0447 | \\u043c\\u043e\\u0447\\u044c\",246],[1,\"\\u0431\\u043e\\u0433 | \\u0433\\u043e\\u0441\\u043f\\u043e\\u0434\\u044c | \\u043b\\u0438\\u0437\\u0430\\u0432\\u0435\\u0442\\u0430 | \\u0438\\u0438\\u0441\\u0443\\u0441 | \\u043b\\u044e\\u0431\\u0438\\u0442\\u044c\",178],[2,\"\\u043f\\u0451\\u0442\\u0440 | \\u043f\\u0451\\u0442\\u0440 \\u043f\\u0435\\u0442\\u0440\\u043e\\u0432\\u0438\\u0447 | \\u043f\\u0435\\u0442\\u0440\\u043e\\u0432\\u0438\\u0447 | \\u043f\\u0443\\u043b\\u044c\\u0445\\u0435\\u0440\\u0438\\u044f \\u0430\\u043b\\u0435\\u043a\\u0441\\u0430\\u043d\\u0434\\u0440\\u043e\\u0432\\u0438\\u0447 | \\u043f\\u0443\\u043b\\u044c\\u0445\\u0435\\u0440\\u0438\\u044f\",152],[3,\"\\u0434\\u0432\\u0435\\u0440\\u044c | \\u043b\\u0435\\u0441\\u0442\\u043d\\u0438\\u0446\\u0430 | \\u044d\\u0442\\u0430\\u0436 | \\u043a\\u0432\\u0430\\u0440\\u0442\\u0438\\u0440\\u0430 | \\u043e\\u0442\\u0432\\u043e\\u0440\\u0438\\u0442\\u044c\",97],[4,\"\\u043b\\u0438\\u0446\\u043e | \\u0431\\u043b\\u0435\\u0434\\u043d\\u044b\\u0439 | \\u0433\\u043b\\u0430\\u0437 | \\u0433\\u0443\\u0431\\u0430 | \\u0432\\u0437\\u0433\\u043b\\u044f\\u0434\",91],[5,\"\\u0441\\u0435\\u0441\\u0442\\u0440\\u0430 | \\u043c\\u0430\\u0442\\u044c | \\u043c\\u0430\\u043c\\u0435\\u043d\\u044c\\u043a\\u0430 | \\u043c\\u0430\\u0442\\u044c \\u0441\\u0435\\u0441\\u0442\\u0440\\u0430 | \\u0440\\u0435\\u0431\\u0451\\u043d\\u043e\\u043a\",85],[6,\"\\u0444\\u0430\\u043a\\u0442 | \\u0432\\u0435\\u0440\\u0438\\u0442\\u044c | \\u0432\\u0435\\u0441\\u044c\\u043c\\u0430 | \\u043f\\u0440\\u0438\\u0432\\u0438\\u0434\\u0435\\u043d\\u0438\\u0435 | \\u0441\\u0432\\u0438\\u0434\\u0440\\u0438\\u0433\\u0430\\u0439\\u043b\\u043e\\u0432\",63],[7,\"\\u0434\\u0438\\u0432\\u0430\\u043d | \\u0441\\u0435\\u0441\\u0442\\u044c \\u0434\\u0438\\u0432\\u0430\\u043d | \\u043f\\u043e\\u0440\\u043e\\u0433 | \\u0432\\u0441\\u0442\\u0430\\u0442\\u044c | \\u043f\\u043e\\u0434\\u0443\\u0448\\u043a\\u0430\",42],[8,\"\\u043f\\u0440\\u0435\\u0441\\u0442\\u0443\\u043f\\u043b\\u0435\\u043d\\u0438\\u0435 | \\u043f\\u0440\\u0435\\u0441\\u0442\\u0443\\u043f\\u043d\\u0438\\u043a | \\u0443\\u0431\\u0438\\u0439\\u0441\\u0442\\u0432\\u043e | \\u0443\\u0431\\u0435\\u0436\\u0430\\u0442\\u044c | \\u0441\\u043e\\u0432\\u0435\\u0441\\u0442\\u044c\",41],[9,\"\\u043f\\u0440\\u043e\\u0433\\u043e\\u0432\\u043e\\u0440\\u0438\\u0442\\u044c | \\u0440\\u0430\\u0437\\u0433\\u043e\\u0432\\u043e\\u0440 | \\u0448\\u0438\\u043b\\u043b\\u0435\\u0440 | \\u0442\\u0438\\u0445\\u0438\\u0439 | \\u0433\\u043e\\u043b\\u043e\\u0441\",41],[10,\"\\u0440\\u0430\\u0437\\u0443\\u043c\\u0438\\u0445\\u0438\\u043d | \\u043d\\u0430\\u0445\\u043c\\u0443\\u0440\\u0438\\u0442\\u044c\\u0441\\u044f | \\u043d\\u0435\\u0443\\u0436\\u0435\\u043b\\u0438 \\u0432\\u0438\\u0434\\u0435\\u0442\\u044c | \\u0437\\u0430\\u043a\\u043b\\u0430\\u0434\\u0447\\u0438\\u043a | \\u0440\\u0430\\u0437\\u0443\\u043c\\u0438\\u0445\\u0438\\u043d \\u043f\\u043e\\u0447\\u0435\\u043c\\u0443\",32],[11,\"\\u0431\\u0440\\u0430\\u0442 | \\u0440\\u043e\\u043c\\u0430\\u043d\\u043e\\u0432\\u0438\\u0447 | \\u0430\\u0432\\u0434\\u043e\\u0442\\u044c\\u044f | \\u0430\\u0432\\u0434\\u043e\\u0442\\u044c\\u044f \\u0440\\u043e\\u043c\\u0430\\u043d\\u043e\\u0432\\u0438\\u0447 | \\u043f\\u0430\\u0446\\u0438\\u0435\\u043d\\u0442\",30],[12,\"\\u0447\\u0430\\u0439 | \\u0441\\u0443\\u043f | \\u0432\\u043e\\u0434\\u043a\\u0430 | \\u043b\\u043e\\u0436\\u043a\\u0430 | \\u043f\\u043e\\u0436\\u0430\\u0440\",29],[13,\"\\u0440\\u0435\\u0432\\u043e\\u043b\\u044c\\u0432\\u0435\\u0440 | \\u043c\\u0438\\u043a\\u043e\\u043b\\u043a\\u0430 | \\u0442\\u0435\\u043b\\u0435\\u0433\\u0430 | \\u0432\\u0441\\u043a\\u0430\\u0447\\u044c | \\u0440\\u0430\\u0437\\u043c\\u0430\\u0445\",29],[14,\"\\u0447\\u0438\\u043d\\u043e\\u0432\\u043d\\u0438\\u043a | \\u043f\\u043e\\u043b\\u0438\\u0446\\u0435\\u0439\\u0441\\u043a\\u0438\\u0439 | \\u043e\\u0444\\u0438\\u0446\\u0435\\u0440 | \\u043f\\u043e\\u043b\\u0438\\u0446\\u0438\\u044f | \\u0434\\u043e\\u043a\\u0442\\u043e\\u0440\",26],[15,\"\\u0432\\u044b\\u0434\\u0435\\u0440\\u0436\\u0430\\u0442\\u044c | \\u0443\\u0440\\u043e\\u043a | \\u0434\\u0438\\u0447\\u044c | \\u043d\\u0435\\u043a\\u043e\\u0433\\u0434\\u0430 | \\u0441\\u0434\\u0435\\u043b\\u0430\\u0442\\u044c \\u043e\\u0434\\u043e\\u043b\\u0436\\u0435\\u043d\\u0438\\u0435\",24],[16,\"\\u0437\\u0430\\u0432\\u0442\\u0440\\u0430 | \\u0432\\u0447\\u0435\\u0440\\u0430 | \\u0433\\u043e\\u0432\\u043e\\u0440\\u0438\\u0442\\u044c \\u0432\\u0447\\u0435\\u0440\\u0430 | \\u0432\\u0447\\u0435\\u0440\\u0430 \\u0433\\u043e\\u0432\\u043e\\u0440\\u0438\\u0442\\u044c | \\u0437\\u043d\\u0430\\u0442\\u044c \\u0432\\u0447\\u0435\\u0440\\u0430\",24],[17,\"\\u0434\\u0435\\u043d\\u044c\\u0433\\u0430 | \\u043a\\u043e\\u0448\\u0435\\u043b\\u0451\\u043a | \\u0440\\u0443\\u0431\\u043b\\u044c | \\u0434\\u0435\\u043d\\u044c\\u0433\\u0430 \\u0432\\u0435\\u0449\\u044c | \\u0447\\u0435\\u043b\\u043e\\u0432\\u0435\\u043a \\u0434\\u0435\\u043d\\u044c\\u0433\\u0430\",23],[18,\"\\u043c\\u044b\\u0441\\u043b\\u044c | \\u0432\\u0435\\u0447\\u043d\\u043e\\u0441\\u0442\\u044c | \\u043f\\u0440\\u043e\\u043d\\u0435\\u0441\\u0442\\u0438\\u0441\\u044c | \\u043c\\u0438\\u043a\\u043e\\u043b\\u043a\\u0430 | \\u043a\\u043e\\u043d\\u0447\\u0438\\u0442\\u044c\",23],[19,\"\\u043d\\u0435\\u0432\\u0435\\u0441\\u0442\\u0430 | \\u0431\\u0440\\u0430\\u043a | \\u0436\\u0435\\u043d\\u0438\\u0442\\u044c\\u0441\\u044f | \\u0432\\u043e\\u044f\\u0436 | \\u0446\\u0435\\u043d\\u0438\\u0442\\u044c\",23],[20,\"\\u043e\\u0441\\u0442\\u0440\\u043e\\u0433 | \\u0436\\u0438\\u0437\\u043d\\u044c | \\u0441\\u0435\\u043c\\u044c \\u0433\\u043e\\u0434 | \\u043f\\u043e\\u0441\\u0430\\u0434\\u0438\\u0442\\u044c | \\u0436\\u0438\\u0442\\u044c\",19],[21,\"\\u0441\\u0442\\u044b\\u0434 | \\u0445\\u043b\\u043e\\u043f\\u043e\\u0442\\u0430\\u0442\\u044c | \\u043d\\u0435\\u043d\\u0430\\u0432\\u0438\\u0434\\u0435\\u0442\\u044c | \\u0444\\u043e\\u0440\\u043c\\u0430 | \\u043f\\u0435\\u0440\\u0435\\u0448\\u0430\\u0433\\u043d\\u0443\\u0442\\u044c\",17],[22,\"\\u0440\\u0443\\u043a\\u0430 | \\u0437\\u0435\\u043c\\u043b\\u044f | \\u043e\\u0431\\u0430 \\u0440\\u0443\\u043a\\u0430 | \\u043a\\u0430\\u043c\\u0435\\u043d\\u044c | \\u0443\\u0433\\u043b\\u0443\\u0431\\u043b\\u0435\\u043d\\u0438\\u0435\",17],[23,\"\\u0443\\u043b\\u0438\\u0446\\u0430 | \\u043f\\u043e\\u0432\\u043e\\u0440\\u043e\\u0442 | \\u043f\\u043e\\u0432\\u043e\\u0440\\u043e\\u0442\\u0438\\u0442\\u044c | \\u0442\\u0440\\u043e\\u0442\\u0443\\u0430\\u0440 | \\u0442\\u043e\\u043b\\u043f\\u0430\",16],[24,\"\\u043a\\u0432\\u0430\\u0440\\u0442\\u0438\\u0440\\u0430 | \\u043a\\u043e\\u043c\\u043d\\u0430\\u0442\\u0430 | \\u043f\\u043e\\u0440\\u0444\\u0438\\u0440\\u0438\\u0439 \\u043f\\u0435\\u0442\\u0440\\u043e\\u0432\\u0438\\u0447 | \\u043d\\u0435\\u043c\\u043e\\u0439 \\u043c\\u044b\\u0441\\u043b\\u044c | \\u0441\\u043b\\u0443\\u0436\\u0430\\u043d\\u043a\\u0430\",15],[25,\"\\u0441\\u0442\\u0430\\u0440\\u0443\\u0445\\u0430 | \\u0441\\u0442\\u0430\\u0440\\u0448\\u0438\\u0439 \\u0440\\u0430\\u0431\\u043e\\u0442\\u043d\\u0438\\u043a | \\u0440\\u0430\\u0431\\u043e\\u0442\\u043d\\u0438\\u043a | \\u0433\\u043e\\u0441\\u0442\\u044c | \\u0441\\u0442\\u0440\\u0430\\u0448\\u043d\\u043e\",13],[26,\"\\u0441\\u0445\\u043e\\u0434 | \\u043d\\u0435\\u0432\\u0430 | \\u0432\\u043e\\u0434\\u0430 | \\u0443\\u0442\\u043e\\u043f\\u043b\\u0435\\u043d\\u043d\\u0438\\u0446\\u0430 | \\u043d\\u0430\\u0431\\u0435\\u0440\\u0435\\u0436\\u043d\\u0430\\u044f\",12],[27,\"\\u043f\\u043e\\u0440\\u0444\\u0438\\u0440\\u0438\\u0439 \\u043f\\u0435\\u0442\\u0440\\u043e\\u0432\\u0438\\u0447 | \\u043f\\u0435\\u0442\\u0440\\u043e\\u0432\\u0438\\u0447 | \\u043f\\u0438\\u0441\\u044c\\u043c\\u043e\\u0432\\u043e\\u0434\\u0438\\u0442\\u0435\\u043b\\u044c | \\u043d\\u0438\\u043a\\u043e\\u043b\\u0430\\u0439 | \\u0441\\u043b\\u0435\\u0434\\u043e\\u0432\\u0430\\u0442\\u044c\",12],[28,\"\\u043b\\u043e\\u0448\\u0430\\u0434\\u044c | \\u043a\\u0443\\u0447\\u0435\\u0440 | \\u043f\\u0430\\u043f\\u043e\\u0447\\u043a\\u0430 | \\u0431\\u0435\\u0436\\u0430\\u0442\\u044c | \\u0432\\u044b\\u0440\\u044b\\u0432\\u0430\\u0442\\u044c\\u0441\\u044f\",12],[29,\"\\u0441\\u0442\\u0443\\u043b | \\u0441\\u0438\\u0434\\u0435\\u0442\\u044c \\u0441\\u0442\\u0443\\u043b | \\u043f\\u0440\\u043e\\u0441\\u0442\\u0440\\u0430\\u043d\\u0441\\u0442\\u0432\\u043e | \\u0442\\u043e\\u0447\\u0438\\u0442\\u044c | \\u0443\\u043a\\u0430\\u0437\\u0430\\u0442\\u044c\",11],[30,\"\\u0433\\u043b\\u0443\\u043f\\u044b\\u0439 | \\u043c\\u0435\\u043b\\u043e\\u0447\\u044c | \\u043e\\u0431\\u043e\\u0440\\u0432\\u0430\\u0442\\u044c\\u0441\\u044f | \\u0431\\u043e\\u043b\\u0442\\u0430\\u0442\\u044c | \\u0434\\u0443\\u043c\\u0430\\u0442\\u044c\",10]],\"hovertemplate\":\"\\u003cb\\u003eTopic %{customdata[0]}\\u003c\\u002fb\\u003e\\u003cbr\\u003e%{customdata[1]}\\u003cbr\\u003eSize: %{customdata[2]}\",\"legendgroup\":\"\",\"marker\":{\"color\":\"#B0BEC5\",\"size\":[246,178,152,97,91,85,63,42,41,41,32,30,29,29,26,24,24,23,23,23,19,17,17,16,15,13,12,12,12,11,10],\"sizemode\":\"area\",\"sizeref\":0.15375,\"symbol\":\"circle\",\"line\":{\"color\":\"DarkSlateGrey\",\"width\":2}},\"mode\":\"markers\",\"name\":\"\",\"orientation\":\"v\",\"showlegend\":false,\"x\":[-5.976409912109375,1.6529699563980103,-5.727756977081299,9.287611961364746,6.905786514282227,1.585545301437378,5.84821891784668,21.379602432250977,5.023538112640381,5.799875736236572,5.834543704986572,1.2344132661819458,5.155099391937256,6.429230690002441,9.5246000289917,5.8687567710876465,5.390927314758301,6.121407985687256,6.667734622955322,1.380616307258606,6.918429374694824,5.214663982391357,6.022268295288086,9.00685977935791,9.649568557739258,6.270320892333984,8.843896865844727,-5.617746353149414,6.55143404006958,21.380617141723633,6.2565202713012695],\"xaxis\":\"x\",\"y\":[-6.396124362945557,7.776839256286621,-6.147476673126221,-7.8726911544799805,17.218935012817383,7.480927467346191,15.979000091552734,3.4493072032928467,15.90011978149414,1.077750563621521,16.049800872802734,7.344232082366943,0.5982100367546082,0.12514907121658325,-8.205044746398926,1.4671213626861572,0.8968555331230164,1.2817789316177368,16.98150062561035,7.722085952758789,17.229001998901367,15.773669242858887,0.9067420959472656,-7.489400386810303,-8.332347869873047,1.628631353378296,-7.277825355529785,-6.037487030029297,-0.0777745470404625,3.4495158195495605,16.524063110351562],\"yaxis\":\"y\",\"type\":\"scatter\"}],                        {\"template\":{\"data\":{\"barpolar\":[{\"marker\":{\"line\":{\"color\":\"white\",\"width\":0.5},\"pattern\":{\"fillmode\":\"overlay\",\"size\":10,\"solidity\":0.2}},\"type\":\"barpolar\"}],\"bar\":[{\"error_x\":{\"color\":\"rgb(36,36,36)\"},\"error_y\":{\"color\":\"rgb(36,36,36)\"},\"marker\":{\"line\":{\"color\":\"white\",\"width\":0.5},\"pattern\":{\"fillmode\":\"overlay\",\"size\":10,\"solidity\":0.2}},\"type\":\"bar\"}],\"carpet\":[{\"aaxis\":{\"endlinecolor\":\"rgb(36,36,36)\",\"gridcolor\":\"white\",\"linecolor\":\"white\",\"minorgridcolor\":\"white\",\"startlinecolor\":\"rgb(36,36,36)\"},\"baxis\":{\"endlinecolor\":\"rgb(36,36,36)\",\"gridcolor\":\"white\",\"linecolor\":\"white\",\"minorgridcolor\":\"white\",\"startlinecolor\":\"rgb(36,36,36)\"},\"type\":\"carpet\"}],\"choropleth\":[{\"colorbar\":{\"outlinewidth\":1,\"tickcolor\":\"rgb(36,36,36)\",\"ticks\":\"outside\"},\"type\":\"choropleth\"}],\"contourcarpet\":[{\"colorbar\":{\"outlinewidth\":1,\"tickcolor\":\"rgb(36,36,36)\",\"ticks\":\"outside\"},\"type\":\"contourcarpet\"}],\"contour\":[{\"colorbar\":{\"outlinewidth\":1,\"tickcolor\":\"rgb(36,36,36)\",\"ticks\":\"outside\"},\"colorscale\":[[0.0,\"#440154\"],[0.1111111111111111,\"#482878\"],[0.2222222222222222,\"#3e4989\"],[0.3333333333333333,\"#31688e\"],[0.4444444444444444,\"#26828e\"],[0.5555555555555556,\"#1f9e89\"],[0.6666666666666666,\"#35b779\"],[0.7777777777777778,\"#6ece58\"],[0.8888888888888888,\"#b5de2b\"],[1.0,\"#fde725\"]],\"type\":\"contour\"}],\"heatmapgl\":[{\"colorbar\":{\"outlinewidth\":1,\"tickcolor\":\"rgb(36,36,36)\",\"ticks\":\"outside\"},\"colorscale\":[[0.0,\"#440154\"],[0.1111111111111111,\"#482878\"],[0.2222222222222222,\"#3e4989\"],[0.3333333333333333,\"#31688e\"],[0.4444444444444444,\"#26828e\"],[0.5555555555555556,\"#1f9e89\"],[0.6666666666666666,\"#35b779\"],[0.7777777777777778,\"#6ece58\"],[0.8888888888888888,\"#b5de2b\"],[1.0,\"#fde725\"]],\"type\":\"heatmapgl\"}],\"heatmap\":[{\"colorbar\":{\"outlinewidth\":1,\"tickcolor\":\"rgb(36,36,36)\",\"ticks\":\"outside\"},\"colorscale\":[[0.0,\"#440154\"],[0.1111111111111111,\"#482878\"],[0.2222222222222222,\"#3e4989\"],[0.3333333333333333,\"#31688e\"],[0.4444444444444444,\"#26828e\"],[0.5555555555555556,\"#1f9e89\"],[0.6666666666666666,\"#35b779\"],[0.7777777777777778,\"#6ece58\"],[0.8888888888888888,\"#b5de2b\"],[1.0,\"#fde725\"]],\"type\":\"heatmap\"}],\"histogram2dcontour\":[{\"colorbar\":{\"outlinewidth\":1,\"tickcolor\":\"rgb(36,36,36)\",\"ticks\":\"outside\"},\"colorscale\":[[0.0,\"#440154\"],[0.1111111111111111,\"#482878\"],[0.2222222222222222,\"#3e4989\"],[0.3333333333333333,\"#31688e\"],[0.4444444444444444,\"#26828e\"],[0.5555555555555556,\"#1f9e89\"],[0.6666666666666666,\"#35b779\"],[0.7777777777777778,\"#6ece58\"],[0.8888888888888888,\"#b5de2b\"],[1.0,\"#fde725\"]],\"type\":\"histogram2dcontour\"}],\"histogram2d\":[{\"colorbar\":{\"outlinewidth\":1,\"tickcolor\":\"rgb(36,36,36)\",\"ticks\":\"outside\"},\"colorscale\":[[0.0,\"#440154\"],[0.1111111111111111,\"#482878\"],[0.2222222222222222,\"#3e4989\"],[0.3333333333333333,\"#31688e\"],[0.4444444444444444,\"#26828e\"],[0.5555555555555556,\"#1f9e89\"],[0.6666666666666666,\"#35b779\"],[0.7777777777777778,\"#6ece58\"],[0.8888888888888888,\"#b5de2b\"],[1.0,\"#fde725\"]],\"type\":\"histogram2d\"}],\"histogram\":[{\"marker\":{\"line\":{\"color\":\"white\",\"width\":0.6}},\"type\":\"histogram\"}],\"mesh3d\":[{\"colorbar\":{\"outlinewidth\":1,\"tickcolor\":\"rgb(36,36,36)\",\"ticks\":\"outside\"},\"type\":\"mesh3d\"}],\"parcoords\":[{\"line\":{\"colorbar\":{\"outlinewidth\":1,\"tickcolor\":\"rgb(36,36,36)\",\"ticks\":\"outside\"}},\"type\":\"parcoords\"}],\"pie\":[{\"automargin\":true,\"type\":\"pie\"}],\"scatter3d\":[{\"line\":{\"colorbar\":{\"outlinewidth\":1,\"tickcolor\":\"rgb(36,36,36)\",\"ticks\":\"outside\"}},\"marker\":{\"colorbar\":{\"outlinewidth\":1,\"tickcolor\":\"rgb(36,36,36)\",\"ticks\":\"outside\"}},\"type\":\"scatter3d\"}],\"scattercarpet\":[{\"marker\":{\"colorbar\":{\"outlinewidth\":1,\"tickcolor\":\"rgb(36,36,36)\",\"ticks\":\"outside\"}},\"type\":\"scattercarpet\"}],\"scattergeo\":[{\"marker\":{\"colorbar\":{\"outlinewidth\":1,\"tickcolor\":\"rgb(36,36,36)\",\"ticks\":\"outside\"}},\"type\":\"scattergeo\"}],\"scattergl\":[{\"marker\":{\"colorbar\":{\"outlinewidth\":1,\"tickcolor\":\"rgb(36,36,36)\",\"ticks\":\"outside\"}},\"type\":\"scattergl\"}],\"scattermapbox\":[{\"marker\":{\"colorbar\":{\"outlinewidth\":1,\"tickcolor\":\"rgb(36,36,36)\",\"ticks\":\"outside\"}},\"type\":\"scattermapbox\"}],\"scatterpolargl\":[{\"marker\":{\"colorbar\":{\"outlinewidth\":1,\"tickcolor\":\"rgb(36,36,36)\",\"ticks\":\"outside\"}},\"type\":\"scatterpolargl\"}],\"scatterpolar\":[{\"marker\":{\"colorbar\":{\"outlinewidth\":1,\"tickcolor\":\"rgb(36,36,36)\",\"ticks\":\"outside\"}},\"type\":\"scatterpolar\"}],\"scatter\":[{\"fillpattern\":{\"fillmode\":\"overlay\",\"size\":10,\"solidity\":0.2},\"type\":\"scatter\"}],\"scatterternary\":[{\"marker\":{\"colorbar\":{\"outlinewidth\":1,\"tickcolor\":\"rgb(36,36,36)\",\"ticks\":\"outside\"}},\"type\":\"scatterternary\"}],\"surface\":[{\"colorbar\":{\"outlinewidth\":1,\"tickcolor\":\"rgb(36,36,36)\",\"ticks\":\"outside\"},\"colorscale\":[[0.0,\"#440154\"],[0.1111111111111111,\"#482878\"],[0.2222222222222222,\"#3e4989\"],[0.3333333333333333,\"#31688e\"],[0.4444444444444444,\"#26828e\"],[0.5555555555555556,\"#1f9e89\"],[0.6666666666666666,\"#35b779\"],[0.7777777777777778,\"#6ece58\"],[0.8888888888888888,\"#b5de2b\"],[1.0,\"#fde725\"]],\"type\":\"surface\"}],\"table\":[{\"cells\":{\"fill\":{\"color\":\"rgb(237,237,237)\"},\"line\":{\"color\":\"white\"}},\"header\":{\"fill\":{\"color\":\"rgb(217,217,217)\"},\"line\":{\"color\":\"white\"}},\"type\":\"table\"}]},\"layout\":{\"annotationdefaults\":{\"arrowhead\":0,\"arrowwidth\":1},\"autotypenumbers\":\"strict\",\"coloraxis\":{\"colorbar\":{\"outlinewidth\":1,\"tickcolor\":\"rgb(36,36,36)\",\"ticks\":\"outside\"}},\"colorscale\":{\"diverging\":[[0.0,\"rgb(103,0,31)\"],[0.1,\"rgb(178,24,43)\"],[0.2,\"rgb(214,96,77)\"],[0.3,\"rgb(244,165,130)\"],[0.4,\"rgb(253,219,199)\"],[0.5,\"rgb(247,247,247)\"],[0.6,\"rgb(209,229,240)\"],[0.7,\"rgb(146,197,222)\"],[0.8,\"rgb(67,147,195)\"],[0.9,\"rgb(33,102,172)\"],[1.0,\"rgb(5,48,97)\"]],\"sequential\":[[0.0,\"#440154\"],[0.1111111111111111,\"#482878\"],[0.2222222222222222,\"#3e4989\"],[0.3333333333333333,\"#31688e\"],[0.4444444444444444,\"#26828e\"],[0.5555555555555556,\"#1f9e89\"],[0.6666666666666666,\"#35b779\"],[0.7777777777777778,\"#6ece58\"],[0.8888888888888888,\"#b5de2b\"],[1.0,\"#fde725\"]],\"sequentialminus\":[[0.0,\"#440154\"],[0.1111111111111111,\"#482878\"],[0.2222222222222222,\"#3e4989\"],[0.3333333333333333,\"#31688e\"],[0.4444444444444444,\"#26828e\"],[0.5555555555555556,\"#1f9e89\"],[0.6666666666666666,\"#35b779\"],[0.7777777777777778,\"#6ece58\"],[0.8888888888888888,\"#b5de2b\"],[1.0,\"#fde725\"]]},\"colorway\":[\"#1F77B4\",\"#FF7F0E\",\"#2CA02C\",\"#D62728\",\"#9467BD\",\"#8C564B\",\"#E377C2\",\"#7F7F7F\",\"#BCBD22\",\"#17BECF\"],\"font\":{\"color\":\"rgb(36,36,36)\"},\"geo\":{\"bgcolor\":\"white\",\"lakecolor\":\"white\",\"landcolor\":\"white\",\"showlakes\":true,\"showland\":true,\"subunitcolor\":\"white\"},\"hoverlabel\":{\"align\":\"left\"},\"hovermode\":\"closest\",\"mapbox\":{\"style\":\"light\"},\"paper_bgcolor\":\"white\",\"plot_bgcolor\":\"white\",\"polar\":{\"angularaxis\":{\"gridcolor\":\"rgb(232,232,232)\",\"linecolor\":\"rgb(36,36,36)\",\"showgrid\":false,\"showline\":true,\"ticks\":\"outside\"},\"bgcolor\":\"white\",\"radialaxis\":{\"gridcolor\":\"rgb(232,232,232)\",\"linecolor\":\"rgb(36,36,36)\",\"showgrid\":false,\"showline\":true,\"ticks\":\"outside\"}},\"scene\":{\"xaxis\":{\"backgroundcolor\":\"white\",\"gridcolor\":\"rgb(232,232,232)\",\"gridwidth\":2,\"linecolor\":\"rgb(36,36,36)\",\"showbackground\":true,\"showgrid\":false,\"showline\":true,\"ticks\":\"outside\",\"zeroline\":false,\"zerolinecolor\":\"rgb(36,36,36)\"},\"yaxis\":{\"backgroundcolor\":\"white\",\"gridcolor\":\"rgb(232,232,232)\",\"gridwidth\":2,\"linecolor\":\"rgb(36,36,36)\",\"showbackground\":true,\"showgrid\":false,\"showline\":true,\"ticks\":\"outside\",\"zeroline\":false,\"zerolinecolor\":\"rgb(36,36,36)\"},\"zaxis\":{\"backgroundcolor\":\"white\",\"gridcolor\":\"rgb(232,232,232)\",\"gridwidth\":2,\"linecolor\":\"rgb(36,36,36)\",\"showbackground\":true,\"showgrid\":false,\"showline\":true,\"ticks\":\"outside\",\"zeroline\":false,\"zerolinecolor\":\"rgb(36,36,36)\"}},\"shapedefaults\":{\"fillcolor\":\"black\",\"line\":{\"width\":0},\"opacity\":0.3},\"ternary\":{\"aaxis\":{\"gridcolor\":\"rgb(232,232,232)\",\"linecolor\":\"rgb(36,36,36)\",\"showgrid\":false,\"showline\":true,\"ticks\":\"outside\"},\"baxis\":{\"gridcolor\":\"rgb(232,232,232)\",\"linecolor\":\"rgb(36,36,36)\",\"showgrid\":false,\"showline\":true,\"ticks\":\"outside\"},\"bgcolor\":\"white\",\"caxis\":{\"gridcolor\":\"rgb(232,232,232)\",\"linecolor\":\"rgb(36,36,36)\",\"showgrid\":false,\"showline\":true,\"ticks\":\"outside\"}},\"title\":{\"x\":0.05},\"xaxis\":{\"automargin\":true,\"gridcolor\":\"rgb(232,232,232)\",\"linecolor\":\"rgb(36,36,36)\",\"showgrid\":false,\"showline\":true,\"ticks\":\"outside\",\"title\":{\"standoff\":15},\"zeroline\":false,\"zerolinecolor\":\"rgb(36,36,36)\"},\"yaxis\":{\"automargin\":true,\"gridcolor\":\"rgb(232,232,232)\",\"linecolor\":\"rgb(36,36,36)\",\"showgrid\":false,\"showline\":true,\"ticks\":\"outside\",\"title\":{\"standoff\":15},\"zeroline\":false,\"zerolinecolor\":\"rgb(36,36,36)\"}}},\"xaxis\":{\"anchor\":\"y\",\"domain\":[0.0,1.0],\"title\":{\"text\":\"\"},\"visible\":false,\"range\":[-6.872871398925781,24.58770971298218]},\"yaxis\":{\"anchor\":\"x\",\"domain\":[0.0,1.0],\"title\":{\"text\":\"\"},\"visible\":false,\"range\":[-9.582200050354004,19.81335229873657]},\"legend\":{\"tracegroupgap\":0,\"itemsizing\":\"constant\"},\"margin\":{\"t\":60},\"title\":{\"font\":{\"size\":22,\"color\":\"Black\"},\"text\":\"\\u003cb\\u003eIntertopic Distance Map\\u003c\\u002fb\\u003e\",\"y\":0.95,\"x\":0.5,\"xanchor\":\"center\",\"yanchor\":\"top\"},\"hoverlabel\":{\"font\":{\"size\":16,\"family\":\"Rockwell\"},\"bgcolor\":\"white\"},\"width\":650,\"height\":650,\"sliders\":[{\"active\":0,\"pad\":{\"t\":50},\"steps\":[{\"args\":[{\"marker.color\":[[\"red\",\"#B0BEC5\",\"#B0BEC5\",\"#B0BEC5\",\"#B0BEC5\",\"#B0BEC5\",\"#B0BEC5\",\"#B0BEC5\",\"#B0BEC5\",\"#B0BEC5\",\"#B0BEC5\",\"#B0BEC5\",\"#B0BEC5\",\"#B0BEC5\",\"#B0BEC5\",\"#B0BEC5\",\"#B0BEC5\",\"#B0BEC5\",\"#B0BEC5\",\"#B0BEC5\",\"#B0BEC5\",\"#B0BEC5\",\"#B0BEC5\",\"#B0BEC5\",\"#B0BEC5\",\"#B0BEC5\",\"#B0BEC5\",\"#B0BEC5\",\"#B0BEC5\",\"#B0BEC5\",\"#B0BEC5\"]]}],\"label\":\"Topic 0\",\"method\":\"update\"},{\"args\":[{\"marker.color\":[[\"#B0BEC5\",\"red\",\"#B0BEC5\",\"#B0BEC5\",\"#B0BEC5\",\"#B0BEC5\",\"#B0BEC5\",\"#B0BEC5\",\"#B0BEC5\",\"#B0BEC5\",\"#B0BEC5\",\"#B0BEC5\",\"#B0BEC5\",\"#B0BEC5\",\"#B0BEC5\",\"#B0BEC5\",\"#B0BEC5\",\"#B0BEC5\",\"#B0BEC5\",\"#B0BEC5\",\"#B0BEC5\",\"#B0BEC5\",\"#B0BEC5\",\"#B0BEC5\",\"#B0BEC5\",\"#B0BEC5\",\"#B0BEC5\",\"#B0BEC5\",\"#B0BEC5\",\"#B0BEC5\",\"#B0BEC5\"]]}],\"label\":\"Topic 1\",\"method\":\"update\"},{\"args\":[{\"marker.color\":[[\"#B0BEC5\",\"#B0BEC5\",\"red\",\"#B0BEC5\",\"#B0BEC5\",\"#B0BEC5\",\"#B0BEC5\",\"#B0BEC5\",\"#B0BEC5\",\"#B0BEC5\",\"#B0BEC5\",\"#B0BEC5\",\"#B0BEC5\",\"#B0BEC5\",\"#B0BEC5\",\"#B0BEC5\",\"#B0BEC5\",\"#B0BEC5\",\"#B0BEC5\",\"#B0BEC5\",\"#B0BEC5\",\"#B0BEC5\",\"#B0BEC5\",\"#B0BEC5\",\"#B0BEC5\",\"#B0BEC5\",\"#B0BEC5\",\"#B0BEC5\",\"#B0BEC5\",\"#B0BEC5\",\"#B0BEC5\"]]}],\"label\":\"Topic 2\",\"method\":\"update\"},{\"args\":[{\"marker.color\":[[\"#B0BEC5\",\"#B0BEC5\",\"#B0BEC5\",\"red\",\"#B0BEC5\",\"#B0BEC5\",\"#B0BEC5\",\"#B0BEC5\",\"#B0BEC5\",\"#B0BEC5\",\"#B0BEC5\",\"#B0BEC5\",\"#B0BEC5\",\"#B0BEC5\",\"#B0BEC5\",\"#B0BEC5\",\"#B0BEC5\",\"#B0BEC5\",\"#B0BEC5\",\"#B0BEC5\",\"#B0BEC5\",\"#B0BEC5\",\"#B0BEC5\",\"#B0BEC5\",\"#B0BEC5\",\"#B0BEC5\",\"#B0BEC5\",\"#B0BEC5\",\"#B0BEC5\",\"#B0BEC5\",\"#B0BEC5\"]]}],\"label\":\"Topic 3\",\"method\":\"update\"},{\"args\":[{\"marker.color\":[[\"#B0BEC5\",\"#B0BEC5\",\"#B0BEC5\",\"#B0BEC5\",\"red\",\"#B0BEC5\",\"#B0BEC5\",\"#B0BEC5\",\"#B0BEC5\",\"#B0BEC5\",\"#B0BEC5\",\"#B0BEC5\",\"#B0BEC5\",\"#B0BEC5\",\"#B0BEC5\",\"#B0BEC5\",\"#B0BEC5\",\"#B0BEC5\",\"#B0BEC5\",\"#B0BEC5\",\"#B0BEC5\",\"#B0BEC5\",\"#B0BEC5\",\"#B0BEC5\",\"#B0BEC5\",\"#B0BEC5\",\"#B0BEC5\",\"#B0BEC5\",\"#B0BEC5\",\"#B0BEC5\",\"#B0BEC5\"]]}],\"label\":\"Topic 4\",\"method\":\"update\"},{\"args\":[{\"marker.color\":[[\"#B0BEC5\",\"#B0BEC5\",\"#B0BEC5\",\"#B0BEC5\",\"#B0BEC5\",\"red\",\"#B0BEC5\",\"#B0BEC5\",\"#B0BEC5\",\"#B0BEC5\",\"#B0BEC5\",\"#B0BEC5\",\"#B0BEC5\",\"#B0BEC5\",\"#B0BEC5\",\"#B0BEC5\",\"#B0BEC5\",\"#B0BEC5\",\"#B0BEC5\",\"#B0BEC5\",\"#B0BEC5\",\"#B0BEC5\",\"#B0BEC5\",\"#B0BEC5\",\"#B0BEC5\",\"#B0BEC5\",\"#B0BEC5\",\"#B0BEC5\",\"#B0BEC5\",\"#B0BEC5\",\"#B0BEC5\"]]}],\"label\":\"Topic 5\",\"method\":\"update\"},{\"args\":[{\"marker.color\":[[\"#B0BEC5\",\"#B0BEC5\",\"#B0BEC5\",\"#B0BEC5\",\"#B0BEC5\",\"#B0BEC5\",\"red\",\"#B0BEC5\",\"#B0BEC5\",\"#B0BEC5\",\"#B0BEC5\",\"#B0BEC5\",\"#B0BEC5\",\"#B0BEC5\",\"#B0BEC5\",\"#B0BEC5\",\"#B0BEC5\",\"#B0BEC5\",\"#B0BEC5\",\"#B0BEC5\",\"#B0BEC5\",\"#B0BEC5\",\"#B0BEC5\",\"#B0BEC5\",\"#B0BEC5\",\"#B0BEC5\",\"#B0BEC5\",\"#B0BEC5\",\"#B0BEC5\",\"#B0BEC5\",\"#B0BEC5\"]]}],\"label\":\"Topic 6\",\"method\":\"update\"},{\"args\":[{\"marker.color\":[[\"#B0BEC5\",\"#B0BEC5\",\"#B0BEC5\",\"#B0BEC5\",\"#B0BEC5\",\"#B0BEC5\",\"#B0BEC5\",\"red\",\"#B0BEC5\",\"#B0BEC5\",\"#B0BEC5\",\"#B0BEC5\",\"#B0BEC5\",\"#B0BEC5\",\"#B0BEC5\",\"#B0BEC5\",\"#B0BEC5\",\"#B0BEC5\",\"#B0BEC5\",\"#B0BEC5\",\"#B0BEC5\",\"#B0BEC5\",\"#B0BEC5\",\"#B0BEC5\",\"#B0BEC5\",\"#B0BEC5\",\"#B0BEC5\",\"#B0BEC5\",\"#B0BEC5\",\"#B0BEC5\",\"#B0BEC5\"]]}],\"label\":\"Topic 7\",\"method\":\"update\"},{\"args\":[{\"marker.color\":[[\"#B0BEC5\",\"#B0BEC5\",\"#B0BEC5\",\"#B0BEC5\",\"#B0BEC5\",\"#B0BEC5\",\"#B0BEC5\",\"#B0BEC5\",\"red\",\"#B0BEC5\",\"#B0BEC5\",\"#B0BEC5\",\"#B0BEC5\",\"#B0BEC5\",\"#B0BEC5\",\"#B0BEC5\",\"#B0BEC5\",\"#B0BEC5\",\"#B0BEC5\",\"#B0BEC5\",\"#B0BEC5\",\"#B0BEC5\",\"#B0BEC5\",\"#B0BEC5\",\"#B0BEC5\",\"#B0BEC5\",\"#B0BEC5\",\"#B0BEC5\",\"#B0BEC5\",\"#B0BEC5\",\"#B0BEC5\"]]}],\"label\":\"Topic 8\",\"method\":\"update\"},{\"args\":[{\"marker.color\":[[\"#B0BEC5\",\"#B0BEC5\",\"#B0BEC5\",\"#B0BEC5\",\"#B0BEC5\",\"#B0BEC5\",\"#B0BEC5\",\"#B0BEC5\",\"#B0BEC5\",\"red\",\"#B0BEC5\",\"#B0BEC5\",\"#B0BEC5\",\"#B0BEC5\",\"#B0BEC5\",\"#B0BEC5\",\"#B0BEC5\",\"#B0BEC5\",\"#B0BEC5\",\"#B0BEC5\",\"#B0BEC5\",\"#B0BEC5\",\"#B0BEC5\",\"#B0BEC5\",\"#B0BEC5\",\"#B0BEC5\",\"#B0BEC5\",\"#B0BEC5\",\"#B0BEC5\",\"#B0BEC5\",\"#B0BEC5\"]]}],\"label\":\"Topic 9\",\"method\":\"update\"},{\"args\":[{\"marker.color\":[[\"#B0BEC5\",\"#B0BEC5\",\"#B0BEC5\",\"#B0BEC5\",\"#B0BEC5\",\"#B0BEC5\",\"#B0BEC5\",\"#B0BEC5\",\"#B0BEC5\",\"#B0BEC5\",\"red\",\"#B0BEC5\",\"#B0BEC5\",\"#B0BEC5\",\"#B0BEC5\",\"#B0BEC5\",\"#B0BEC5\",\"#B0BEC5\",\"#B0BEC5\",\"#B0BEC5\",\"#B0BEC5\",\"#B0BEC5\",\"#B0BEC5\",\"#B0BEC5\",\"#B0BEC5\",\"#B0BEC5\",\"#B0BEC5\",\"#B0BEC5\",\"#B0BEC5\",\"#B0BEC5\",\"#B0BEC5\"]]}],\"label\":\"Topic 10\",\"method\":\"update\"},{\"args\":[{\"marker.color\":[[\"#B0BEC5\",\"#B0BEC5\",\"#B0BEC5\",\"#B0BEC5\",\"#B0BEC5\",\"#B0BEC5\",\"#B0BEC5\",\"#B0BEC5\",\"#B0BEC5\",\"#B0BEC5\",\"#B0BEC5\",\"red\",\"#B0BEC5\",\"#B0BEC5\",\"#B0BEC5\",\"#B0BEC5\",\"#B0BEC5\",\"#B0BEC5\",\"#B0BEC5\",\"#B0BEC5\",\"#B0BEC5\",\"#B0BEC5\",\"#B0BEC5\",\"#B0BEC5\",\"#B0BEC5\",\"#B0BEC5\",\"#B0BEC5\",\"#B0BEC5\",\"#B0BEC5\",\"#B0BEC5\",\"#B0BEC5\"]]}],\"label\":\"Topic 11\",\"method\":\"update\"},{\"args\":[{\"marker.color\":[[\"#B0BEC5\",\"#B0BEC5\",\"#B0BEC5\",\"#B0BEC5\",\"#B0BEC5\",\"#B0BEC5\",\"#B0BEC5\",\"#B0BEC5\",\"#B0BEC5\",\"#B0BEC5\",\"#B0BEC5\",\"#B0BEC5\",\"red\",\"#B0BEC5\",\"#B0BEC5\",\"#B0BEC5\",\"#B0BEC5\",\"#B0BEC5\",\"#B0BEC5\",\"#B0BEC5\",\"#B0BEC5\",\"#B0BEC5\",\"#B0BEC5\",\"#B0BEC5\",\"#B0BEC5\",\"#B0BEC5\",\"#B0BEC5\",\"#B0BEC5\",\"#B0BEC5\",\"#B0BEC5\",\"#B0BEC5\"]]}],\"label\":\"Topic 12\",\"method\":\"update\"},{\"args\":[{\"marker.color\":[[\"#B0BEC5\",\"#B0BEC5\",\"#B0BEC5\",\"#B0BEC5\",\"#B0BEC5\",\"#B0BEC5\",\"#B0BEC5\",\"#B0BEC5\",\"#B0BEC5\",\"#B0BEC5\",\"#B0BEC5\",\"#B0BEC5\",\"#B0BEC5\",\"red\",\"#B0BEC5\",\"#B0BEC5\",\"#B0BEC5\",\"#B0BEC5\",\"#B0BEC5\",\"#B0BEC5\",\"#B0BEC5\",\"#B0BEC5\",\"#B0BEC5\",\"#B0BEC5\",\"#B0BEC5\",\"#B0BEC5\",\"#B0BEC5\",\"#B0BEC5\",\"#B0BEC5\",\"#B0BEC5\",\"#B0BEC5\"]]}],\"label\":\"Topic 13\",\"method\":\"update\"},{\"args\":[{\"marker.color\":[[\"#B0BEC5\",\"#B0BEC5\",\"#B0BEC5\",\"#B0BEC5\",\"#B0BEC5\",\"#B0BEC5\",\"#B0BEC5\",\"#B0BEC5\",\"#B0BEC5\",\"#B0BEC5\",\"#B0BEC5\",\"#B0BEC5\",\"#B0BEC5\",\"#B0BEC5\",\"red\",\"#B0BEC5\",\"#B0BEC5\",\"#B0BEC5\",\"#B0BEC5\",\"#B0BEC5\",\"#B0BEC5\",\"#B0BEC5\",\"#B0BEC5\",\"#B0BEC5\",\"#B0BEC5\",\"#B0BEC5\",\"#B0BEC5\",\"#B0BEC5\",\"#B0BEC5\",\"#B0BEC5\",\"#B0BEC5\"]]}],\"label\":\"Topic 14\",\"method\":\"update\"},{\"args\":[{\"marker.color\":[[\"#B0BEC5\",\"#B0BEC5\",\"#B0BEC5\",\"#B0BEC5\",\"#B0BEC5\",\"#B0BEC5\",\"#B0BEC5\",\"#B0BEC5\",\"#B0BEC5\",\"#B0BEC5\",\"#B0BEC5\",\"#B0BEC5\",\"#B0BEC5\",\"#B0BEC5\",\"#B0BEC5\",\"red\",\"#B0BEC5\",\"#B0BEC5\",\"#B0BEC5\",\"#B0BEC5\",\"#B0BEC5\",\"#B0BEC5\",\"#B0BEC5\",\"#B0BEC5\",\"#B0BEC5\",\"#B0BEC5\",\"#B0BEC5\",\"#B0BEC5\",\"#B0BEC5\",\"#B0BEC5\",\"#B0BEC5\"]]}],\"label\":\"Topic 15\",\"method\":\"update\"},{\"args\":[{\"marker.color\":[[\"#B0BEC5\",\"#B0BEC5\",\"#B0BEC5\",\"#B0BEC5\",\"#B0BEC5\",\"#B0BEC5\",\"#B0BEC5\",\"#B0BEC5\",\"#B0BEC5\",\"#B0BEC5\",\"#B0BEC5\",\"#B0BEC5\",\"#B0BEC5\",\"#B0BEC5\",\"#B0BEC5\",\"#B0BEC5\",\"red\",\"#B0BEC5\",\"#B0BEC5\",\"#B0BEC5\",\"#B0BEC5\",\"#B0BEC5\",\"#B0BEC5\",\"#B0BEC5\",\"#B0BEC5\",\"#B0BEC5\",\"#B0BEC5\",\"#B0BEC5\",\"#B0BEC5\",\"#B0BEC5\",\"#B0BEC5\"]]}],\"label\":\"Topic 16\",\"method\":\"update\"},{\"args\":[{\"marker.color\":[[\"#B0BEC5\",\"#B0BEC5\",\"#B0BEC5\",\"#B0BEC5\",\"#B0BEC5\",\"#B0BEC5\",\"#B0BEC5\",\"#B0BEC5\",\"#B0BEC5\",\"#B0BEC5\",\"#B0BEC5\",\"#B0BEC5\",\"#B0BEC5\",\"#B0BEC5\",\"#B0BEC5\",\"#B0BEC5\",\"#B0BEC5\",\"red\",\"#B0BEC5\",\"#B0BEC5\",\"#B0BEC5\",\"#B0BEC5\",\"#B0BEC5\",\"#B0BEC5\",\"#B0BEC5\",\"#B0BEC5\",\"#B0BEC5\",\"#B0BEC5\",\"#B0BEC5\",\"#B0BEC5\",\"#B0BEC5\"]]}],\"label\":\"Topic 17\",\"method\":\"update\"},{\"args\":[{\"marker.color\":[[\"#B0BEC5\",\"#B0BEC5\",\"#B0BEC5\",\"#B0BEC5\",\"#B0BEC5\",\"#B0BEC5\",\"#B0BEC5\",\"#B0BEC5\",\"#B0BEC5\",\"#B0BEC5\",\"#B0BEC5\",\"#B0BEC5\",\"#B0BEC5\",\"#B0BEC5\",\"#B0BEC5\",\"#B0BEC5\",\"#B0BEC5\",\"#B0BEC5\",\"red\",\"#B0BEC5\",\"#B0BEC5\",\"#B0BEC5\",\"#B0BEC5\",\"#B0BEC5\",\"#B0BEC5\",\"#B0BEC5\",\"#B0BEC5\",\"#B0BEC5\",\"#B0BEC5\",\"#B0BEC5\",\"#B0BEC5\"]]}],\"label\":\"Topic 18\",\"method\":\"update\"},{\"args\":[{\"marker.color\":[[\"#B0BEC5\",\"#B0BEC5\",\"#B0BEC5\",\"#B0BEC5\",\"#B0BEC5\",\"#B0BEC5\",\"#B0BEC5\",\"#B0BEC5\",\"#B0BEC5\",\"#B0BEC5\",\"#B0BEC5\",\"#B0BEC5\",\"#B0BEC5\",\"#B0BEC5\",\"#B0BEC5\",\"#B0BEC5\",\"#B0BEC5\",\"#B0BEC5\",\"#B0BEC5\",\"red\",\"#B0BEC5\",\"#B0BEC5\",\"#B0BEC5\",\"#B0BEC5\",\"#B0BEC5\",\"#B0BEC5\",\"#B0BEC5\",\"#B0BEC5\",\"#B0BEC5\",\"#B0BEC5\",\"#B0BEC5\"]]}],\"label\":\"Topic 19\",\"method\":\"update\"},{\"args\":[{\"marker.color\":[[\"#B0BEC5\",\"#B0BEC5\",\"#B0BEC5\",\"#B0BEC5\",\"#B0BEC5\",\"#B0BEC5\",\"#B0BEC5\",\"#B0BEC5\",\"#B0BEC5\",\"#B0BEC5\",\"#B0BEC5\",\"#B0BEC5\",\"#B0BEC5\",\"#B0BEC5\",\"#B0BEC5\",\"#B0BEC5\",\"#B0BEC5\",\"#B0BEC5\",\"#B0BEC5\",\"#B0BEC5\",\"red\",\"#B0BEC5\",\"#B0BEC5\",\"#B0BEC5\",\"#B0BEC5\",\"#B0BEC5\",\"#B0BEC5\",\"#B0BEC5\",\"#B0BEC5\",\"#B0BEC5\",\"#B0BEC5\"]]}],\"label\":\"Topic 20\",\"method\":\"update\"},{\"args\":[{\"marker.color\":[[\"#B0BEC5\",\"#B0BEC5\",\"#B0BEC5\",\"#B0BEC5\",\"#B0BEC5\",\"#B0BEC5\",\"#B0BEC5\",\"#B0BEC5\",\"#B0BEC5\",\"#B0BEC5\",\"#B0BEC5\",\"#B0BEC5\",\"#B0BEC5\",\"#B0BEC5\",\"#B0BEC5\",\"#B0BEC5\",\"#B0BEC5\",\"#B0BEC5\",\"#B0BEC5\",\"#B0BEC5\",\"#B0BEC5\",\"red\",\"#B0BEC5\",\"#B0BEC5\",\"#B0BEC5\",\"#B0BEC5\",\"#B0BEC5\",\"#B0BEC5\",\"#B0BEC5\",\"#B0BEC5\",\"#B0BEC5\"]]}],\"label\":\"Topic 21\",\"method\":\"update\"},{\"args\":[{\"marker.color\":[[\"#B0BEC5\",\"#B0BEC5\",\"#B0BEC5\",\"#B0BEC5\",\"#B0BEC5\",\"#B0BEC5\",\"#B0BEC5\",\"#B0BEC5\",\"#B0BEC5\",\"#B0BEC5\",\"#B0BEC5\",\"#B0BEC5\",\"#B0BEC5\",\"#B0BEC5\",\"#B0BEC5\",\"#B0BEC5\",\"#B0BEC5\",\"#B0BEC5\",\"#B0BEC5\",\"#B0BEC5\",\"#B0BEC5\",\"#B0BEC5\",\"red\",\"#B0BEC5\",\"#B0BEC5\",\"#B0BEC5\",\"#B0BEC5\",\"#B0BEC5\",\"#B0BEC5\",\"#B0BEC5\",\"#B0BEC5\"]]}],\"label\":\"Topic 22\",\"method\":\"update\"},{\"args\":[{\"marker.color\":[[\"#B0BEC5\",\"#B0BEC5\",\"#B0BEC5\",\"#B0BEC5\",\"#B0BEC5\",\"#B0BEC5\",\"#B0BEC5\",\"#B0BEC5\",\"#B0BEC5\",\"#B0BEC5\",\"#B0BEC5\",\"#B0BEC5\",\"#B0BEC5\",\"#B0BEC5\",\"#B0BEC5\",\"#B0BEC5\",\"#B0BEC5\",\"#B0BEC5\",\"#B0BEC5\",\"#B0BEC5\",\"#B0BEC5\",\"#B0BEC5\",\"#B0BEC5\",\"red\",\"#B0BEC5\",\"#B0BEC5\",\"#B0BEC5\",\"#B0BEC5\",\"#B0BEC5\",\"#B0BEC5\",\"#B0BEC5\"]]}],\"label\":\"Topic 23\",\"method\":\"update\"},{\"args\":[{\"marker.color\":[[\"#B0BEC5\",\"#B0BEC5\",\"#B0BEC5\",\"#B0BEC5\",\"#B0BEC5\",\"#B0BEC5\",\"#B0BEC5\",\"#B0BEC5\",\"#B0BEC5\",\"#B0BEC5\",\"#B0BEC5\",\"#B0BEC5\",\"#B0BEC5\",\"#B0BEC5\",\"#B0BEC5\",\"#B0BEC5\",\"#B0BEC5\",\"#B0BEC5\",\"#B0BEC5\",\"#B0BEC5\",\"#B0BEC5\",\"#B0BEC5\",\"#B0BEC5\",\"#B0BEC5\",\"red\",\"#B0BEC5\",\"#B0BEC5\",\"#B0BEC5\",\"#B0BEC5\",\"#B0BEC5\",\"#B0BEC5\"]]}],\"label\":\"Topic 24\",\"method\":\"update\"},{\"args\":[{\"marker.color\":[[\"#B0BEC5\",\"#B0BEC5\",\"#B0BEC5\",\"#B0BEC5\",\"#B0BEC5\",\"#B0BEC5\",\"#B0BEC5\",\"#B0BEC5\",\"#B0BEC5\",\"#B0BEC5\",\"#B0BEC5\",\"#B0BEC5\",\"#B0BEC5\",\"#B0BEC5\",\"#B0BEC5\",\"#B0BEC5\",\"#B0BEC5\",\"#B0BEC5\",\"#B0BEC5\",\"#B0BEC5\",\"#B0BEC5\",\"#B0BEC5\",\"#B0BEC5\",\"#B0BEC5\",\"#B0BEC5\",\"red\",\"#B0BEC5\",\"#B0BEC5\",\"#B0BEC5\",\"#B0BEC5\",\"#B0BEC5\"]]}],\"label\":\"Topic 25\",\"method\":\"update\"},{\"args\":[{\"marker.color\":[[\"#B0BEC5\",\"#B0BEC5\",\"#B0BEC5\",\"#B0BEC5\",\"#B0BEC5\",\"#B0BEC5\",\"#B0BEC5\",\"#B0BEC5\",\"#B0BEC5\",\"#B0BEC5\",\"#B0BEC5\",\"#B0BEC5\",\"#B0BEC5\",\"#B0BEC5\",\"#B0BEC5\",\"#B0BEC5\",\"#B0BEC5\",\"#B0BEC5\",\"#B0BEC5\",\"#B0BEC5\",\"#B0BEC5\",\"#B0BEC5\",\"#B0BEC5\",\"#B0BEC5\",\"#B0BEC5\",\"#B0BEC5\",\"red\",\"#B0BEC5\",\"#B0BEC5\",\"#B0BEC5\",\"#B0BEC5\"]]}],\"label\":\"Topic 26\",\"method\":\"update\"},{\"args\":[{\"marker.color\":[[\"#B0BEC5\",\"#B0BEC5\",\"#B0BEC5\",\"#B0BEC5\",\"#B0BEC5\",\"#B0BEC5\",\"#B0BEC5\",\"#B0BEC5\",\"#B0BEC5\",\"#B0BEC5\",\"#B0BEC5\",\"#B0BEC5\",\"#B0BEC5\",\"#B0BEC5\",\"#B0BEC5\",\"#B0BEC5\",\"#B0BEC5\",\"#B0BEC5\",\"#B0BEC5\",\"#B0BEC5\",\"#B0BEC5\",\"#B0BEC5\",\"#B0BEC5\",\"#B0BEC5\",\"#B0BEC5\",\"#B0BEC5\",\"#B0BEC5\",\"red\",\"#B0BEC5\",\"#B0BEC5\",\"#B0BEC5\"]]}],\"label\":\"Topic 27\",\"method\":\"update\"},{\"args\":[{\"marker.color\":[[\"#B0BEC5\",\"#B0BEC5\",\"#B0BEC5\",\"#B0BEC5\",\"#B0BEC5\",\"#B0BEC5\",\"#B0BEC5\",\"#B0BEC5\",\"#B0BEC5\",\"#B0BEC5\",\"#B0BEC5\",\"#B0BEC5\",\"#B0BEC5\",\"#B0BEC5\",\"#B0BEC5\",\"#B0BEC5\",\"#B0BEC5\",\"#B0BEC5\",\"#B0BEC5\",\"#B0BEC5\",\"#B0BEC5\",\"#B0BEC5\",\"#B0BEC5\",\"#B0BEC5\",\"#B0BEC5\",\"#B0BEC5\",\"#B0BEC5\",\"#B0BEC5\",\"red\",\"#B0BEC5\",\"#B0BEC5\"]]}],\"label\":\"Topic 28\",\"method\":\"update\"},{\"args\":[{\"marker.color\":[[\"#B0BEC5\",\"#B0BEC5\",\"#B0BEC5\",\"#B0BEC5\",\"#B0BEC5\",\"#B0BEC5\",\"#B0BEC5\",\"#B0BEC5\",\"#B0BEC5\",\"#B0BEC5\",\"#B0BEC5\",\"#B0BEC5\",\"#B0BEC5\",\"#B0BEC5\",\"#B0BEC5\",\"#B0BEC5\",\"#B0BEC5\",\"#B0BEC5\",\"#B0BEC5\",\"#B0BEC5\",\"#B0BEC5\",\"#B0BEC5\",\"#B0BEC5\",\"#B0BEC5\",\"#B0BEC5\",\"#B0BEC5\",\"#B0BEC5\",\"#B0BEC5\",\"#B0BEC5\",\"red\",\"#B0BEC5\"]]}],\"label\":\"Topic 29\",\"method\":\"update\"},{\"args\":[{\"marker.color\":[[\"#B0BEC5\",\"#B0BEC5\",\"#B0BEC5\",\"#B0BEC5\",\"#B0BEC5\",\"#B0BEC5\",\"#B0BEC5\",\"#B0BEC5\",\"#B0BEC5\",\"#B0BEC5\",\"#B0BEC5\",\"#B0BEC5\",\"#B0BEC5\",\"#B0BEC5\",\"#B0BEC5\",\"#B0BEC5\",\"#B0BEC5\",\"#B0BEC5\",\"#B0BEC5\",\"#B0BEC5\",\"#B0BEC5\",\"#B0BEC5\",\"#B0BEC5\",\"#B0BEC5\",\"#B0BEC5\",\"#B0BEC5\",\"#B0BEC5\",\"#B0BEC5\",\"#B0BEC5\",\"#B0BEC5\",\"red\"]]}],\"label\":\"Topic 30\",\"method\":\"update\"}]}],\"shapes\":[{\"line\":{\"color\":\"#CFD8DC\",\"width\":2},\"type\":\"line\",\"x0\":8.857419157028199,\"x1\":8.857419157028199,\"y0\":-9.582200050354004,\"y1\":19.81335229873657},{\"line\":{\"color\":\"#9E9E9E\",\"width\":2},\"type\":\"line\",\"x0\":-6.872871398925781,\"x1\":24.58770971298218,\"y0\":5.115576124191284,\"y1\":5.115576124191284}],\"annotations\":[{\"showarrow\":false,\"text\":\"D1\",\"x\":-6.872871398925781,\"y\":5.115576124191284,\"yshift\":10},{\"showarrow\":false,\"text\":\"D2\",\"x\":8.857419157028199,\"xshift\":10,\"y\":19.81335229873657}]},                        {\"responsive\": true}                    ).then(function(){\n",
              "                            \n",
              "var gd = document.getElementById('b71f2509-5019-4096-b234-debd37c13208');\n",
              "var x = new MutationObserver(function (mutations, observer) {{\n",
              "        var display = window.getComputedStyle(gd).display;\n",
              "        if (!display || display === 'none') {{\n",
              "            console.log([gd, 'removed!']);\n",
              "            Plotly.purge(gd);\n",
              "            observer.disconnect();\n",
              "        }}\n",
              "}});\n",
              "\n",
              "// Listen for the removal of the full notebook cells\n",
              "var notebookContainer = gd.closest('#notebook-container');\n",
              "if (notebookContainer) {{\n",
              "    x.observe(notebookContainer, {childList: true});\n",
              "}}\n",
              "\n",
              "// Listen for the clearing of the current output cell\n",
              "var outputEl = gd.closest('.output');\n",
              "if (outputEl) {{\n",
              "    x.observe(outputEl, {childList: true});\n",
              "}}\n",
              "\n",
              "                        })                };                            </script>        </div>\n",
              "</body>\n",
              "</html>"
            ]
          },
          "metadata": {}
        }
      ]
    },
    {
      "cell_type": "code",
      "source": [
        "fig = model.visualize_barchart(top_n_topics=30)\n",
        "fig.show()"
      ],
      "metadata": {
        "colab": {
          "base_uri": "https://localhost:8080/",
          "height": 1000
        },
        "id": "OYjVyVbCuks-",
        "outputId": "573ad8b7-3cc4-47c0-9424-578c0d4a393b"
      },
      "execution_count": 23,
      "outputs": [
        {
          "output_type": "display_data",
          "data": {
            "text/html": [
              "<html>\n",
              "<head><meta charset=\"utf-8\" /></head>\n",
              "<body>\n",
              "    <div>            <script src=\"https://cdnjs.cloudflare.com/ajax/libs/mathjax/2.7.5/MathJax.js?config=TeX-AMS-MML_SVG\"></script><script type=\"text/javascript\">if (window.MathJax && window.MathJax.Hub && window.MathJax.Hub.Config) {window.MathJax.Hub.Config({SVG: {font: \"STIX-Web\"}});}</script>                <script type=\"text/javascript\">window.PlotlyConfig = {MathJaxConfig: 'local'};</script>\n",
              "        <script charset=\"utf-8\" src=\"https://cdn.plot.ly/plotly-2.24.1.min.js\"></script>                <div id=\"374b1bd1-a247-4256-b632-86be3aa8d236\" class=\"plotly-graph-div\" style=\"height:2000px; width:1000px;\"></div>            <script type=\"text/javascript\">                                    window.PLOTLYENV=window.PLOTLYENV || {};                                    if (document.getElementById(\"374b1bd1-a247-4256-b632-86be3aa8d236\")) {                    Plotly.newPlot(                        \"374b1bd1-a247-4256-b632-86be3aa8d236\",                        [{\"marker\":{\"color\":\"#D55E00\"},\"orientation\":\"h\",\"x\":[0.008682207237490623,0.008902438459806906,0.008902438459806906,0.009711539065700745,0.011695379669686168],\"y\":[\"\\u043c\\u043e\\u0447\\u044c  \",\"\\u043a\\u0430\\u0442\\u0435\\u0440\\u0438\\u043d\\u0430 \\u0438\\u0432\\u0430\\u043d\\u043e\\u0432\\u0438\\u0447  \",\"\\u043a\\u0430\\u0442\\u0435\\u0440\\u0438\\u043d\\u0430  \",\"\\u0433\\u043e\\u0434  \",\"\\u0438\\u0432\\u0430\\u043d\\u043e\\u0432\\u0438\\u0447  \"],\"type\":\"bar\",\"xaxis\":\"x\",\"yaxis\":\"y\"},{\"marker\":{\"color\":\"#0072B2\"},\"orientation\":\"h\",\"x\":[0.014810498494346427,0.01867865792899252,0.01900965953984257,0.024603030079706743,0.03401760052751148],\"y\":[\"\\u043b\\u044e\\u0431\\u0438\\u0442\\u044c  \",\"\\u0438\\u0438\\u0441\\u0443\\u0441  \",\"\\u043b\\u0438\\u0437\\u0430\\u0432\\u0435\\u0442\\u0430  \",\"\\u0433\\u043e\\u0441\\u043f\\u043e\\u0434\\u044c  \",\"\\u0431\\u043e\\u0433  \"],\"type\":\"bar\",\"xaxis\":\"x2\",\"yaxis\":\"y2\"},{\"marker\":{\"color\":\"#CC79A7\"},\"orientation\":\"h\",\"x\":[0.03697312362819356,0.03697312362819356,0.06501198989516208,0.06730119091286126,0.06730119091286126],\"y\":[\"\\u043f\\u0443\\u043b\\u044c\\u0445\\u0435\\u0440\\u0438\\u044f  \",\"\\u043f\\u0443\\u043b\\u044c\\u0445\\u0435\\u0440\\u0438\\u044f \\u0430\\u043b\\u0435\\u043a\\u0441\\u0430\\u043d\\u0434\\u0440\\u043e\\u0432\\u0438\\u0447  \",\"\\u043f\\u0435\\u0442\\u0440\\u043e\\u0432\\u0438\\u0447  \",\"\\u043f\\u0451\\u0442\\u0440 \\u043f\\u0435\\u0442\\u0440\\u043e\\u0432\\u0438\\u0447  \",\"\\u043f\\u0451\\u0442\\u0440  \"],\"type\":\"bar\",\"xaxis\":\"x3\",\"yaxis\":\"y3\"},{\"marker\":{\"color\":\"#E69F00\"},\"orientation\":\"h\",\"x\":[0.02676463906465599,0.0316905176198671,0.038832200551545064,0.04271283393123933,0.052490209729092324],\"y\":[\"\\u043e\\u0442\\u0432\\u043e\\u0440\\u0438\\u0442\\u044c  \",\"\\u043a\\u0432\\u0430\\u0440\\u0442\\u0438\\u0440\\u0430  \",\"\\u044d\\u0442\\u0430\\u0436  \",\"\\u043b\\u0435\\u0441\\u0442\\u043d\\u0438\\u0446\\u0430  \",\"\\u0434\\u0432\\u0435\\u0440\\u044c  \"],\"type\":\"bar\",\"xaxis\":\"x4\",\"yaxis\":\"y4\"},{\"marker\":{\"color\":\"#56B4E9\"},\"orientation\":\"h\",\"x\":[0.02265443504674021,0.02670715777855296,0.027552377143125632,0.03109499890778236,0.03545924079603557],\"y\":[\"\\u0432\\u0437\\u0433\\u043b\\u044f\\u0434  \",\"\\u0433\\u0443\\u0431\\u0430  \",\"\\u0433\\u043b\\u0430\\u0437  \",\"\\u0431\\u043b\\u0435\\u0434\\u043d\\u044b\\u0439  \",\"\\u043b\\u0438\\u0446\\u043e  \"],\"type\":\"bar\",\"xaxis\":\"x5\",\"yaxis\":\"y5\"},{\"marker\":{\"color\":\"#009E73\"},\"orientation\":\"h\",\"x\":[0.019210153049293216,0.02565214277556869,0.03171923746439199,0.040768622510121366,0.051562212097077266],\"y\":[\"\\u0440\\u0435\\u0431\\u0451\\u043d\\u043e\\u043a  \",\"\\u043c\\u0430\\u0442\\u044c \\u0441\\u0435\\u0441\\u0442\\u0440\\u0430  \",\"\\u043c\\u0430\\u043c\\u0435\\u043d\\u044c\\u043a\\u0430  \",\"\\u043c\\u0430\\u0442\\u044c  \",\"\\u0441\\u0435\\u0441\\u0442\\u0440\\u0430  \"],\"type\":\"bar\",\"xaxis\":\"x6\",\"yaxis\":\"y6\"},{\"marker\":{\"color\":\"#F0E442\"},\"orientation\":\"h\",\"x\":[0.02007689069841497,0.02026114140906164,0.020522382633977675,0.020786570473381415,0.02352341877409046],\"y\":[\"\\u0441\\u0432\\u0438\\u0434\\u0440\\u0438\\u0433\\u0430\\u0439\\u043b\\u043e\\u0432  \",\"\\u043f\\u0440\\u0438\\u0432\\u0438\\u0434\\u0435\\u043d\\u0438\\u0435  \",\"\\u0432\\u0435\\u0441\\u044c\\u043c\\u0430  \",\"\\u0432\\u0435\\u0440\\u0438\\u0442\\u044c  \",\"\\u0444\\u0430\\u043a\\u0442  \"],\"type\":\"bar\",\"xaxis\":\"x7\",\"yaxis\":\"y7\"},{\"marker\":{\"color\":\"#D55E00\"},\"orientation\":\"h\",\"x\":[0.023620075597385347,0.023902248383589914,0.027527794215689017,0.033643170311305426,0.091726451309222],\"y\":[\"\\u043f\\u043e\\u0434\\u0443\\u0448\\u043a\\u0430  \",\"\\u0432\\u0441\\u0442\\u0430\\u0442\\u044c  \",\"\\u043f\\u043e\\u0440\\u043e\\u0433  \",\"\\u0441\\u0435\\u0441\\u0442\\u044c \\u0434\\u0438\\u0432\\u0430\\u043d  \",\"\\u0434\\u0438\\u0432\\u0430\\u043d  \"],\"type\":\"bar\",\"xaxis\":\"x8\",\"yaxis\":\"y8\"},{\"marker\":{\"color\":\"#0072B2\"},\"orientation\":\"h\",\"x\":[0.019142617683891614,0.02057852318180669,0.024542597042532508,0.030251618769463764,0.06105222748675751],\"y\":[\"\\u0441\\u043e\\u0432\\u0435\\u0441\\u0442\\u044c  \",\"\\u0443\\u0431\\u0435\\u0436\\u0430\\u0442\\u044c  \",\"\\u0443\\u0431\\u0438\\u0439\\u0441\\u0442\\u0432\\u043e  \",\"\\u043f\\u0440\\u0435\\u0441\\u0442\\u0443\\u043f\\u043d\\u0438\\u043a  \",\"\\u043f\\u0440\\u0435\\u0441\\u0442\\u0443\\u043f\\u043b\\u0435\\u043d\\u0438\\u0435  \"],\"type\":\"bar\",\"xaxis\":\"x9\",\"yaxis\":\"y9\"},{\"marker\":{\"color\":\"#CC79A7\"},\"orientation\":\"h\",\"x\":[0.024305676979424887,0.024592996060670454,0.028809139204391748,0.03246656977254559,0.035326016518513775],\"y\":[\"\\u0433\\u043e\\u043b\\u043e\\u0441  \",\"\\u0442\\u0438\\u0445\\u0438\\u0439  \",\"\\u0448\\u0438\\u043b\\u043b\\u0435\\u0440  \",\"\\u0440\\u0430\\u0437\\u0433\\u043e\\u0432\\u043e\\u0440  \",\"\\u043f\\u0440\\u043e\\u0433\\u043e\\u0432\\u043e\\u0440\\u0438\\u0442\\u044c  \"],\"type\":\"bar\",\"xaxis\":\"x10\",\"yaxis\":\"y10\"},{\"marker\":{\"color\":\"#E69F00\"},\"orientation\":\"h\",\"x\":[0.028116678310930635,0.03695770773891747,0.03813110030986292,0.038759647548540416,0.0848188719385101],\"y\":[\"\\u0440\\u0430\\u0437\\u0443\\u043c\\u0438\\u0445\\u0438\\u043d \\u043f\\u043e\\u0447\\u0435\\u043c\\u0443  \",\"\\u0437\\u0430\\u043a\\u043b\\u0430\\u0434\\u0447\\u0438\\u043a  \",\"\\u043d\\u0435\\u0443\\u0436\\u0435\\u043b\\u0438 \\u0432\\u0438\\u0434\\u0435\\u0442\\u044c  \",\"\\u043d\\u0430\\u0445\\u043c\\u0443\\u0440\\u0438\\u0442\\u044c\\u0441\\u044f  \",\"\\u0440\\u0430\\u0437\\u0443\\u043c\\u0438\\u0445\\u0438\\u043d  \"],\"type\":\"bar\",\"xaxis\":\"x11\",\"yaxis\":\"y11\"},{\"marker\":{\"color\":\"#56B4E9\"},\"orientation\":\"h\",\"x\":[0.03753344310251375,0.038120345967918016,0.038120345967918016,0.03927160493338805,0.1318429942482219],\"y\":[\"\\u043f\\u0430\\u0446\\u0438\\u0435\\u043d\\u0442  \",\"\\u0430\\u0432\\u0434\\u043e\\u0442\\u044c\\u044f \\u0440\\u043e\\u043c\\u0430\\u043d\\u043e\\u0432\\u0438\\u0447  \",\"\\u0430\\u0432\\u0434\\u043e\\u0442\\u044c\\u044f  \",\"\\u0440\\u043e\\u043c\\u0430\\u043d\\u043e\\u0432\\u0438\\u0447  \",\"\\u0431\\u0440\\u0430\\u0442  \"],\"type\":\"bar\",\"xaxis\":\"x12\",\"yaxis\":\"y12\"},{\"marker\":{\"color\":\"#009E73\"},\"orientation\":\"h\",\"x\":[0.045587837354863714,0.056006575604633284,0.05602868499752998,0.09612688333449486,0.11805499858116258],\"y\":[\"\\u043f\\u043e\\u0436\\u0430\\u0440  \",\"\\u043b\\u043e\\u0436\\u043a\\u0430  \",\"\\u0432\\u043e\\u0434\\u043a\\u0430  \",\"\\u0441\\u0443\\u043f  \",\"\\u0447\\u0430\\u0439  \"],\"type\":\"bar\",\"xaxis\":\"x13\",\"yaxis\":\"y13\"},{\"marker\":{\"color\":\"#F0E442\"},\"orientation\":\"h\",\"x\":[0.04319547415070032,0.04434379590662537,0.06179812071226109,0.06474128567466839,0.06858172809913358],\"y\":[\"\\u0440\\u0430\\u0437\\u043c\\u0430\\u0445  \",\"\\u0432\\u0441\\u043a\\u0430\\u0447\\u044c  \",\"\\u0442\\u0435\\u043b\\u0435\\u0433\\u0430  \",\"\\u043c\\u0438\\u043a\\u043e\\u043b\\u043a\\u0430  \",\"\\u0440\\u0435\\u0432\\u043e\\u043b\\u044c\\u0432\\u0435\\u0440  \"],\"type\":\"bar\",\"xaxis\":\"x14\",\"yaxis\":\"y14\"},{\"marker\":{\"color\":\"#D55E00\"},\"orientation\":\"h\",\"x\":[0.0312496389795732,0.03781451774898654,0.038646858173282166,0.04449127097435606,0.05982344829689822],\"y\":[\"\\u0434\\u043e\\u043a\\u0442\\u043e\\u0440  \",\"\\u043f\\u043e\\u043b\\u0438\\u0446\\u0438\\u044f  \",\"\\u043e\\u0444\\u0438\\u0446\\u0435\\u0440  \",\"\\u043f\\u043e\\u043b\\u0438\\u0446\\u0435\\u0439\\u0441\\u043a\\u0438\\u0439  \",\"\\u0447\\u0438\\u043d\\u043e\\u0432\\u043d\\u0438\\u043a  \"],\"type\":\"bar\",\"xaxis\":\"x15\",\"yaxis\":\"y15\"},{\"marker\":{\"color\":\"#0072B2\"},\"orientation\":\"h\",\"x\":[0.03183413744715109,0.0349861605329345,0.037164460324609315,0.03780598233666318,0.04240128570232916],\"y\":[\"\\u0441\\u0434\\u0435\\u043b\\u0430\\u0442\\u044c \\u043e\\u0434\\u043e\\u043b\\u0436\\u0435\\u043d\\u0438\\u0435  \",\"\\u043d\\u0435\\u043a\\u043e\\u0433\\u0434\\u0430  \",\"\\u0434\\u0438\\u0447\\u044c  \",\"\\u0443\\u0440\\u043e\\u043a  \",\"\\u0432\\u044b\\u0434\\u0435\\u0440\\u0436\\u0430\\u0442\\u044c  \"],\"type\":\"bar\",\"xaxis\":\"x16\",\"yaxis\":\"y16\"},{\"marker\":{\"color\":\"#CC79A7\"},\"orientation\":\"h\",\"x\":[0.03474653118460945,0.03508982390938333,0.03892314559335566,0.060029187450092,0.07350679547782375],\"y\":[\"\\u0437\\u043d\\u0430\\u0442\\u044c \\u0432\\u0447\\u0435\\u0440\\u0430  \",\"\\u0432\\u0447\\u0435\\u0440\\u0430 \\u0433\\u043e\\u0432\\u043e\\u0440\\u0438\\u0442\\u044c  \",\"\\u0433\\u043e\\u0432\\u043e\\u0440\\u0438\\u0442\\u044c \\u0432\\u0447\\u0435\\u0440\\u0430  \",\"\\u0432\\u0447\\u0435\\u0440\\u0430  \",\"\\u0437\\u0430\\u0432\\u0442\\u0440\\u0430  \"],\"type\":\"bar\",\"xaxis\":\"x17\",\"yaxis\":\"y17\"},{\"marker\":{\"color\":\"#E69F00\"},\"orientation\":\"h\",\"x\":[0.04184627452288502,0.04187256847534574,0.04741621844439002,0.06462068213225583,0.11820366548565003],\"y\":[\"\\u0447\\u0435\\u043b\\u043e\\u0432\\u0435\\u043a \\u0434\\u0435\\u043d\\u044c\\u0433\\u0430  \",\"\\u0434\\u0435\\u043d\\u044c\\u0433\\u0430 \\u0432\\u0435\\u0449\\u044c  \",\"\\u0440\\u0443\\u0431\\u043b\\u044c  \",\"\\u043a\\u043e\\u0448\\u0435\\u043b\\u0451\\u043a  \",\"\\u0434\\u0435\\u043d\\u044c\\u0433\\u0430  \"],\"type\":\"bar\",\"xaxis\":\"x18\",\"yaxis\":\"y18\"},{\"marker\":{\"color\":\"#56B4E9\"},\"orientation\":\"h\",\"x\":[0.02469508552066017,0.028508645896110057,0.029158496200466098,0.03130096592652213,0.04222573178450726],\"y\":[\"\\u043a\\u043e\\u043d\\u0447\\u0438\\u0442\\u044c  \",\"\\u043c\\u0438\\u043a\\u043e\\u043b\\u043a\\u0430  \",\"\\u043f\\u0440\\u043e\\u043d\\u0435\\u0441\\u0442\\u0438\\u0441\\u044c  \",\"\\u0432\\u0435\\u0447\\u043d\\u043e\\u0441\\u0442\\u044c  \",\"\\u043c\\u044b\\u0441\\u043b\\u044c  \"],\"type\":\"bar\",\"xaxis\":\"x19\",\"yaxis\":\"y19\"},{\"marker\":{\"color\":\"#009E73\"},\"orientation\":\"h\",\"x\":[0.0274692252563289,0.029691680191640705,0.04382965427529129,0.04897864680855924,0.0752929760399209],\"y\":[\"\\u0446\\u0435\\u043d\\u0438\\u0442\\u044c  \",\"\\u0432\\u043e\\u044f\\u0436  \",\"\\u0436\\u0435\\u043d\\u0438\\u0442\\u044c\\u0441\\u044f  \",\"\\u0431\\u0440\\u0430\\u043a  \",\"\\u043d\\u0435\\u0432\\u0435\\u0441\\u0442\\u0430  \"],\"type\":\"bar\",\"xaxis\":\"x20\",\"yaxis\":\"y20\"},{\"marker\":{\"color\":\"#F0E442\"},\"orientation\":\"h\",\"x\":[0.025156206097159746,0.027902140326966945,0.028074346827830294,0.047039311720067783,0.0513088210844077],\"y\":[\"\\u0436\\u0438\\u0442\\u044c  \",\"\\u043f\\u043e\\u0441\\u0430\\u0434\\u0438\\u0442\\u044c  \",\"\\u0441\\u0435\\u043c\\u044c \\u0433\\u043e\\u0434  \",\"\\u0436\\u0438\\u0437\\u043d\\u044c  \",\"\\u043e\\u0441\\u0442\\u0440\\u043e\\u0433  \"],\"type\":\"bar\",\"xaxis\":\"x21\",\"yaxis\":\"y21\"},{\"marker\":{\"color\":\"#D55E00\"},\"orientation\":\"h\",\"x\":[0.02910810808405465,0.035237815245876686,0.03557143369046372,0.03643795518742826,0.0380047025568562],\"y\":[\"\\u043f\\u0435\\u0440\\u0435\\u0448\\u0430\\u0433\\u043d\\u0443\\u0442\\u044c  \",\"\\u0444\\u043e\\u0440\\u043c\\u0430  \",\"\\u043d\\u0435\\u043d\\u0430\\u0432\\u0438\\u0434\\u0435\\u0442\\u044c  \",\"\\u0445\\u043b\\u043e\\u043f\\u043e\\u0442\\u0430\\u0442\\u044c  \",\"\\u0441\\u0442\\u044b\\u0434  \"],\"type\":\"bar\",\"xaxis\":\"x22\",\"yaxis\":\"y22\"},{\"marker\":{\"color\":\"#0072B2\"},\"orientation\":\"h\",\"x\":[0.05631884082411701,0.058075886656511394,0.06386743065550188,0.06729465922132588,0.08210881177882423],\"y\":[\"\\u0443\\u0433\\u043b\\u0443\\u0431\\u043b\\u0435\\u043d\\u0438\\u0435  \",\"\\u043a\\u0430\\u043c\\u0435\\u043d\\u044c  \",\"\\u043e\\u0431\\u0430 \\u0440\\u0443\\u043a\\u0430  \",\"\\u0437\\u0435\\u043c\\u043b\\u044f  \",\"\\u0440\\u0443\\u043a\\u0430  \"],\"type\":\"bar\",\"xaxis\":\"x23\",\"yaxis\":\"y23\"},{\"marker\":{\"color\":\"#CC79A7\"},\"orientation\":\"h\",\"x\":[0.0346218879024913,0.04476298998197425,0.04947445217594239,0.05652383322343779,0.067700690766156],\"y\":[\"\\u0442\\u043e\\u043b\\u043f\\u0430  \",\"\\u0442\\u0440\\u043e\\u0442\\u0443\\u0430\\u0440  \",\"\\u043f\\u043e\\u0432\\u043e\\u0440\\u043e\\u0442\\u0438\\u0442\\u044c  \",\"\\u043f\\u043e\\u0432\\u043e\\u0440\\u043e\\u0442  \",\"\\u0443\\u043b\\u0438\\u0446\\u0430  \"],\"type\":\"bar\",\"xaxis\":\"x24\",\"yaxis\":\"y24\"},{\"marker\":{\"color\":\"#E69F00\"},\"orientation\":\"h\",\"x\":[0.025407633760485375,0.025624574901953658,0.02628026634164632,0.028020685114721635,0.031943785329444065],\"y\":[\"\\u0441\\u043b\\u0443\\u0436\\u0430\\u043d\\u043a\\u0430  \",\"\\u043d\\u0435\\u043c\\u043e\\u0439 \\u043c\\u044b\\u0441\\u043b\\u044c  \",\"\\u043f\\u043e\\u0440\\u0444\\u0438\\u0440\\u0438\\u0439 \\u043f\\u0435\\u0442\\u0440\\u043e\\u0432\\u0438\\u0447  \",\"\\u043a\\u043e\\u043c\\u043d\\u0430\\u0442\\u0430  \",\"\\u043a\\u0432\\u0430\\u0440\\u0442\\u0438\\u0440\\u0430  \"],\"type\":\"bar\",\"xaxis\":\"x25\",\"yaxis\":\"y25\"},{\"marker\":{\"color\":\"#56B4E9\"},\"orientation\":\"h\",\"x\":[0.05138853882611081,0.05248001348636089,0.055085282006401844,0.07127246674283745,0.15432639535682588],\"y\":[\"\\u0441\\u0442\\u0440\\u0430\\u0448\\u043d\\u043e  \",\"\\u0433\\u043e\\u0441\\u0442\\u044c  \",\"\\u0440\\u0430\\u0431\\u043e\\u0442\\u043d\\u0438\\u043a  \",\"\\u0441\\u0442\\u0430\\u0440\\u0448\\u0438\\u0439 \\u0440\\u0430\\u0431\\u043e\\u0442\\u043d\\u0438\\u043a  \",\"\\u0441\\u0442\\u0430\\u0440\\u0443\\u0445\\u0430  \"],\"type\":\"bar\",\"xaxis\":\"x26\",\"yaxis\":\"y26\"},{\"marker\":{\"color\":\"#009E73\"},\"orientation\":\"h\",\"x\":[0.03836929918850875,0.04073689823126663,0.04655364599560153,0.053965486210138275,0.09486086423437458],\"y\":[\"\\u043d\\u0430\\u0431\\u0435\\u0440\\u0435\\u0436\\u043d\\u0430\\u044f  \",\"\\u0443\\u0442\\u043e\\u043f\\u043b\\u0435\\u043d\\u043d\\u0438\\u0446\\u0430  \",\"\\u0432\\u043e\\u0434\\u0430  \",\"\\u043d\\u0435\\u0432\\u0430  \",\"\\u0441\\u0445\\u043e\\u0434  \"],\"type\":\"bar\",\"xaxis\":\"x27\",\"yaxis\":\"y27\"},{\"marker\":{\"color\":\"#F0E442\"},\"orientation\":\"h\",\"x\":[0.03741751914425758,0.0418528007506956,0.044839714066898254,0.044944817945756534,0.04540687216370963],\"y\":[\"\\u0441\\u043b\\u0435\\u0434\\u043e\\u0432\\u0430\\u0442\\u044c  \",\"\\u043d\\u0438\\u043a\\u043e\\u043b\\u0430\\u0439  \",\"\\u043f\\u0438\\u0441\\u044c\\u043c\\u043e\\u0432\\u043e\\u0434\\u0438\\u0442\\u0435\\u043b\\u044c  \",\"\\u043f\\u0435\\u0442\\u0440\\u043e\\u0432\\u0438\\u0447  \",\"\\u043f\\u043e\\u0440\\u0444\\u0438\\u0440\\u0438\\u0439 \\u043f\\u0435\\u0442\\u0440\\u043e\\u0432\\u0438\\u0447  \"],\"type\":\"bar\",\"xaxis\":\"x28\",\"yaxis\":\"y28\"},{\"marker\":{\"color\":\"#D55E00\"},\"orientation\":\"h\",\"x\":[0.053447961835395075,0.0630707333720241,0.08656635440220746,0.09125773285238276,0.10390055840287787],\"y\":[\"\\u0432\\u044b\\u0440\\u044b\\u0432\\u0430\\u0442\\u044c\\u0441\\u044f  \",\"\\u0431\\u0435\\u0436\\u0430\\u0442\\u044c  \",\"\\u043f\\u0430\\u043f\\u043e\\u0447\\u043a\\u0430  \",\"\\u043a\\u0443\\u0447\\u0435\\u0440  \",\"\\u043b\\u043e\\u0448\\u0430\\u0434\\u044c  \"],\"type\":\"bar\",\"xaxis\":\"x29\",\"yaxis\":\"y29\"},{\"marker\":{\"color\":\"#0072B2\"},\"orientation\":\"h\",\"x\":[0.043317412406583225,0.044967727646951866,0.04878574739619585,0.060982401087139156,0.20960489192033277],\"y\":[\"\\u0443\\u043a\\u0430\\u0437\\u0430\\u0442\\u044c  \",\"\\u0442\\u043e\\u0447\\u0438\\u0442\\u044c  \",\"\\u043f\\u0440\\u043e\\u0441\\u0442\\u0440\\u0430\\u043d\\u0441\\u0442\\u0432\\u043e  \",\"\\u0441\\u0438\\u0434\\u0435\\u0442\\u044c \\u0441\\u0442\\u0443\\u043b  \",\"\\u0441\\u0442\\u0443\\u043b  \"],\"type\":\"bar\",\"xaxis\":\"x30\",\"yaxis\":\"y30\"}],                        {\"template\":{\"data\":{\"barpolar\":[{\"marker\":{\"line\":{\"color\":\"white\",\"width\":0.5},\"pattern\":{\"fillmode\":\"overlay\",\"size\":10,\"solidity\":0.2}},\"type\":\"barpolar\"}],\"bar\":[{\"error_x\":{\"color\":\"#2a3f5f\"},\"error_y\":{\"color\":\"#2a3f5f\"},\"marker\":{\"line\":{\"color\":\"white\",\"width\":0.5},\"pattern\":{\"fillmode\":\"overlay\",\"size\":10,\"solidity\":0.2}},\"type\":\"bar\"}],\"carpet\":[{\"aaxis\":{\"endlinecolor\":\"#2a3f5f\",\"gridcolor\":\"#C8D4E3\",\"linecolor\":\"#C8D4E3\",\"minorgridcolor\":\"#C8D4E3\",\"startlinecolor\":\"#2a3f5f\"},\"baxis\":{\"endlinecolor\":\"#2a3f5f\",\"gridcolor\":\"#C8D4E3\",\"linecolor\":\"#C8D4E3\",\"minorgridcolor\":\"#C8D4E3\",\"startlinecolor\":\"#2a3f5f\"},\"type\":\"carpet\"}],\"choropleth\":[{\"colorbar\":{\"outlinewidth\":0,\"ticks\":\"\"},\"type\":\"choropleth\"}],\"contourcarpet\":[{\"colorbar\":{\"outlinewidth\":0,\"ticks\":\"\"},\"type\":\"contourcarpet\"}],\"contour\":[{\"colorbar\":{\"outlinewidth\":0,\"ticks\":\"\"},\"colorscale\":[[0.0,\"#0d0887\"],[0.1111111111111111,\"#46039f\"],[0.2222222222222222,\"#7201a8\"],[0.3333333333333333,\"#9c179e\"],[0.4444444444444444,\"#bd3786\"],[0.5555555555555556,\"#d8576b\"],[0.6666666666666666,\"#ed7953\"],[0.7777777777777778,\"#fb9f3a\"],[0.8888888888888888,\"#fdca26\"],[1.0,\"#f0f921\"]],\"type\":\"contour\"}],\"heatmapgl\":[{\"colorbar\":{\"outlinewidth\":0,\"ticks\":\"\"},\"colorscale\":[[0.0,\"#0d0887\"],[0.1111111111111111,\"#46039f\"],[0.2222222222222222,\"#7201a8\"],[0.3333333333333333,\"#9c179e\"],[0.4444444444444444,\"#bd3786\"],[0.5555555555555556,\"#d8576b\"],[0.6666666666666666,\"#ed7953\"],[0.7777777777777778,\"#fb9f3a\"],[0.8888888888888888,\"#fdca26\"],[1.0,\"#f0f921\"]],\"type\":\"heatmapgl\"}],\"heatmap\":[{\"colorbar\":{\"outlinewidth\":0,\"ticks\":\"\"},\"colorscale\":[[0.0,\"#0d0887\"],[0.1111111111111111,\"#46039f\"],[0.2222222222222222,\"#7201a8\"],[0.3333333333333333,\"#9c179e\"],[0.4444444444444444,\"#bd3786\"],[0.5555555555555556,\"#d8576b\"],[0.6666666666666666,\"#ed7953\"],[0.7777777777777778,\"#fb9f3a\"],[0.8888888888888888,\"#fdca26\"],[1.0,\"#f0f921\"]],\"type\":\"heatmap\"}],\"histogram2dcontour\":[{\"colorbar\":{\"outlinewidth\":0,\"ticks\":\"\"},\"colorscale\":[[0.0,\"#0d0887\"],[0.1111111111111111,\"#46039f\"],[0.2222222222222222,\"#7201a8\"],[0.3333333333333333,\"#9c179e\"],[0.4444444444444444,\"#bd3786\"],[0.5555555555555556,\"#d8576b\"],[0.6666666666666666,\"#ed7953\"],[0.7777777777777778,\"#fb9f3a\"],[0.8888888888888888,\"#fdca26\"],[1.0,\"#f0f921\"]],\"type\":\"histogram2dcontour\"}],\"histogram2d\":[{\"colorbar\":{\"outlinewidth\":0,\"ticks\":\"\"},\"colorscale\":[[0.0,\"#0d0887\"],[0.1111111111111111,\"#46039f\"],[0.2222222222222222,\"#7201a8\"],[0.3333333333333333,\"#9c179e\"],[0.4444444444444444,\"#bd3786\"],[0.5555555555555556,\"#d8576b\"],[0.6666666666666666,\"#ed7953\"],[0.7777777777777778,\"#fb9f3a\"],[0.8888888888888888,\"#fdca26\"],[1.0,\"#f0f921\"]],\"type\":\"histogram2d\"}],\"histogram\":[{\"marker\":{\"pattern\":{\"fillmode\":\"overlay\",\"size\":10,\"solidity\":0.2}},\"type\":\"histogram\"}],\"mesh3d\":[{\"colorbar\":{\"outlinewidth\":0,\"ticks\":\"\"},\"type\":\"mesh3d\"}],\"parcoords\":[{\"line\":{\"colorbar\":{\"outlinewidth\":0,\"ticks\":\"\"}},\"type\":\"parcoords\"}],\"pie\":[{\"automargin\":true,\"type\":\"pie\"}],\"scatter3d\":[{\"line\":{\"colorbar\":{\"outlinewidth\":0,\"ticks\":\"\"}},\"marker\":{\"colorbar\":{\"outlinewidth\":0,\"ticks\":\"\"}},\"type\":\"scatter3d\"}],\"scattercarpet\":[{\"marker\":{\"colorbar\":{\"outlinewidth\":0,\"ticks\":\"\"}},\"type\":\"scattercarpet\"}],\"scattergeo\":[{\"marker\":{\"colorbar\":{\"outlinewidth\":0,\"ticks\":\"\"}},\"type\":\"scattergeo\"}],\"scattergl\":[{\"marker\":{\"colorbar\":{\"outlinewidth\":0,\"ticks\":\"\"}},\"type\":\"scattergl\"}],\"scattermapbox\":[{\"marker\":{\"colorbar\":{\"outlinewidth\":0,\"ticks\":\"\"}},\"type\":\"scattermapbox\"}],\"scatterpolargl\":[{\"marker\":{\"colorbar\":{\"outlinewidth\":0,\"ticks\":\"\"}},\"type\":\"scatterpolargl\"}],\"scatterpolar\":[{\"marker\":{\"colorbar\":{\"outlinewidth\":0,\"ticks\":\"\"}},\"type\":\"scatterpolar\"}],\"scatter\":[{\"fillpattern\":{\"fillmode\":\"overlay\",\"size\":10,\"solidity\":0.2},\"type\":\"scatter\"}],\"scatterternary\":[{\"marker\":{\"colorbar\":{\"outlinewidth\":0,\"ticks\":\"\"}},\"type\":\"scatterternary\"}],\"surface\":[{\"colorbar\":{\"outlinewidth\":0,\"ticks\":\"\"},\"colorscale\":[[0.0,\"#0d0887\"],[0.1111111111111111,\"#46039f\"],[0.2222222222222222,\"#7201a8\"],[0.3333333333333333,\"#9c179e\"],[0.4444444444444444,\"#bd3786\"],[0.5555555555555556,\"#d8576b\"],[0.6666666666666666,\"#ed7953\"],[0.7777777777777778,\"#fb9f3a\"],[0.8888888888888888,\"#fdca26\"],[1.0,\"#f0f921\"]],\"type\":\"surface\"}],\"table\":[{\"cells\":{\"fill\":{\"color\":\"#EBF0F8\"},\"line\":{\"color\":\"white\"}},\"header\":{\"fill\":{\"color\":\"#C8D4E3\"},\"line\":{\"color\":\"white\"}},\"type\":\"table\"}]},\"layout\":{\"annotationdefaults\":{\"arrowcolor\":\"#2a3f5f\",\"arrowhead\":0,\"arrowwidth\":1},\"autotypenumbers\":\"strict\",\"coloraxis\":{\"colorbar\":{\"outlinewidth\":0,\"ticks\":\"\"}},\"colorscale\":{\"diverging\":[[0,\"#8e0152\"],[0.1,\"#c51b7d\"],[0.2,\"#de77ae\"],[0.3,\"#f1b6da\"],[0.4,\"#fde0ef\"],[0.5,\"#f7f7f7\"],[0.6,\"#e6f5d0\"],[0.7,\"#b8e186\"],[0.8,\"#7fbc41\"],[0.9,\"#4d9221\"],[1,\"#276419\"]],\"sequential\":[[0.0,\"#0d0887\"],[0.1111111111111111,\"#46039f\"],[0.2222222222222222,\"#7201a8\"],[0.3333333333333333,\"#9c179e\"],[0.4444444444444444,\"#bd3786\"],[0.5555555555555556,\"#d8576b\"],[0.6666666666666666,\"#ed7953\"],[0.7777777777777778,\"#fb9f3a\"],[0.8888888888888888,\"#fdca26\"],[1.0,\"#f0f921\"]],\"sequentialminus\":[[0.0,\"#0d0887\"],[0.1111111111111111,\"#46039f\"],[0.2222222222222222,\"#7201a8\"],[0.3333333333333333,\"#9c179e\"],[0.4444444444444444,\"#bd3786\"],[0.5555555555555556,\"#d8576b\"],[0.6666666666666666,\"#ed7953\"],[0.7777777777777778,\"#fb9f3a\"],[0.8888888888888888,\"#fdca26\"],[1.0,\"#f0f921\"]]},\"colorway\":[\"#636efa\",\"#EF553B\",\"#00cc96\",\"#ab63fa\",\"#FFA15A\",\"#19d3f3\",\"#FF6692\",\"#B6E880\",\"#FF97FF\",\"#FECB52\"],\"font\":{\"color\":\"#2a3f5f\"},\"geo\":{\"bgcolor\":\"white\",\"lakecolor\":\"white\",\"landcolor\":\"white\",\"showlakes\":true,\"showland\":true,\"subunitcolor\":\"#C8D4E3\"},\"hoverlabel\":{\"align\":\"left\"},\"hovermode\":\"closest\",\"mapbox\":{\"style\":\"light\"},\"paper_bgcolor\":\"white\",\"plot_bgcolor\":\"white\",\"polar\":{\"angularaxis\":{\"gridcolor\":\"#EBF0F8\",\"linecolor\":\"#EBF0F8\",\"ticks\":\"\"},\"bgcolor\":\"white\",\"radialaxis\":{\"gridcolor\":\"#EBF0F8\",\"linecolor\":\"#EBF0F8\",\"ticks\":\"\"}},\"scene\":{\"xaxis\":{\"backgroundcolor\":\"white\",\"gridcolor\":\"#DFE8F3\",\"gridwidth\":2,\"linecolor\":\"#EBF0F8\",\"showbackground\":true,\"ticks\":\"\",\"zerolinecolor\":\"#EBF0F8\"},\"yaxis\":{\"backgroundcolor\":\"white\",\"gridcolor\":\"#DFE8F3\",\"gridwidth\":2,\"linecolor\":\"#EBF0F8\",\"showbackground\":true,\"ticks\":\"\",\"zerolinecolor\":\"#EBF0F8\"},\"zaxis\":{\"backgroundcolor\":\"white\",\"gridcolor\":\"#DFE8F3\",\"gridwidth\":2,\"linecolor\":\"#EBF0F8\",\"showbackground\":true,\"ticks\":\"\",\"zerolinecolor\":\"#EBF0F8\"}},\"shapedefaults\":{\"line\":{\"color\":\"#2a3f5f\"}},\"ternary\":{\"aaxis\":{\"gridcolor\":\"#DFE8F3\",\"linecolor\":\"#A2B1C6\",\"ticks\":\"\"},\"baxis\":{\"gridcolor\":\"#DFE8F3\",\"linecolor\":\"#A2B1C6\",\"ticks\":\"\"},\"bgcolor\":\"white\",\"caxis\":{\"gridcolor\":\"#DFE8F3\",\"linecolor\":\"#A2B1C6\",\"ticks\":\"\"}},\"title\":{\"x\":0.05},\"xaxis\":{\"automargin\":true,\"gridcolor\":\"#EBF0F8\",\"linecolor\":\"#EBF0F8\",\"ticks\":\"\",\"title\":{\"standoff\":15},\"zerolinecolor\":\"#EBF0F8\",\"zerolinewidth\":2},\"yaxis\":{\"automargin\":true,\"gridcolor\":\"#EBF0F8\",\"linecolor\":\"#EBF0F8\",\"ticks\":\"\",\"title\":{\"standoff\":15},\"zerolinecolor\":\"#EBF0F8\",\"zerolinewidth\":2}}},\"xaxis\":{\"anchor\":\"y\",\"domain\":[0.0,0.175],\"showgrid\":true},\"yaxis\":{\"anchor\":\"x\",\"domain\":[0.91875,1.0],\"showgrid\":true},\"xaxis2\":{\"anchor\":\"y2\",\"domain\":[0.275,0.45],\"showgrid\":true},\"yaxis2\":{\"anchor\":\"x2\",\"domain\":[0.91875,1.0],\"showgrid\":true},\"xaxis3\":{\"anchor\":\"y3\",\"domain\":[0.55,0.7250000000000001],\"showgrid\":true},\"yaxis3\":{\"anchor\":\"x3\",\"domain\":[0.91875,1.0],\"showgrid\":true},\"xaxis4\":{\"anchor\":\"y4\",\"domain\":[0.825,1.0],\"showgrid\":true},\"yaxis4\":{\"anchor\":\"x4\",\"domain\":[0.91875,1.0],\"showgrid\":true},\"xaxis5\":{\"anchor\":\"y5\",\"domain\":[0.0,0.175],\"showgrid\":true},\"yaxis5\":{\"anchor\":\"x5\",\"domain\":[0.7875,0.8687499999999999],\"showgrid\":true},\"xaxis6\":{\"anchor\":\"y6\",\"domain\":[0.275,0.45],\"showgrid\":true},\"yaxis6\":{\"anchor\":\"x6\",\"domain\":[0.7875,0.8687499999999999],\"showgrid\":true},\"xaxis7\":{\"anchor\":\"y7\",\"domain\":[0.55,0.7250000000000001],\"showgrid\":true},\"yaxis7\":{\"anchor\":\"x7\",\"domain\":[0.7875,0.8687499999999999],\"showgrid\":true},\"xaxis8\":{\"anchor\":\"y8\",\"domain\":[0.825,1.0],\"showgrid\":true},\"yaxis8\":{\"anchor\":\"x8\",\"domain\":[0.7875,0.8687499999999999],\"showgrid\":true},\"xaxis9\":{\"anchor\":\"y9\",\"domain\":[0.0,0.175],\"showgrid\":true},\"yaxis9\":{\"anchor\":\"x9\",\"domain\":[0.65625,0.7375],\"showgrid\":true},\"xaxis10\":{\"anchor\":\"y10\",\"domain\":[0.275,0.45],\"showgrid\":true},\"yaxis10\":{\"anchor\":\"x10\",\"domain\":[0.65625,0.7375],\"showgrid\":true},\"xaxis11\":{\"anchor\":\"y11\",\"domain\":[0.55,0.7250000000000001],\"showgrid\":true},\"yaxis11\":{\"anchor\":\"x11\",\"domain\":[0.65625,0.7375],\"showgrid\":true},\"xaxis12\":{\"anchor\":\"y12\",\"domain\":[0.825,1.0],\"showgrid\":true},\"yaxis12\":{\"anchor\":\"x12\",\"domain\":[0.65625,0.7375],\"showgrid\":true},\"xaxis13\":{\"anchor\":\"y13\",\"domain\":[0.0,0.175],\"showgrid\":true},\"yaxis13\":{\"anchor\":\"x13\",\"domain\":[0.5249999999999999,0.60625],\"showgrid\":true},\"xaxis14\":{\"anchor\":\"y14\",\"domain\":[0.275,0.45],\"showgrid\":true},\"yaxis14\":{\"anchor\":\"x14\",\"domain\":[0.5249999999999999,0.60625],\"showgrid\":true},\"xaxis15\":{\"anchor\":\"y15\",\"domain\":[0.55,0.7250000000000001],\"showgrid\":true},\"yaxis15\":{\"anchor\":\"x15\",\"domain\":[0.5249999999999999,0.60625],\"showgrid\":true},\"xaxis16\":{\"anchor\":\"y16\",\"domain\":[0.825,1.0],\"showgrid\":true},\"yaxis16\":{\"anchor\":\"x16\",\"domain\":[0.5249999999999999,0.60625],\"showgrid\":true},\"xaxis17\":{\"anchor\":\"y17\",\"domain\":[0.0,0.175],\"showgrid\":true},\"yaxis17\":{\"anchor\":\"x17\",\"domain\":[0.39375,0.475],\"showgrid\":true},\"xaxis18\":{\"anchor\":\"y18\",\"domain\":[0.275,0.45],\"showgrid\":true},\"yaxis18\":{\"anchor\":\"x18\",\"domain\":[0.39375,0.475],\"showgrid\":true},\"xaxis19\":{\"anchor\":\"y19\",\"domain\":[0.55,0.7250000000000001],\"showgrid\":true},\"yaxis19\":{\"anchor\":\"x19\",\"domain\":[0.39375,0.475],\"showgrid\":true},\"xaxis20\":{\"anchor\":\"y20\",\"domain\":[0.825,1.0],\"showgrid\":true},\"yaxis20\":{\"anchor\":\"x20\",\"domain\":[0.39375,0.475],\"showgrid\":true},\"xaxis21\":{\"anchor\":\"y21\",\"domain\":[0.0,0.175],\"showgrid\":true},\"yaxis21\":{\"anchor\":\"x21\",\"domain\":[0.26249999999999996,0.34374999999999994],\"showgrid\":true},\"xaxis22\":{\"anchor\":\"y22\",\"domain\":[0.275,0.45],\"showgrid\":true},\"yaxis22\":{\"anchor\":\"x22\",\"domain\":[0.26249999999999996,0.34374999999999994],\"showgrid\":true},\"xaxis23\":{\"anchor\":\"y23\",\"domain\":[0.55,0.7250000000000001],\"showgrid\":true},\"yaxis23\":{\"anchor\":\"x23\",\"domain\":[0.26249999999999996,0.34374999999999994],\"showgrid\":true},\"xaxis24\":{\"anchor\":\"y24\",\"domain\":[0.825,1.0],\"showgrid\":true},\"yaxis24\":{\"anchor\":\"x24\",\"domain\":[0.26249999999999996,0.34374999999999994],\"showgrid\":true},\"xaxis25\":{\"anchor\":\"y25\",\"domain\":[0.0,0.175],\"showgrid\":true},\"yaxis25\":{\"anchor\":\"x25\",\"domain\":[0.13124999999999998,0.21249999999999997],\"showgrid\":true},\"xaxis26\":{\"anchor\":\"y26\",\"domain\":[0.275,0.45],\"showgrid\":true},\"yaxis26\":{\"anchor\":\"x26\",\"domain\":[0.13124999999999998,0.21249999999999997],\"showgrid\":true},\"xaxis27\":{\"anchor\":\"y27\",\"domain\":[0.55,0.7250000000000001],\"showgrid\":true},\"yaxis27\":{\"anchor\":\"x27\",\"domain\":[0.13124999999999998,0.21249999999999997],\"showgrid\":true},\"xaxis28\":{\"anchor\":\"y28\",\"domain\":[0.825,1.0],\"showgrid\":true},\"yaxis28\":{\"anchor\":\"x28\",\"domain\":[0.13124999999999998,0.21249999999999997],\"showgrid\":true},\"xaxis29\":{\"anchor\":\"y29\",\"domain\":[0.0,0.175],\"showgrid\":true},\"yaxis29\":{\"anchor\":\"x29\",\"domain\":[0.0,0.08124999999999999],\"showgrid\":true},\"xaxis30\":{\"anchor\":\"y30\",\"domain\":[0.275,0.45],\"showgrid\":true},\"yaxis30\":{\"anchor\":\"x30\",\"domain\":[0.0,0.08124999999999999],\"showgrid\":true},\"xaxis31\":{\"anchor\":\"y31\",\"domain\":[0.55,0.7250000000000001],\"showgrid\":true},\"yaxis31\":{\"anchor\":\"x31\",\"domain\":[0.0,0.08124999999999999],\"showgrid\":true},\"xaxis32\":{\"anchor\":\"y32\",\"domain\":[0.825,1.0],\"showgrid\":true},\"yaxis32\":{\"anchor\":\"x32\",\"domain\":[0.0,0.08124999999999999],\"showgrid\":true},\"annotations\":[{\"font\":{\"size\":16},\"showarrow\":false,\"text\":\"Topic 0\",\"x\":0.0875,\"xanchor\":\"center\",\"xref\":\"paper\",\"y\":1.0,\"yanchor\":\"bottom\",\"yref\":\"paper\"},{\"font\":{\"size\":16},\"showarrow\":false,\"text\":\"Topic 1\",\"x\":0.36250000000000004,\"xanchor\":\"center\",\"xref\":\"paper\",\"y\":1.0,\"yanchor\":\"bottom\",\"yref\":\"paper\"},{\"font\":{\"size\":16},\"showarrow\":false,\"text\":\"Topic 2\",\"x\":0.6375000000000001,\"xanchor\":\"center\",\"xref\":\"paper\",\"y\":1.0,\"yanchor\":\"bottom\",\"yref\":\"paper\"},{\"font\":{\"size\":16},\"showarrow\":false,\"text\":\"Topic 3\",\"x\":0.9125,\"xanchor\":\"center\",\"xref\":\"paper\",\"y\":1.0,\"yanchor\":\"bottom\",\"yref\":\"paper\"},{\"font\":{\"size\":16},\"showarrow\":false,\"text\":\"Topic 4\",\"x\":0.0875,\"xanchor\":\"center\",\"xref\":\"paper\",\"y\":0.8687499999999999,\"yanchor\":\"bottom\",\"yref\":\"paper\"},{\"font\":{\"size\":16},\"showarrow\":false,\"text\":\"Topic 5\",\"x\":0.36250000000000004,\"xanchor\":\"center\",\"xref\":\"paper\",\"y\":0.8687499999999999,\"yanchor\":\"bottom\",\"yref\":\"paper\"},{\"font\":{\"size\":16},\"showarrow\":false,\"text\":\"Topic 6\",\"x\":0.6375000000000001,\"xanchor\":\"center\",\"xref\":\"paper\",\"y\":0.8687499999999999,\"yanchor\":\"bottom\",\"yref\":\"paper\"},{\"font\":{\"size\":16},\"showarrow\":false,\"text\":\"Topic 7\",\"x\":0.9125,\"xanchor\":\"center\",\"xref\":\"paper\",\"y\":0.8687499999999999,\"yanchor\":\"bottom\",\"yref\":\"paper\"},{\"font\":{\"size\":16},\"showarrow\":false,\"text\":\"Topic 8\",\"x\":0.0875,\"xanchor\":\"center\",\"xref\":\"paper\",\"y\":0.7375,\"yanchor\":\"bottom\",\"yref\":\"paper\"},{\"font\":{\"size\":16},\"showarrow\":false,\"text\":\"Topic 9\",\"x\":0.36250000000000004,\"xanchor\":\"center\",\"xref\":\"paper\",\"y\":0.7375,\"yanchor\":\"bottom\",\"yref\":\"paper\"},{\"font\":{\"size\":16},\"showarrow\":false,\"text\":\"Topic 10\",\"x\":0.6375000000000001,\"xanchor\":\"center\",\"xref\":\"paper\",\"y\":0.7375,\"yanchor\":\"bottom\",\"yref\":\"paper\"},{\"font\":{\"size\":16},\"showarrow\":false,\"text\":\"Topic 11\",\"x\":0.9125,\"xanchor\":\"center\",\"xref\":\"paper\",\"y\":0.7375,\"yanchor\":\"bottom\",\"yref\":\"paper\"},{\"font\":{\"size\":16},\"showarrow\":false,\"text\":\"Topic 12\",\"x\":0.0875,\"xanchor\":\"center\",\"xref\":\"paper\",\"y\":0.60625,\"yanchor\":\"bottom\",\"yref\":\"paper\"},{\"font\":{\"size\":16},\"showarrow\":false,\"text\":\"Topic 13\",\"x\":0.36250000000000004,\"xanchor\":\"center\",\"xref\":\"paper\",\"y\":0.60625,\"yanchor\":\"bottom\",\"yref\":\"paper\"},{\"font\":{\"size\":16},\"showarrow\":false,\"text\":\"Topic 14\",\"x\":0.6375000000000001,\"xanchor\":\"center\",\"xref\":\"paper\",\"y\":0.60625,\"yanchor\":\"bottom\",\"yref\":\"paper\"},{\"font\":{\"size\":16},\"showarrow\":false,\"text\":\"Topic 15\",\"x\":0.9125,\"xanchor\":\"center\",\"xref\":\"paper\",\"y\":0.60625,\"yanchor\":\"bottom\",\"yref\":\"paper\"},{\"font\":{\"size\":16},\"showarrow\":false,\"text\":\"Topic 16\",\"x\":0.0875,\"xanchor\":\"center\",\"xref\":\"paper\",\"y\":0.475,\"yanchor\":\"bottom\",\"yref\":\"paper\"},{\"font\":{\"size\":16},\"showarrow\":false,\"text\":\"Topic 17\",\"x\":0.36250000000000004,\"xanchor\":\"center\",\"xref\":\"paper\",\"y\":0.475,\"yanchor\":\"bottom\",\"yref\":\"paper\"},{\"font\":{\"size\":16},\"showarrow\":false,\"text\":\"Topic 18\",\"x\":0.6375000000000001,\"xanchor\":\"center\",\"xref\":\"paper\",\"y\":0.475,\"yanchor\":\"bottom\",\"yref\":\"paper\"},{\"font\":{\"size\":16},\"showarrow\":false,\"text\":\"Topic 19\",\"x\":0.9125,\"xanchor\":\"center\",\"xref\":\"paper\",\"y\":0.475,\"yanchor\":\"bottom\",\"yref\":\"paper\"},{\"font\":{\"size\":16},\"showarrow\":false,\"text\":\"Topic 20\",\"x\":0.0875,\"xanchor\":\"center\",\"xref\":\"paper\",\"y\":0.34374999999999994,\"yanchor\":\"bottom\",\"yref\":\"paper\"},{\"font\":{\"size\":16},\"showarrow\":false,\"text\":\"Topic 21\",\"x\":0.36250000000000004,\"xanchor\":\"center\",\"xref\":\"paper\",\"y\":0.34374999999999994,\"yanchor\":\"bottom\",\"yref\":\"paper\"},{\"font\":{\"size\":16},\"showarrow\":false,\"text\":\"Topic 22\",\"x\":0.6375000000000001,\"xanchor\":\"center\",\"xref\":\"paper\",\"y\":0.34374999999999994,\"yanchor\":\"bottom\",\"yref\":\"paper\"},{\"font\":{\"size\":16},\"showarrow\":false,\"text\":\"Topic 23\",\"x\":0.9125,\"xanchor\":\"center\",\"xref\":\"paper\",\"y\":0.34374999999999994,\"yanchor\":\"bottom\",\"yref\":\"paper\"},{\"font\":{\"size\":16},\"showarrow\":false,\"text\":\"Topic 24\",\"x\":0.0875,\"xanchor\":\"center\",\"xref\":\"paper\",\"y\":0.21249999999999997,\"yanchor\":\"bottom\",\"yref\":\"paper\"},{\"font\":{\"size\":16},\"showarrow\":false,\"text\":\"Topic 25\",\"x\":0.36250000000000004,\"xanchor\":\"center\",\"xref\":\"paper\",\"y\":0.21249999999999997,\"yanchor\":\"bottom\",\"yref\":\"paper\"},{\"font\":{\"size\":16},\"showarrow\":false,\"text\":\"Topic 26\",\"x\":0.6375000000000001,\"xanchor\":\"center\",\"xref\":\"paper\",\"y\":0.21249999999999997,\"yanchor\":\"bottom\",\"yref\":\"paper\"},{\"font\":{\"size\":16},\"showarrow\":false,\"text\":\"Topic 27\",\"x\":0.9125,\"xanchor\":\"center\",\"xref\":\"paper\",\"y\":0.21249999999999997,\"yanchor\":\"bottom\",\"yref\":\"paper\"},{\"font\":{\"size\":16},\"showarrow\":false,\"text\":\"Topic 28\",\"x\":0.0875,\"xanchor\":\"center\",\"xref\":\"paper\",\"y\":0.08124999999999999,\"yanchor\":\"bottom\",\"yref\":\"paper\"},{\"font\":{\"size\":16},\"showarrow\":false,\"text\":\"Topic 29\",\"x\":0.36250000000000004,\"xanchor\":\"center\",\"xref\":\"paper\",\"y\":0.08124999999999999,\"yanchor\":\"bottom\",\"yref\":\"paper\"}],\"title\":{\"font\":{\"size\":22,\"color\":\"Black\"},\"text\":\"Topic Word Scores\",\"x\":0.5,\"xanchor\":\"center\",\"yanchor\":\"top\"},\"hoverlabel\":{\"font\":{\"size\":16,\"family\":\"Rockwell\"},\"bgcolor\":\"white\"},\"showlegend\":false,\"width\":1000,\"height\":2000},                        {\"responsive\": true}                    ).then(function(){\n",
              "                            \n",
              "var gd = document.getElementById('374b1bd1-a247-4256-b632-86be3aa8d236');\n",
              "var x = new MutationObserver(function (mutations, observer) {{\n",
              "        var display = window.getComputedStyle(gd).display;\n",
              "        if (!display || display === 'none') {{\n",
              "            console.log([gd, 'removed!']);\n",
              "            Plotly.purge(gd);\n",
              "            observer.disconnect();\n",
              "        }}\n",
              "}});\n",
              "\n",
              "// Listen for the removal of the full notebook cells\n",
              "var notebookContainer = gd.closest('#notebook-container');\n",
              "if (notebookContainer) {{\n",
              "    x.observe(notebookContainer, {childList: true});\n",
              "}}\n",
              "\n",
              "// Listen for the clearing of the current output cell\n",
              "var outputEl = gd.closest('.output');\n",
              "if (outputEl) {{\n",
              "    x.observe(outputEl, {childList: true});\n",
              "}}\n",
              "\n",
              "                        })                };                            </script>        </div>\n",
              "</body>\n",
              "</html>"
            ]
          },
          "metadata": {}
        }
      ]
    },
    {
      "cell_type": "markdown",
      "source": [
        "В целом темы получились более или менее осмысленные - по ним можно заметить, что в тексте поднимаются различные социальные, нравственные, философские проблемы, такие как: моральные и этические аспекты преступления (Topic 21); вина и раскаяние (Topic 18, 21); социальное неравенство и бедственное положение широких слоев общества, Петербург, быт его населения (Topic 12, 26); любовь и самопожертвование, семья (Topic 1, 5, 7, 19); правосудие и наказание (Topic 14, 20); религия и духовное возрождение (Topic 1) и т.д.\n",
        "\n",
        "На interoptic distance map видны четко оформленные кластеры, находящиеся на значительном расстоянии друг от друга, однако внутри четко оформленных групп многие кластеры наслаиваются дргу на друга"
      ],
      "metadata": {
        "id": "_VF9LCy9u9gq"
      }
    },
    {
      "cell_type": "code",
      "source": [
        "model.visualize_heatmap()"
      ],
      "metadata": {
        "colab": {
          "base_uri": "https://localhost:8080/",
          "height": 817
        },
        "id": "a3HpttDhySu6",
        "outputId": "50f81099-2556-4a13-f59a-2323a3d7cd1a"
      },
      "execution_count": 25,
      "outputs": [
        {
          "output_type": "display_data",
          "data": {
            "text/html": [
              "<html>\n",
              "<head><meta charset=\"utf-8\" /></head>\n",
              "<body>\n",
              "    <div>            <script src=\"https://cdnjs.cloudflare.com/ajax/libs/mathjax/2.7.5/MathJax.js?config=TeX-AMS-MML_SVG\"></script><script type=\"text/javascript\">if (window.MathJax && window.MathJax.Hub && window.MathJax.Hub.Config) {window.MathJax.Hub.Config({SVG: {font: \"STIX-Web\"}});}</script>                <script type=\"text/javascript\">window.PlotlyConfig = {MathJaxConfig: 'local'};</script>\n",
              "        <script charset=\"utf-8\" src=\"https://cdn.plot.ly/plotly-2.24.1.min.js\"></script>                <div id=\"3fb7ea01-a339-43a1-9aed-2bfa96f05e21\" class=\"plotly-graph-div\" style=\"height:800px; width:800px;\"></div>            <script type=\"text/javascript\">                                    window.PLOTLYENV=window.PLOTLYENV || {};                                    if (document.getElementById(\"3fb7ea01-a339-43a1-9aed-2bfa96f05e21\")) {                    Plotly.newPlot(                        \"3fb7ea01-a339-43a1-9aed-2bfa96f05e21\",                        [{\"coloraxis\":\"coloraxis\",\"name\":\"0\",\"x\":[\"0_\\u0438\\u0432\\u0430\\u043d\\u043e\\u0432\\u0438\\u0447_\\u0433\\u043e\\u0434_\\u043a\\u0430\\u0442\\u0435\\u0440\\u0438\\u043d\\u0430\",\"1_\\u0431\\u043e\\u0433_\\u0433\\u043e\\u0441\\u043f\\u043e\\u0434\\u044c_\\u043b\\u0438\\u0437\\u0430\\u0432\\u0435\\u0442\\u0430\",\"2_\\u043f\\u0451\\u0442\\u0440_\\u043f\\u0451\\u0442\\u0440 \\u043f\\u0435\\u0442\\u0440\\u043e\\u0432\\u0438\\u0447_\\u043f\\u0435\\u0442\\u0440\\u043e\\u0432\\u0438\\u0447\",\"3_\\u0434\\u0432\\u0435\\u0440\\u044c_\\u043b\\u0435\\u0441\\u0442\\u043d\\u0438\\u0446\\u0430_\\u044d\\u0442\\u0430\\u0436\",\"4_\\u043b\\u0438\\u0446\\u043e_\\u0431\\u043b\\u0435\\u0434\\u043d\\u044b\\u0439_\\u0433\\u043b\\u0430\\u0437\",\"5_\\u0441\\u0435\\u0441\\u0442\\u0440\\u0430_\\u043c\\u0430\\u0442\\u044c_\\u043c\\u0430\\u043c\\u0435\\u043d\\u044c\\u043a\\u0430\",\"6_\\u0444\\u0430\\u043a\\u0442_\\u0432\\u0435\\u0440\\u0438\\u0442\\u044c_\\u0432\\u0435\\u0441\\u044c\\u043c\\u0430\",\"7_\\u0434\\u0438\\u0432\\u0430\\u043d_\\u0441\\u0435\\u0441\\u0442\\u044c \\u0434\\u0438\\u0432\\u0430\\u043d_\\u043f\\u043e\\u0440\\u043e\\u0433\",\"8_\\u043f\\u0440\\u0435\\u0441\\u0442\\u0443\\u043f\\u043b\\u0435\\u043d\\u0438\\u0435_\\u043f\\u0440\\u0435\\u0441\\u0442\\u0443\\u043f\\u043d\\u0438\\u043a_\\u0443...\",\"9_\\u043f\\u0440\\u043e\\u0433\\u043e\\u0432\\u043e\\u0440\\u0438\\u0442\\u044c_\\u0440\\u0430\\u0437\\u0433\\u043e\\u0432\\u043e\\u0440_\\u0448\\u0438\\u043b\\u043b\\u0435\\u0440\",\"10_\\u0440\\u0430\\u0437\\u0443\\u043c\\u0438\\u0445\\u0438\\u043d_\\u043d\\u0430\\u0445\\u043c\\u0443\\u0440\\u0438\\u0442\\u044c\\u0441\\u044f_\\u043d\\u0435...\",\"11_\\u0431\\u0440\\u0430\\u0442_\\u0440\\u043e\\u043c\\u0430\\u043d\\u043e\\u0432\\u0438\\u0447_\\u0430\\u0432\\u0434\\u043e\\u0442\\u044c\\u044f\",\"12_\\u0447\\u0430\\u0439_\\u0441\\u0443\\u043f_\\u0432\\u043e\\u0434\\u043a\\u0430\",\"13_\\u0440\\u0435\\u0432\\u043e\\u043b\\u044c\\u0432\\u0435\\u0440_\\u043c\\u0438\\u043a\\u043e\\u043b\\u043a\\u0430_\\u0442\\u0435\\u043b\\u0435\\u0433\\u0430\",\"14_\\u0447\\u0438\\u043d\\u043e\\u0432\\u043d\\u0438\\u043a_\\u043f\\u043e\\u043b\\u0438\\u0446\\u0435\\u0439\\u0441\\u043a\\u0438\\u0439_\\u043e\\u0444\\u0438...\",\"15_\\u0432\\u044b\\u0434\\u0435\\u0440\\u0436\\u0430\\u0442\\u044c_\\u0443\\u0440\\u043e\\u043a_\\u0434\\u0438\\u0447\\u044c\",\"16_\\u0437\\u0430\\u0432\\u0442\\u0440\\u0430_\\u0432\\u0447\\u0435\\u0440\\u0430_\\u0433\\u043e\\u0432\\u043e\\u0440\\u0438\\u0442\\u044c \\u0432\\u0447...\",\"17_\\u0434\\u0435\\u043d\\u044c\\u0433\\u0430_\\u043a\\u043e\\u0448\\u0435\\u043b\\u0451\\u043a_\\u0440\\u0443\\u0431\\u043b\\u044c\",\"18_\\u043c\\u044b\\u0441\\u043b\\u044c_\\u0432\\u0435\\u0447\\u043d\\u043e\\u0441\\u0442\\u044c_\\u043f\\u0440\\u043e\\u043d\\u0435\\u0441\\u0442\\u0438\\u0441\\u044c\",\"19_\\u043d\\u0435\\u0432\\u0435\\u0441\\u0442\\u0430_\\u0431\\u0440\\u0430\\u043a_\\u0436\\u0435\\u043d\\u0438\\u0442\\u044c\\u0441\\u044f\",\"20_\\u043e\\u0441\\u0442\\u0440\\u043e\\u0433_\\u0436\\u0438\\u0437\\u043d\\u044c_\\u0441\\u0435\\u043c\\u044c \\u0433\\u043e\\u0434\",\"21_\\u0441\\u0442\\u044b\\u0434_\\u0445\\u043b\\u043e\\u043f\\u043e\\u0442\\u0430\\u0442\\u044c_\\u043d\\u0435\\u043d\\u0430\\u0432\\u0438\\u0434\\u0435\\u0442\\u044c\",\"22_\\u0440\\u0443\\u043a\\u0430_\\u0437\\u0435\\u043c\\u043b\\u044f_\\u043e\\u0431\\u0430 \\u0440\\u0443\\u043a\\u0430\",\"23_\\u0443\\u043b\\u0438\\u0446\\u0430_\\u043f\\u043e\\u0432\\u043e\\u0440\\u043e\\u0442_\\u043f\\u043e\\u0432\\u043e\\u0440\\u043e\\u0442\\u0438\\u0442\\u044c\",\"24_\\u043a\\u0432\\u0430\\u0440\\u0442\\u0438\\u0440\\u0430_\\u043a\\u043e\\u043c\\u043d\\u0430\\u0442\\u0430_\\u043f\\u043e\\u0440\\u0444\\u0438\\u0440\\u0438...\",\"25_\\u0441\\u0442\\u0430\\u0440\\u0443\\u0445\\u0430_\\u0441\\u0442\\u0430\\u0440\\u0448\\u0438\\u0439 \\u0440\\u0430\\u0431\\u043e\\u0442\\u043d\\u0438\\u043a...\",\"26_\\u0441\\u0445\\u043e\\u0434_\\u043d\\u0435\\u0432\\u0430_\\u0432\\u043e\\u0434\\u0430\",\"27_\\u043f\\u043e\\u0440\\u0444\\u0438\\u0440\\u0438\\u0439 \\u043f\\u0435\\u0442\\u0440\\u043e\\u0432\\u0438\\u0447_\\u043f\\u0435\\u0442\\u0440\\u043e\\u0432...\",\"28_\\u043b\\u043e\\u0448\\u0430\\u0434\\u044c_\\u043a\\u0443\\u0447\\u0435\\u0440_\\u043f\\u0430\\u043f\\u043e\\u0447\\u043a\\u0430\",\"29_\\u0441\\u0442\\u0443\\u043b_\\u0441\\u0438\\u0434\\u0435\\u0442\\u044c \\u0441\\u0442\\u0443\\u043b_\\u043f\\u0440\\u043e\\u0441\\u0442\\u0440\\u0430...\",\"30_\\u0433\\u043b\\u0443\\u043f\\u044b\\u0439_\\u043c\\u0435\\u043b\\u043e\\u0447\\u044c_\\u043e\\u0431\\u043e\\u0440\\u0432\\u0430\\u0442\\u044c\\u0441\\u044f\"],\"y\":[\"0_\\u0438\\u0432\\u0430\\u043d\\u043e\\u0432\\u0438\\u0447_\\u0433\\u043e\\u0434_\\u043a\\u0430\\u0442\\u0435\\u0440\\u0438\\u043d\\u0430\",\"1_\\u0431\\u043e\\u0433_\\u0433\\u043e\\u0441\\u043f\\u043e\\u0434\\u044c_\\u043b\\u0438\\u0437\\u0430\\u0432\\u0435\\u0442\\u0430\",\"2_\\u043f\\u0451\\u0442\\u0440_\\u043f\\u0451\\u0442\\u0440 \\u043f\\u0435\\u0442\\u0440\\u043e\\u0432\\u0438\\u0447_\\u043f\\u0435\\u0442\\u0440\\u043e\\u0432\\u0438\\u0447\",\"3_\\u0434\\u0432\\u0435\\u0440\\u044c_\\u043b\\u0435\\u0441\\u0442\\u043d\\u0438\\u0446\\u0430_\\u044d\\u0442\\u0430\\u0436\",\"4_\\u043b\\u0438\\u0446\\u043e_\\u0431\\u043b\\u0435\\u0434\\u043d\\u044b\\u0439_\\u0433\\u043b\\u0430\\u0437\",\"5_\\u0441\\u0435\\u0441\\u0442\\u0440\\u0430_\\u043c\\u0430\\u0442\\u044c_\\u043c\\u0430\\u043c\\u0435\\u043d\\u044c\\u043a\\u0430\",\"6_\\u0444\\u0430\\u043a\\u0442_\\u0432\\u0435\\u0440\\u0438\\u0442\\u044c_\\u0432\\u0435\\u0441\\u044c\\u043c\\u0430\",\"7_\\u0434\\u0438\\u0432\\u0430\\u043d_\\u0441\\u0435\\u0441\\u0442\\u044c \\u0434\\u0438\\u0432\\u0430\\u043d_\\u043f\\u043e\\u0440\\u043e\\u0433\",\"8_\\u043f\\u0440\\u0435\\u0441\\u0442\\u0443\\u043f\\u043b\\u0435\\u043d\\u0438\\u0435_\\u043f\\u0440\\u0435\\u0441\\u0442\\u0443\\u043f\\u043d\\u0438\\u043a_\\u0443...\",\"9_\\u043f\\u0440\\u043e\\u0433\\u043e\\u0432\\u043e\\u0440\\u0438\\u0442\\u044c_\\u0440\\u0430\\u0437\\u0433\\u043e\\u0432\\u043e\\u0440_\\u0448\\u0438\\u043b\\u043b\\u0435\\u0440\",\"10_\\u0440\\u0430\\u0437\\u0443\\u043c\\u0438\\u0445\\u0438\\u043d_\\u043d\\u0430\\u0445\\u043c\\u0443\\u0440\\u0438\\u0442\\u044c\\u0441\\u044f_\\u043d\\u0435...\",\"11_\\u0431\\u0440\\u0430\\u0442_\\u0440\\u043e\\u043c\\u0430\\u043d\\u043e\\u0432\\u0438\\u0447_\\u0430\\u0432\\u0434\\u043e\\u0442\\u044c\\u044f\",\"12_\\u0447\\u0430\\u0439_\\u0441\\u0443\\u043f_\\u0432\\u043e\\u0434\\u043a\\u0430\",\"13_\\u0440\\u0435\\u0432\\u043e\\u043b\\u044c\\u0432\\u0435\\u0440_\\u043c\\u0438\\u043a\\u043e\\u043b\\u043a\\u0430_\\u0442\\u0435\\u043b\\u0435\\u0433\\u0430\",\"14_\\u0447\\u0438\\u043d\\u043e\\u0432\\u043d\\u0438\\u043a_\\u043f\\u043e\\u043b\\u0438\\u0446\\u0435\\u0439\\u0441\\u043a\\u0438\\u0439_\\u043e\\u0444\\u0438...\",\"15_\\u0432\\u044b\\u0434\\u0435\\u0440\\u0436\\u0430\\u0442\\u044c_\\u0443\\u0440\\u043e\\u043a_\\u0434\\u0438\\u0447\\u044c\",\"16_\\u0437\\u0430\\u0432\\u0442\\u0440\\u0430_\\u0432\\u0447\\u0435\\u0440\\u0430_\\u0433\\u043e\\u0432\\u043e\\u0440\\u0438\\u0442\\u044c \\u0432\\u0447...\",\"17_\\u0434\\u0435\\u043d\\u044c\\u0433\\u0430_\\u043a\\u043e\\u0448\\u0435\\u043b\\u0451\\u043a_\\u0440\\u0443\\u0431\\u043b\\u044c\",\"18_\\u043c\\u044b\\u0441\\u043b\\u044c_\\u0432\\u0435\\u0447\\u043d\\u043e\\u0441\\u0442\\u044c_\\u043f\\u0440\\u043e\\u043d\\u0435\\u0441\\u0442\\u0438\\u0441\\u044c\",\"19_\\u043d\\u0435\\u0432\\u0435\\u0441\\u0442\\u0430_\\u0431\\u0440\\u0430\\u043a_\\u0436\\u0435\\u043d\\u0438\\u0442\\u044c\\u0441\\u044f\",\"20_\\u043e\\u0441\\u0442\\u0440\\u043e\\u0433_\\u0436\\u0438\\u0437\\u043d\\u044c_\\u0441\\u0435\\u043c\\u044c \\u0433\\u043e\\u0434\",\"21_\\u0441\\u0442\\u044b\\u0434_\\u0445\\u043b\\u043e\\u043f\\u043e\\u0442\\u0430\\u0442\\u044c_\\u043d\\u0435\\u043d\\u0430\\u0432\\u0438\\u0434\\u0435\\u0442\\u044c\",\"22_\\u0440\\u0443\\u043a\\u0430_\\u0437\\u0435\\u043c\\u043b\\u044f_\\u043e\\u0431\\u0430 \\u0440\\u0443\\u043a\\u0430\",\"23_\\u0443\\u043b\\u0438\\u0446\\u0430_\\u043f\\u043e\\u0432\\u043e\\u0440\\u043e\\u0442_\\u043f\\u043e\\u0432\\u043e\\u0440\\u043e\\u0442\\u0438\\u0442\\u044c\",\"24_\\u043a\\u0432\\u0430\\u0440\\u0442\\u0438\\u0440\\u0430_\\u043a\\u043e\\u043c\\u043d\\u0430\\u0442\\u0430_\\u043f\\u043e\\u0440\\u0444\\u0438\\u0440\\u0438...\",\"25_\\u0441\\u0442\\u0430\\u0440\\u0443\\u0445\\u0430_\\u0441\\u0442\\u0430\\u0440\\u0448\\u0438\\u0439 \\u0440\\u0430\\u0431\\u043e\\u0442\\u043d\\u0438\\u043a...\",\"26_\\u0441\\u0445\\u043e\\u0434_\\u043d\\u0435\\u0432\\u0430_\\u0432\\u043e\\u0434\\u0430\",\"27_\\u043f\\u043e\\u0440\\u0444\\u0438\\u0440\\u0438\\u0439 \\u043f\\u0435\\u0442\\u0440\\u043e\\u0432\\u0438\\u0447_\\u043f\\u0435\\u0442\\u0440\\u043e\\u0432...\",\"28_\\u043b\\u043e\\u0448\\u0430\\u0434\\u044c_\\u043a\\u0443\\u0447\\u0435\\u0440_\\u043f\\u0430\\u043f\\u043e\\u0447\\u043a\\u0430\",\"29_\\u0441\\u0442\\u0443\\u043b_\\u0441\\u0438\\u0434\\u0435\\u0442\\u044c \\u0441\\u0442\\u0443\\u043b_\\u043f\\u0440\\u043e\\u0441\\u0442\\u0440\\u0430...\",\"30_\\u0433\\u043b\\u0443\\u043f\\u044b\\u0439_\\u043c\\u0435\\u043b\\u043e\\u0447\\u044c_\\u043e\\u0431\\u043e\\u0440\\u0432\\u0430\\u0442\\u044c\\u0441\\u044f\"],\"z\":[[0.9999997615814209,0.7956192493438721,0.8788245916366577,0.68575119972229,0.6240401268005371,0.7279647588729858,0.5959369540214539,0.5822696089744568,0.6192707419395447,0.6809082627296448,0.6135041117668152,0.6632657051086426,0.5676042437553406,0.6766349077224731,0.6665869355201721,0.7290676832199097,0.6444875597953796,0.5851025581359863,0.6184381246566772,0.6704838871955872,0.6562502980232239,0.6626895666122437,0.6168091297149658,0.6462171077728271,0.7905393242835999,0.5570378303527832,0.6009811162948608,0.7964930534362793,0.5437634587287903,0.5931949615478516,0.6813390851020813],[0.7956192493438721,0.9999998211860657,0.7943379878997803,0.6871994733810425,0.7009004354476929,0.8223954439163208,0.7357099652290344,0.6177393794059753,0.7533361911773682,0.7390767931938171,0.70172119140625,0.7697726488113403,0.5990118980407715,0.7019231915473938,0.7177388668060303,0.7897421717643738,0.7821102142333984,0.6678060293197632,0.7474414110183716,0.8036719560623169,0.7891348600387573,0.7916200160980225,0.689166247844696,0.6168120503425598,0.7413126230239868,0.6403586268424988,0.6324043869972229,0.7370903491973877,0.641739010810852,0.5754343867301941,0.7827988862991333],[0.8788245916366577,0.7943379878997803,1.0,0.6879366636276245,0.6701716184616089,0.7503488063812256,0.6561946272850037,0.5895540714263916,0.6376501321792603,0.7140048742294312,0.6950467228889465,0.7389765977859497,0.6338092684745789,0.7210162878036499,0.7454476952552795,0.7785588502883911,0.7022041082382202,0.622654139995575,0.6383795142173767,0.6855681538581848,0.6470323801040649,0.6720134615898132,0.6569341421127319,0.6337330341339111,0.8117626905441284,0.6101144552230835,0.5966371297836304,0.900412917137146,0.5837662220001221,0.6488043069839478,0.6749555468559265],[0.68575119972229,0.6871994733810425,0.6879366636276245,1.0,0.7226378917694092,0.7275101542472839,0.6644331216812134,0.7795857787132263,0.6013780236244202,0.7443498373031616,0.6423057913780212,0.7038127779960632,0.6189969778060913,0.7826026082038879,0.7483087778091431,0.8214888572692871,0.7095606923103333,0.6085663437843323,0.7092139720916748,0.5876200795173645,0.7023426294326782,0.6367686986923218,0.740639328956604,0.8262738585472107,0.8650525808334351,0.6797741651535034,0.7505185604095459,0.7284925580024719,0.6474021673202515,0.7839016914367676,0.7089663743972778],[0.6240401268005371,0.7009004354476929,0.6701716184616089,0.7226378917694092,1.0,0.7577602863311768,0.7400398254394531,0.8106393218040466,0.5808181166648865,0.8097103834152222,0.7303392887115479,0.7463763356208801,0.63451087474823,0.781216561794281,0.6307030916213989,0.7622088193893433,0.6841081380844116,0.5427518486976624,0.8503650426864624,0.5723092555999756,0.7300311326980591,0.7377163171768188,0.751532793045044,0.6500617265701294,0.6246083378791809,0.616826057434082,0.6808820366859436,0.7447010278701782,0.5556075572967529,0.6938091516494751,0.7726255655288696],[0.7279647588729858,0.8223954439163208,0.7503488063812256,0.7275101542472839,0.7577602863311768,0.9999995827674866,0.7127046585083008,0.7057981491088867,0.6681116819381714,0.7905837297439575,0.6856322288513184,0.8672752976417542,0.6098948121070862,0.7456338405609131,0.71747887134552,0.7979590892791748,0.7276020050048828,0.5659458637237549,0.7108756303787231,0.7485793828964233,0.7077630758285522,0.7559528350830078,0.7005037069320679,0.6160057783126831,0.7365127205848694,0.7134129405021667,0.5795708894729614,0.7471159100532532,0.6339626908302307,0.6502451300621033,0.7784109115600586],[0.5959369540214539,0.7357099652290344,0.6561946272850037,0.6644331216812134,0.7400398254394531,0.7127046585083008,0.9999999403953552,0.6398684978485107,0.8310896158218384,0.8521156311035156,0.8365766406059265,0.7519537210464478,0.5582329630851746,0.6195989847183228,0.6638080477714539,0.8494164943695068,0.7114468812942505,0.7075588703155518,0.8410873413085938,0.7174224853515625,0.8124996423721313,0.8634917140007019,0.6978753209114075,0.6035465002059937,0.6389524340629578,0.6400206089019775,0.6313480138778687,0.7779659628868103,0.5326374173164368,0.627105176448822,0.8785101175308228],[0.5822696089744568,0.6177393794059753,0.5895540714263916,0.7795857787132263,0.8106393218040466,0.7057981491088867,0.6398684978485107,1.0,0.5215743780136108,0.7025654911994934,0.6931666135787964,0.6752972602844238,0.6355551481246948,0.6692097187042236,0.5693276524543762,0.7243355512619019,0.6814890503883362,0.5148097276687622,0.7740221619606018,0.5133188366889954,0.6703580617904663,0.6109704375267029,0.7186731696128845,0.6217812895774841,0.6975936889648438,0.6214193105697632,0.6102633476257324,0.6867954730987549,0.5253345966339111,0.8340394496917725,0.6854467391967773],[0.6192707419395447,0.7533361911773682,0.6376501321792603,0.6013780236244202,0.5808181166648865,0.6681116819381714,0.8310896158218384,0.5215743780136108,1.0,0.723761796951294,0.7569143772125244,0.6811062097549438,0.462795615196228,0.5866047739982605,0.7405148148536682,0.7708884477615356,0.6431466341018677,0.6572802662849426,0.6809278130531311,0.7054945230484009,0.773777425289154,0.85634845495224,0.5980356335639954,0.561352014541626,0.6429983377456665,0.5598365664482117,0.535769522190094,0.6895307302474976,0.5417191982269287,0.5460929274559021,0.7610796689987183],[0.6809082627296448,0.7390767931938171,0.7140048742294312,0.7443498373031616,0.8097103834152222,0.7905837297439575,0.8521156311035156,0.7025654911994934,0.723761796951294,0.9999998211860657,0.7880083918571472,0.7918013334274292,0.6278237104415894,0.7270241975784302,0.7301344871520996,0.8881130218505859,0.7611477375030518,0.5945789813995361,0.77510666847229,0.7003434896469116,0.740066409111023,0.8217533826828003,0.7121360301971436,0.672646701335907,0.6782310605049133,0.695956289768219,0.6195013523101807,0.813835620880127,0.601250171661377,0.7146324515342712,0.8401368856430054],[0.6135041117668152,0.70172119140625,0.6950467228889465,0.6423057913780212,0.7303392887115479,0.6856322288513184,0.8365766406059265,0.6931666135787964,0.7569143772125244,0.7880083918571472,0.9999998807907104,0.7328038215637207,0.6809948682785034,0.637535810470581,0.6566725969314575,0.8306277394294739,0.7483954429626465,0.6612554788589478,0.7544530630111694,0.6687508821487427,0.7248239517211914,0.7669340372085571,0.6969456672668457,0.56271892786026,0.6324335336685181,0.603280782699585,0.5851311683654785,0.7624568939208984,0.541382908821106,0.6829906702041626,0.7929020524024963],[0.6632657051086426,0.7697726488113403,0.7389765977859497,0.7038127779960632,0.7463763356208801,0.8672752976417542,0.7519537210464478,0.6752972602844238,0.6811062097549438,0.7918013334274292,0.7328038215637207,1.0,0.6260271072387695,0.7357141375541687,0.7091054916381836,0.8053072094917297,0.7291824817657471,0.6057567596435547,0.7076556086540222,0.72541344165802,0.6861475706100464,0.750517725944519,0.6917706727981567,0.6113829016685486,0.6912010908126831,0.6772807836532593,0.5675117373466492,0.7413140535354614,0.6470060348510742,0.6567897200584412,0.8062381148338318],[0.5676042437553406,0.5990118980407715,0.6338092684745789,0.6189969778060913,0.63451087474823,0.6098948121070862,0.5582329630851746,0.6355551481246948,0.462795615196228,0.6278237104415894,0.6809948682785034,0.6260271072387695,0.9999997615814209,0.6448597311973572,0.538987934589386,0.669296383857727,0.6866907477378845,0.6195743083953857,0.6210346221923828,0.5432714819908142,0.5526257157325745,0.51430344581604,0.5944473743438721,0.5469045639038086,0.6558246612548828,0.5533987283706665,0.6218456029891968,0.6113492250442505,0.5487678050994873,0.6294828057289124,0.6188166737556458],[0.6766349077224731,0.7019231915473938,0.7210162878036499,0.7826026082038879,0.781216561794281,0.7456338405609131,0.6195989847183228,0.6692097187042236,0.5866047739982605,0.7270241975784302,0.637535810470581,0.7357141375541687,0.6448597311973572,1.0000003576278687,0.7448197603225708,0.7885092496871948,0.6527739763259888,0.5754678249359131,0.6773940324783325,0.5566508769989014,0.6875321865081787,0.6428759098052979,0.7536330223083496,0.6937826871871948,0.7090098857879639,0.5851266980171204,0.7246525287628174,0.6865134239196777,0.7520276308059692,0.6732149124145508,0.7565076351165771],[0.6665869355201721,0.7177388668060303,0.7454476952552795,0.7483087778091431,0.6307030916213989,0.71747887134552,0.6638080477714539,0.5693276524543762,0.7405148148536682,0.7301344871520996,0.6566725969314575,0.7091054916381836,0.538987934589386,0.7448197603225708,0.9999997615814209,0.7937352657318115,0.7031457424163818,0.591888427734375,0.5807144045829773,0.633578360080719,0.6259587407112122,0.6794799566268921,0.6473673582077026,0.7310125827789307,0.7990238666534424,0.6633830666542053,0.5931301116943359,0.7402895092964172,0.6587855815887451,0.654748260974884,0.6752291917800903],[0.7290676832199097,0.7897421717643738,0.7785588502883911,0.8214888572692871,0.7622088193893433,0.7979590892791748,0.8494164943695068,0.7243355512619019,0.7708884477615356,0.8881130218505859,0.8306277394294739,0.8053072094917297,0.669296383857727,0.7885092496871948,0.7937352657318115,0.9999997615814209,0.8483660221099854,0.7354825139045715,0.7927597761154175,0.7187085151672363,0.827298641204834,0.8218668103218079,0.7930708527565002,0.764950156211853,0.8008167743682861,0.7488315105438232,0.7434168457984924,0.8178969621658325,0.6760979294776917,0.7450289726257324,0.866225004196167],[0.6444875597953796,0.7821102142333984,0.7022041082382202,0.7095606923103333,0.6841081380844116,0.7276020050048828,0.7114468812942505,0.6814890503883362,0.6431466341018677,0.7611477375030518,0.7483954429626465,0.7291824817657471,0.6866907477378845,0.6527739763259888,0.7031457424163818,0.8483660221099854,0.9999998807907104,0.6344916820526123,0.7743091583251953,0.6824084520339966,0.7068271040916443,0.6704716682434082,0.6493653655052185,0.6705492734909058,0.7470036745071411,0.6860537528991699,0.6434969902038574,0.7364047765731812,0.5739589929580688,0.6543442010879517,0.7720848321914673],[0.5851025581359863,0.6678060293197632,0.622654139995575,0.6085663437843323,0.5427518486976624,0.5659458637237549,0.7075588703155518,0.5148097276687622,0.6572802662849426,0.5945789813995361,0.6612554788589478,0.6057567596435547,0.6195743083953857,0.5754678249359131,0.591888427734375,0.7354825139045715,0.6344916820526123,1.0,0.6531518697738647,0.6524451971054077,0.7083391547203064,0.6615322828292847,0.6181426048278809,0.559709906578064,0.6978925466537476,0.5734763145446777,0.6042442917823792,0.6074533462524414,0.5246152877807617,0.5479315519332886,0.6909675598144531],[0.6184381246566772,0.7474414110183716,0.6383795142173767,0.7092139720916748,0.8503650426864624,0.7108756303787231,0.8410873413085938,0.7740221619606018,0.6809278130531311,0.77510666847229,0.7544530630111694,0.7076556086540222,0.6210346221923828,0.6773940324783325,0.5807144045829773,0.7927597761154175,0.7743091583251953,0.6531518697738647,1.0000001192092896,0.6391738057136536,0.8328349590301514,0.7513684034347534,0.6904210448265076,0.6519604325294495,0.6582455635070801,0.6417349576950073,0.7268008589744568,0.7467820048332214,0.5209288597106934,0.6690180897712708,0.8512627482414246],[0.6704838871955872,0.8036719560623169,0.6855681538581848,0.5876200795173645,0.5723092555999756,0.7485793828964233,0.7174224853515625,0.5133188366889954,0.7054945230484009,0.7003434896469116,0.6687508821487427,0.72541344165802,0.5432714819908142,0.5566508769989014,0.633578360080719,0.7187085151672363,0.6824084520339966,0.6524451971054077,0.6391738057136536,0.9999999403953552,0.6729193925857544,0.7252923250198364,0.5936517119407654,0.5325419306755066,0.6715748310089111,0.649949848651886,0.499764084815979,0.6624339818954468,0.5692062377929688,0.48065465688705444,0.7106912136077881],[0.6562502980232239,0.7891348600387573,0.6470323801040649,0.7023426294326782,0.7300311326980591,0.7077630758285522,0.8124996423721313,0.6703580617904663,0.773777425289154,0.740066409111023,0.7248239517211914,0.6861475706100464,0.5526257157325745,0.6875321865081787,0.6259587407112122,0.827298641204834,0.7068271040916443,0.7083391547203064,0.8328349590301514,0.6729193925857544,0.9999998211860657,0.814804196357727,0.6833579540252686,0.6321314573287964,0.6749482154846191,0.6349998116493225,0.7747687101364136,0.6653671264648438,0.5970618724822998,0.611068069934845,0.8228235840797424],[0.6626895666122437,0.7916200160980225,0.6720134615898132,0.6367686986923218,0.7377163171768188,0.7559528350830078,0.8634917140007019,0.6109704375267029,0.85634845495224,0.8217533826828003,0.7669340372085571,0.750517725944519,0.51430344581604,0.6428759098052979,0.6794799566268921,0.8218668103218079,0.6704716682434082,0.6615322828292847,0.7513684034347534,0.7252923250198364,0.814804196357727,0.9999998807907104,0.6789551973342896,0.5575080513954163,0.6212574243545532,0.6310466527938843,0.5567415952682495,0.7127126455307007,0.5866931676864624,0.5652654767036438,0.8439613580703735],[0.6168091297149658,0.689166247844696,0.6569341421127319,0.740639328956604,0.751532793045044,0.7005037069320679,0.6978753209114075,0.7186731696128845,0.5980356335639954,0.7121360301971436,0.6969456672668457,0.6917706727981567,0.5944473743438721,0.7536330223083496,0.6473673582077026,0.7930708527565002,0.6493653655052185,0.6181426048278809,0.6904210448265076,0.5936517119407654,0.6833579540252686,0.6789551973342896,1.000000238418579,0.6874476671218872,0.6385484933853149,0.6255201697349548,0.6803691983222961,0.7099952697753906,0.5964505076408386,0.7268477082252502,0.6957363486289978],[0.6462171077728271,0.6168120503425598,0.6337330341339111,0.8262738585472107,0.6500617265701294,0.6160057783126831,0.6035465002059937,0.6217812895774841,0.561352014541626,0.672646701335907,0.56271892786026,0.6113829016685486,0.5469045639038086,0.6937826871871948,0.7310125827789307,0.764950156211853,0.6705492734909058,0.559709906578064,0.6519604325294495,0.5325419306755066,0.6321314573287964,0.5575080513954163,0.6874476671218872,1.0,0.7601178884506226,0.611045241355896,0.7793940901756287,0.6533888578414917,0.6308497190475464,0.668276309967041,0.6150088906288147],[0.7905393242835999,0.7413126230239868,0.8117626905441284,0.8650525808334351,0.6246083378791809,0.7365127205848694,0.6389524340629578,0.6975936889648438,0.6429983377456665,0.6782310605049133,0.6324335336685181,0.6912010908126831,0.6558246612548828,0.7090098857879639,0.7990238666534424,0.8008167743682861,0.7470036745071411,0.6978925466537476,0.6582455635070801,0.6715748310089111,0.6749482154846191,0.6212574243545532,0.6385484933853149,0.7601178884506226,0.9999997019767761,0.6844232082366943,0.6899814009666443,0.7866265773773193,0.6004807353019714,0.7418066263198853,0.6727107763290405],[0.5570378303527832,0.6403586268424988,0.6101144552230835,0.6797741651535034,0.616826057434082,0.7134129405021667,0.6400206089019775,0.6214193105697632,0.5598365664482117,0.695956289768219,0.603280782699585,0.6772807836532593,0.5533987283706665,0.5851266980171204,0.6633830666542053,0.7488315105438232,0.6860537528991699,0.5734763145446777,0.6417349576950073,0.649949848651886,0.6349998116493225,0.6310466527938843,0.6255201697349548,0.611045241355896,0.6844232082366943,1.0,0.5133163928985596,0.6616308093070984,0.5438580513000488,0.6174919605255127,0.6417132019996643],[0.6009811162948608,0.6324043869972229,0.5966371297836304,0.7505185604095459,0.6808820366859436,0.5795708894729614,0.6313480138778687,0.6102633476257324,0.535769522190094,0.6195013523101807,0.5851311683654785,0.5675117373466492,0.6218456029891968,0.7246525287628174,0.5931301116943359,0.7434168457984924,0.6434969902038574,0.6042442917823792,0.7268008589744568,0.499764084815979,0.7747687101364136,0.5567415952682495,0.6803691983222961,0.7793940901756287,0.6899814009666443,0.5133163928985596,1.0000001192092896,0.5878354907035828,0.5992684960365295,0.6039087772369385,0.6514458656311035],[0.7964930534362793,0.7370903491973877,0.900412917137146,0.7284925580024719,0.7447010278701782,0.7471159100532532,0.7779659628868103,0.6867954730987549,0.6895307302474976,0.813835620880127,0.7624568939208984,0.7413140535354614,0.6113492250442505,0.6865134239196777,0.7402895092964172,0.8178969621658325,0.7364047765731812,0.6074533462524414,0.7467820048332214,0.6624339818954468,0.6653671264648438,0.7127126455307007,0.7099952697753906,0.6533888578414917,0.7866265773773193,0.6616308093070984,0.5878354907035828,0.9999998807907104,0.5212112665176392,0.7316317558288574,0.7424848675727844],[0.5437634587287903,0.641739010810852,0.5837662220001221,0.6474021673202515,0.5556075572967529,0.6339626908302307,0.5326374173164368,0.5253345966339111,0.5417191982269287,0.601250171661377,0.541382908821106,0.6470060348510742,0.5487678050994873,0.7520276308059692,0.6587855815887451,0.6760979294776917,0.5739589929580688,0.5246152877807617,0.5209288597106934,0.5692062377929688,0.5970618724822998,0.5866931676864624,0.5964505076408386,0.6308497190475464,0.6004807353019714,0.5438580513000488,0.5992684960365295,0.5212112665176392,1.000000238418579,0.5665746927261353,0.6257432699203491],[0.5931949615478516,0.5754343867301941,0.6488043069839478,0.7839016914367676,0.6938091516494751,0.6502451300621033,0.627105176448822,0.8340394496917725,0.5460929274559021,0.7146324515342712,0.6829906702041626,0.6567897200584412,0.6294828057289124,0.6732149124145508,0.654748260974884,0.7450289726257324,0.6543442010879517,0.5479315519332886,0.6690180897712708,0.48065465688705444,0.611068069934845,0.5652654767036438,0.7268477082252502,0.668276309967041,0.7418066263198853,0.6174919605255127,0.6039087772369385,0.7316317558288574,0.5665746927261353,1.0,0.6402835845947266],[0.6813390851020813,0.7827988862991333,0.6749555468559265,0.7089663743972778,0.7726255655288696,0.7784109115600586,0.8785101175308228,0.6854467391967773,0.7610796689987183,0.8401368856430054,0.7929020524024963,0.8062381148338318,0.6188166737556458,0.7565076351165771,0.6752291917800903,0.866225004196167,0.7720848321914673,0.6909675598144531,0.8512627482414246,0.7106912136077881,0.8228235840797424,0.8439613580703735,0.6957363486289978,0.6150088906288147,0.6727107763290405,0.6417132019996643,0.6514458656311035,0.7424848675727844,0.6257432699203491,0.6402835845947266,1.0]],\"type\":\"heatmap\",\"xaxis\":\"x\",\"yaxis\":\"y\",\"hovertemplate\":\"x: %{x}\\u003cbr\\u003ey: %{y}\\u003cbr\\u003eSimilarity Score: %{z}\\u003cextra\\u003e\\u003c\\u002fextra\\u003e\"}],                        {\"template\":{\"data\":{\"histogram2dcontour\":[{\"type\":\"histogram2dcontour\",\"colorbar\":{\"outlinewidth\":0,\"ticks\":\"\"},\"colorscale\":[[0.0,\"#0d0887\"],[0.1111111111111111,\"#46039f\"],[0.2222222222222222,\"#7201a8\"],[0.3333333333333333,\"#9c179e\"],[0.4444444444444444,\"#bd3786\"],[0.5555555555555556,\"#d8576b\"],[0.6666666666666666,\"#ed7953\"],[0.7777777777777778,\"#fb9f3a\"],[0.8888888888888888,\"#fdca26\"],[1.0,\"#f0f921\"]]}],\"choropleth\":[{\"type\":\"choropleth\",\"colorbar\":{\"outlinewidth\":0,\"ticks\":\"\"}}],\"histogram2d\":[{\"type\":\"histogram2d\",\"colorbar\":{\"outlinewidth\":0,\"ticks\":\"\"},\"colorscale\":[[0.0,\"#0d0887\"],[0.1111111111111111,\"#46039f\"],[0.2222222222222222,\"#7201a8\"],[0.3333333333333333,\"#9c179e\"],[0.4444444444444444,\"#bd3786\"],[0.5555555555555556,\"#d8576b\"],[0.6666666666666666,\"#ed7953\"],[0.7777777777777778,\"#fb9f3a\"],[0.8888888888888888,\"#fdca26\"],[1.0,\"#f0f921\"]]}],\"heatmap\":[{\"type\":\"heatmap\",\"colorbar\":{\"outlinewidth\":0,\"ticks\":\"\"},\"colorscale\":[[0.0,\"#0d0887\"],[0.1111111111111111,\"#46039f\"],[0.2222222222222222,\"#7201a8\"],[0.3333333333333333,\"#9c179e\"],[0.4444444444444444,\"#bd3786\"],[0.5555555555555556,\"#d8576b\"],[0.6666666666666666,\"#ed7953\"],[0.7777777777777778,\"#fb9f3a\"],[0.8888888888888888,\"#fdca26\"],[1.0,\"#f0f921\"]]}],\"heatmapgl\":[{\"type\":\"heatmapgl\",\"colorbar\":{\"outlinewidth\":0,\"ticks\":\"\"},\"colorscale\":[[0.0,\"#0d0887\"],[0.1111111111111111,\"#46039f\"],[0.2222222222222222,\"#7201a8\"],[0.3333333333333333,\"#9c179e\"],[0.4444444444444444,\"#bd3786\"],[0.5555555555555556,\"#d8576b\"],[0.6666666666666666,\"#ed7953\"],[0.7777777777777778,\"#fb9f3a\"],[0.8888888888888888,\"#fdca26\"],[1.0,\"#f0f921\"]]}],\"contourcarpet\":[{\"type\":\"contourcarpet\",\"colorbar\":{\"outlinewidth\":0,\"ticks\":\"\"}}],\"contour\":[{\"type\":\"contour\",\"colorbar\":{\"outlinewidth\":0,\"ticks\":\"\"},\"colorscale\":[[0.0,\"#0d0887\"],[0.1111111111111111,\"#46039f\"],[0.2222222222222222,\"#7201a8\"],[0.3333333333333333,\"#9c179e\"],[0.4444444444444444,\"#bd3786\"],[0.5555555555555556,\"#d8576b\"],[0.6666666666666666,\"#ed7953\"],[0.7777777777777778,\"#fb9f3a\"],[0.8888888888888888,\"#fdca26\"],[1.0,\"#f0f921\"]]}],\"surface\":[{\"type\":\"surface\",\"colorbar\":{\"outlinewidth\":0,\"ticks\":\"\"},\"colorscale\":[[0.0,\"#0d0887\"],[0.1111111111111111,\"#46039f\"],[0.2222222222222222,\"#7201a8\"],[0.3333333333333333,\"#9c179e\"],[0.4444444444444444,\"#bd3786\"],[0.5555555555555556,\"#d8576b\"],[0.6666666666666666,\"#ed7953\"],[0.7777777777777778,\"#fb9f3a\"],[0.8888888888888888,\"#fdca26\"],[1.0,\"#f0f921\"]]}],\"mesh3d\":[{\"type\":\"mesh3d\",\"colorbar\":{\"outlinewidth\":0,\"ticks\":\"\"}}],\"scatter\":[{\"fillpattern\":{\"fillmode\":\"overlay\",\"size\":10,\"solidity\":0.2},\"type\":\"scatter\"}],\"parcoords\":[{\"type\":\"parcoords\",\"line\":{\"colorbar\":{\"outlinewidth\":0,\"ticks\":\"\"}}}],\"scatterpolargl\":[{\"type\":\"scatterpolargl\",\"marker\":{\"colorbar\":{\"outlinewidth\":0,\"ticks\":\"\"}}}],\"bar\":[{\"error_x\":{\"color\":\"#2a3f5f\"},\"error_y\":{\"color\":\"#2a3f5f\"},\"marker\":{\"line\":{\"color\":\"#E5ECF6\",\"width\":0.5},\"pattern\":{\"fillmode\":\"overlay\",\"size\":10,\"solidity\":0.2}},\"type\":\"bar\"}],\"scattergeo\":[{\"type\":\"scattergeo\",\"marker\":{\"colorbar\":{\"outlinewidth\":0,\"ticks\":\"\"}}}],\"scatterpolar\":[{\"type\":\"scatterpolar\",\"marker\":{\"colorbar\":{\"outlinewidth\":0,\"ticks\":\"\"}}}],\"histogram\":[{\"marker\":{\"pattern\":{\"fillmode\":\"overlay\",\"size\":10,\"solidity\":0.2}},\"type\":\"histogram\"}],\"scattergl\":[{\"type\":\"scattergl\",\"marker\":{\"colorbar\":{\"outlinewidth\":0,\"ticks\":\"\"}}}],\"scatter3d\":[{\"type\":\"scatter3d\",\"line\":{\"colorbar\":{\"outlinewidth\":0,\"ticks\":\"\"}},\"marker\":{\"colorbar\":{\"outlinewidth\":0,\"ticks\":\"\"}}}],\"scattermapbox\":[{\"type\":\"scattermapbox\",\"marker\":{\"colorbar\":{\"outlinewidth\":0,\"ticks\":\"\"}}}],\"scatterternary\":[{\"type\":\"scatterternary\",\"marker\":{\"colorbar\":{\"outlinewidth\":0,\"ticks\":\"\"}}}],\"scattercarpet\":[{\"type\":\"scattercarpet\",\"marker\":{\"colorbar\":{\"outlinewidth\":0,\"ticks\":\"\"}}}],\"carpet\":[{\"aaxis\":{\"endlinecolor\":\"#2a3f5f\",\"gridcolor\":\"white\",\"linecolor\":\"white\",\"minorgridcolor\":\"white\",\"startlinecolor\":\"#2a3f5f\"},\"baxis\":{\"endlinecolor\":\"#2a3f5f\",\"gridcolor\":\"white\",\"linecolor\":\"white\",\"minorgridcolor\":\"white\",\"startlinecolor\":\"#2a3f5f\"},\"type\":\"carpet\"}],\"table\":[{\"cells\":{\"fill\":{\"color\":\"#EBF0F8\"},\"line\":{\"color\":\"white\"}},\"header\":{\"fill\":{\"color\":\"#C8D4E3\"},\"line\":{\"color\":\"white\"}},\"type\":\"table\"}],\"barpolar\":[{\"marker\":{\"line\":{\"color\":\"#E5ECF6\",\"width\":0.5},\"pattern\":{\"fillmode\":\"overlay\",\"size\":10,\"solidity\":0.2}},\"type\":\"barpolar\"}],\"pie\":[{\"automargin\":true,\"type\":\"pie\"}]},\"layout\":{\"autotypenumbers\":\"strict\",\"colorway\":[\"#636efa\",\"#EF553B\",\"#00cc96\",\"#ab63fa\",\"#FFA15A\",\"#19d3f3\",\"#FF6692\",\"#B6E880\",\"#FF97FF\",\"#FECB52\"],\"font\":{\"color\":\"#2a3f5f\"},\"hovermode\":\"closest\",\"hoverlabel\":{\"align\":\"left\"},\"paper_bgcolor\":\"white\",\"plot_bgcolor\":\"#E5ECF6\",\"polar\":{\"bgcolor\":\"#E5ECF6\",\"angularaxis\":{\"gridcolor\":\"white\",\"linecolor\":\"white\",\"ticks\":\"\"},\"radialaxis\":{\"gridcolor\":\"white\",\"linecolor\":\"white\",\"ticks\":\"\"}},\"ternary\":{\"bgcolor\":\"#E5ECF6\",\"aaxis\":{\"gridcolor\":\"white\",\"linecolor\":\"white\",\"ticks\":\"\"},\"baxis\":{\"gridcolor\":\"white\",\"linecolor\":\"white\",\"ticks\":\"\"},\"caxis\":{\"gridcolor\":\"white\",\"linecolor\":\"white\",\"ticks\":\"\"}},\"coloraxis\":{\"colorbar\":{\"outlinewidth\":0,\"ticks\":\"\"}},\"colorscale\":{\"sequential\":[[0.0,\"#0d0887\"],[0.1111111111111111,\"#46039f\"],[0.2222222222222222,\"#7201a8\"],[0.3333333333333333,\"#9c179e\"],[0.4444444444444444,\"#bd3786\"],[0.5555555555555556,\"#d8576b\"],[0.6666666666666666,\"#ed7953\"],[0.7777777777777778,\"#fb9f3a\"],[0.8888888888888888,\"#fdca26\"],[1.0,\"#f0f921\"]],\"sequentialminus\":[[0.0,\"#0d0887\"],[0.1111111111111111,\"#46039f\"],[0.2222222222222222,\"#7201a8\"],[0.3333333333333333,\"#9c179e\"],[0.4444444444444444,\"#bd3786\"],[0.5555555555555556,\"#d8576b\"],[0.6666666666666666,\"#ed7953\"],[0.7777777777777778,\"#fb9f3a\"],[0.8888888888888888,\"#fdca26\"],[1.0,\"#f0f921\"]],\"diverging\":[[0,\"#8e0152\"],[0.1,\"#c51b7d\"],[0.2,\"#de77ae\"],[0.3,\"#f1b6da\"],[0.4,\"#fde0ef\"],[0.5,\"#f7f7f7\"],[0.6,\"#e6f5d0\"],[0.7,\"#b8e186\"],[0.8,\"#7fbc41\"],[0.9,\"#4d9221\"],[1,\"#276419\"]]},\"xaxis\":{\"gridcolor\":\"white\",\"linecolor\":\"white\",\"ticks\":\"\",\"title\":{\"standoff\":15},\"zerolinecolor\":\"white\",\"automargin\":true,\"zerolinewidth\":2},\"yaxis\":{\"gridcolor\":\"white\",\"linecolor\":\"white\",\"ticks\":\"\",\"title\":{\"standoff\":15},\"zerolinecolor\":\"white\",\"automargin\":true,\"zerolinewidth\":2},\"scene\":{\"xaxis\":{\"backgroundcolor\":\"#E5ECF6\",\"gridcolor\":\"white\",\"linecolor\":\"white\",\"showbackground\":true,\"ticks\":\"\",\"zerolinecolor\":\"white\",\"gridwidth\":2},\"yaxis\":{\"backgroundcolor\":\"#E5ECF6\",\"gridcolor\":\"white\",\"linecolor\":\"white\",\"showbackground\":true,\"ticks\":\"\",\"zerolinecolor\":\"white\",\"gridwidth\":2},\"zaxis\":{\"backgroundcolor\":\"#E5ECF6\",\"gridcolor\":\"white\",\"linecolor\":\"white\",\"showbackground\":true,\"ticks\":\"\",\"zerolinecolor\":\"white\",\"gridwidth\":2}},\"shapedefaults\":{\"line\":{\"color\":\"#2a3f5f\"}},\"annotationdefaults\":{\"arrowcolor\":\"#2a3f5f\",\"arrowhead\":0,\"arrowwidth\":1},\"geo\":{\"bgcolor\":\"white\",\"landcolor\":\"#E5ECF6\",\"subunitcolor\":\"white\",\"showland\":true,\"showlakes\":true,\"lakecolor\":\"white\"},\"title\":{\"x\":0.05},\"mapbox\":{\"style\":\"light\"}}},\"xaxis\":{\"anchor\":\"y\",\"domain\":[0.0,1.0],\"scaleanchor\":\"y\",\"constrain\":\"domain\"},\"yaxis\":{\"anchor\":\"x\",\"domain\":[0.0,1.0],\"autorange\":\"reversed\",\"constrain\":\"domain\"},\"coloraxis\":{\"colorbar\":{\"title\":{\"text\":\"Similarity Score\"}},\"colorscale\":[[0.0,\"rgb(247,252,240)\"],[0.125,\"rgb(224,243,219)\"],[0.25,\"rgb(204,235,197)\"],[0.375,\"rgb(168,221,181)\"],[0.5,\"rgb(123,204,196)\"],[0.625,\"rgb(78,179,211)\"],[0.75,\"rgb(43,140,190)\"],[0.875,\"rgb(8,104,172)\"],[1.0,\"rgb(8,64,129)\"]]},\"margin\":{\"t\":60},\"title\":{\"font\":{\"size\":22,\"color\":\"Black\"},\"text\":\"\\u003cb\\u003eSimilarity Matrix\\u003c\\u002fb\\u003e\",\"y\":0.95,\"x\":0.55,\"xanchor\":\"center\",\"yanchor\":\"top\"},\"hoverlabel\":{\"font\":{\"size\":16,\"family\":\"Rockwell\"},\"bgcolor\":\"white\"},\"width\":800,\"height\":800,\"showlegend\":true,\"legend\":{\"title\":{\"text\":\"Trend\"}}},                        {\"responsive\": true}                    ).then(function(){\n",
              "                            \n",
              "var gd = document.getElementById('3fb7ea01-a339-43a1-9aed-2bfa96f05e21');\n",
              "var x = new MutationObserver(function (mutations, observer) {{\n",
              "        var display = window.getComputedStyle(gd).display;\n",
              "        if (!display || display === 'none') {{\n",
              "            console.log([gd, 'removed!']);\n",
              "            Plotly.purge(gd);\n",
              "            observer.disconnect();\n",
              "        }}\n",
              "}});\n",
              "\n",
              "// Listen for the removal of the full notebook cells\n",
              "var notebookContainer = gd.closest('#notebook-container');\n",
              "if (notebookContainer) {{\n",
              "    x.observe(notebookContainer, {childList: true});\n",
              "}}\n",
              "\n",
              "// Listen for the clearing of the current output cell\n",
              "var outputEl = gd.closest('.output');\n",
              "if (outputEl) {{\n",
              "    x.observe(outputEl, {childList: true});\n",
              "}}\n",
              "\n",
              "                        })                };                            </script>        </div>\n",
              "</body>\n",
              "</html>"
            ]
          },
          "metadata": {}
        }
      ]
    },
    {
      "cell_type": "markdown",
      "source": [
        "## Сравнение эффективности использования различных типов расстояния"
      ],
      "metadata": {
        "id": "piUrBUkOx9ib"
      }
    },
    {
      "cell_type": "markdown",
      "source": [
        "BERTopic с эмбеддингом"
      ],
      "metadata": {
        "id": "fZu12GyJ_SyZ"
      }
    },
    {
      "cell_type": "code",
      "source": [
        "!pip install sentence-transformers"
      ],
      "metadata": {
        "id": "Aow2nwRm4hdm"
      },
      "execution_count": null,
      "outputs": []
    },
    {
      "cell_type": "code",
      "source": [
        "from sentence_transformers import SentenceTransformer\n",
        "from sklearn.metrics import silhouette_score, davies_bouldin_score, calinski_harabasz_score\n",
        "import umap\n",
        "from umap import UMAP"
      ],
      "metadata": {
        "id": "N19lblOA4tNJ"
      },
      "execution_count": 36,
      "outputs": []
    },
    {
      "cell_type": "code",
      "source": [
        "sentence_model = SentenceTransformer(\"sentence-transformers/paraphrase-xlm-r-multilingual-v1\")\n",
        "embeddings = sentence_model.encode(cleaned_paragraphs, show_progress_bar=True)\n",
        "\n",
        "topic_model = BERTopic(language='russian')\n",
        "topics, probs = topic_model.fit_transform(cleaned_paragraphs, embeddings)"
      ],
      "metadata": {
        "id": "bzEbkrW541PO"
      },
      "execution_count": null,
      "outputs": []
    },
    {
      "cell_type": "code",
      "source": [
        "def evaluate_clustering(embeddings, labels):\n",
        "    metrics = {}\n",
        "\n",
        "    metrics['Silhouette Score'] = silhouette_score(embeddings, labels)\n",
        "    metrics['Davies-Bouldin Index'] = davies_bouldin_score(embeddings, labels)\n",
        "    metrics['Calinski-Harabasz Index'] = calinski_harabasz_score(embeddings, labels)\n",
        "\n",
        "    return metrics"
      ],
      "metadata": {
        "id": "x838eQjG5P7w"
      },
      "execution_count": null,
      "outputs": []
    },
    {
      "cell_type": "code",
      "source": [
        "reduced_embeddings_euclidean = umap.UMAP(n_neighbors=10, n_components=2, min_dist=0.0, metric='euclidean').fit_transform(embeddings)\n",
        "euclidean_metrics = evaluate_clustering(reduced_embeddings_euclidean, topics)\n",
        "\n",
        "reduced_embeddings_cosine = umap.UMAP(n_neighbors=10, n_components=2, min_dist=0.0, metric='cosine').fit_transform(embeddings)\n",
        "cosine_metrics = evaluate_clustering(reduced_embeddings_cosine, topics)\n",
        "\n",
        "reduced_embeddings_manhattan = umap.UMAP(n_neighbors=10, n_components=2, min_dist=0.0, metric='manhattan').fit_transform(embeddings)\n",
        "manhattan_metrics = evaluate_clustering(reduced_embeddings_manhattan, topics)"
      ],
      "metadata": {
        "id": "cxlPfeeHBM1Y"
      },
      "execution_count": null,
      "outputs": []
    },
    {
      "cell_type": "code",
      "source": [
        "print(\"Euclidean Distance Metrics:\", euclidean_metrics)\n",
        "print(\"Cosine Distance Metrics:\", cosine_metrics)\n",
        "print(\"Manhattan Distance Metrics:\", manhattan_metrics)"
      ],
      "metadata": {
        "colab": {
          "base_uri": "https://localhost:8080/"
        },
        "id": "63NpWjEYBc26",
        "outputId": "ce0f9e46-8418-439f-b94a-6588ae612502"
      },
      "execution_count": 48,
      "outputs": [
        {
          "output_type": "stream",
          "name": "stdout",
          "text": [
            "Euclidean Distance Metrics: {'Silhouette Score': 0.6398835, 'Davies-Bouldin Index': 0.32136005753866403, 'Calinski-Harabasz Index': 5941.942853932856}\n",
            "Cosine Distance Metrics: {'Silhouette Score': 0.6209054, 'Davies-Bouldin Index': 0.297983556099613, 'Calinski-Harabasz Index': 6817.72765602949}\n",
            "Manhattan Distance Metrics: {'Silhouette Score': 0.5974507, 'Davies-Bouldin Index': 0.33058593246061624, 'Calinski-Harabasz Index': 5927.606672013937}\n"
          ]
        }
      ]
    },
    {
      "cell_type": "markdown",
      "source": [
        "с уетом общего баланса метрик можно выбрать косинусное расстояние как наиболее подходящее"
      ],
      "metadata": {
        "id": "SFLoW-pKBtvc"
      }
    }
  ]
}