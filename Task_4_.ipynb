{
 "cells": [
  {
   "cell_type": "markdown",
   "metadata": {
    "id": "dmZvMg5Eom4g"
   },
   "source": [
    "## Task 4\n",
    "\n",
    "Датасет русскоязычных отзывов на аниме. 3 класса: нейтральный, положительный и отрицательный.\n",
    "\n",
    "1) Требуется качественная обработка данных + feature engineering.\n",
    "\n",
    "2) Сравнить случайный лес и бустинг для сентимент анализа.\n",
    "\n",
    "3) Отобразить ключевые слова для решения классификаторов.\n",
    "\n",
    "4) Отрисовать рисунки обученных деревьев из случайного леса и бустинга с указанием текста, влияющего на ветвление дерева.\n",
    "\n",
    "5) Использовать SHAP для интерпретации.\n",
    "\n",
    "6) Провести тематическое моделирование отдельно для 3 классов и сравнить с пунктами 3-5.\n",
    "\n",
    "7) Выложить на github.\n"
   ]
  },
  {
   "cell_type": "markdown",
   "metadata": {
    "id": "SwT1idSWo6Fg"
   },
   "source": [
    "## Imports"
   ]
  },
  {
   "cell_type": "code",
   "execution_count": 278,
   "metadata": {
    "id": "VCLCtRFj3XmW"
   },
   "outputs": [
    {
     "name": "stdout",
     "output_type": "stream",
     "text": [
      "Requirement already satisfied: emoji in /opt/anaconda3/lib/python3.11/site-packages (2.12.1)\n",
      "Requirement already satisfied: typing-extensions>=4.7.0 in /opt/anaconda3/lib/python3.11/site-packages (from emoji) (4.9.0)\n"
     ]
    }
   ],
   "source": [
    "!pip install emoji --upgrade"
   ]
  },
  {
   "cell_type": "code",
   "execution_count": null,
   "metadata": {},
   "outputs": [],
   "source": [
    "!pip install pymorphy3"
   ]
  },
  {
   "cell_type": "code",
   "execution_count": 927,
   "metadata": {
    "colab": {
     "base_uri": "https://localhost:8080/"
    },
    "id": "PFxyzTHJAjg0",
    "outputId": "4ae2387d-f9f9-4547-b157-6e07e239592f"
   },
   "outputs": [
    {
     "name": "stderr",
     "output_type": "stream",
     "text": [
      "[nltk_data] Downloading package punkt to\n",
      "[nltk_data]     /Users/olgapetrukhina/nltk_data...\n",
      "[nltk_data]   Package punkt is already up-to-date!\n",
      "[nltk_data] Downloading package stopwords to\n",
      "[nltk_data]     /Users/olgapetrukhina/nltk_data...\n",
      "[nltk_data]   Package stopwords is already up-to-date!\n"
     ]
    }
   ],
   "source": [
    "import pandas as pd\n",
    "import numpy as np\n",
    "import re\n",
    "\n",
    "from nltk import word_tokenize, sent_tokenize, download\n",
    "from nltk.corpus import stopwords\n",
    "from wordcloud import WordCloud\n",
    "import matplotlib.pyplot as plt\n",
    "import seaborn as sns\n",
    "import emoji\n",
    "from collections import Counter\n",
    "from tqdm import tqdm\n",
    "import unicodedata\n",
    "import html\n",
    "from nltk import pos_tag\n",
    "\n",
    "download('punkt')\n",
    "download('stopwords')\n",
    "stop_words = stopwords.words('russian')\n",
    "\n",
    "import pymorphy3\n",
    "morph = pymorphy3.MorphAnalyzer()\n",
    "from sklearn.preprocessing import LabelEncoder\n",
    "from gensim.models import KeyedVectors\n",
    "from sklearn.model_selection import train_test_split\n",
    "import gensim"
   ]
  },
  {
   "cell_type": "markdown",
   "metadata": {
    "id": "dqnYl4PJo_py"
   },
   "source": [
    "## Анализ датасета"
   ]
  },
  {
   "cell_type": "markdown",
   "metadata": {
    "id": "EVB5o5K85GPi"
   },
   "source": [
    "**Объединяю все датасеты в один**"
   ]
  },
  {
   "cell_type": "code",
   "execution_count": 1398,
   "metadata": {
    "id": "MLedUq3-qNcb"
   },
   "outputs": [],
   "source": [
    "df1 = pd.read_excel('dataset1.xlsx')\n",
    "df2 = pd.read_excel('dataset2.xlsx')\n",
    "df3 = pd.read_excel('dataset3.xlsx')\n",
    "df4 = pd.read_excel('dataset4.xlsx')"
   ]
  },
  {
   "cell_type": "code",
   "execution_count": 1399,
   "metadata": {
    "id": "Wq6lBN8L3j7z"
   },
   "outputs": [],
   "source": [
    "df = pd.concat([df1, df2, df3, df4], ignore_index=True)"
   ]
  },
  {
   "cell_type": "code",
   "execution_count": 1400,
   "metadata": {
    "colab": {
     "base_uri": "https://localhost:8080/",
     "height": 424
    },
    "id": "7CK1jWq8qs1t",
    "outputId": "e6ba546d-344e-4735-ea5c-a29674ceb9bc"
   },
   "outputs": [
    {
     "data": {
      "text/html": [
       "<div>\n",
       "<style scoped>\n",
       "    .dataframe tbody tr th:only-of-type {\n",
       "        vertical-align: middle;\n",
       "    }\n",
       "\n",
       "    .dataframe tbody tr th {\n",
       "        vertical-align: top;\n",
       "    }\n",
       "\n",
       "    .dataframe thead th {\n",
       "        text-align: right;\n",
       "    }\n",
       "</style>\n",
       "<table border=\"1\" class=\"dataframe\">\n",
       "  <thead>\n",
       "    <tr style=\"text-align: right;\">\n",
       "      <th></th>\n",
       "      <th>Anime</th>\n",
       "      <th>Rate</th>\n",
       "      <th>Text</th>\n",
       "    </tr>\n",
       "  </thead>\n",
       "  <tbody>\n",
       "    <tr>\n",
       "      <th>0</th>\n",
       "      <td>Нежный укус / Amagami SS</td>\n",
       "      <td>Нейтральный</td>\n",
       "      <td>после первой арки несколько разочаровался, ожи...</td>\n",
       "    </tr>\n",
       "    <tr>\n",
       "      <th>1</th>\n",
       "      <td>Легенда о легендарных героях / Densetsu no Yuu...</td>\n",
       "      <td>Положительный</td>\n",
       "      <td>Концовка какая-то мутная, ничего не понял. Над...</td>\n",
       "    </tr>\n",
       "    <tr>\n",
       "      <th>2</th>\n",
       "      <td>Мобильный воин Гандам: Единорог / Kidou Senshi...</td>\n",
       "      <td>Положительный</td>\n",
       "      <td>Что тут сказать? Никакого сравнени я с Seed, х...</td>\n",
       "    </tr>\n",
       "    <tr>\n",
       "      <th>3</th>\n",
       "      <td>Невиданный цветок / Ano Hi Mita Hana no Namae ...</td>\n",
       "      <td>Положительный</td>\n",
       "      <td>Только что досмотрел и меня переполняют эмоции...</td>\n",
       "    </tr>\n",
       "    <tr>\n",
       "      <th>4</th>\n",
       "      <td>Принцесса-медуза / Kuragehime</td>\n",
       "      <td>Положительный</td>\n",
       "      <td>И правда не оторваться. Но, по-моему, то, что ...</td>\n",
       "    </tr>\n",
       "    <tr>\n",
       "      <th>...</th>\n",
       "      <td>...</td>\n",
       "      <td>...</td>\n",
       "      <td>...</td>\n",
       "    </tr>\n",
       "    <tr>\n",
       "      <th>73211</th>\n",
       "      <td>Пожиратель звёзд / Tunshi Xingkong</td>\n",
       "      <td>Положительный</td>\n",
       "      <td>Я просмотрел 82 серии Пожирателя звёзд (Swallo...</td>\n",
       "    </tr>\n",
       "    <tr>\n",
       "      <th>73212</th>\n",
       "      <td>Пожиратель звёзд 2 / Tunshi Xingkong 2nd Season</td>\n",
       "      <td>Положительный</td>\n",
       "      <td>Я был сильно заинтригован аниме Поглощающая Зв...</td>\n",
       "    </tr>\n",
       "    <tr>\n",
       "      <th>73213</th>\n",
       "      <td>Повелитель 2 / Overlord II</td>\n",
       "      <td>Нейтральный</td>\n",
       "      <td>докатились. после просмотра этого чуда я добав...</td>\n",
       "    </tr>\n",
       "    <tr>\n",
       "      <th>73214</th>\n",
       "      <td>Ангел по соседству / Otonari no Tenshi-sama ni...</td>\n",
       "      <td>Положительный</td>\n",
       "      <td>Вокруг этого произведения собралось достаточно...</td>\n",
       "    </tr>\n",
       "    <tr>\n",
       "      <th>73215</th>\n",
       "      <td>Кулинарные скитания в параллельном мире / Tond...</td>\n",
       "      <td>Положительный</td>\n",
       "      <td>Tondemo Skill de Isekai Hourou MeshiКулинарные...</td>\n",
       "    </tr>\n",
       "  </tbody>\n",
       "</table>\n",
       "<p>73216 rows × 3 columns</p>\n",
       "</div>"
      ],
      "text/plain": [
       "                                                   Anime           Rate  \\\n",
       "0                               Нежный укус / Amagami SS    Нейтральный   \n",
       "1      Легенда о легендарных героях / Densetsu no Yuu...  Положительный   \n",
       "2      Мобильный воин Гандам: Единорог / Kidou Senshi...  Положительный   \n",
       "3      Невиданный цветок / Ano Hi Mita Hana no Namae ...  Положительный   \n",
       "4                          Принцесса-медуза / Kuragehime  Положительный   \n",
       "...                                                  ...            ...   \n",
       "73211                 Пожиратель звёзд / Tunshi Xingkong  Положительный   \n",
       "73212    Пожиратель звёзд 2 / Tunshi Xingkong 2nd Season  Положительный   \n",
       "73213                         Повелитель 2 / Overlord II    Нейтральный   \n",
       "73214  Ангел по соседству / Otonari no Tenshi-sama ni...  Положительный   \n",
       "73215  Кулинарные скитания в параллельном мире / Tond...  Положительный   \n",
       "\n",
       "                                                    Text  \n",
       "0      после первой арки несколько разочаровался, ожи...  \n",
       "1      Концовка какая-то мутная, ничего не понял. Над...  \n",
       "2      Что тут сказать? Никакого сравнени я с Seed, х...  \n",
       "3      Только что досмотрел и меня переполняют эмоции...  \n",
       "4      И правда не оторваться. Но, по-моему, то, что ...  \n",
       "...                                                  ...  \n",
       "73211  Я просмотрел 82 серии Пожирателя звёзд (Swallo...  \n",
       "73212  Я был сильно заинтригован аниме Поглощающая Зв...  \n",
       "73213  докатились. после просмотра этого чуда я добав...  \n",
       "73214  Вокруг этого произведения собралось достаточно...  \n",
       "73215  Tondemo Skill de Isekai Hourou MeshiКулинарные...  \n",
       "\n",
       "[73216 rows x 3 columns]"
      ]
     },
     "execution_count": 1400,
     "metadata": {},
     "output_type": "execute_result"
    }
   ],
   "source": [
    "df"
   ]
  },
  {
   "cell_type": "markdown",
   "metadata": {
    "id": "U5CM9Pr7ELmf"
   },
   "source": [
    "**Удаляю повторы и пустые строки**"
   ]
  },
  {
   "cell_type": "code",
   "execution_count": 1401,
   "metadata": {
    "colab": {
     "base_uri": "https://localhost:8080/"
    },
    "id": "AO-BmDAaEPHv",
    "outputId": "d5f4e1be-aa8e-4e08-e4da-a5fceefa0b9e"
   },
   "outputs": [
    {
     "data": {
      "text/plain": [
       "73216"
      ]
     },
     "execution_count": 1401,
     "metadata": {},
     "output_type": "execute_result"
    }
   ],
   "source": [
    "len(df)"
   ]
  },
  {
   "cell_type": "code",
   "execution_count": 1402,
   "metadata": {
    "id": "Cuxo8lNMEpvZ"
   },
   "outputs": [],
   "source": [
    "df = df.drop_duplicates(subset=['Text'])"
   ]
  },
  {
   "cell_type": "code",
   "execution_count": 1403,
   "metadata": {
    "colab": {
     "base_uri": "https://localhost:8080/"
    },
    "id": "WkyD9Hj6EsoC",
    "outputId": "b3946f18-4d56-4a76-840b-bc0c0c7212f8"
   },
   "outputs": [
    {
     "data": {
      "text/plain": [
       "73166"
      ]
     },
     "execution_count": 1403,
     "metadata": {},
     "output_type": "execute_result"
    }
   ],
   "source": [
    "len(df)"
   ]
  },
  {
   "cell_type": "code",
   "execution_count": 1410,
   "metadata": {
    "colab": {
     "base_uri": "https://localhost:8080/",
     "height": 178
    },
    "id": "zAdks4iNEuXX",
    "outputId": "88873a01-2d95-4897-8446-a63a97cde16f"
   },
   "outputs": [
    {
     "data": {
      "text/plain": [
       "Anime    0\n",
       "Rate     0\n",
       "Text     1\n",
       "dtype: int64"
      ]
     },
     "execution_count": 1410,
     "metadata": {},
     "output_type": "execute_result"
    }
   ],
   "source": [
    "missing_values = df.isnull().sum()\n",
    "missing_values"
   ]
  },
  {
   "cell_type": "code",
   "execution_count": 1412,
   "metadata": {
    "id": "N5GJv5DsE7a_"
   },
   "outputs": [],
   "source": [
    "df = df.dropna(subset=[\"Text\"])"
   ]
  },
  {
   "cell_type": "markdown",
   "metadata": {
    "id": "V0RiCqaTGRDJ"
   },
   "source": [
    "**Я заметила, что одни и те же слова, специфичные для этого датасета, могут писаться по-разному, например, 'фентези' вместо 'фэнтези' и т.д. Составляю словарик, чтобы после лемматизации привести слова к одной форме**"
   ]
  },
  {
   "cell_type": "code",
   "execution_count": 1414,
   "metadata": {
    "id": "ZyivQ_rTG2Ud"
   },
   "outputs": [],
   "source": [
    "variations = {\n",
    "    'фэнтези': ['фентези'],\n",
    "    'хентай': ['хэнтай'],\n",
    "    'аниме': ['анимэ', 'анеме', 'анемэ', 'ониме', 'онимэ'],\n",
    "    'новелла': ['новэлла', 'новела'],\n",
    "    'сёнен': ['шёнен', 'сёнэн'],\n",
    "    'исэкай': ['исекай'],\n",
    "    'трэш': ['треш'],\n",
    "    'саске': ['саскэ'],\n",
    "    'кагоме': ['кагомэ'],\n",
    "    'супергерой': ['супер герой'],\n",
    "    'семпай': ['сэмпай'],\n",
    "    'кун': ['kun'],\n",
    "    'чиби': ['чибби'],\n",
    "    'ня': ['мя'],\n",
    "    'гарем': ['гаремник', 'harem'],\n",
    "    'сёдзё': ['сёдзе'],\n",
    "    'ничего': ['ниче'],\n",
    "    'сеттинг': ['сэттинг'],\n",
    "    'персонаж': ['перс'],\n",
    "    'клиффхэнгер': ['клиффхенгер'],\n",
    "    'сёнен': ['шонен'],\n",
    "    'сэйнэн': ['сейнен'],\n",
    "    'сёдзё': ['седзе'],\n",
    "    'исэкай': ['исекай'],\n",
    "    'фан-сервис': ['фансервис']\n",
    "}"
   ]
  },
  {
   "cell_type": "markdown",
   "metadata": {
    "id": "ryQY8Y0BQb9d"
   },
   "source": [
    "**Заменяю смайлики на их текстовые описания на русском языке**"
   ]
  },
  {
   "cell_type": "code",
   "execution_count": 1416,
   "metadata": {},
   "outputs": [
    {
     "name": "stderr",
     "output_type": "stream",
     "text": [
      "100%|███████████████████████████████████| 73165/73165 [00:30<00:00, 2375.73it/s]\n"
     ]
    }
   ],
   "source": [
    "def emojis_to_text(text):\n",
    "    return emoji.demojize(text, language='ru')\n",
    "\n",
    "tqdm.pandas()\n",
    "df['Text_Converted'] = df['Text'].progress_apply(emojis_to_text)"
   ]
  },
  {
   "cell_type": "code",
   "execution_count": 1417,
   "metadata": {},
   "outputs": [
    {
     "name": "stdout",
     "output_type": "stream",
     "text": [
      "Пока комментировать по моему взгляду тут нечего, есть \"косяки\", недосказанности, нераскрытость персонажей и т.д.Из плюсов могу отметить что сюжет довольно таки интересный, хоть по комментариям видно, что это не так... Сам замысел хороший, но это требует второго сезона о-го-го как. Персонажи нравятся, Сикстина, Румия, Глен, да черт возьми, меня это заинтересовало! Ооооооооооооочень хочется узнать о прошлом Глена с Серой :синее_сердце::синее_сердце::синее_сердце: Вобщем, тайтл хороший, к просмотру рекомендую. Некоторые бомбят про то что в этом аниме много клише... По мне так везде есть клише. Люди же смотрят, радуются (?), и ничего. спойлер  А ВЫ ВОЗЬМИТЕ И ПОПРОБУЙТЕ СОЗДАТЬ ЧТО НИБУДЬ ИНТЕРЕСНОЕ ДЛЯ ВСЕХ (!!!), УВЛЕКАТЕЛЬНОЕ, ТРОГАТЕЛЬНОЕ, А ЧТО САМОЕ ГЛАВНОЕ, БЕЗ ЕДИНОГО КЛИШЕ (!!!!!!!!!!!!!!), С ИНТЕРЕСНЫМИ И РАСКРЫТЫМИ ПЕРСОНАЖАМИ И ГГ, И УЛОЖИТЬСЯ В 12 СЕРИЙ... А то все бомбить могут, а сами - как ведро мусорное...Что сказать, доживём до второго сезона, увидим. Я ставил, ставлю и буду ставить  большие надежды, т.к. аниме реально заинтересовало. 9/10Поживем – увидим...\n"
     ]
    }
   ],
   "source": [
    "for i in df['Text_Converted']:\n",
    "    if ':синее_сердце:' in i:\n",
    "        print(i)\n",
    "        break"
   ]
  },
  {
   "cell_type": "markdown",
   "metadata": {},
   "source": [
    "**Удаляю нижние подчеркивания и разделяю описания, чтобы затем предобработать их вместе с другими словами**"
   ]
  },
  {
   "cell_type": "code",
   "execution_count": 1418,
   "metadata": {
    "id": "06utRlyaSIs0"
   },
   "outputs": [],
   "source": [
    "def clean_description(text):\n",
    "    def replace_description(match):\n",
    "        description = match.group(1)\n",
    "        cleaned_description = description.replace('_', ' ')\n",
    "        return f':{cleaned_description}:'\n",
    "    \n",
    "    cleaned_text = re.sub(r':([^:]+):', replace_description, text)\n",
    "    \n",
    "    return cleaned_text"
   ]
  },
  {
   "cell_type": "code",
   "execution_count": 1419,
   "metadata": {},
   "outputs": [
    {
     "name": "stderr",
     "output_type": "stream",
     "text": [
      "100%|█████████████████████████████████| 73165/73165 [00:00<00:00, 385854.98it/s]\n"
     ]
    }
   ],
   "source": [
    "df['Text_Converted'] = df['Text_Converted'].progress_apply(clean_description)"
   ]
  },
  {
   "cell_type": "markdown",
   "metadata": {},
   "source": [
    "**Проверяю, как часто в отзывах встречаются слова, в которых символы повторяются 3 и более раз подряд**\n",
    "\n",
    "Так как таких слов много, на этапе предобработки заменю такие символы на 1"
   ]
  },
  {
   "cell_type": "code",
   "execution_count": 1421,
   "metadata": {},
   "outputs": [
    {
     "name": "stdout",
     "output_type": "stream",
     "text": [
      "3522\n"
     ]
    }
   ],
   "source": [
    "def has_repeated(word):\n",
    "    pattern = re.compile(r'(.)\\1{2,}')  \n",
    "    return pattern.search(word) is not None\n",
    "\n",
    "def find_words(text):\n",
    "    words = re.findall(r'\\b\\w+\\b', text) \n",
    "    repeated_words = [word for word in words if has_repeated(word)]\n",
    "    return repeated_words\n",
    "\n",
    "df['Repeated_Words'] = df['Text_Converted'].apply(lambda x: find_words(x))\n",
    "unique_repeated = set([word for sublist in df['Repeated_Words'].tolist() for word in sublist])\n",
    "\n",
    "print(len(unique_repeated))"
   ]
  },
  {
   "cell_type": "code",
   "execution_count": 1432,
   "metadata": {},
   "outputs": [
    {
     "data": {
      "text/plain": [
       "['ЦВЕТООООООК',\n",
       " '999x564',\n",
       " 'Ооооооо',\n",
       " 'аууууф',\n",
       " 'слияниеее',\n",
       " 'овер90006',\n",
       " 'ЧЕРРРРНЫЙ',\n",
       " 'Прааально',\n",
       " 'вжжжж',\n",
       " 'подходящеее']"
      ]
     },
     "execution_count": 1432,
     "metadata": {},
     "output_type": "execute_result"
    }
   ],
   "source": [
    "list(unique_repeated)[:10]"
   ]
  },
  {
   "cell_type": "markdown",
   "metadata": {
    "id": "EYIz7eaOLM9x"
   },
   "source": [
    "**Ищу слова на других языках (не на русском)**"
   ]
  },
  {
   "cell_type": "code",
   "execution_count": 1434,
   "metadata": {},
   "outputs": [],
   "source": [
    "pattern = r'([a-zA-Z\\s,、]+)' \n",
    "eng = df['Text_Converted'].str.extract(pattern)"
   ]
  },
  {
   "cell_type": "code",
   "execution_count": 1436,
   "metadata": {},
   "outputs": [],
   "source": [
    "eng = eng.dropna()\n",
    "eng = eng.drop_duplicates()"
   ]
  },
  {
   "cell_type": "code",
   "execution_count": 1182,
   "metadata": {},
   "outputs": [],
   "source": [
    "eng_words = [_ for _ in eng[0] if i[0].isalpha()]"
   ]
  },
  {
   "cell_type": "code",
   "execution_count": 1184,
   "metadata": {},
   "outputs": [
    {
     "data": {
      "text/plain": [
       "[' ',\n",
       " 'Holy Diver, ',\n",
       " 'morr',\n",
       " ', ',\n",
       " ' black lagoon',\n",
       " 'Happy gear, ',\n",
       " 'Makura no Soushi ',\n",
       " 'anna',\n",
       " 'Rina ',\n",
       " 'Strager, ',\n",
       " 'nikitkaz, ',\n",
       " 'Exzarcist',\n",
       " 'Index',\n",
       " 'Yuki, ',\n",
       " 'Daiver',\n",
       " 'miig, ',\n",
       " 'Silicium',\n",
       " 'Yoshimoto Motochika, ',\n",
       " 'Rini, ',\n",
       " 'Tsukune, ']"
      ]
     },
     "execution_count": 1184,
     "metadata": {},
     "output_type": "execute_result"
    }
   ],
   "source": [
    "eng_words[:20] "
   ]
  },
  {
   "cell_type": "markdown",
   "metadata": {},
   "source": [
    "В целом кажется, что английские слова не вносят значимого вклада в анализ сентимента, поэтому для упрощения анализа я удалю их во время предпроцессинга"
   ]
  },
  {
   "cell_type": "code",
   "execution_count": 451,
   "metadata": {},
   "outputs": [],
   "source": [
    "df.to_csv('my_dataset.csv', index=False)"
   ]
  },
  {
   "cell_type": "markdown",
   "metadata": {
    "id": "8e2GEYLf45H-"
   },
   "source": [
    "**Выполняю минимальную предобработку, чтобы затем расширить список стоп-слов на основе самых частотных и излишне редких**"
   ]
  },
  {
   "cell_type": "code",
   "execution_count": 1438,
   "metadata": {},
   "outputs": [],
   "source": [
    "def preprocess(text):\n",
    "    text = re.sub(r'[^а-яё]', ' ', text, flags=re.IGNORECASE).lower()\n",
    "    tokens = word_tokenize(text)\n",
    "\n",
    "    lemmas = [morph.parse(token)[0].normal_form for token in tokens]\n",
    "\n",
    "    tokens = [lemma for lemma in lemmas if lemma.strip() and lemma not in stop_words]\n",
    "    \n",
    "    return tokens\n"
   ]
  },
  {
   "cell_type": "code",
   "execution_count": 890,
   "metadata": {},
   "outputs": [
    {
     "name": "stderr",
     "output_type": "stream",
     "text": [
      "100%|█████████████████████████████████████| 73165/73165 [15:35<00:00, 78.22it/s]\n"
     ]
    }
   ],
   "source": [
    "df['tokens'] = df['Text_Converted'].progress_apply(preprocess)"
   ]
  },
  {
   "cell_type": "code",
   "execution_count": 891,
   "metadata": {},
   "outputs": [
    {
     "name": "stdout",
     "output_type": "stream",
     "text": [
      "['первый', 'арка', 'несколько', 'разочароваться', 'ожидать', 'больший', 'ещё', 'пять', 'смотреть', 'разный', 'героиня', 'желание', 'отложить', 'просмотр', 'остальной', 'серия']\n"
     ]
    }
   ],
   "source": [
    "for i in df['tokens']:\n",
    "    print(i)\n",
    "    break"
   ]
  },
  {
   "cell_type": "code",
   "execution_count": 892,
   "metadata": {},
   "outputs": [
    {
     "data": {
      "text/plain": [
       "8934690"
      ]
     },
     "execution_count": 892,
     "metadata": {},
     "output_type": "execute_result"
    }
   ],
   "source": [
    "all_tokens = [token for tokens in df['tokens'] for token in tokens]\n",
    "len(all_tokens)"
   ]
  },
  {
   "cell_type": "code",
   "execution_count": 897,
   "metadata": {},
   "outputs": [
    {
     "data": {
      "text/plain": [
       "[('это', 218691),\n",
       " ('всё', 127074),\n",
       " ('аниме', 98184),\n",
       " ('который', 91283),\n",
       " ('персонаж', 78677),\n",
       " ('весь', 70227),\n",
       " ('очень', 66504),\n",
       " ('сюжет', 59205),\n",
       " ('серия', 57654),\n",
       " ('хороший', 56242),\n",
       " ('свой', 54186),\n",
       " ('мочь', 53888),\n",
       " ('просто', 53494),\n",
       " ('смотреть', 47099),\n",
       " ('год', 45913),\n",
       " ('герой', 45149),\n",
       " ('первый', 45013),\n",
       " ('ещё', 42713),\n",
       " ('сезон', 37540),\n",
       " ('история', 36035)]"
      ]
     },
     "execution_count": 897,
     "metadata": {},
     "output_type": "execute_result"
    }
   ],
   "source": [
    "Counter(all_tokens).most_common(20)"
   ]
  },
  {
   "cell_type": "markdown",
   "metadata": {
    "id": "24QrBLhv-uzG"
   },
   "source": [
    "**Удаляю самые распространенные неспецифические слова**"
   ]
  },
  {
   "cell_type": "code",
   "execution_count": 1440,
   "metadata": {
    "id": "FgQqXkKr9-X6"
   },
   "outputs": [],
   "source": [
    "additional_stop_words = [\n",
    "    'это', 'очень', 'просто', 'всё', 'вообще', 'хотя', 'который', 'ещё',\n",
    "    'она', 'из-за', 'довольно', 'почему', 'что-то', 'целом', 'свой',\n",
    "    'именно', 'мочь', 'немного', 'лишь', 'оно', 'общем', 'такой', 'поэтому',\n",
    "    'все', 'интересно', 'интересный', 'особенно', 'также', 'вроде', 'мы', 'дальше'\n",
    "]\n",
    "stop_words = set(stop_words)\n",
    "stop_words.update(additional_stop_words)"
   ]
  },
  {
   "cell_type": "code",
   "execution_count": 1442,
   "metadata": {
    "colab": {
     "base_uri": "https://localhost:8080/"
    },
    "id": "YMBmJoGs-Y1J",
    "outputId": "cb5d9b6a-2ce4-4009-ac45-e40dbb7610c5"
   },
   "outputs": [
    {
     "data": {
      "text/plain": [
       "True"
      ]
     },
     "execution_count": 1442,
     "metadata": {},
     "output_type": "execute_result"
    }
   ],
   "source": [
    "'интересно' in stop_words"
   ]
  },
  {
   "cell_type": "markdown",
   "metadata": {
    "id": "6ERx2oxg-x-o"
   },
   "source": [
    "**Нахожу самые редкие слова**"
   ]
  },
  {
   "cell_type": "code",
   "execution_count": 1444,
   "metadata": {
    "id": "gzYf6b4j8QQH"
   },
   "outputs": [
    {
     "data": {
      "text/plain": [
       "117938"
      ]
     },
     "execution_count": 1444,
     "metadata": {},
     "output_type": "execute_result"
    }
   ],
   "source": [
    "rare_words = {word for word, count in Counter(all_tokens).items() if count < 4}\n",
    "\n",
    "len(rare_words)"
   ]
  },
  {
   "cell_type": "code",
   "execution_count": 1446,
   "metadata": {
    "colab": {
     "base_uri": "https://localhost:8080/"
    },
    "id": "87QMnakR--P5",
    "outputId": "847310e8-ce0f-4f38-ccd8-80b59c0577b4"
   },
   "outputs": [
    {
     "data": {
      "text/plain": [
       "['волколак',\n",
       " 'нарочитоупрощить',\n",
       " 'лавлёсс',\n",
       " 'хёмах',\n",
       " 'команоска',\n",
       " 'историик',\n",
       " 'спойлерхацухар',\n",
       " 'болящий',\n",
       " 'кидзумоногатарь',\n",
       " 'ожиданий',\n",
       " 'текью',\n",
       " 'попугайн',\n",
       " 'цукать',\n",
       " 'просмотрана',\n",
       " 'кимимарый',\n",
       " 'типаспойлерна',\n",
       " 'бродель',\n",
       " 'коротенечко',\n",
       " 'уранение',\n",
       " 'догадываешся',\n",
       " 'спойлерлис',\n",
       " 'технофашистский',\n",
       " 'домчать',\n",
       " 'слизкий',\n",
       " 'солтирэй',\n",
       " 'спойлерстереть',\n",
       " 'считываемость',\n",
       " 'читатьаним',\n",
       " 'пошпилиться',\n",
       " 'нагатить']"
      ]
     },
     "execution_count": 1446,
     "metadata": {},
     "output_type": "execute_result"
    }
   ],
   "source": [
    "list(rare_words)[:30]"
   ]
  },
  {
   "cell_type": "markdown",
   "metadata": {},
   "source": [
    "**В дальнейшем я удалю эти слова, чтобы в данных было меньше шума и анализ был более качественным**"
   ]
  },
  {
   "cell_type": "markdown",
   "metadata": {},
   "source": [
    "**Помимо этого в тексте много специфичных сленговых слов вроде хз или гг, их 'расшифрую'**"
   ]
  },
  {
   "cell_type": "code",
   "execution_count": 1450,
   "metadata": {},
   "outputs": [],
   "source": [
    "slang = {\n",
    "    \"гг\": [\"главный герой\"],\n",
    "    \"афк\": [\"вдали от клавиатуры\"],\n",
    "    \"прикол\": [\"шутка\"],\n",
    "    \"косплей\": [\"костюмированная игра\"],\n",
    "    \"чсв\": [\"чувство собственной важности\"],\n",
    "    \"иссекай\": [\"жанр параллельного мира\"],\n",
    "    \"опенинг\": [\"вступительная заставка\"],\n",
    "    \"паладин\": [\"воин\"],\n",
    "    \"зенон\": [\"мальчик\"],\n",
    "    \"вабу\": [\"женщина\"],\n",
    "    \"кун\": [\"мальчик\"],\n",
    "    \"кунай\": [\"японский нож\"],\n",
    "    \"заскамить\": [\"обмануть\"],\n",
    "    \"вау\": [\"восторг\"],\n",
    "    \"пати\": [\"команда\"],\n",
    "    \"хз\": [\"не знаю\"],\n",
    "    \"ост\": [\"оригинальный саундтрек\"],\n",
    "    \"субтитр\": [\"текстовый перевод\"],\n",
    "    \"архангел\": [\"высший ангел\"],\n",
    "    \"глинч\": [\"технический сбой\"],\n",
    "    \"флексить\": [\"хвастаться\"],\n",
    "    \"сэнсэй\": [\"учитель\"],\n",
    "    \"кринж\": [\"неудобный момент\"],\n",
    "    \"рэлс\": [\"рельсы\"],\n",
    "    \"фейл\": [\"неудача\"],\n",
    "    \"лоулз\": [\"шутки\"],\n",
    "    \"чекнуть\": [\"проверить\"],\n",
    "    \"омаке\": [\"бонусная сцена\"],\n",
    "    \"чикос\": [\"цыпа\"],\n",
    "    \"иссякай\": [\"жанр параллельного мира\"],\n",
    "    \"кспл\": [\"костюмированная игра\"],\n",
    "    \"глич\": [\"технический сбой\"],\n",
    "    \"имба\": [\"небалансированное преимущество\"],\n",
    "    \"рефанд\": [\"возврат денег\"],\n",
    "    \"гомэн\": [\"извините\"],\n",
    "    \"чиби\": [\"маленький\"],\n",
    "    \"вейп\": [\"электронная сигарета\"],\n",
    "    \"ара\": [\"смех\"],\n",
    "    \"спидран\": [\"быстрое прохождение\"],\n",
    "    \"цундере\": [\"холодный снаружи, но мягкий внутри\"],\n",
    "    \"вайб\": [\"атмосфера\"],\n",
    "    \"моэ\": [\"очаровательный\"],\n",
    "    \"яой\": [\"аниме о любви между мужчинами\"],\n",
    "    \"чон\": [\"мальчик\"],\n",
    "    \"тян\": [\"девочка\"],\n",
    "    \"бро\": [\"брат/друг\"],\n",
    "    \"трейд\": [\"обмен\"],\n",
    "    \"дроит\": [\"право\"],\n",
    "    \"даб\": [\"дубляж\"],\n",
    "    \"чё\": [\"что\"],\n",
    "    \"гамон\": [\"друг\"],\n",
    "    \"пвп\": [\"игрок против игрока\"],\n",
    "    \"арка\": [\"часть серий с общей сюжетной линией\"],\n",
    "    \"архетип\": [\"набор качеств персонажа как цундере\"],\n",
    "    \"ваншот\": [\"небольшая манга из одной главы\"],\n",
    "    \"слайс\": [\"поджанр повседневной жизни\"],\n",
    "    \"гаремник\": [\"аниме где вокруг главного героя много девушек\"],\n",
    "    \"дзёсэй\": [\"жанр для молодых женщин\"],\n",
    "    \"додзинси\": [\"любительская манга изданная самостоятельно\"],\n",
    "    \"дэсу\": [\"форма глагола-связки вежливости\"],\n",
    "    \"дроп\": [\"бросить смотреть или читать произведение\"],\n",
    "    \"ёнкома\": [\"формат манги из четырёх кадров\"],\n",
    "    \"исекай\": [\"жанр с переносом гг в другой мир\"],\n",
    "    \"нэко\": [\"кошка или девушка похожая на неё\"],\n",
    "    \"ова\": [\"аниме распространяемое на дисках\"],\n",
    "    \"онгоинг\": [\"аниме которое сейчас выходит\"],\n",
    "    \"сэйнэн\": [\"метажанр для молодых мужчин от 18 до 25 лет\"],\n",
    "    \"сэйю\": [\"японские актёры озвучки\"],\n",
    "    \"сэмпай\": [\"человек более опытный в какой-то сфере\"],\n",
    "    \"спокон\": [\"жанр о спорте и достижениях\"],\n",
    "    \"тентакли\": [\"щупальцы в хентае\"],\n",
    "    \"тайтл\": [\"произведение например аниме или ova\"],\n",
    "    \"фансервис\": [\"метажанр для привлечения аудитории\"],\n",
    "    \"фандаб\": [\"любительский перевод аниме с озвучкой\"],\n",
    "    \"филлер\": [\"серия не развивающая сюжет\"],\n",
    "    \"химэдэрэ\": [\"надменные и эгоистичные персонажи\"],\n",
    "    \"цундэрэ\": [\"персонажи с переменчивым поведением\"],\n",
    "    \"эндинг\": [\"музыкальная композиция в конце серии\"],\n",
    "    \"этти\": [\"жанр с эротическими сценами\"],\n",
    "    \"юри\": [\"жанр о лесбийских отношениях\"],\n",
    "    \"абьюзер\": [\"человек использующий манипуляции и насилие\"],\n",
    "    \"агриться\": [\"проявлять агрессию злиться\"],\n",
    "    \"ауф\": [\"выражение восхищения\"],\n",
    "    \"байтить\": [\"воровать идеи\"],\n",
    "    \"банить\": [\"ограничивать доступ\"],\n",
    "    \"баттхерт\": [\"сильная негативная эмоция\"],\n",
    "    \"биполярочка\": [\"крайне непоследовательное поведение\"],\n",
    "    \"буллинг\": [\"массовое притеснение\"],\n",
    "    \"бумер\": [\"представитель старшего поколения\"],\n",
    "    \"дисс\": [\"оскорбляющая рэп-композиция\"],\n",
    "    \"думер\": [\"юный пессимист\"],\n",
    "    \"жиза\": [\"жизненная ситуация\"],\n",
    "    \"зашквар\": [\"позор\"],\n",
    "    \"зумер\": [\"представитель цифрового поколения\"],\n",
    "    \"изи\": [\"легко\"],\n",
    "    \"кавай\": [\"очень милое\"],\n",
    "    \"камон\": [\"призыв к действию\"],\n",
    "    \"катка\": [\"игровой матч\"],\n",
    "    \"кек\": [\"смех\"],\n",
    "    \"краш\": [\"предмет обожания\"],\n",
    "    \"кринж\": [\"испанский стыд\"],\n",
    "    \"криповый\": [\"страшный\"],\n",
    "    \"куколд\": [\"рогоносец\"],\n",
    "    \"ламповый\": [\"умилительный\"],\n",
    "    \"лд\": [\"лучший друг\"],\n",
    "    \"лойс\": [\"лайк\"],\n",
    "    \"лол\": [\"громко смеюсь\"],\n",
    "    \"лп\": [\"лучшая подруга\"],\n",
    "    \"мерч\": [\"товары с символикой\"],\n",
    "    \"нуб\": [\"новичок\"],\n",
    "    \"нюдесы\": [\"фотографии обнаженной натуры\"],\n",
    "    \"омг\": [\"боже мой\"],\n",
    "    \"падра\": [\"подруга\"],\n",
    "    \"паль\": [\"подделка\"],\n",
    "    \"пранк\": [\"розыгрыш\"],\n",
    "    \"пруфы\": [\"доказательства\"],\n",
    "    \"рипнуться\": [\"умереть\"],\n",
    "    \"рофлить\": [\"смеяться\"],\n",
    "    \"слэмиться\": [\"толкотня на концертах\"],\n",
    "    \"сасный\": [\"привлекательный\"],\n",
    "    \"скипнуть\": [\"пропустить\"]\n",
    "}\n",
    "   \n"
   ]
  },
  {
   "cell_type": "markdown",
   "metadata": {},
   "source": [
    "## Предпроцессинг\n",
    "\n",
    "удаляю ссылки и тэги; символы, написанные не на кириллице; привожу к нижнему регистру; токенизирую; лемматизирую; удаляю стоп-слова, слишком редкие слова и слишком короткие слова "
   ]
  },
  {
   "cell_type": "code",
   "execution_count": 1454,
   "metadata": {},
   "outputs": [],
   "source": [
    "reverse_variations = {v: k for k, vals in variations.items() for v in vals}\n",
    "rx = re.compile(r'(.)\\1{3,}')\n",
    "\n",
    "def clean_text(text):\n",
    "    text = html.unescape(text)\n",
    "    text = re.sub(r'@\\w+', '', text)\n",
    "    text = re.sub(r'http\\S+', '', text)\n",
    "    text = re.sub(r'[^а-яё]', ' ', text, flags=re.IGNORECASE).lower()\n",
    "    tokens = word_tokenize(text)\n",
    "\n",
    "    lemmas = [morph.parse(token)[0].normal_form for token in tokens]\n",
    "    \n",
    "    text = [reverse_variations.get(lemma, lemma) for lemma in lemmas]\n",
    "    text = [lemma for lemma in text if lemma.strip() and lemma not in stop_words and len(lemma) > 2 and lemma not in rare_words]\n",
    "\n",
    "    final_text = []\n",
    "    for word in text:\n",
    "        final_word = rx.sub(r'\\1', word)\n",
    "        final_text.append(final_word)\n",
    "\n",
    "    return ' '.join(final_text)"
   ]
  },
  {
   "cell_type": "code",
   "execution_count": 1456,
   "metadata": {},
   "outputs": [
    {
     "name": "stderr",
     "output_type": "stream",
     "text": [
      "100%|█████████████████████████████████████| 73165/73165 [13:49<00:00, 88.23it/s]\n"
     ]
    }
   ],
   "source": [
    "df['Clean_Text'] = df['Text_Converted'].progress_apply(clean_text)"
   ]
  },
  {
   "cell_type": "code",
   "execution_count": 1470,
   "metadata": {},
   "outputs": [
    {
     "name": "stdout",
     "output_type": "stream",
     "text": [
      "<class 'str'>\n"
     ]
    }
   ],
   "source": [
    "for i in df['Clean_Text']:\n",
    "    print(type(i))\n",
    "    break"
   ]
  },
  {
   "cell_type": "markdown",
   "metadata": {},
   "source": [
    "**Заменяю сленг-слова**"
   ]
  },
  {
   "cell_type": "code",
   "execution_count": 1462,
   "metadata": {},
   "outputs": [
    {
     "name": "stdout",
     "output_type": "stream",
     "text": [
      "просмотр монументальный ящитая придраться момент первый неуместный шутка пердёжа фон весь остальной смотреться глупо тема второй перевести слово ёкай привидение благо смотреть субтитр пусть перевод\n"
     ]
    }
   ],
   "source": [
    "for i in df['Clean_Text']:\n",
    "    if 'субтитр' in i:\n",
    "        print(i)\n",
    "        break"
   ]
  },
  {
   "cell_type": "code",
   "execution_count": 1480,
   "metadata": {},
   "outputs": [],
   "source": [
    "def replace_slang(text):\n",
    "    for key in slang:\n",
    "        for value in slang[key]:\n",
    "            text = re.sub(r'\\b{}\\b'.format(re.escape(key)), value, text)\n",
    "    return text"
   ]
  },
  {
   "cell_type": "code",
   "execution_count": 1482,
   "metadata": {},
   "outputs": [
    {
     "name": "stderr",
     "output_type": "stream",
     "text": [
      "100%|███████████████████████████████████| 73165/73165 [01:04<00:00, 1132.20it/s]\n"
     ]
    }
   ],
   "source": [
    "df['Final_Text'] = df['Clean_Text'].progress_apply(replace_slang)"
   ]
  },
  {
   "cell_type": "code",
   "execution_count": 1486,
   "metadata": {},
   "outputs": [],
   "source": [
    "df.to_csv('my_final_set_1.csv', index=False)"
   ]
  },
  {
   "cell_type": "markdown",
   "metadata": {},
   "source": [
    "## Feature Engineering "
   ]
  },
  {
   "cell_type": "markdown",
   "metadata": {},
   "source": [
    "**Кодирую категории отзывов**"
   ]
  },
  {
   "cell_type": "code",
   "execution_count": 1488,
   "metadata": {},
   "outputs": [],
   "source": [
    "label_encoder = LabelEncoder()\n",
    "df['Rate_Encoded'] = label_encoder.fit_transform(df['Rate'])"
   ]
  },
  {
   "cell_type": "code",
   "execution_count": 1494,
   "metadata": {},
   "outputs": [
    {
     "data": {
      "text/html": [
       "<div>\n",
       "<style scoped>\n",
       "    .dataframe tbody tr th:only-of-type {\n",
       "        vertical-align: middle;\n",
       "    }\n",
       "\n",
       "    .dataframe tbody tr th {\n",
       "        vertical-align: top;\n",
       "    }\n",
       "\n",
       "    .dataframe thead th {\n",
       "        text-align: right;\n",
       "    }\n",
       "</style>\n",
       "<table border=\"1\" class=\"dataframe\">\n",
       "  <thead>\n",
       "    <tr style=\"text-align: right;\">\n",
       "      <th></th>\n",
       "      <th>Anime</th>\n",
       "      <th>Rate</th>\n",
       "      <th>Text</th>\n",
       "      <th>Text_Converted</th>\n",
       "      <th>Repeated_Words</th>\n",
       "      <th>Clean_Text</th>\n",
       "      <th>Final_Text</th>\n",
       "      <th>Rate_Encoded</th>\n",
       "    </tr>\n",
       "  </thead>\n",
       "  <tbody>\n",
       "    <tr>\n",
       "      <th>0</th>\n",
       "      <td>Нежный укус / Amagami SS</td>\n",
       "      <td>Нейтральный</td>\n",
       "      <td>после первой арки несколько разочаровался, ожи...</td>\n",
       "      <td>после первой арки несколько разочаровался, ожи...</td>\n",
       "      <td>[]</td>\n",
       "      <td>первый арка несколько разочароваться ожидать б...</td>\n",
       "      <td>первый часть серий с общей сюжетной линией нес...</td>\n",
       "      <td>0</td>\n",
       "    </tr>\n",
       "    <tr>\n",
       "      <th>1</th>\n",
       "      <td>Легенда о легендарных героях / Densetsu no Yuu...</td>\n",
       "      <td>Положительный</td>\n",
       "      <td>Концовка какая-то мутная, ничего не понял. Над...</td>\n",
       "      <td>Концовка какая-то мутная, ничего не понял. Над...</td>\n",
       "      <td>[]</td>\n",
       "      <td>концовка мутный понять надеяться второй сезон ...</td>\n",
       "      <td>концовка мутный понять надеяться второй сезон ...</td>\n",
       "      <td>2</td>\n",
       "    </tr>\n",
       "    <tr>\n",
       "      <th>2</th>\n",
       "      <td>Мобильный воин Гандам: Единорог / Kidou Senshi...</td>\n",
       "      <td>Положительный</td>\n",
       "      <td>Что тут сказать? Никакого сравнени я с Seed, х...</td>\n",
       "      <td>Что тут сказать? Никакого сравнени я с Seed, х...</td>\n",
       "      <td>[]</td>\n",
       "      <td>сказать никакой пытаться подражать выдерживать...</td>\n",
       "      <td>сказать никакой пытаться подражать выдерживать...</td>\n",
       "      <td>2</td>\n",
       "    </tr>\n",
       "    <tr>\n",
       "      <th>3</th>\n",
       "      <td>Невиданный цветок / Ano Hi Mita Hana no Namae ...</td>\n",
       "      <td>Положительный</td>\n",
       "      <td>Только что досмотрел и меня переполняют эмоции...</td>\n",
       "      <td>Только что досмотрел и меня переполняют эмоции...</td>\n",
       "      <td>[]</td>\n",
       "      <td>досмотреть переполнять эмоция шедевр затягиват...</td>\n",
       "      <td>досмотреть переполнять эмоция шедевр затягиват...</td>\n",
       "      <td>2</td>\n",
       "    </tr>\n",
       "    <tr>\n",
       "      <th>4</th>\n",
       "      <td>Принцесса-медуза / Kuragehime</td>\n",
       "      <td>Положительный</td>\n",
       "      <td>И правда не оторваться. Но, по-моему, то, что ...</td>\n",
       "      <td>И правда не оторваться. Но, по-моему, то, что ...</td>\n",
       "      <td>[___]</td>\n",
       "      <td>правда оторваться медуза серия плюс иначе нача...</td>\n",
       "      <td>правда оторваться медуза серия плюс иначе нача...</td>\n",
       "      <td>2</td>\n",
       "    </tr>\n",
       "  </tbody>\n",
       "</table>\n",
       "</div>"
      ],
      "text/plain": [
       "                                               Anime           Rate  \\\n",
       "0                           Нежный укус / Amagami SS    Нейтральный   \n",
       "1  Легенда о легендарных героях / Densetsu no Yuu...  Положительный   \n",
       "2  Мобильный воин Гандам: Единорог / Kidou Senshi...  Положительный   \n",
       "3  Невиданный цветок / Ano Hi Mita Hana no Namae ...  Положительный   \n",
       "4                      Принцесса-медуза / Kuragehime  Положительный   \n",
       "\n",
       "                                                Text  \\\n",
       "0  после первой арки несколько разочаровался, ожи...   \n",
       "1  Концовка какая-то мутная, ничего не понял. Над...   \n",
       "2  Что тут сказать? Никакого сравнени я с Seed, х...   \n",
       "3  Только что досмотрел и меня переполняют эмоции...   \n",
       "4  И правда не оторваться. Но, по-моему, то, что ...   \n",
       "\n",
       "                                      Text_Converted Repeated_Words  \\\n",
       "0  после первой арки несколько разочаровался, ожи...             []   \n",
       "1  Концовка какая-то мутная, ничего не понял. Над...             []   \n",
       "2  Что тут сказать? Никакого сравнени я с Seed, х...             []   \n",
       "3  Только что досмотрел и меня переполняют эмоции...             []   \n",
       "4  И правда не оторваться. Но, по-моему, то, что ...          [___]   \n",
       "\n",
       "                                          Clean_Text  \\\n",
       "0  первый арка несколько разочароваться ожидать б...   \n",
       "1  концовка мутный понять надеяться второй сезон ...   \n",
       "2  сказать никакой пытаться подражать выдерживать...   \n",
       "3  досмотреть переполнять эмоция шедевр затягиват...   \n",
       "4  правда оторваться медуза серия плюс иначе нача...   \n",
       "\n",
       "                                          Final_Text  Rate_Encoded  \n",
       "0  первый часть серий с общей сюжетной линией нес...             0  \n",
       "1  концовка мутный понять надеяться второй сезон ...             2  \n",
       "2  сказать никакой пытаться подражать выдерживать...             2  \n",
       "3  досмотреть переполнять эмоция шедевр затягиват...             2  \n",
       "4  правда оторваться медуза серия плюс иначе нача...             2  "
      ]
     },
     "execution_count": 1494,
     "metadata": {},
     "output_type": "execute_result"
    }
   ],
   "source": [
    "df.head()"
   ]
  },
  {
   "cell_type": "markdown",
   "metadata": {},
   "source": [
    "**Смотрю на исходный баланс классов, чтобы затем сохранить его при разделении датасета на тренировочную и тестовую выборку**"
   ]
  },
  {
   "cell_type": "code",
   "execution_count": 1496,
   "metadata": {},
   "outputs": [
    {
     "data": {
      "text/plain": [
       "Rate_Encoded\n",
       "2    0.410647\n",
       "0    0.345015\n",
       "1    0.244338\n",
       "Name: proportion, dtype: float64"
      ]
     },
     "execution_count": 1496,
     "metadata": {},
     "output_type": "execute_result"
    }
   ],
   "source": [
    "df['Rate_Encoded'].value_counts(normalize=True)"
   ]
  },
  {
   "cell_type": "markdown",
   "metadata": {},
   "source": [
    "**Word2Vec**"
   ]
  },
  {
   "cell_type": "code",
   "execution_count": 1498,
   "metadata": {},
   "outputs": [],
   "source": [
    "w2v_model = KeyedVectors.load_word2vec_format('model_rnc.bin', binary=True)"
   ]
  },
  {
   "cell_type": "code",
   "execution_count": 1499,
   "metadata": {},
   "outputs": [
    {
     "name": "stdout",
     "output_type": "stream",
     "text": [
      "['xxxxxxxx_NUM', 'год_NOUN', 'xxxxxx_NUM', 'xxxxxxx_NUM', 'первый_ADJ', 'время_NOUN', 'человек_NOUN', 'introduction_PROPN', 'один_NUM', 'район_NOUN']\n"
     ]
    }
   ],
   "source": [
    "print(list(w2v_model.key_to_index.keys())[:10])"
   ]
  },
  {
   "cell_type": "markdown",
   "metadata": {},
   "source": [
    "**Делю датасет на тренировочную и тестовую выборку, сохраняя баланс классов**"
   ]
  },
  {
   "cell_type": "code",
   "execution_count": 1502,
   "metadata": {},
   "outputs": [],
   "source": [
    "df = df.sample(frac=1).reset_index(drop=True)\n",
    "\n",
    "X_train, X_test, y_train, y_test = train_test_split(\n",
    "    df['Final_Text'], df['Rate_Encoded'], test_size=0.2, random_state=42, stratify=df['Rate_Encoded']\n",
    ")"
   ]
  },
  {
   "cell_type": "code",
   "execution_count": 1504,
   "metadata": {},
   "outputs": [
    {
     "name": "stdout",
     "output_type": "stream",
     "text": [
      "Original class distribution:\n",
      " Rate_Encoded\n",
      "2    0.410647\n",
      "0    0.345015\n",
      "1    0.244338\n",
      "Name: proportion, dtype: float64\n",
      "\n",
      "Training set class distribution:\n",
      " Rate_Encoded\n",
      "2    0.410647\n",
      "0    0.345008\n",
      "1    0.244345\n",
      "Name: proportion, dtype: float64\n",
      "\n",
      "Test set class distribution:\n",
      " Rate_Encoded\n",
      "2    0.410647\n",
      "0    0.345042\n",
      "1    0.244311\n",
      "Name: proportion, dtype: float64\n"
     ]
    }
   ],
   "source": [
    "original_distribution = df['Rate_Encoded'].value_counts(normalize=True)\n",
    "print(\"Original class distribution:\\n\", original_distribution)\n",
    "\n",
    "train_distribution = y_train.value_counts(normalize=True)\n",
    "print(\"\\nTraining set class distribution:\\n\", train_distribution)\n",
    "\n",
    "test_distribution = y_test.value_counts(normalize=True)\n",
    "print(\"\\nTest set class distribution:\\n\", test_distribution)"
   ]
  },
  {
   "cell_type": "markdown",
   "metadata": {},
   "source": [
    "**Векторизую тексты**"
   ]
  },
  {
   "cell_type": "code",
   "execution_count": 1506,
   "metadata": {},
   "outputs": [
    {
     "name": "stderr",
     "output_type": "stream",
     "text": [
      "100%|████████████████████████████████████| 58532/58532 [02:02<00:00, 478.94it/s]\n",
      "100%|████████████████████████████████████| 14633/14633 [00:30<00:00, 477.37it/s]\n"
     ]
    }
   ],
   "source": [
    "def get_wordnet_pos(treebank_tag):\n",
    "    if treebank_tag.startswith('J'):\n",
    "        return 'ADJ'\n",
    "    elif treebank_tag.startswith('V'):\n",
    "        return 'VERB'\n",
    "    elif treebank_tag.startswith('N'):\n",
    "        return 'NOUN'\n",
    "    elif treebank_tag.startswith('R'):\n",
    "        return 'ADV'\n",
    "    else:\n",
    "        return 'NOUN'  \n",
    "\n",
    "def text2vec_with_postfixes(text):\n",
    "    words = word_tokenize(text) \n",
    "    words_pos = pos_tag(words) \n",
    "    vecs = []\n",
    "    for word, pos in words_pos:\n",
    "        wordnet_pos = get_wordnet_pos(pos)  \n",
    "        word_with_pos = f\"{word}_{wordnet_pos}\"  \n",
    "        if word_with_pos in w2v_model:\n",
    "            vecs.append(w2v_model[word_with_pos]) \n",
    "    if len(vecs) == 0:\n",
    "        return np.zeros(w2v_model.vector_size)  \n",
    "    text_vec = np.mean(vecs, axis=0)  \n",
    "    return text_vec\n",
    "\n",
    "tqdm.pandas()\n",
    "X_train_vecs = np.stack(X_train.progress_apply(text2vec_with_postfixes))\n",
    "X_test_vecs = np.stack(X_test.progress_apply(text2vec_with_postfixes))"
   ]
  },
  {
   "cell_type": "markdown",
   "metadata": {},
   "source": [
    "## Random Forest"
   ]
  },
  {
   "cell_type": "code",
   "execution_count": 1523,
   "metadata": {},
   "outputs": [],
   "source": [
    "from sklearn.ensemble import RandomForestClassifier\n",
    "from sklearn.model_selection import GridSearchCV\n",
    "\n",
    "from sklearn.metrics import (\n",
    "    accuracy_score,\n",
    "    roc_auc_score,\n",
    "    confusion_matrix,\n",
    "    classification_report,\n",
    "    ConfusionMatrixDisplay, \n",
    "    precision_score, \n",
    "    recall_score, \n",
    "    f1_score\n",
    ")"
   ]
  },
  {
   "cell_type": "code",
   "execution_count": 1508,
   "metadata": {},
   "outputs": [
    {
     "name": "stdout",
     "output_type": "stream",
     "text": [
      "Random Forest Report\n",
      "              precision    recall  f1-score   support\n",
      "\n",
      "           0       0.38      0.34      0.36      5049\n",
      "           1       0.45      0.15      0.23      3575\n",
      "           2       0.46      0.69      0.55      6009\n",
      "\n",
      "    accuracy                           0.44     14633\n",
      "   macro avg       0.43      0.39      0.38     14633\n",
      "weighted avg       0.43      0.44      0.41     14633\n",
      "\n"
     ]
    }
   ],
   "source": [
    "rf = RandomForestClassifier(n_estimators=100, random_state=42)\n",
    "rf.fit(X_train_vecs, y_train)\n",
    "\n",
    "y_pred_rf = rf.predict(X_test_vecs)\n",
    "print(\"Random Forest Report\")\n",
    "print(classification_report(y_test, y_pred_rf))"
   ]
  },
  {
   "cell_type": "markdown",
   "metadata": {},
   "source": [
    "**Подбираю гиперпараметры**"
   ]
  },
  {
   "cell_type": "code",
   "execution_count": null,
   "metadata": {},
   "outputs": [],
   "source": [
    "max_score = 0.5\n",
    "best_params = {}\n",
    "\n",
    "n_estimators_list = [100, 200, 500, 1000]\n",
    "max_depth_list = [None, 10, 20, 30]\n",
    "min_samples_split_list = [2, 5, 10]\n",
    "min_samples_leaf_list = [1, 2, 4]\n",
    "\n",
    "total_iterations = len(n_estimators_list) * len(max_depth_list) * len(min_samples_split_list) * len(min_samples_leaf_list)\n",
    "progress_bar = tqdm(total=total_iterations, desc=\"Hyperparameter Tuning\")\n",
    "\n",
    "for n_estimators in n_estimators_list:\n",
    "    for max_depth in max_depth_list:\n",
    "        for min_samples_split in min_samples_split_list:\n",
    "            for min_samples_leaf in min_samples_leaf_list:\n",
    "                model = RandomForestClassifier(\n",
    "                    n_estimators=n_estimators,\n",
    "                    max_depth=max_depth,\n",
    "                    min_samples_split=min_samples_split,\n",
    "                    min_samples_leaf=min_samples_leaf,\n",
    "                    n_jobs=-1,\n",
    "                    random_state=42\n",
    "                )\n",
    "                model.fit(X_train_vecs, y_train)\n",
    "                preds = model.predict_proba(X_test_vecs)\n",
    "\n",
    "                score = roc_auc_score(y_test, preds, multi_class='ovr')\n",
    "                if score > max_score:\n",
    "                    best_params = {\n",
    "                        'n_estimators': n_estimators,\n",
    "                        'max_depth': max_depth,\n",
    "                        'min_samples_split': min_samples_split,\n",
    "                        'min_samples_leaf': min_samples_leaf\n",
    "                    }\n",
    "                    max_score = score\n",
    "\n",
    "                    print(\n",
    "                        f\"New best score: {score} with params: \"\n",
    "                        f\"n_estimators={n_estimators}, max_depth={max_depth}, \"\n",
    "                        f\"min_samples_split={min_samples_split}, min_samples_leaf={min_samples_leaf}\"\n",
    "                    )\n",
    "\n",
    "                progress_bar.update(1)\n",
    "progress_bar.close()\n",
    "\n",
    "print(f\"Best parameters: {best_params}\")\n",
    "print(f\"Best ROC AUC score: {max_score}\")"
   ]
  },
  {
   "cell_type": "code",
   "execution_count": 1511,
   "metadata": {},
   "outputs": [],
   "source": [
    "params = {\"n_estimators\": 200,\n",
    "    \"max_depth\": None,\n",
    "    \"min_samples_split\": 2,\n",
    "    \"min_samples_leaf\": 4\n",
    "    }"
   ]
  },
  {
   "cell_type": "code",
   "execution_count": 1513,
   "metadata": {},
   "outputs": [
    {
     "name": "stdout",
     "output_type": "stream",
     "text": [
      "ROC AUC: 0.6144091958832579\n",
      "               precision    recall  f1-score   support\n",
      "\n",
      "  Нейтральный       0.38      0.27      0.32      5049\n",
      "Отрицательный       0.48      0.14      0.21      3575\n",
      "Положительный       0.46      0.76      0.57      6009\n",
      "\n",
      "     accuracy                           0.44     14633\n",
      "    macro avg       0.44      0.39      0.37     14633\n",
      " weighted avg       0.43      0.44      0.40     14633\n",
      "\n"
     ]
    },
    {
     "data": {
      "image/png": "[encoded data removed]",
      "text/plain": [
       "<Figure size 640x480 with 2 Axes>"
      ]
     },
     "metadata": {},
     "output_type": "display_data"
    }
   ],
   "source": [
    "params = {\"n_estimators\": 200,\n",
    "    \"max_depth\": None,\n",
    "    \"min_samples_split\": 2,\n",
    "    \"min_samples_leaf\": 4\n",
    "    }\n",
    "\n",
    "rf_model = RandomForestClassifier(\n",
    "    n_estimators=params['n_estimators'],\n",
    "    max_depth=params['max_depth'],\n",
    "    min_samples_split=params['min_samples_split'],\n",
    "    min_samples_leaf=params['min_samples_leaf'],\n",
    "    n_jobs=-1,\n",
    "    random_state=42\n",
    ")\n",
    "\n",
    "rf_model .fit(X_train_vecs, y_train)\n",
    "\n",
    "y_pred = rf_model .predict(X_test_vecs)\n",
    "y_pred_proba = rf_model .predict_proba(X_test_vecs)\n",
    "\n",
    "roc_auc = roc_auc_score(y_test, y_pred_proba, multi_class='ovr')\n",
    "print(f\"ROC AUC: {roc_auc}\")\n",
    "\n",
    "conf_matrix = confusion_matrix(y_test, y_pred)\n",
    "ConfusionMatrixDisplay(conf_matrix, display_labels=label_encoder.classes_).plot()\n",
    "\n",
    "report = classification_report(y_test, y_pred, target_names=label_encoder.classes_)\n",
    "print(report)"
   ]
  },
  {
   "cell_type": "markdown",
   "metadata": {},
   "source": [
    "## Бустинг для сентимент-анализа и оценка модели"
   ]
  },
  {
   "cell_type": "code",
   "execution_count": null,
   "metadata": {},
   "outputs": [],
   "source": [
    "from lightgbm import LGBMClassifier\n",
    "from sklearn.metrics import roc_auc_score\n",
    "from sklearn.model_selection import train_test_split\n",
    "\n",
    "max_score = 0.5\n",
    "best_params = {}\n",
    "\n",
    "n_estimators_list = [100, 200, 500, 1000]\n",
    "max_depth_list = [3, 4, 5, 6]\n",
    "learning_rate_list = [0.05, 0.06, 0.07, 0.08, 0.09, 0.1, 0.11, 0.12, 0.13, 0.14, 0.15]\n",
    "colsample_bytree_list = [0.2, 0.5, 0.75, 1.0]\n",
    "\n",
    "total_iterations = len(n_estimators_list) * len(max_depth_list) * len(learning_rate_list) * len(colsample_bytree_list)\n",
    "progress_bar = tqdm(total=total_iterations, desc=\"Hyperparameter Tuning\")\n",
    "\n",
    "for n_estimators in n_estimators_list:\n",
    "    for max_depth in max_depth_list:\n",
    "        for learning_rate in learning_rate_list:\n",
    "            for colsample_bytree in colsample_bytree_list:\n",
    "                model = LGBMClassifier(\n",
    "                    n_estimators=n_estimators,\n",
    "                    max_depth=max_depth,\n",
    "                    learning_rate=learning_rate,\n",
    "                    colsample_bytree=colsample_bytree,\n",
    "                    n_jobs=-1,\n",
    "                    verbose=-1\n",
    "                )\n",
    "                model.fit(X_train_vecs, y_train)\n",
    "                preds = model.predict_proba(X_test_vecs)\n",
    "\n",
    "                score = roc_auc_score(y_test, preds, multi_class='ovr')\n",
    "                if score > max_score:\n",
    "                    best_params = {\n",
    "                        'n_estimators': n_estimators,\n",
    "                        'max_depth': max_depth,\n",
    "                        'learning_rate': learning_rate,\n",
    "                        'colsample_bytree': colsample_bytree\n",
    "                    }\n",
    "                    max_score = score\n",
    "\n",
    "                    print(\n",
    "                        f\"New best score: {score} with params: \"\n",
    "                        f\"n_estimators={n_estimators}, max_depth={max_depth}, \"\n",
    "                        f\"learning_rate={learning_rate}, colsample_bytree={colsample_bytree}\"\n",
    "                    )\n",
    "\n",
    "                progress_bar.update(1)\n",
    "progress_bar.close()\n",
    "\n",
    "print(f\"Best parameters: {best_params}\")\n",
    "print(f\"Best ROC AUC score: {max_score}\")"
   ]
  },
  {
   "cell_type": "code",
   "execution_count": 1536,
   "metadata": {},
   "outputs": [],
   "source": [
    "best_params = {\"n_estimators\": 1000,\n",
    "    \"max_depth\": 4,\n",
    "    \"learning_rate\": 0.09,\n",
    "    \"colsample_bytree\": 0.2\n",
    "    }"
   ]
  },
  {
   "cell_type": "code",
   "execution_count": 1538,
   "metadata": {},
   "outputs": [
    {
     "data": {
      "text/html": [
       "<style>#sk-container-id-4 {color: black;background-color: white;}#sk-container-id-4 pre{padding: 0;}#sk-container-id-4 div.sk-toggleable {background-color: white;}#sk-container-id-4 label.sk-toggleable__label {cursor: pointer;display: block;width: 100%;margin-bottom: 0;padding: 0.3em;box-sizing: border-box;text-align: center;}#sk-container-id-4 label.sk-toggleable__label-arrow:before {content: \"▸\";float: left;margin-right: 0.25em;color: #696969;}#sk-container-id-4 label.sk-toggleable__label-arrow:hover:before {color: black;}#sk-container-id-4 div.sk-estimator:hover label.sk-toggleable__label-arrow:before {color: black;}#sk-container-id-4 div.sk-toggleable__content {max-height: 0;max-width: 0;overflow: hidden;text-align: left;background-color: #f0f8ff;}#sk-container-id-4 div.sk-toggleable__content pre {margin: 0.2em;color: black;border-radius: 0.25em;background-color: #f0f8ff;}#sk-container-id-4 input.sk-toggleable__control:checked~div.sk-toggleable__content {max-height: 200px;max-width: 100%;overflow: auto;}#sk-container-id-4 input.sk-toggleable__control:checked~label.sk-toggleable__label-arrow:before {content: \"▾\";}#sk-container-id-4 div.sk-estimator input.sk-toggleable__control:checked~label.sk-toggleable__label {background-color: #d4ebff;}#sk-container-id-4 div.sk-label input.sk-toggleable__control:checked~label.sk-toggleable__label {background-color: #d4ebff;}#sk-container-id-4 input.sk-hidden--visually {border: 0;clip: rect(1px 1px 1px 1px);clip: rect(1px, 1px, 1px, 1px);height: 1px;margin: -1px;overflow: hidden;padding: 0;position: absolute;width: 1px;}#sk-container-id-4 div.sk-estimator {font-family: monospace;background-color: #f0f8ff;border: 1px dotted black;border-radius: 0.25em;box-sizing: border-box;margin-bottom: 0.5em;}#sk-container-id-4 div.sk-estimator:hover {background-color: #d4ebff;}#sk-container-id-4 div.sk-parallel-item::after {content: \"\";width: 100%;border-bottom: 1px solid gray;flex-grow: 1;}#sk-container-id-4 div.sk-label:hover label.sk-toggleable__label {background-color: #d4ebff;}#sk-container-id-4 div.sk-serial::before {content: \"\";position: absolute;border-left: 1px solid gray;box-sizing: border-box;top: 0;bottom: 0;left: 50%;z-index: 0;}#sk-container-id-4 div.sk-serial {display: flex;flex-direction: column;align-items: center;background-color: white;padding-right: 0.2em;padding-left: 0.2em;position: relative;}#sk-container-id-4 div.sk-item {position: relative;z-index: 1;}#sk-container-id-4 div.sk-parallel {display: flex;align-items: stretch;justify-content: center;background-color: white;position: relative;}#sk-container-id-4 div.sk-item::before, #sk-container-id-4 div.sk-parallel-item::before {content: \"\";position: absolute;border-left: 1px solid gray;box-sizing: border-box;top: 0;bottom: 0;left: 50%;z-index: -1;}#sk-container-id-4 div.sk-parallel-item {display: flex;flex-direction: column;z-index: 1;position: relative;background-color: white;}#sk-container-id-4 div.sk-parallel-item:first-child::after {align-self: flex-end;width: 50%;}#sk-container-id-4 div.sk-parallel-item:last-child::after {align-self: flex-start;width: 50%;}#sk-container-id-4 div.sk-parallel-item:only-child::after {width: 0;}#sk-container-id-4 div.sk-dashed-wrapped {border: 1px dashed gray;margin: 0 0.4em 0.5em 0.4em;box-sizing: border-box;padding-bottom: 0.4em;background-color: white;}#sk-container-id-4 div.sk-label label {font-family: monospace;font-weight: bold;display: inline-block;line-height: 1.2em;}#sk-container-id-4 div.sk-label-container {text-align: center;}#sk-container-id-4 div.sk-container {/* jupyter's `normalize.less` sets `[hidden] { display: none; }` but bootstrap.min.css set `[hidden] { display: none !important; }` so we also need the `!important` here to be able to override the default hidden behavior on the sphinx rendered scikit-learn.org. See: https://github.com/scikit-learn/scikit-learn/issues/21755 */display: inline-block !important;position: relative;}#sk-container-id-4 div.sk-text-repr-fallback {display: none;}</style><div id=\"sk-container-id-4\" class=\"sk-top-container\"><div class=\"sk-text-repr-fallback\"><pre>LGBMClassifier(colsample_bytree=0.2, learning_rate=0.09, max_depth=4,\n",
       "               n_estimators=1000, n_jobs=-1, verbose=-1)</pre><b>In a Jupyter environment, please rerun this cell to show the HTML representation or trust the notebook. <br />On GitHub, the HTML representation is unable to render, please try loading this page with nbviewer.org.</b></div><div class=\"sk-container\" hidden><div class=\"sk-item\"><div class=\"sk-estimator sk-toggleable\"><input class=\"sk-toggleable__control sk-hidden--visually\" id=\"sk-estimator-id-4\" type=\"checkbox\" checked><label for=\"sk-estimator-id-4\" class=\"sk-toggleable__label sk-toggleable__label-arrow\">LGBMClassifier</label><div class=\"sk-toggleable__content\"><pre>LGBMClassifier(colsample_bytree=0.2, learning_rate=0.09, max_depth=4,\n",
       "               n_estimators=1000, n_jobs=-1, verbose=-1)</pre></div></div></div></div></div>"
      ],
      "text/plain": [
       "LGBMClassifier(colsample_bytree=0.2, learning_rate=0.09, max_depth=4,\n",
       "               n_estimators=1000, n_jobs=-1, verbose=-1)"
      ]
     },
     "execution_count": 1538,
     "metadata": {},
     "output_type": "execute_result"
    }
   ],
   "source": [
    "best_model = LGBMClassifier(\n",
    "    n_estimators=best_params['n_estimators'],\n",
    "    max_depth=best_params['max_depth'],\n",
    "    learning_rate=best_params['learning_rate'],\n",
    "    colsample_bytree=best_params['colsample_bytree'],\n",
    "    n_jobs=-1,\n",
    "    verbose=-1\n",
    ")\n",
    "best_model.fit(X_train_vecs, y_train)"
   ]
  },
  {
   "cell_type": "code",
   "execution_count": 1539,
   "metadata": {},
   "outputs": [
    {
     "name": "stdout",
     "output_type": "stream",
     "text": [
      "Final ROC AUC score: 0.6535068060352105\n"
     ]
    }
   ],
   "source": [
    "best_preds = best_model.predict_proba(X_test_vecs)\n",
    "final_score = roc_auc_score(y_test, best_preds, multi_class='ovr')\n",
    "print(f\"Final ROC AUC score: {final_score}\")"
   ]
  },
  {
   "cell_type": "code",
   "execution_count": 1525,
   "metadata": {},
   "outputs": [
    {
     "name": "stdout",
     "output_type": "stream",
     "text": [
      "Микро-усреднение:\n",
      "Precision: 0.7183\n",
      "Recall: 0.7183\n",
      "F1-Score: 0.7183\n",
      "\n",
      "Макро-усреднение:\n",
      "Precision: 0.7286\n",
      "Recall: 0.7015\n",
      "F1-Score: 0.7084\n",
      "\n",
      "Отчет по классификации:\n",
      "               precision    recall  f1-score   support\n",
      "\n",
      "  Нейтральный       0.75      0.62      0.68      5049\n",
      "Отрицательный       0.74      0.63      0.68      3575\n",
      "Положительный       0.69      0.85      0.76      6009\n",
      "\n",
      "     accuracy                           0.72     14633\n",
      "    macro avg       0.73      0.70      0.71     14633\n",
      " weighted avg       0.72      0.72      0.71     14633\n",
      "\n"
     ]
    }
   ],
   "source": [
    "y_pred = best_model.predict(X_test_vecs)\n",
    "\n",
    "precision_micro = precision_score(y_test, y_pred, average='micro')\n",
    "recall_micro = recall_score(y_test, y_pred, average='micro')\n",
    "f1_micro = f1_score(y_test, y_pred, average='micro')\n",
    "\n",
    "precision_macro = precision_score(y_test, y_pred, average='macro')\n",
    "recall_macro = recall_score(y_test, y_pred, average='macro')\n",
    "f1_macro = f1_score(y_test, y_pred, average='macro')\n",
    "\n",
    "print(\"Микро-усреднение:\")\n",
    "print(f\"Precision: {precision_micro:.4f}\")\n",
    "print(f\"Recall: {recall_micro:.4f}\")\n",
    "print(f\"F1-Score: {f1_micro:.4f}\")\n",
    "\n",
    "print(\"\\nМакро-усреднение:\")\n",
    "print(f\"Precision: {precision_macro:.4f}\")\n",
    "print(f\"Recall: {recall_macro:.4f}\")\n",
    "print(f\"F1-Score: {f1_macro:.4f}\")\n",
    "\n",
    "print(\"\\nОтчет по классификации:\")\n",
    "print(classification_report(y_test, y_pred, target_names=label_encoder.classes_))"
   ]
  },
  {
   "cell_type": "markdown",
   "metadata": {},
   "source": [
    "## Ключевые слова для решения классификаторов"
   ]
  },
  {
   "cell_type": "code",
   "execution_count": 1563,
   "metadata": {},
   "outputs": [
    {
     "ename": "NameError",
     "evalue": "name 'vectorizer' is not defined",
     "output_type": "error",
     "traceback": [
      "\u001b[0;31m---------------------------------------------------------------------------\u001b[0m",
      "\u001b[0;31mNameError\u001b[0m                                 Traceback (most recent call last)",
      "Cell \u001b[0;32mIn[1563], line 2\u001b[0m\n\u001b[1;32m      1\u001b[0m importances \u001b[38;5;241m=\u001b[39m rf_model\u001b[38;5;241m.\u001b[39mfeature_importances_\n\u001b[0;32m----> 2\u001b[0m feature_names \u001b[38;5;241m=\u001b[39m vectorizer\u001b[38;5;241m.\u001b[39mget_feature_names_out()\n\u001b[1;32m      3\u001b[0m forest_importances \u001b[38;5;241m=\u001b[39m pd\u001b[38;5;241m.\u001b[39mSeries(importances, index\u001b[38;5;241m=\u001b[39mfeature_names)\n\u001b[1;32m      4\u001b[0m forest_importances\u001b[38;5;241m.\u001b[39msort_values(ascending\u001b[38;5;241m=\u001b[39m\u001b[38;5;28;01mFalse\u001b[39;00m)\u001b[38;5;241m.\u001b[39mhead(\u001b[38;5;241m20\u001b[39m)\u001b[38;5;241m.\u001b[39mplot(kind\u001b[38;5;241m=\u001b[39m\u001b[38;5;124m'\u001b[39m\u001b[38;5;124mbar\u001b[39m\u001b[38;5;124m'\u001b[39m, figsize\u001b[38;5;241m=\u001b[39m(\u001b[38;5;241m10\u001b[39m, \u001b[38;5;241m6\u001b[39m), title\u001b[38;5;241m=\u001b[39m\u001b[38;5;124m'\u001b[39m\u001b[38;5;124mFeature Importances in Random Forest\u001b[39m\u001b[38;5;124m'\u001b[39m)\n",
      "\u001b[0;31mNameError\u001b[0m: name 'vectorizer' is not defined"
     ]
    }
   ],
   "source": [
    "importances = rf_model.feature_importances_\n",
    "feature_names = vectorizer.get_feature_names_out()\n",
    "forest_importances = pd.Series(importances, index=feature_names)\n",
    "forest_importances.sort_values(ascending=False).head(20).plot(kind='bar', figsize=(10, 6), title='Feature Importances in Random Forest')\n",
    "plt.show()"
   ]
  }
 ],
 "metadata": {
  "colab": {
   "provenance": []
  },
  "kernelspec": {
   "display_name": "Python 3 (ipykernel)",
   "language": "python",
   "name": "python3"
  },
  "language_info": {
   "codemirror_mode": {
    "name": "ipython",
    "version": 3
   },
   "file_extension": ".py",
   "mimetype": "text/x-python",
   "name": "python",
   "nbconvert_exporter": "python",
   "pygments_lexer": "ipython3",
   "version": "3.11.7"
  }
 },
 "nbformat": 4,
 "nbformat_minor": 4
}
